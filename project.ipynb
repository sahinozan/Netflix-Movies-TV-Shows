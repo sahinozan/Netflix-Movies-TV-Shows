{
 "cells": [
  {
   "cell_type": "markdown",
   "id": "7c5f68c5",
   "metadata": {
    "papermill": {
     "duration": 0.011674,
     "end_time": "2022-09-23T13:58:29.881345",
     "exception": false,
     "start_time": "2022-09-23T13:58:29.869671",
     "status": "completed"
    },
    "tags": []
   },
   "source": [
    "<div style = \"display: fill;\n",
    "              border-radius: 10px;\n",
    "              background-color: #E50914;\">\n",
    "    <h1 style = \"padding: 15px; \n",
    "                 color: White;\n",
    "                 text-align:center;\n",
    "                 font-family: Trebuchet MS;\">Netflix Movies and TV Shows\n",
    "    </h1>\n",
    "</div>\n",
    "\n",
    "<div align=\"center\"> \n",
    "    <img src=\"https://content.api.news/v3/images/bin/3fcf3cdcc2cfd6905e582a186e46e584\" alt=\"Netflix\" width=\"75%\" style=\"margin-top:2rem;margin-bottom:2rem\">\n",
    "</div>\n",
    "\n",
    "<div>\n",
    "    <p>Netflix is one of the most popular media and video streaming platforms. They have over 8000 movies or tv shows available on their platform, as of mid-2021, they have over 200M Subscribers globally.</p>\n",
    "</div>\n",
    "\n",
    "<div>\n",
    "    <p>Analysis ideas:</p>\n",
    "    <ul>\n",
    "        <li><p>Understanding what content is available in different countries</p>\n",
    "        <li><p>Identifying similar content by matching text-based features</p>\n",
    "        <li><p>Network analysis of Actors / Directors and find interesting insights</p>\n",
    "        <li><p>Does Netflix has more focus on TV Shows than movies in recent years.</p>\n",
    "    </ul>\n",
    "</div>"
   ]
  },
  {
   "cell_type": "markdown",
   "id": "40c6c5f7",
   "metadata": {
    "papermill": {
     "duration": 0.009427,
     "end_time": "2022-09-23T13:58:29.901296",
     "exception": false,
     "start_time": "2022-09-23T13:58:29.891869",
     "status": "completed"
    },
    "tags": []
   },
   "source": [
    "<div style = \"display: fill;\n",
    "              border-radius: 10px;\n",
    "              background-color: #E50914;\">\n",
    "    <h2 style = \"padding: 15px; \n",
    "                 color: White;\n",
    "                 text-align: left;\n",
    "                 font-family: Trebuchet MS;\">Table of Contents\n",
    "    </h2>\n",
    "</div>\n",
    "\n",
    "* [<span style=\"font-family: Trebuchet MS; font-size:15px;\">1. Imports</span>](#imports)\n",
    "* [<span style=\"font-family: Trebuchet MS; font-size:15px;\">2. Loading the Dataset</span>](#loading-the-dataset)\n",
    "* [<span style=\"font-family: Trebuchet MS; font-size:15px;\">3. Understanding the Data</span>](#understanding-the-data)\n",
    "    * [<span style=\"font-family: Trebuchet MS; font-size:15px;\">3.1 Checking Null Values</span>](#checking-null-values)\n",
    "    * [<span style=\"font-family: Trebuchet MS; font-size:15px;\">3.2 Optimizing the Dataset</span>](#optimizing-the-dataset)\n",
    "* [<span style=\"font-family: Trebuchet MS; font-size:15px;\">4. Exploratory Data Analysis</span>](#exploratory-data-analysis)\n"
   ]
  },
  {
   "cell_type": "markdown",
   "id": "a5e6cba3",
   "metadata": {
    "papermill": {
     "duration": 0.009335,
     "end_time": "2022-09-23T13:58:29.920385",
     "exception": false,
     "start_time": "2022-09-23T13:58:29.911050",
     "status": "completed"
    },
    "tags": []
   },
   "source": [
    "<div id=\"imports\"\n",
    "     style = \"display: fill;\n",
    "              border-radius: 10px;\n",
    "              background-color: #E50914;\">\n",
    "    <h2 style = \"padding: 15px; \n",
    "                 color: White;\n",
    "                 text-align: left;\n",
    "                 font-family: Trebuchet MS;\">1. Imports\n",
    "    </h2>\n",
    "</div>"
   ]
  },
  {
   "cell_type": "code",
   "execution_count": 1,
   "id": "f1f98228",
   "metadata": {
    "_cell_guid": "b1076dfc-b9ad-4769-8c92-a6c4dae69d19",
    "_uuid": "8f2839f25d086af736a60e9eeb907d3b93b6e0e5",
    "execution": {
     "iopub.execute_input": "2022-09-23T13:58:29.943574Z",
     "iopub.status.busy": "2022-09-23T13:58:29.942762Z",
     "iopub.status.idle": "2022-09-23T13:58:31.513346Z",
     "shell.execute_reply": "2022-09-23T13:58:31.512228Z"
    },
    "papermill": {
     "duration": 1.584693,
     "end_time": "2022-09-23T13:58:31.516226",
     "exception": false,
     "start_time": "2022-09-23T13:58:29.931533",
     "status": "completed"
    },
    "tags": []
   },
   "outputs": [],
   "source": [
    "%%capture\n",
    "import numpy as np\n",
    "import pandas as pd\n",
    "import plotly.express as px"
   ]
  },
  {
   "cell_type": "markdown",
   "id": "ef7d5f4a",
   "metadata": {
    "papermill": {
     "duration": 0.009286,
     "end_time": "2022-09-23T13:58:31.535174",
     "exception": false,
     "start_time": "2022-09-23T13:58:31.525888",
     "status": "completed"
    },
    "tags": []
   },
   "source": [
    "<div id=\"loading-the-dataset\"\n",
    "     style = \"display: fill;\n",
    "              border-radius: 10px;\n",
    "              background-color: #E50914;\">\n",
    "    <h2 style = \"padding: 15px; \n",
    "                 color: White;\n",
    "                 text-align: left;\n",
    "                 font-family: Trebuchet MS;\">2. Loading the Dataset\n",
    "    </h2>\n",
    "</div>"
   ]
  },
  {
   "cell_type": "code",
   "execution_count": 2,
   "id": "6d2af012",
   "metadata": {
    "execution": {
     "iopub.execute_input": "2022-09-23T13:58:31.556022Z",
     "iopub.status.busy": "2022-09-23T13:58:31.555641Z",
     "iopub.status.idle": "2022-09-23T13:58:32.164927Z",
     "shell.execute_reply": "2022-09-23T13:58:32.163622Z"
    },
    "papermill": {
     "duration": 0.622678,
     "end_time": "2022-09-23T13:58:32.167448",
     "exception": false,
     "start_time": "2022-09-23T13:58:31.544770",
     "status": "completed"
    },
    "tags": []
   },
   "outputs": [
    {
     "data": {
      "text/html": [
       "<div>\n",
       "<style scoped>\n",
       "    .dataframe tbody tr th:only-of-type {\n",
       "        vertical-align: middle;\n",
       "    }\n",
       "\n",
       "    .dataframe tbody tr th {\n",
       "        vertical-align: top;\n",
       "    }\n",
       "\n",
       "    .dataframe thead th {\n",
       "        text-align: right;\n",
       "    }\n",
       "</style>\n",
       "<table border=\"1\" class=\"dataframe\">\n",
       "  <thead>\n",
       "    <tr style=\"text-align: right;\">\n",
       "      <th></th>\n",
       "      <th>show_id</th>\n",
       "      <th>type</th>\n",
       "      <th>title</th>\n",
       "      <th>director</th>\n",
       "      <th>cast</th>\n",
       "      <th>country</th>\n",
       "      <th>date_added</th>\n",
       "      <th>release_year</th>\n",
       "      <th>rating</th>\n",
       "      <th>duration</th>\n",
       "      <th>listed_in</th>\n",
       "      <th>description</th>\n",
       "    </tr>\n",
       "  </thead>\n",
       "  <tbody>\n",
       "    <tr>\n",
       "      <th>0</th>\n",
       "      <td>s1</td>\n",
       "      <td>Movie</td>\n",
       "      <td>Dick Johnson Is Dead</td>\n",
       "      <td>Kirsten Johnson</td>\n",
       "      <td>NaN</td>\n",
       "      <td>United States</td>\n",
       "      <td>September 25, 2021</td>\n",
       "      <td>2020</td>\n",
       "      <td>PG-13</td>\n",
       "      <td>90 min</td>\n",
       "      <td>Documentaries</td>\n",
       "      <td>As her father nears the end of his life, filmm...</td>\n",
       "    </tr>\n",
       "    <tr>\n",
       "      <th>1</th>\n",
       "      <td>s2</td>\n",
       "      <td>TV Show</td>\n",
       "      <td>Blood &amp; Water</td>\n",
       "      <td>NaN</td>\n",
       "      <td>Ama Qamata, Khosi Ngema, Gail Mabalane, Thaban...</td>\n",
       "      <td>South Africa</td>\n",
       "      <td>September 24, 2021</td>\n",
       "      <td>2021</td>\n",
       "      <td>TV-MA</td>\n",
       "      <td>2 Seasons</td>\n",
       "      <td>International TV Shows, TV Dramas, TV Mysteries</td>\n",
       "      <td>After crossing paths at a party, a Cape Town t...</td>\n",
       "    </tr>\n",
       "    <tr>\n",
       "      <th>2</th>\n",
       "      <td>s3</td>\n",
       "      <td>TV Show</td>\n",
       "      <td>Ganglands</td>\n",
       "      <td>Julien Leclercq</td>\n",
       "      <td>Sami Bouajila, Tracy Gotoas, Samuel Jouy, Nabi...</td>\n",
       "      <td>NaN</td>\n",
       "      <td>September 24, 2021</td>\n",
       "      <td>2021</td>\n",
       "      <td>TV-MA</td>\n",
       "      <td>1 Season</td>\n",
       "      <td>Crime TV Shows, International TV Shows, TV Act...</td>\n",
       "      <td>To protect his family from a powerful drug lor...</td>\n",
       "    </tr>\n",
       "    <tr>\n",
       "      <th>3</th>\n",
       "      <td>s4</td>\n",
       "      <td>TV Show</td>\n",
       "      <td>Jailbirds New Orleans</td>\n",
       "      <td>NaN</td>\n",
       "      <td>NaN</td>\n",
       "      <td>NaN</td>\n",
       "      <td>September 24, 2021</td>\n",
       "      <td>2021</td>\n",
       "      <td>TV-MA</td>\n",
       "      <td>1 Season</td>\n",
       "      <td>Docuseries, Reality TV</td>\n",
       "      <td>Feuds, flirtations and toilet talk go down amo...</td>\n",
       "    </tr>\n",
       "    <tr>\n",
       "      <th>4</th>\n",
       "      <td>s5</td>\n",
       "      <td>TV Show</td>\n",
       "      <td>Kota Factory</td>\n",
       "      <td>NaN</td>\n",
       "      <td>Mayur More, Jitendra Kumar, Ranjan Raj, Alam K...</td>\n",
       "      <td>India</td>\n",
       "      <td>September 24, 2021</td>\n",
       "      <td>2021</td>\n",
       "      <td>TV-MA</td>\n",
       "      <td>2 Seasons</td>\n",
       "      <td>International TV Shows, Romantic TV Shows, TV ...</td>\n",
       "      <td>In a city of coaching centers known to train I...</td>\n",
       "    </tr>\n",
       "  </tbody>\n",
       "</table>\n",
       "</div>"
      ],
      "text/plain": [
       "  show_id     type                  title         director  \\\n",
       "0      s1    Movie   Dick Johnson Is Dead  Kirsten Johnson   \n",
       "1      s2  TV Show          Blood & Water              NaN   \n",
       "2      s3  TV Show              Ganglands  Julien Leclercq   \n",
       "3      s4  TV Show  Jailbirds New Orleans              NaN   \n",
       "4      s5  TV Show           Kota Factory              NaN   \n",
       "\n",
       "                                                cast        country  \\\n",
       "0                                                NaN  United States   \n",
       "1  Ama Qamata, Khosi Ngema, Gail Mabalane, Thaban...   South Africa   \n",
       "2  Sami Bouajila, Tracy Gotoas, Samuel Jouy, Nabi...            NaN   \n",
       "3                                                NaN            NaN   \n",
       "4  Mayur More, Jitendra Kumar, Ranjan Raj, Alam K...          India   \n",
       "\n",
       "           date_added  release_year rating   duration  \\\n",
       "0  September 25, 2021          2020  PG-13     90 min   \n",
       "1  September 24, 2021          2021  TV-MA  2 Seasons   \n",
       "2  September 24, 2021          2021  TV-MA   1 Season   \n",
       "3  September 24, 2021          2021  TV-MA   1 Season   \n",
       "4  September 24, 2021          2021  TV-MA  2 Seasons   \n",
       "\n",
       "                                           listed_in  \\\n",
       "0                                      Documentaries   \n",
       "1    International TV Shows, TV Dramas, TV Mysteries   \n",
       "2  Crime TV Shows, International TV Shows, TV Act...   \n",
       "3                             Docuseries, Reality TV   \n",
       "4  International TV Shows, Romantic TV Shows, TV ...   \n",
       "\n",
       "                                         description  \n",
       "0  As her father nears the end of his life, filmm...  \n",
       "1  After crossing paths at a party, a Cape Town t...  \n",
       "2  To protect his family from a powerful drug lor...  \n",
       "3  Feuds, flirtations and toilet talk go down amo...  \n",
       "4  In a city of coaching centers known to train I...  "
      ]
     },
     "execution_count": 2,
     "metadata": {},
     "output_type": "execute_result"
    }
   ],
   "source": [
    "df = pd.read_csv(\"https://raw.githubusercontent.com/sahinozan/Netflix-Movies-TV-Shows/main/netflix_titles.csv\", encoding=\"utf-8\")\n",
    "df.head()"
   ]
  },
  {
   "cell_type": "markdown",
   "id": "b3ecf837",
   "metadata": {
    "papermill": {
     "duration": 0.009963,
     "end_time": "2022-09-23T13:58:32.188618",
     "exception": false,
     "start_time": "2022-09-23T13:58:32.178655",
     "status": "completed"
    },
    "tags": []
   },
   "source": [
    "<div id=\"understanding-the-data\"\n",
    "     style = \"display: fill;\n",
    "              border-radius: 10px;\n",
    "              background-color: #E50914;\">\n",
    "    <h2 style = \"padding: 15px; \n",
    "                 color: White;\n",
    "                 text-align: left;\n",
    "                 font-family: Trebuchet MS;\">3. Understanding the Data\n",
    "    </h2>\n",
    "</div>\n",
    "\n",
    "Dataset consists of 12 features.\n",
    "1. **show_id**: The unique id number for each show or movie\n",
    "    - s1\n",
    "    - s2\n",
    "    - s3\n",
    "    - ...\n",
    "2. **type**: Type of the content\n",
    "    - Movie\n",
    "    - TV Show\n",
    "3. **title**: Title of the content\n",
    "    - The Starling\n",
    "    - Squid Game\n",
    "    - Jaws: The Revenge\n",
    "    - ...\n",
    "4. **director**: Name of the director for that movie or show\n",
    "    - Steven Spielberg\n",
    "    - Cédric Jimenez\n",
    "    - Hirotsugu Kawasaki\n",
    "    - ...\n",
    "5. **cast**: Names of the cast for that movie or show \n",
    "    - Ama Qamata, Khosi Ngema, Gail Mabalane, Thabang Molaba, Dillon Windvogel, Natasha Thahane...\n",
    "    - Antti Pääkkönen, Heljä Heikkinen, Lynne Guaglione, Pasi Ruohonen, Rauno Ahonen...\n",
    "    - Luna Wedler, Jannis Niewöhner, Milan Peschel, Edin Hasanović...\n",
    "    - ...\n",
    "6. **country**: List of countries in which the content is available \n",
    "    - United States, South Africa, India...\n",
    "    - United States, United Kingdom, Canada, Germany...\n",
    "    - Canada, France, Japan, Russia...\n",
    "    - ...\n",
    "7. **data_added**: The date the content was added\n",
    "    - September 25, 2021\n",
    "    - September 22, 2021\n",
    "    - August 23, 2021\n",
    "    - ...\n",
    "8. **release_year**: Release year of the content\n",
    "    - 2020\n",
    "    - 2014\n",
    "    - 2006\n",
    "    - ...\n",
    "9. **rating**: Motion picture content rating \n",
    "    - PG-13\n",
    "    - TV-14\n",
    "    - R\n",
    "    - ...\n",
    "10. **duration**: Total duration of the content\n",
    "    - 90 min\n",
    "    - 2 seasons\n",
    "    - 48 min\n",
    "    - ...\n",
    "11. **listed_in**: List of categories where content is listed\n",
    "    - Documentaries, International TV Shows, TV Dramas, TV Mysteries...\n",
    "    - Comedies, Dramas, International Movies...\n",
    "    - Documentaries, TV Dramas, Comedies...\n",
    "    - ...\n",
    "12. **description**: Short description about the content\n",
    "    - As her father nears the end of his life, filmmaker Kirsten Johnson stages his death in inventive and comical ways to help them both face the inevitable\n",
    "    - After crossing paths at a party, a Cape Town teen sets out to prove whether a private-school swimming star is her sister who was abducted at birth\n",
    "    - Tayo speeds into an adventure when his friends get kidnapped by evil magicians invading their city in search of a magical gemstone\n",
    "    - ..."
   ]
  },
  {
   "cell_type": "markdown",
   "id": "96f56fb2",
   "metadata": {
    "papermill": {
     "duration": 0.009795,
     "end_time": "2022-09-23T13:58:32.208587",
     "exception": false,
     "start_time": "2022-09-23T13:58:32.198792",
     "status": "completed"
    },
    "tags": []
   },
   "source": [
    "<div id=\"checking-null-values\"\n",
    "     style = \"display: fill;\n",
    "              border-radius: 10px;\n",
    "              background-color: #E50914;\">\n",
    "    <h3 style = \"padding: 15px; \n",
    "                 color: White;\n",
    "                 text-align: left;\n",
    "                 font-family: Trebuchet MS;\">3.1 Checking Null Values\n",
    "    </h3>\n",
    "</div>\n",
    "\n",
    "Let's first check if there are any null values in the dataset"
   ]
  },
  {
   "cell_type": "code",
   "execution_count": 3,
   "id": "36413c4a",
   "metadata": {
    "execution": {
     "iopub.execute_input": "2022-09-23T13:58:32.230760Z",
     "iopub.status.busy": "2022-09-23T13:58:32.230306Z",
     "iopub.status.idle": "2022-09-23T13:58:32.245695Z",
     "shell.execute_reply": "2022-09-23T13:58:32.244608Z"
    },
    "papermill": {
     "duration": 0.029317,
     "end_time": "2022-09-23T13:58:32.248029",
     "exception": false,
     "start_time": "2022-09-23T13:58:32.218712",
     "status": "completed"
    },
    "tags": []
   },
   "outputs": [
    {
     "data": {
      "text/plain": [
       "director        2634\n",
       "country          831\n",
       "cast             825\n",
       "date_added        10\n",
       "rating             4\n",
       "duration           3\n",
       "show_id            0\n",
       "type               0\n",
       "title              0\n",
       "release_year       0\n",
       "listed_in          0\n",
       "description        0\n",
       "dtype: int64"
      ]
     },
     "execution_count": 3,
     "metadata": {},
     "output_type": "execute_result"
    }
   ],
   "source": [
    "df.isna().sum().sort_values(ascending=False)"
   ]
  },
  {
   "cell_type": "markdown",
   "id": "1cb6c72c",
   "metadata": {
    "papermill": {
     "duration": 0.009908,
     "end_time": "2022-09-23T13:58:32.268177",
     "exception": false,
     "start_time": "2022-09-23T13:58:32.258269",
     "status": "completed"
    },
    "tags": []
   },
   "source": [
    "* There are small amount of null values in the **date_added**, **rating**, **duration** columns. \n",
    "* Meanwhile, there are large amount of null values in the **country**, **cast**, **director** columns."
   ]
  },
  {
   "cell_type": "markdown",
   "id": "9a145f40",
   "metadata": {
    "papermill": {
     "duration": 0.009822,
     "end_time": "2022-09-23T13:58:32.288181",
     "exception": false,
     "start_time": "2022-09-23T13:58:32.278359",
     "status": "completed"
    },
    "tags": []
   },
   "source": [
    "<div id=\"optimizing-the-dataset\"\n",
    "     style = \"display: fill;\n",
    "              border-radius: 10px;\n",
    "              background-color: #E50914;\">\n",
    "    <h3 style = \"padding: 15px; \n",
    "                 color: White;\n",
    "                 text-align: left;\n",
    "                 font-family: Trebuchet MS;\">3.2 Optimizing the Dataset\n",
    "    </h3>\n",
    "</div>\n",
    "\n",
    "Many of the features are `object` type. We can convert those features into more specific and compact types to save memory and increase efficiency."
   ]
  },
  {
   "cell_type": "code",
   "execution_count": 4,
   "id": "bc622731",
   "metadata": {
    "execution": {
     "iopub.execute_input": "2022-09-23T13:58:32.310295Z",
     "iopub.status.busy": "2022-09-23T13:58:32.309877Z",
     "iopub.status.idle": "2022-09-23T13:58:32.341459Z",
     "shell.execute_reply": "2022-09-23T13:58:32.339739Z"
    },
    "papermill": {
     "duration": 0.047006,
     "end_time": "2022-09-23T13:58:32.345394",
     "exception": false,
     "start_time": "2022-09-23T13:58:32.298388",
     "status": "completed"
    },
    "tags": []
   },
   "outputs": [
    {
     "name": "stdout",
     "output_type": "stream",
     "text": [
      "<class 'pandas.core.frame.DataFrame'>\n",
      "RangeIndex: 8807 entries, 0 to 8806\n",
      "Data columns (total 12 columns):\n",
      " #   Column        Non-Null Count  Dtype \n",
      "---  ------        --------------  ----- \n",
      " 0   show_id       8807 non-null   object\n",
      " 1   type          8807 non-null   object\n",
      " 2   title         8807 non-null   object\n",
      " 3   director      6173 non-null   object\n",
      " 4   cast          7982 non-null   object\n",
      " 5   country       7976 non-null   object\n",
      " 6   date_added    8797 non-null   object\n",
      " 7   release_year  8807 non-null   int64 \n",
      " 8   rating        8803 non-null   object\n",
      " 9   duration      8804 non-null   object\n",
      " 10  listed_in     8807 non-null   object\n",
      " 11  description   8807 non-null   object\n",
      "dtypes: int64(1), object(11)\n",
      "memory usage: 825.8+ KB\n"
     ]
    }
   ],
   "source": [
    "df.info()"
   ]
  },
  {
   "cell_type": "markdown",
   "id": "dbebb700",
   "metadata": {
    "papermill": {
     "duration": 0.010076,
     "end_time": "2022-09-23T13:58:32.366782",
     "exception": false,
     "start_time": "2022-09-23T13:58:32.356706",
     "status": "completed"
    },
    "tags": []
   },
   "source": [
    "Let's first check the number of unique values for each feature to make the conversion process easier"
   ]
  },
  {
   "cell_type": "code",
   "execution_count": 5,
   "id": "0775f74d",
   "metadata": {
    "execution": {
     "iopub.execute_input": "2022-09-23T13:58:32.389189Z",
     "iopub.status.busy": "2022-09-23T13:58:32.388771Z",
     "iopub.status.idle": "2022-09-23T13:58:32.414208Z",
     "shell.execute_reply": "2022-09-23T13:58:32.413053Z"
    },
    "papermill": {
     "duration": 0.039839,
     "end_time": "2022-09-23T13:58:32.417000",
     "exception": false,
     "start_time": "2022-09-23T13:58:32.377161",
     "status": "completed"
    },
    "tags": []
   },
   "outputs": [
    {
     "name": "stdout",
     "output_type": "stream",
     "text": [
      "Number of unique values in the show_id column: 8807\n",
      "Number of unique values in the type column: 2\n",
      "Number of unique values in the title column: 8807\n",
      "Number of unique values in the director column: 4528\n",
      "Number of unique values in the cast column: 7692\n",
      "Number of unique values in the country column: 748\n",
      "Number of unique values in the date_added column: 1767\n",
      "Number of unique values in the release_year column: 74\n",
      "Number of unique values in the rating column: 17\n",
      "Number of unique values in the duration column: 220\n",
      "Number of unique values in the listed_in column: 514\n",
      "Number of unique values in the description column: 8775\n"
     ]
    }
   ],
   "source": [
    "for i in df.columns:\n",
    "    print(f\"Number of unique values in the {i} column: {df[i].nunique()}\")"
   ]
  },
  {
   "cell_type": "markdown",
   "id": "8762a0fd",
   "metadata": {
    "papermill": {
     "duration": 0.010004,
     "end_time": "2022-09-23T13:58:32.437576",
     "exception": false,
     "start_time": "2022-09-23T13:58:32.427572",
     "status": "completed"
    },
    "tags": []
   },
   "source": [
    "Some of the columns contain less unique values. These will be the ones that we do conversion on them. Columns that contain less unique values:\n",
    "* **type**\n",
    "* **release_year**\n",
    "* **rating**\n",
    "\n",
    "Other interesting features are **show_id**, **title**, and **description**. They contain unique values for each row. I will check them first to see what is going."
   ]
  },
  {
   "cell_type": "code",
   "execution_count": 6,
   "id": "7d64a254",
   "metadata": {
    "execution": {
     "iopub.execute_input": "2022-09-23T13:58:32.460037Z",
     "iopub.status.busy": "2022-09-23T13:58:32.459632Z",
     "iopub.status.idle": "2022-09-23T13:58:32.469340Z",
     "shell.execute_reply": "2022-09-23T13:58:32.468229Z"
    },
    "papermill": {
     "duration": 0.023639,
     "end_time": "2022-09-23T13:58:32.471649",
     "exception": false,
     "start_time": "2022-09-23T13:58:32.448010",
     "status": "completed"
    },
    "tags": []
   },
   "outputs": [
    {
     "name": "stdout",
     "output_type": "stream",
     "text": [
      "Number of unique values: 8807\n",
      "['s1' 's2' 's3' ... 's8805' 's8806' 's8807']\n"
     ]
    }
   ],
   "source": [
    "print(\"Number of unique values:\", df[\"show_id\"].nunique())\n",
    "print(df[\"show_id\"].unique())"
   ]
  },
  {
   "cell_type": "markdown",
   "id": "2c497625",
   "metadata": {
    "papermill": {
     "duration": 0.010208,
     "end_time": "2022-09-23T13:58:32.492439",
     "exception": false,
     "start_time": "2022-09-23T13:58:32.482231",
     "status": "completed"
    },
    "tags": []
   },
   "source": [
    "There is a unique value for each show. I don't understand the point of this feature. It only contains the values starting from 1 to 8807 which is basically an index for every row. The problem is that we already have that information stored in our dataframe so, I will remove this feature because it doesn't contain any valuable information for the analysis."
   ]
  },
  {
   "cell_type": "code",
   "execution_count": 7,
   "id": "c8a69591",
   "metadata": {
    "execution": {
     "iopub.execute_input": "2022-09-23T13:58:32.515426Z",
     "iopub.status.busy": "2022-09-23T13:58:32.514695Z",
     "iopub.status.idle": "2022-09-23T13:58:32.521764Z",
     "shell.execute_reply": "2022-09-23T13:58:32.520723Z"
    },
    "papermill": {
     "duration": 0.021336,
     "end_time": "2022-09-23T13:58:32.524165",
     "exception": false,
     "start_time": "2022-09-23T13:58:32.502829",
     "status": "completed"
    },
    "tags": []
   },
   "outputs": [],
   "source": [
    "df.drop(labels=\"show_id\", axis=1, inplace=True)"
   ]
  },
  {
   "cell_type": "code",
   "execution_count": 8,
   "id": "b2851bd6",
   "metadata": {
    "execution": {
     "iopub.execute_input": "2022-09-23T13:58:32.547175Z",
     "iopub.status.busy": "2022-09-23T13:58:32.546497Z",
     "iopub.status.idle": "2022-09-23T13:58:32.557208Z",
     "shell.execute_reply": "2022-09-23T13:58:32.555688Z"
    },
    "papermill": {
     "duration": 0.025796,
     "end_time": "2022-09-23T13:58:32.560446",
     "exception": false,
     "start_time": "2022-09-23T13:58:32.534650",
     "status": "completed"
    },
    "tags": []
   },
   "outputs": [
    {
     "name": "stdout",
     "output_type": "stream",
     "text": [
      "Number of unique values: 8807\n",
      "['Dick Johnson Is Dead' 'Blood & Water' 'Ganglands' ... 'Zombieland'\n",
      " 'Zoom' 'Zubaan']\n"
     ]
    }
   ],
   "source": [
    "print(\"Number of unique values:\", df[\"title\"].nunique())\n",
    "print(df[\"title\"].unique())"
   ]
  },
  {
   "cell_type": "markdown",
   "id": "56b808d7",
   "metadata": {
    "papermill": {
     "duration": 0.010604,
     "end_time": "2022-09-23T13:58:32.581981",
     "exception": false,
     "start_time": "2022-09-23T13:58:32.571377",
     "status": "completed"
    },
    "tags": []
   },
   "source": [
    "Similar to **show_id**, this column also contains unique values for each show but the difference is that these values are not just integers like an index value. These values contain the name of the each show which is probably will be used in the analysis. Therefore, I will not remove this feature."
   ]
  },
  {
   "cell_type": "code",
   "execution_count": 9,
   "id": "435abdcd",
   "metadata": {
    "execution": {
     "iopub.execute_input": "2022-09-23T13:58:32.606050Z",
     "iopub.status.busy": "2022-09-23T13:58:32.605206Z",
     "iopub.status.idle": "2022-09-23T13:58:32.622756Z",
     "shell.execute_reply": "2022-09-23T13:58:32.621498Z"
    },
    "papermill": {
     "duration": 0.032522,
     "end_time": "2022-09-23T13:58:32.625196",
     "exception": false,
     "start_time": "2022-09-23T13:58:32.592674",
     "status": "completed"
    },
    "tags": []
   },
   "outputs": [
    {
     "name": "stdout",
     "output_type": "stream",
     "text": [
      "Number of unique values: 8775\n",
      "['As her father nears the end of his life, filmmaker Kirsten Johnson stages his death in inventive and comical ways to help them both face the inevitable.'\n",
      " 'After crossing paths at a party, a Cape Town teen sets out to prove whether a private-school swimming star is her sister who was abducted at birth.'\n",
      " 'To protect his family from a powerful drug lord, skilled thief Mehdi and his expert team of robbers are pulled into a violent and deadly turf war.'\n",
      " ...\n",
      " 'Looking to survive in a world taken over by zombies, a dorky college student teams with an urban roughneck and a pair of grifter sisters.'\n",
      " 'Dragged from civilian life, a former superhero must train a new crop of youthful saviors when the military preps for an attack by a familiar villain.'\n",
      " \"A scrappy but poor boy worms his way into a tycoon's dysfunctional family, while facing his fear of music and the truth about his past.\"]\n"
     ]
    }
   ],
   "source": [
    "print(\"Number of unique values:\", df[\"description\"].nunique())\n",
    "print(df[\"description\"].unique())"
   ]
  },
  {
   "cell_type": "markdown",
   "id": "9dced3a4",
   "metadata": {
    "papermill": {
     "duration": 0.010218,
     "end_time": "2022-09-23T13:58:32.645899",
     "exception": false,
     "start_time": "2022-09-23T13:58:32.635681",
     "status": "completed"
    },
    "tags": []
   },
   "source": [
    "Similar to **title**, this column also contains unique values for each show. These values contain the short description of the each show which we may use it in the analysis. Therefore, I will not remove this feature."
   ]
  },
  {
   "cell_type": "code",
   "execution_count": 10,
   "id": "5a3e5f8b",
   "metadata": {
    "execution": {
     "iopub.execute_input": "2022-09-23T13:58:32.669226Z",
     "iopub.status.busy": "2022-09-23T13:58:32.668198Z",
     "iopub.status.idle": "2022-09-23T13:58:32.677071Z",
     "shell.execute_reply": "2022-09-23T13:58:32.675666Z"
    },
    "papermill": {
     "duration": 0.023108,
     "end_time": "2022-09-23T13:58:32.679485",
     "exception": false,
     "start_time": "2022-09-23T13:58:32.656377",
     "status": "completed"
    },
    "tags": []
   },
   "outputs": [
    {
     "name": "stdout",
     "output_type": "stream",
     "text": [
      "Number of unique values: 2\n",
      "['Movie' 'TV Show']\n"
     ]
    }
   ],
   "source": [
    "print(\"Number of unique values:\", df[\"type\"].nunique())\n",
    "print(df[\"type\"].unique())"
   ]
  },
  {
   "cell_type": "markdown",
   "id": "519f77af",
   "metadata": {
    "papermill": {
     "duration": 0.010225,
     "end_time": "2022-09-23T13:58:32.700415",
     "exception": false,
     "start_time": "2022-09-23T13:58:32.690190",
     "status": "completed"
    },
    "tags": []
   },
   "source": [
    "There are only two unique values in the **type** column. These are essentially used to categorize the content into **Movie** or **TV-Show**. I will convert this feature into `category` type."
   ]
  },
  {
   "cell_type": "code",
   "execution_count": 11,
   "id": "a1a2deb2",
   "metadata": {
    "execution": {
     "iopub.execute_input": "2022-09-23T13:58:32.723846Z",
     "iopub.status.busy": "2022-09-23T13:58:32.723422Z",
     "iopub.status.idle": "2022-09-23T13:58:32.732295Z",
     "shell.execute_reply": "2022-09-23T13:58:32.731004Z"
    },
    "papermill": {
     "duration": 0.023722,
     "end_time": "2022-09-23T13:58:32.734908",
     "exception": false,
     "start_time": "2022-09-23T13:58:32.711186",
     "status": "completed"
    },
    "tags": []
   },
   "outputs": [],
   "source": [
    "df[\"type\"] = df[\"type\"].astype(\"category\")"
   ]
  },
  {
   "cell_type": "code",
   "execution_count": 12,
   "id": "6fcdcf4c",
   "metadata": {
    "execution": {
     "iopub.execute_input": "2022-09-23T13:58:32.758135Z",
     "iopub.status.busy": "2022-09-23T13:58:32.757687Z",
     "iopub.status.idle": "2022-09-23T13:58:32.764970Z",
     "shell.execute_reply": "2022-09-23T13:58:32.763675Z"
    },
    "papermill": {
     "duration": 0.022713,
     "end_time": "2022-09-23T13:58:32.768394",
     "exception": false,
     "start_time": "2022-09-23T13:58:32.745681",
     "status": "completed"
    },
    "tags": []
   },
   "outputs": [
    {
     "name": "stdout",
     "output_type": "stream",
     "text": [
      "Number of unique values: 74\n",
      "[2020 2021 1993 2018 1996 1998 1997 2010 2013 2017 1975 1978 1983 1987\n",
      " 2012 2001 2014 2002 2003 2004 2011 2008 2009 2007 2005 2006 1994 2015\n",
      " 2019 2016 1982 1989 1990 1991 1999 1986 1992 1984 1980 1961 2000 1995\n",
      " 1985 1976 1959 1988 1981 1972 1964 1945 1954 1979 1958 1956 1963 1970\n",
      " 1973 1925 1974 1960 1966 1971 1962 1969 1977 1967 1968 1965 1946 1942\n",
      " 1955 1944 1947 1943]\n"
     ]
    }
   ],
   "source": [
    "print(\"Number of unique values:\", df[\"release_year\"].nunique())\n",
    "print(df[\"release_year\"].unique())"
   ]
  },
  {
   "cell_type": "markdown",
   "id": "52f6fb8c",
   "metadata": {
    "papermill": {
     "duration": 0.010789,
     "end_time": "2022-09-23T13:58:32.790699",
     "exception": false,
     "start_time": "2022-09-23T13:58:32.779910",
     "status": "completed"
    },
    "tags": []
   },
   "source": [
    "There are 74 unique values in the **release_year** column. Also, these are integer values. Smallest integer datatype that can hold these values is `int16`."
   ]
  },
  {
   "cell_type": "code",
   "execution_count": 13,
   "id": "eddbd249",
   "metadata": {
    "execution": {
     "iopub.execute_input": "2022-09-23T13:58:32.813614Z",
     "iopub.status.busy": "2022-09-23T13:58:32.813205Z",
     "iopub.status.idle": "2022-09-23T13:58:32.819744Z",
     "shell.execute_reply": "2022-09-23T13:58:32.818438Z"
    },
    "papermill": {
     "duration": 0.02073,
     "end_time": "2022-09-23T13:58:32.822020",
     "exception": false,
     "start_time": "2022-09-23T13:58:32.801290",
     "status": "completed"
    },
    "tags": []
   },
   "outputs": [],
   "source": [
    "df[\"release_year\"] = df[\"release_year\"].astype(\"int16\")"
   ]
  },
  {
   "cell_type": "code",
   "execution_count": 14,
   "id": "585043f3",
   "metadata": {
    "execution": {
     "iopub.execute_input": "2022-09-23T13:58:32.845254Z",
     "iopub.status.busy": "2022-09-23T13:58:32.844838Z",
     "iopub.status.idle": "2022-09-23T13:58:32.852692Z",
     "shell.execute_reply": "2022-09-23T13:58:32.851371Z"
    },
    "papermill": {
     "duration": 0.022403,
     "end_time": "2022-09-23T13:58:32.855336",
     "exception": false,
     "start_time": "2022-09-23T13:58:32.832933",
     "status": "completed"
    },
    "tags": []
   },
   "outputs": [
    {
     "name": "stdout",
     "output_type": "stream",
     "text": [
      "Number of unique values: 17\n",
      "['PG-13' 'TV-MA' 'PG' 'TV-14' 'TV-PG' 'TV-Y' 'TV-Y7' 'R' 'TV-G' 'G'\n",
      " 'NC-17' '74 min' '84 min' '66 min' 'NR' nan 'TV-Y7-FV' 'UR']\n"
     ]
    }
   ],
   "source": [
    "print(\"Number of unique values:\", df[\"rating\"].nunique())\n",
    "print(df[\"rating\"].unique())"
   ]
  },
  {
   "cell_type": "markdown",
   "id": "9ce2215b",
   "metadata": {
    "papermill": {
     "duration": 0.010391,
     "end_time": "2022-09-23T13:58:32.876559",
     "exception": false,
     "start_time": "2022-09-23T13:58:32.866168",
     "status": "completed"
    },
    "tags": []
   },
   "source": [
    "There are 17 unique values in the **rating** column. These values contain both integers and strings. Therefore, we will convert this column into `category` type."
   ]
  },
  {
   "cell_type": "code",
   "execution_count": 15,
   "id": "ccba4c47",
   "metadata": {
    "execution": {
     "iopub.execute_input": "2022-09-23T13:58:32.899768Z",
     "iopub.status.busy": "2022-09-23T13:58:32.899333Z",
     "iopub.status.idle": "2022-09-23T13:58:32.907864Z",
     "shell.execute_reply": "2022-09-23T13:58:32.906850Z"
    },
    "papermill": {
     "duration": 0.023079,
     "end_time": "2022-09-23T13:58:32.910327",
     "exception": false,
     "start_time": "2022-09-23T13:58:32.887248",
     "status": "completed"
    },
    "tags": []
   },
   "outputs": [],
   "source": [
    "df[\"rating\"] = df[\"rating\"].astype(\"category\")"
   ]
  },
  {
   "cell_type": "code",
   "execution_count": 16,
   "id": "d148e3aa",
   "metadata": {
    "execution": {
     "iopub.execute_input": "2022-09-23T13:58:32.933497Z",
     "iopub.status.busy": "2022-09-23T13:58:32.933058Z",
     "iopub.status.idle": "2022-09-23T13:58:32.940960Z",
     "shell.execute_reply": "2022-09-23T13:58:32.939664Z"
    },
    "papermill": {
     "duration": 0.022516,
     "end_time": "2022-09-23T13:58:32.943585",
     "exception": false,
     "start_time": "2022-09-23T13:58:32.921069",
     "status": "completed"
    },
    "tags": []
   },
   "outputs": [
    {
     "name": "stdout",
     "output_type": "stream",
     "text": [
      "Number of unique values: 220\n",
      "['90 min' '2 Seasons' '1 Season' '91 min' '125 min' '9 Seasons' '104 min'\n",
      " '127 min' '4 Seasons' '67 min' '94 min' '5 Seasons' '161 min' '61 min'\n",
      " '166 min' '147 min' '103 min' '97 min' '106 min' '111 min']\n"
     ]
    }
   ],
   "source": [
    "print(\"Number of unique values:\", df[\"duration\"].nunique())\n",
    "print(df.loc[:30, \"duration\"].unique())"
   ]
  },
  {
   "cell_type": "markdown",
   "id": "daf9272f",
   "metadata": {
    "papermill": {
     "duration": 0.011265,
     "end_time": "2022-09-23T13:58:32.966083",
     "exception": false,
     "start_time": "2022-09-23T13:58:32.954818",
     "status": "completed"
    },
    "tags": []
   },
   "source": [
    "There are 220 unique values in the **duration** column. Considering there are 8807 rows, there will be a lot of repetition. That's why I will convert it into `category` type."
   ]
  },
  {
   "cell_type": "code",
   "execution_count": 17,
   "id": "05a43231",
   "metadata": {
    "execution": {
     "iopub.execute_input": "2022-09-23T13:58:32.989783Z",
     "iopub.status.busy": "2022-09-23T13:58:32.989379Z",
     "iopub.status.idle": "2022-09-23T13:58:32.997737Z",
     "shell.execute_reply": "2022-09-23T13:58:32.996639Z"
    },
    "papermill": {
     "duration": 0.022817,
     "end_time": "2022-09-23T13:58:32.999967",
     "exception": false,
     "start_time": "2022-09-23T13:58:32.977150",
     "status": "completed"
    },
    "tags": []
   },
   "outputs": [],
   "source": [
    "df[\"duration\"] = df[\"duration\"].astype(\"category\")"
   ]
  },
  {
   "cell_type": "code",
   "execution_count": 18,
   "id": "143554ee",
   "metadata": {
    "execution": {
     "iopub.execute_input": "2022-09-23T13:58:33.023920Z",
     "iopub.status.busy": "2022-09-23T13:58:33.023522Z",
     "iopub.status.idle": "2022-09-23T13:58:33.031639Z",
     "shell.execute_reply": "2022-09-23T13:58:33.030481Z"
    },
    "papermill": {
     "duration": 0.023048,
     "end_time": "2022-09-23T13:58:33.034112",
     "exception": false,
     "start_time": "2022-09-23T13:58:33.011064",
     "status": "completed"
    },
    "tags": []
   },
   "outputs": [
    {
     "name": "stdout",
     "output_type": "stream",
     "text": [
      "Number of unique values: 4528\n",
      "['Kirsten Johnson' nan 'Julien Leclercq' 'Mike Flanagan'\n",
      " 'Robert Cullen, José Luis Ucha' 'Haile Gerima' 'Andy Devonshire'\n",
      " 'Theodore Melfi' 'Kongkiat Komesiri' 'Christian Schwochow'\n",
      " 'Bruno Garotti' 'Pedro de Echave García, Pablo Azorín Williams'\n",
      " 'Adam Salky' 'Olivier Megaton']\n"
     ]
    }
   ],
   "source": [
    "print(\"Number of unique values:\", df[\"director\"].nunique())\n",
    "print(df.loc[:20, \"director\"].unique())"
   ]
  },
  {
   "cell_type": "markdown",
   "id": "6e66c104",
   "metadata": {
    "papermill": {
     "duration": 0.010676,
     "end_time": "2022-09-23T13:58:33.055873",
     "exception": false,
     "start_time": "2022-09-23T13:58:33.045197",
     "status": "completed"
    },
    "tags": []
   },
   "source": [
    "There are 4528 unique values in the **director** column. Similar to **duration** column, there are way too many unique values for the `category` type. I will not convert it into `category` type."
   ]
  },
  {
   "cell_type": "code",
   "execution_count": 19,
   "id": "f197e7cc",
   "metadata": {
    "execution": {
     "iopub.execute_input": "2022-09-23T13:58:33.081131Z",
     "iopub.status.busy": "2022-09-23T13:58:33.080030Z",
     "iopub.status.idle": "2022-09-23T13:58:33.087966Z",
     "shell.execute_reply": "2022-09-23T13:58:33.086887Z"
    },
    "papermill": {
     "duration": 0.024044,
     "end_time": "2022-09-23T13:58:33.091210",
     "exception": false,
     "start_time": "2022-09-23T13:58:33.067166",
     "status": "completed"
    },
    "tags": []
   },
   "outputs": [
    {
     "name": "stdout",
     "output_type": "stream",
     "text": [
      "Number of unique values: 1767\n",
      "['September 25, 2021' 'September 24, 2021' 'September 23, 2021'\n",
      " 'September 22, 2021']\n"
     ]
    }
   ],
   "source": [
    "print(\"Number of unique values:\", df[\"date_added\"].nunique())\n",
    "print(df.loc[:20, \"date_added\"].unique())"
   ]
  },
  {
   "cell_type": "markdown",
   "id": "818d298a",
   "metadata": {
    "papermill": {
     "duration": 0.010916,
     "end_time": "2022-09-23T13:58:33.113746",
     "exception": false,
     "start_time": "2022-09-23T13:58:33.102830",
     "status": "completed"
    },
    "tags": []
   },
   "source": [
    "There are 1767 unique values in the **date_added** columns. We can use `datetime64` type for this column. This will helps us to sort dates easier."
   ]
  },
  {
   "cell_type": "code",
   "execution_count": 20,
   "id": "ae59d1f7",
   "metadata": {
    "execution": {
     "iopub.execute_input": "2022-09-23T13:58:33.137810Z",
     "iopub.status.busy": "2022-09-23T13:58:33.137373Z",
     "iopub.status.idle": "2022-09-23T13:58:33.358153Z",
     "shell.execute_reply": "2022-09-23T13:58:33.357010Z"
    },
    "papermill": {
     "duration": 0.235965,
     "end_time": "2022-09-23T13:58:33.360944",
     "exception": false,
     "start_time": "2022-09-23T13:58:33.124979",
     "status": "completed"
    },
    "tags": []
   },
   "outputs": [],
   "source": [
    "df[\"date_added\"] = df[\"date_added\"].astype(\"datetime64\")"
   ]
  },
  {
   "cell_type": "code",
   "execution_count": 21,
   "id": "1ff2e1b4",
   "metadata": {
    "execution": {
     "iopub.execute_input": "2022-09-23T13:58:33.385043Z",
     "iopub.status.busy": "2022-09-23T13:58:33.384645Z",
     "iopub.status.idle": "2022-09-23T13:58:33.391745Z",
     "shell.execute_reply": "2022-09-23T13:58:33.390631Z"
    },
    "papermill": {
     "duration": 0.021925,
     "end_time": "2022-09-23T13:58:33.394200",
     "exception": false,
     "start_time": "2022-09-23T13:58:33.372275",
     "status": "completed"
    },
    "tags": []
   },
   "outputs": [
    {
     "name": "stdout",
     "output_type": "stream",
     "text": [
      "Number of unique values: 748\n",
      "['United States' 'South Africa' nan 'India'\n",
      " 'United States, Ghana, Burkina Faso, United Kingdom, Germany, Ethiopia'\n",
      " 'United Kingdom' 'Germany, Czech Republic' 'Mexico']\n"
     ]
    }
   ],
   "source": [
    "print(\"Number of unique values:\", df[\"country\"].nunique())\n",
    "print(df.loc[:20, \"country\"].unique())"
   ]
  },
  {
   "cell_type": "markdown",
   "id": "0998ccd7",
   "metadata": {
    "papermill": {
     "duration": 0.010688,
     "end_time": "2022-09-23T13:58:33.416211",
     "exception": false,
     "start_time": "2022-09-23T13:58:33.405523",
     "status": "completed"
    },
    "tags": []
   },
   "source": [
    "There are 748 unique values in the **country** column. Because of the same reason with **duration** column, I will convert this into `category` type."
   ]
  },
  {
   "cell_type": "code",
   "execution_count": 22,
   "id": "a2a125e2",
   "metadata": {
    "execution": {
     "iopub.execute_input": "2022-09-23T13:58:33.440864Z",
     "iopub.status.busy": "2022-09-23T13:58:33.439620Z",
     "iopub.status.idle": "2022-09-23T13:58:33.449146Z",
     "shell.execute_reply": "2022-09-23T13:58:33.448057Z"
    },
    "papermill": {
     "duration": 0.024317,
     "end_time": "2022-09-23T13:58:33.451627",
     "exception": false,
     "start_time": "2022-09-23T13:58:33.427310",
     "status": "completed"
    },
    "tags": []
   },
   "outputs": [],
   "source": [
    "df[\"country\"] = df[\"country\"].astype(\"category\")"
   ]
  },
  {
   "cell_type": "code",
   "execution_count": 23,
   "id": "2e95557a",
   "metadata": {
    "execution": {
     "iopub.execute_input": "2022-09-23T13:58:33.475387Z",
     "iopub.status.busy": "2022-09-23T13:58:33.475012Z",
     "iopub.status.idle": "2022-09-23T13:58:33.482124Z",
     "shell.execute_reply": "2022-09-23T13:58:33.481034Z"
    },
    "papermill": {
     "duration": 0.021849,
     "end_time": "2022-09-23T13:58:33.484622",
     "exception": false,
     "start_time": "2022-09-23T13:58:33.462773",
     "status": "completed"
    },
    "tags": []
   },
   "outputs": [
    {
     "name": "stdout",
     "output_type": "stream",
     "text": [
      "[nan\n",
      " 'Ama Qamata, Khosi Ngema, Gail Mabalane, Thabang Molaba, Dillon Windvogel, Natasha Thahane, Arno Greeff, Xolile Tshabalala, Getmore Sithole, Cindy Mahlangu, Ryle De Morny, Greteli Fincham, Sello Maake Ka-Ncube, Odwa Gwanya, Mekaila Mathys, Sandi Schultz, Duane Williams, Shamilla Miller, Patrick Mofokeng'\n",
      " 'Sami Bouajila, Tracy Gotoas, Samuel Jouy, Nabiha Akkari, Sofia Lesaffre, Salim Kechiouche, Noureddine Farihi, Geert Van Rampelberg, Bakary Diombera'\n",
      " 'Mayur More, Jitendra Kumar, Ranjan Raj, Alam Khan, Ahsaas Channa, Revathi Pillai, Urvi Singh, Arun Kumar'\n",
      " 'Kate Siegel, Zach Gilford, Hamish Linklater, Henry Thomas, Kristin Lehman, Samantha Sloyan, Igby Rigney, Rahul Kohli, Annarah Cymone, Annabeth Gish, Alex Essoe, Rahul Abburi, Matt Biedel, Michael Trucco, Crystal Balint, Louis Oliver'] \n",
      "\n",
      "['Documentaries' 'International TV Shows, TV Dramas, TV Mysteries'\n",
      " 'Crime TV Shows, International TV Shows, TV Action & Adventure'\n",
      " 'Docuseries, Reality TV'\n",
      " 'International TV Shows, Romantic TV Shows, TV Comedies'\n",
      " 'TV Dramas, TV Horror, TV Mysteries']\n"
     ]
    }
   ],
   "source": [
    "print(df.loc[:5, \"cast\"].unique(), \"\\n\")\n",
    "print(df.loc[:5, \"listed_in\"].unique())"
   ]
  },
  {
   "cell_type": "markdown",
   "id": "2234ebc1",
   "metadata": {
    "papermill": {
     "duration": 0.010909,
     "end_time": "2022-09-23T13:58:33.507265",
     "exception": false,
     "start_time": "2022-09-23T13:58:33.496356",
     "status": "completed"
    },
    "tags": []
   },
   "source": [
    "The **cast** and **listed_in** columns does contain list of values for each show. We can't do any conversion on this. \n",
    "\n",
    "We're done with the optimization. Let's check the dataframe after the conversion."
   ]
  },
  {
   "cell_type": "code",
   "execution_count": 24,
   "id": "0280b41c",
   "metadata": {
    "execution": {
     "iopub.execute_input": "2022-09-23T13:58:33.531500Z",
     "iopub.status.busy": "2022-09-23T13:58:33.531051Z",
     "iopub.status.idle": "2022-09-23T13:58:33.553575Z",
     "shell.execute_reply": "2022-09-23T13:58:33.552356Z"
    },
    "papermill": {
     "duration": 0.037666,
     "end_time": "2022-09-23T13:58:33.556256",
     "exception": false,
     "start_time": "2022-09-23T13:58:33.518590",
     "status": "completed"
    },
    "tags": []
   },
   "outputs": [
    {
     "name": "stdout",
     "output_type": "stream",
     "text": [
      "<class 'pandas.core.frame.DataFrame'>\n",
      "RangeIndex: 8807 entries, 0 to 8806\n",
      "Data columns (total 11 columns):\n",
      " #   Column        Non-Null Count  Dtype         \n",
      "---  ------        --------------  -----         \n",
      " 0   type          8807 non-null   category      \n",
      " 1   title         8807 non-null   object        \n",
      " 2   director      6173 non-null   object        \n",
      " 3   cast          7982 non-null   object        \n",
      " 4   country       7976 non-null   category      \n",
      " 5   date_added    8797 non-null   datetime64[ns]\n",
      " 6   release_year  8807 non-null   int16         \n",
      " 7   rating        8803 non-null   category      \n",
      " 8   duration      8804 non-null   category      \n",
      " 9   listed_in     8807 non-null   object        \n",
      " 10  description   8807 non-null   object        \n",
      "dtypes: category(4), datetime64[ns](1), int16(1), object(5)\n",
      "memory usage: 514.4+ KB\n"
     ]
    }
   ],
   "source": [
    "df.info()"
   ]
  },
  {
   "cell_type": "markdown",
   "id": "120bf942",
   "metadata": {
    "papermill": {
     "duration": 0.01107,
     "end_time": "2022-09-23T13:58:33.578809",
     "exception": false,
     "start_time": "2022-09-23T13:58:33.567739",
     "status": "completed"
    },
    "tags": []
   },
   "source": [
    "* Before the optimization, dataset had a memory usage of `825.8+ KB`.\n",
    "* After the optimization, dataset have a memory usage of `514.4+ KB`.\n",
    "* We lowered the memory usage by almost **38%**."
   ]
  },
  {
   "cell_type": "markdown",
   "id": "51493419",
   "metadata": {
    "papermill": {
     "duration": 0.010927,
     "end_time": "2022-09-23T13:58:33.600995",
     "exception": false,
     "start_time": "2022-09-23T13:58:33.590068",
     "status": "completed"
    },
    "tags": []
   },
   "source": [
    "<div id=\"exploratory-data-analysis\"\n",
    "     style = \"display: fill;\n",
    "              border-radius: 10px;\n",
    "              background-color: #E50914;\">\n",
    "    <h2 style = \"padding: 15px; \n",
    "                 color: White;\n",
    "                 text-align: left;\n",
    "                 font-family: Trebuchet MS;\">4. Exploratory Data Analysis\n",
    "    </h2>\n",
    "</div>"
   ]
  }
 ],
 "metadata": {
  "kernelspec": {
   "display_name": "Python 3",
   "language": "python",
   "name": "python3"
  },
  "language_info": {
   "codemirror_mode": {
    "name": "ipython",
    "version": 3
   },
   "file_extension": ".py",
   "mimetype": "text/x-python",
   "name": "python",
   "nbconvert_exporter": "python",
   "pygments_lexer": "ipython3",
   "version": "3.7.12"
  },
  "papermill": {
   "default_parameters": {},
   "duration": 13.936538,
   "end_time": "2022-09-23T13:58:34.335630",
   "environment_variables": {},
   "exception": null,
   "input_path": "__notebook__.ipynb",
   "output_path": "__notebook__.ipynb",
   "parameters": {},
   "start_time": "2022-09-23T13:58:20.399092",
   "version": "2.3.4"
  }
 },
 "nbformat": 4,
 "nbformat_minor": 5
}
