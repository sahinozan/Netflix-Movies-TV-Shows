{
 "cells": [
  {
   "cell_type": "markdown",
   "id": "f93140db",
   "metadata": {
    "papermill": {
     "duration": 0.004534,
     "end_time": "2022-09-23T10:13:36.594146",
     "exception": false,
     "start_time": "2022-09-23T10:13:36.589612",
     "status": "completed"
    },
    "tags": []
   },
   "source": [
    "<div style = \"display: fill;\n",
    "              border-radius: 10px;\n",
    "              background-color: #E50914;\">\n",
    "    <h1 style = \"padding: 15px; \n",
    "                 color: White;\n",
    "                 text-align:center;\n",
    "                 font-family: Trebuchet MS;\">Netflix Movies and TV Shows\n",
    "    </h1>\n",
    "</div>\n",
    "\n",
    "<div align=\"center\"> \n",
    "    <img src=\"https://content.api.news/v3/images/bin/3fcf3cdcc2cfd6905e582a186e46e584\" alt=\"Netflix\" width=\"75%\" style=\"margin-top:2rem;margin-bottom:2rem\">\n",
    "</div>\n",
    "\n",
    "<div>\n",
    "    <p>Netflix is one of the most popular media and video streaming platforms. They have over 8000 movies or tv shows available on their platform, as of mid-2021, they have over 200M Subscribers globally.</p>\n",
    "</div>\n",
    "\n",
    "<div>\n",
    "    <p>Analysis ideas:</p>\n",
    "    <ul>\n",
    "        <li><p>Understanding what content is available in different countries</p>\n",
    "        <li><p>Identifying similar content by matching text-based features</p>\n",
    "        <li><p>Network analysis of Actors / Directors and find interesting insights</p>\n",
    "        <li><p>Does Netflix has more focus on TV Shows than movies in recent years.</p>\n",
    "    </ul>\n",
    "</div>"
   ]
  },
  {
   "cell_type": "markdown",
   "id": "d2dccba6",
   "metadata": {
    "papermill": {
     "duration": 0.002899,
     "end_time": "2022-09-23T10:13:36.600607",
     "exception": false,
     "start_time": "2022-09-23T10:13:36.597708",
     "status": "completed"
    },
    "tags": []
   },
   "source": [
    "<div style = \"display: fill;\n",
    "              border-radius: 10px;\n",
    "              background-color: #E50914;\">\n",
    "    <h2 style = \"padding: 15px; \n",
    "                 color: White;\n",
    "                 text-align: left;\n",
    "                 font-family: Trebuchet MS;\">Table of Contents\n",
    "    </h2>\n",
    "</div>\n",
    "\n",
    "* [<span style=\"font-family: Trebuchet MS; font-size:15px;\">1. Imports</span>](#imports)\n",
    "* [<span style=\"font-family: Trebuchet MS; font-size:15px;\">2. Loading the Dataset</span>](#loading-the-dataset)\n",
    "* [<span style=\"font-family: Trebuchet MS; font-size:15px;\">3. Understanding the Data</span>](#understanding-the-data)\n",
    "    * [<span style=\"font-family: Trebuchet MS; font-size:15px;\">3.1 Checking Null Values</span>](#checking-null-values)\n"
   ]
  },
  {
   "cell_type": "markdown",
   "id": "df1f9c4c",
   "metadata": {
    "papermill": {
     "duration": 0.002894,
     "end_time": "2022-09-23T10:13:36.606605",
     "exception": false,
     "start_time": "2022-09-23T10:13:36.603711",
     "status": "completed"
    },
    "tags": []
   },
   "source": [
    "<div id=\"imports\"\n",
    "     style = \"display: fill;\n",
    "              border-radius: 10px;\n",
    "              background-color: #E50914;\">\n",
    "    <h2 style = \"padding: 15px; \n",
    "                 color: White;\n",
    "                 text-align: left;\n",
    "                 font-family: Trebuchet MS;\">1. Imports\n",
    "    </h2>\n",
    "</div>"
   ]
  },
  {
   "cell_type": "code",
   "execution_count": 1,
   "id": "0bdb648f",
   "metadata": {
    "_cell_guid": "b1076dfc-b9ad-4769-8c92-a6c4dae69d19",
    "_uuid": "8f2839f25d086af736a60e9eeb907d3b93b6e0e5",
    "execution": {
     "iopub.execute_input": "2022-09-23T10:13:36.615422Z",
     "iopub.status.busy": "2022-09-23T10:13:36.614884Z",
     "iopub.status.idle": "2022-09-23T10:13:38.197009Z",
     "shell.execute_reply": "2022-09-23T10:13:38.195512Z"
    },
    "papermill": {
     "duration": 1.590515,
     "end_time": "2022-09-23T10:13:38.200130",
     "exception": false,
     "start_time": "2022-09-23T10:13:36.609615",
     "status": "completed"
    },
    "tags": []
   },
   "outputs": [],
   "source": [
    "%%capture\n",
    "import numpy as np\n",
    "import pandas as pd\n",
    "import plotly.express as px"
   ]
  },
  {
   "cell_type": "markdown",
   "id": "adf7fefb",
   "metadata": {
    "papermill": {
     "duration": 0.002887,
     "end_time": "2022-09-23T10:13:38.206266",
     "exception": false,
     "start_time": "2022-09-23T10:13:38.203379",
     "status": "completed"
    },
    "tags": []
   },
   "source": [
    "<div id=\"loading-the-dataset\"\n",
    "     style = \"display: fill;\n",
    "              border-radius: 10px;\n",
    "              background-color: #E50914;\">\n",
    "    <h2 style = \"padding: 15px; \n",
    "                 color: White;\n",
    "                 text-align: left;\n",
    "                 font-family: Trebuchet MS;\">2. Loading the Dataset\n",
    "    </h2>\n",
    "</div>"
   ]
  },
  {
   "cell_type": "code",
   "execution_count": 2,
   "id": "c7d4f605",
   "metadata": {
    "execution": {
     "iopub.execute_input": "2022-09-23T10:13:38.214406Z",
     "iopub.status.busy": "2022-09-23T10:13:38.213941Z",
     "iopub.status.idle": "2022-09-23T10:13:38.987585Z",
     "shell.execute_reply": "2022-09-23T10:13:38.986228Z"
    },
    "papermill": {
     "duration": 0.781598,
     "end_time": "2022-09-23T10:13:38.990899",
     "exception": false,
     "start_time": "2022-09-23T10:13:38.209301",
     "status": "completed"
    },
    "tags": []
   },
   "outputs": [
    {
     "data": {
      "text/html": [
       "<div>\n",
       "<style scoped>\n",
       "    .dataframe tbody tr th:only-of-type {\n",
       "        vertical-align: middle;\n",
       "    }\n",
       "\n",
       "    .dataframe tbody tr th {\n",
       "        vertical-align: top;\n",
       "    }\n",
       "\n",
       "    .dataframe thead th {\n",
       "        text-align: right;\n",
       "    }\n",
       "</style>\n",
       "<table border=\"1\" class=\"dataframe\">\n",
       "  <thead>\n",
       "    <tr style=\"text-align: right;\">\n",
       "      <th></th>\n",
       "      <th>show_id</th>\n",
       "      <th>type</th>\n",
       "      <th>title</th>\n",
       "      <th>director</th>\n",
       "      <th>cast</th>\n",
       "      <th>country</th>\n",
       "      <th>date_added</th>\n",
       "      <th>release_year</th>\n",
       "      <th>rating</th>\n",
       "      <th>duration</th>\n",
       "      <th>listed_in</th>\n",
       "      <th>description</th>\n",
       "    </tr>\n",
       "  </thead>\n",
       "  <tbody>\n",
       "    <tr>\n",
       "      <th>0</th>\n",
       "      <td>s1</td>\n",
       "      <td>Movie</td>\n",
       "      <td>Dick Johnson Is Dead</td>\n",
       "      <td>Kirsten Johnson</td>\n",
       "      <td>NaN</td>\n",
       "      <td>United States</td>\n",
       "      <td>September 25, 2021</td>\n",
       "      <td>2020</td>\n",
       "      <td>PG-13</td>\n",
       "      <td>90 min</td>\n",
       "      <td>Documentaries</td>\n",
       "      <td>As her father nears the end of his life, filmm...</td>\n",
       "    </tr>\n",
       "    <tr>\n",
       "      <th>1</th>\n",
       "      <td>s2</td>\n",
       "      <td>TV Show</td>\n",
       "      <td>Blood &amp; Water</td>\n",
       "      <td>NaN</td>\n",
       "      <td>Ama Qamata, Khosi Ngema, Gail Mabalane, Thaban...</td>\n",
       "      <td>South Africa</td>\n",
       "      <td>September 24, 2021</td>\n",
       "      <td>2021</td>\n",
       "      <td>TV-MA</td>\n",
       "      <td>2 Seasons</td>\n",
       "      <td>International TV Shows, TV Dramas, TV Mysteries</td>\n",
       "      <td>After crossing paths at a party, a Cape Town t...</td>\n",
       "    </tr>\n",
       "    <tr>\n",
       "      <th>2</th>\n",
       "      <td>s3</td>\n",
       "      <td>TV Show</td>\n",
       "      <td>Ganglands</td>\n",
       "      <td>Julien Leclercq</td>\n",
       "      <td>Sami Bouajila, Tracy Gotoas, Samuel Jouy, Nabi...</td>\n",
       "      <td>NaN</td>\n",
       "      <td>September 24, 2021</td>\n",
       "      <td>2021</td>\n",
       "      <td>TV-MA</td>\n",
       "      <td>1 Season</td>\n",
       "      <td>Crime TV Shows, International TV Shows, TV Act...</td>\n",
       "      <td>To protect his family from a powerful drug lor...</td>\n",
       "    </tr>\n",
       "    <tr>\n",
       "      <th>3</th>\n",
       "      <td>s4</td>\n",
       "      <td>TV Show</td>\n",
       "      <td>Jailbirds New Orleans</td>\n",
       "      <td>NaN</td>\n",
       "      <td>NaN</td>\n",
       "      <td>NaN</td>\n",
       "      <td>September 24, 2021</td>\n",
       "      <td>2021</td>\n",
       "      <td>TV-MA</td>\n",
       "      <td>1 Season</td>\n",
       "      <td>Docuseries, Reality TV</td>\n",
       "      <td>Feuds, flirtations and toilet talk go down amo...</td>\n",
       "    </tr>\n",
       "    <tr>\n",
       "      <th>4</th>\n",
       "      <td>s5</td>\n",
       "      <td>TV Show</td>\n",
       "      <td>Kota Factory</td>\n",
       "      <td>NaN</td>\n",
       "      <td>Mayur More, Jitendra Kumar, Ranjan Raj, Alam K...</td>\n",
       "      <td>India</td>\n",
       "      <td>September 24, 2021</td>\n",
       "      <td>2021</td>\n",
       "      <td>TV-MA</td>\n",
       "      <td>2 Seasons</td>\n",
       "      <td>International TV Shows, Romantic TV Shows, TV ...</td>\n",
       "      <td>In a city of coaching centers known to train I...</td>\n",
       "    </tr>\n",
       "  </tbody>\n",
       "</table>\n",
       "</div>"
      ],
      "text/plain": [
       "  show_id     type                  title         director  \\\n",
       "0      s1    Movie   Dick Johnson Is Dead  Kirsten Johnson   \n",
       "1      s2  TV Show          Blood & Water              NaN   \n",
       "2      s3  TV Show              Ganglands  Julien Leclercq   \n",
       "3      s4  TV Show  Jailbirds New Orleans              NaN   \n",
       "4      s5  TV Show           Kota Factory              NaN   \n",
       "\n",
       "                                                cast        country  \\\n",
       "0                                                NaN  United States   \n",
       "1  Ama Qamata, Khosi Ngema, Gail Mabalane, Thaban...   South Africa   \n",
       "2  Sami Bouajila, Tracy Gotoas, Samuel Jouy, Nabi...            NaN   \n",
       "3                                                NaN            NaN   \n",
       "4  Mayur More, Jitendra Kumar, Ranjan Raj, Alam K...          India   \n",
       "\n",
       "           date_added  release_year rating   duration  \\\n",
       "0  September 25, 2021          2020  PG-13     90 min   \n",
       "1  September 24, 2021          2021  TV-MA  2 Seasons   \n",
       "2  September 24, 2021          2021  TV-MA   1 Season   \n",
       "3  September 24, 2021          2021  TV-MA   1 Season   \n",
       "4  September 24, 2021          2021  TV-MA  2 Seasons   \n",
       "\n",
       "                                           listed_in  \\\n",
       "0                                      Documentaries   \n",
       "1    International TV Shows, TV Dramas, TV Mysteries   \n",
       "2  Crime TV Shows, International TV Shows, TV Act...   \n",
       "3                             Docuseries, Reality TV   \n",
       "4  International TV Shows, Romantic TV Shows, TV ...   \n",
       "\n",
       "                                         description  \n",
       "0  As her father nears the end of his life, filmm...  \n",
       "1  After crossing paths at a party, a Cape Town t...  \n",
       "2  To protect his family from a powerful drug lor...  \n",
       "3  Feuds, flirtations and toilet talk go down amo...  \n",
       "4  In a city of coaching centers known to train I...  "
      ]
     },
     "execution_count": 2,
     "metadata": {},
     "output_type": "execute_result"
    }
   ],
   "source": [
    "df = pd.read_csv(\"https://raw.githubusercontent.com/sahinozan/Netflix-Movies-TV-Shows/main/netflix_titles.csv\", encoding=\"utf-8\")\n",
    "df.head()"
   ]
  },
  {
   "cell_type": "code",
   "execution_count": 3,
   "id": "ac75d224",
   "metadata": {
    "execution": {
     "iopub.execute_input": "2022-09-23T10:13:39.000472Z",
     "iopub.status.busy": "2022-09-23T10:13:39.000075Z",
     "iopub.status.idle": "2022-09-23T10:13:39.032393Z",
     "shell.execute_reply": "2022-09-23T10:13:39.031493Z"
    },
    "papermill": {
     "duration": 0.040585,
     "end_time": "2022-09-23T10:13:39.035453",
     "exception": false,
     "start_time": "2022-09-23T10:13:38.994868",
     "status": "completed"
    },
    "tags": []
   },
   "outputs": [
    {
     "name": "stdout",
     "output_type": "stream",
     "text": [
      "<class 'pandas.core.frame.DataFrame'>\n",
      "RangeIndex: 8807 entries, 0 to 8806\n",
      "Data columns (total 12 columns):\n",
      " #   Column        Non-Null Count  Dtype \n",
      "---  ------        --------------  ----- \n",
      " 0   show_id       8807 non-null   object\n",
      " 1   type          8807 non-null   object\n",
      " 2   title         8807 non-null   object\n",
      " 3   director      6173 non-null   object\n",
      " 4   cast          7982 non-null   object\n",
      " 5   country       7976 non-null   object\n",
      " 6   date_added    8797 non-null   object\n",
      " 7   release_year  8807 non-null   int64 \n",
      " 8   rating        8803 non-null   object\n",
      " 9   duration      8804 non-null   object\n",
      " 10  listed_in     8807 non-null   object\n",
      " 11  description   8807 non-null   object\n",
      "dtypes: int64(1), object(11)\n",
      "memory usage: 825.8+ KB\n"
     ]
    }
   ],
   "source": [
    "df.info()"
   ]
  },
  {
   "cell_type": "markdown",
   "id": "d2ebfd26",
   "metadata": {
    "papermill": {
     "duration": 0.003634,
     "end_time": "2022-09-23T10:13:39.043881",
     "exception": false,
     "start_time": "2022-09-23T10:13:39.040247",
     "status": "completed"
    },
    "tags": []
   },
   "source": [
    "<div id=\"understanding-the-data\"\n",
    "     style = \"display: fill;\n",
    "              border-radius: 10px;\n",
    "              background-color: #E50914;\">\n",
    "    <h2 style = \"padding: 15px; \n",
    "                 color: White;\n",
    "                 text-align: left;\n",
    "                 font-family: Trebuchet MS;\">3. Understanding the Data\n",
    "    </h2>\n",
    "</div>\n",
    "\n",
    "Dataset consists of 12 features.\n",
    "1. **show_id**: The unique id number for each show or movie\n",
    "    - s1\n",
    "    - s2\n",
    "    - s3\n",
    "    - ...\n",
    "2. **type**: Type of the content\n",
    "    - Movie\n",
    "    - TV Show\n",
    "3. **title**: Title of the content\n",
    "    - The Starling\n",
    "    - Squid Game\n",
    "    - Jaws: The Revenge\n",
    "    - ...\n",
    "4. **director**: Name of the director for that movie or show\n",
    "    - Steven Spielberg\n",
    "    - Cédric Jimenez\n",
    "    - Hirotsugu Kawasaki\n",
    "    - ...\n",
    "5. **cast**: Names of the cast for that movie or show \n",
    "    - Ama Qamata, Khosi Ngema, Gail Mabalane, Thabang Molaba, Dillon Windvogel, Natasha Thahane...\n",
    "    - Antti Pääkkönen, Heljä Heikkinen, Lynne Guaglione, Pasi Ruohonen, Rauno Ahonen...\n",
    "    - Luna Wedler, Jannis Niewöhner, Milan Peschel, Edin Hasanović...\n",
    "    - ...\n",
    "6. **country**: List of countries in which the content is available \n",
    "    - United States, South Africa, India...\n",
    "    - United States, United Kingdom, Canada, Germany...\n",
    "    - Canada, France, Japan, Russia...\n",
    "    - ...\n",
    "7. **data_added**: The date the content was added\n",
    "    - September 25, 2021\n",
    "    - September 22, 2021\n",
    "    - August 23, 2021\n",
    "    - ...\n",
    "8. **release_year**: Release year of the content\n",
    "    - 2020\n",
    "    - 2014\n",
    "    - 2006\n",
    "    - ...\n",
    "9. **rating**: Motion picture content rating \n",
    "    - PG-13\n",
    "    - TV-14\n",
    "    - R\n",
    "    - ...\n",
    "10. **duration**: Total duration of the content\n",
    "    - 90 min\n",
    "    - 2 seasons\n",
    "    - 48 min\n",
    "    - ...\n",
    "11. **listed_in**: List of categories where content is listed\n",
    "    - Documentaries, International TV Shows, TV Dramas, TV Mysteries...\n",
    "    - Comedies, Dramas, International Movies...\n",
    "    - Documentaries, TV Dramas, Comedies...\n",
    "    - ...\n",
    "12. **description**: Short description about the content\n",
    "    - As her father nears the end of his life, filmmaker Kirsten Johnson stages his death in inventive and comical ways to help them both face the inevitable\n",
    "    - After crossing paths at a party, a Cape Town teen sets out to prove whether a private-school swimming star is her sister who was abducted at birth\n",
    "    - Tayo speeds into an adventure when his friends get kidnapped by evil magicians invading their city in search of a magical gemstone\n",
    "    - ..."
   ]
  },
  {
   "cell_type": "markdown",
   "id": "84f3c0eb",
   "metadata": {
    "papermill": {
     "duration": 0.00354,
     "end_time": "2022-09-23T10:13:39.051172",
     "exception": false,
     "start_time": "2022-09-23T10:13:39.047632",
     "status": "completed"
    },
    "tags": []
   },
   "source": [
    "<div id=\"checking-null-values\"\n",
    "     style = \"display: fill;\n",
    "              border-radius: 10px;\n",
    "              background-color: #E50914;\">\n",
    "    <h3 style = \"padding: 15px; \n",
    "                 color: White;\n",
    "                 text-align: left;\n",
    "                 font-family: Trebuchet MS;\">3.1 Checking Null Values\n",
    "    </h3>\n",
    "</div>\n",
    "\n",
    "<p>Let's first check if there are any null values in the dataset</p>"
   ]
  },
  {
   "cell_type": "code",
   "execution_count": 4,
   "id": "cea70486",
   "metadata": {
    "execution": {
     "iopub.execute_input": "2022-09-23T10:13:39.060723Z",
     "iopub.status.busy": "2022-09-23T10:13:39.060130Z",
     "iopub.status.idle": "2022-09-23T10:13:39.073837Z",
     "shell.execute_reply": "2022-09-23T10:13:39.072832Z"
    },
    "papermill": {
     "duration": 0.021408,
     "end_time": "2022-09-23T10:13:39.076227",
     "exception": false,
     "start_time": "2022-09-23T10:13:39.054819",
     "status": "completed"
    },
    "tags": []
   },
   "outputs": [
    {
     "data": {
      "text/plain": [
       "director        2634\n",
       "country          831\n",
       "cast             825\n",
       "date_added        10\n",
       "rating             4\n",
       "duration           3\n",
       "show_id            0\n",
       "type               0\n",
       "title              0\n",
       "release_year       0\n",
       "listed_in          0\n",
       "description        0\n",
       "dtype: int64"
      ]
     },
     "execution_count": 4,
     "metadata": {},
     "output_type": "execute_result"
    }
   ],
   "source": [
    "df.isna().sum().sort_values(ascending=False)"
   ]
  },
  {
   "cell_type": "markdown",
   "id": "fa2da3e0",
   "metadata": {
    "papermill": {
     "duration": 0.003741,
     "end_time": "2022-09-23T10:13:39.084089",
     "exception": false,
     "start_time": "2022-09-23T10:13:39.080348",
     "status": "completed"
    },
    "tags": []
   },
   "source": [
    "* There are small amount of null values in the **date_added**, **rating**, **duration** columns. \n",
    "* Meanwhile, there are large amount of null values in the **country**, **cast**, **director** columns."
   ]
  }
 ],
 "metadata": {
  "kernelspec": {
   "display_name": "Python 3",
   "language": "python",
   "name": "python3"
  },
  "language_info": {
   "codemirror_mode": {
    "name": "ipython",
    "version": 3
   },
   "file_extension": ".py",
   "mimetype": "text/x-python",
   "name": "python",
   "nbconvert_exporter": "python",
   "pygments_lexer": "ipython3",
   "version": "3.7.12"
  },
  "papermill": {
   "default_parameters": {},
   "duration": 12.843432,
   "end_time": "2022-09-23T10:13:39.811100",
   "environment_variables": {},
   "exception": null,
   "input_path": "__notebook__.ipynb",
   "output_path": "__notebook__.ipynb",
   "parameters": {},
   "start_time": "2022-09-23T10:13:26.967668",
   "version": "2.3.4"
  }
 },
 "nbformat": 4,
 "nbformat_minor": 5
}
