{
 "cells": [
  {
   "cell_type": "markdown",
   "id": "16d99480",
   "metadata": {
    "papermill": {
     "duration": 0.012208,
     "end_time": "2022-09-23T20:10:59.286097",
     "exception": false,
     "start_time": "2022-09-23T20:10:59.273889",
     "status": "completed"
    },
    "tags": []
   },
   "source": [
    "<div style = \"display: fill;\n",
    "              border-radius: 10px;\n",
    "              background-color: #E50914;\">\n",
    "    <h1 style = \"padding: 15px; \n",
    "                 color: White;\n",
    "                 text-align:center;\n",
    "                 font-family: Trebuchet MS;\">Netflix Movies and TV Shows\n",
    "    </h1>\n",
    "</div>\n",
    "\n",
    "<div align=\"center\"> \n",
    "    <img src=\"https://content.api.news/v3/images/bin/3fcf3cdcc2cfd6905e582a186e46e584\" alt=\"Netflix\" width=\"75%\" style=\"margin-top:2rem;margin-bottom:2rem\">\n",
    "</div>\n",
    "\n",
    "<body>\n",
    "    <div style=\"background-color: #FF6A74;\n",
    "                border: 2px solid;\n",
    "                border-radius: 10px;\n",
    "                padding-top: 10px;\n",
    "                padding-bottom: 10px;\n",
    "                padding-right: 20px;\n",
    "                padding-left: 20px;\n",
    "                border-color: #FF1100;\"> \n",
    "        <p></p>\n",
    "        <p style=\"font-family:verdana;\">Netflix is one of the most popular media and video streaming platforms. They have over 8000 movies or tv shows available on their platform, as of mid-2021, they have over 200M Subscribers globally.</p>\n",
    "    </div>\n",
    "</body>"
   ]
  },
  {
   "cell_type": "markdown",
   "id": "02d6a74c",
   "metadata": {
    "papermill": {
     "duration": 0.009615,
     "end_time": "2022-09-23T20:10:59.306057",
     "exception": false,
     "start_time": "2022-09-23T20:10:59.296442",
     "status": "completed"
    },
    "tags": []
   },
   "source": [
    "<div style = \"display: fill;\n",
    "              border-radius: 10px;\n",
    "              background-color: #E50914;\">\n",
    "    <h2 style = \"padding: 15px; \n",
    "                 color: White;\n",
    "                 text-align: left;\n",
    "                 font-family: Trebuchet MS;\">Table of Contents\n",
    "    </h2>\n",
    "</div>\n",
    "\n",
    "* [<span style=\"font-family: Trebuchet MS; font-size:15px;\">1. Imports</span>](#imports)\n",
    "* [<span style=\"font-family: Trebuchet MS; font-size:15px;\">2. Loading the Dataset</span>](#loading-the-dataset)\n",
    "* [<span style=\"font-family: Trebuchet MS; font-size:15px;\">3. Understanding the Data</span>](#understanding-the-data)\n",
    "    * [<span style=\"font-family: Trebuchet MS; font-size:15px;\">3.1 Checking Null Values</span>](#checking-null-values)\n",
    "    * [<span style=\"font-family: Trebuchet MS; font-size:15px;\">3.2 Optimizing the Dataset</span>](#optimizing-the-dataset)\n",
    "* [<span style=\"font-family: Trebuchet MS; font-size:15px;\">4. Exploratory Data Analysis</span>](#exploratory-data-analysis)\n"
   ]
  },
  {
   "cell_type": "markdown",
   "id": "ca3f115d",
   "metadata": {
    "papermill": {
     "duration": 0.009694,
     "end_time": "2022-09-23T20:10:59.325673",
     "exception": false,
     "start_time": "2022-09-23T20:10:59.315979",
     "status": "completed"
    },
    "tags": []
   },
   "source": [
    "<div id=\"imports\"\n",
    "     style = \"display: fill;\n",
    "              border-radius: 10px;\n",
    "              background-color: #E50914;\">\n",
    "    <h2 style = \"padding: 15px; \n",
    "                 color: White;\n",
    "                 text-align: left;\n",
    "                 font-family: Trebuchet MS;\">1. Imports\n",
    "    </h2>\n",
    "</div>"
   ]
  },
  {
   "cell_type": "code",
   "execution_count": 1,
   "id": "7bfc5cbd",
   "metadata": {
    "_cell_guid": "b1076dfc-b9ad-4769-8c92-a6c4dae69d19",
    "_uuid": "8f2839f25d086af736a60e9eeb907d3b93b6e0e5",
    "execution": {
     "iopub.execute_input": "2022-09-23T20:10:59.350280Z",
     "iopub.status.busy": "2022-09-23T20:10:59.349464Z",
     "iopub.status.idle": "2022-09-23T20:11:00.899516Z",
     "shell.execute_reply": "2022-09-23T20:11:00.898534Z"
    },
    "papermill": {
     "duration": 1.564898,
     "end_time": "2022-09-23T20:11:00.902242",
     "exception": false,
     "start_time": "2022-09-23T20:10:59.337344",
     "status": "completed"
    },
    "tags": []
   },
   "outputs": [],
   "source": [
    "%%capture\n",
    "import numpy as np\n",
    "import pandas as pd\n",
    "import plotly.express as px"
   ]
  },
  {
   "cell_type": "markdown",
   "id": "c093ea84",
   "metadata": {
    "papermill": {
     "duration": 0.00992,
     "end_time": "2022-09-23T20:11:00.922674",
     "exception": false,
     "start_time": "2022-09-23T20:11:00.912754",
     "status": "completed"
    },
    "tags": []
   },
   "source": [
    "<div id=\"loading-the-dataset\"\n",
    "     style = \"display: fill;\n",
    "              border-radius: 10px;\n",
    "              background-color: #E50914;\">\n",
    "    <h2 style = \"padding: 15px; \n",
    "                 color: White;\n",
    "                 text-align: left;\n",
    "                 font-family: Trebuchet MS;\">2. Loading the Dataset\n",
    "    </h2>\n",
    "</div>"
   ]
  },
  {
   "cell_type": "code",
   "execution_count": 2,
   "id": "52f334ed",
   "metadata": {
    "execution": {
     "iopub.execute_input": "2022-09-23T20:11:00.945427Z",
     "iopub.status.busy": "2022-09-23T20:11:00.944968Z",
     "iopub.status.idle": "2022-09-23T20:11:01.488591Z",
     "shell.execute_reply": "2022-09-23T20:11:01.487457Z"
    },
    "papermill": {
     "duration": 0.558364,
     "end_time": "2022-09-23T20:11:01.491453",
     "exception": false,
     "start_time": "2022-09-23T20:11:00.933089",
     "status": "completed"
    },
    "tags": []
   },
   "outputs": [
    {
     "data": {
      "text/html": [
       "<div>\n",
       "<style scoped>\n",
       "    .dataframe tbody tr th:only-of-type {\n",
       "        vertical-align: middle;\n",
       "    }\n",
       "\n",
       "    .dataframe tbody tr th {\n",
       "        vertical-align: top;\n",
       "    }\n",
       "\n",
       "    .dataframe thead th {\n",
       "        text-align: right;\n",
       "    }\n",
       "</style>\n",
       "<table border=\"1\" class=\"dataframe\">\n",
       "  <thead>\n",
       "    <tr style=\"text-align: right;\">\n",
       "      <th></th>\n",
       "      <th>show_id</th>\n",
       "      <th>type</th>\n",
       "      <th>title</th>\n",
       "      <th>director</th>\n",
       "      <th>cast</th>\n",
       "      <th>country</th>\n",
       "      <th>date_added</th>\n",
       "      <th>release_year</th>\n",
       "      <th>rating</th>\n",
       "      <th>duration</th>\n",
       "      <th>listed_in</th>\n",
       "      <th>description</th>\n",
       "    </tr>\n",
       "  </thead>\n",
       "  <tbody>\n",
       "    <tr>\n",
       "      <th>0</th>\n",
       "      <td>s1</td>\n",
       "      <td>Movie</td>\n",
       "      <td>Dick Johnson Is Dead</td>\n",
       "      <td>Kirsten Johnson</td>\n",
       "      <td>NaN</td>\n",
       "      <td>United States</td>\n",
       "      <td>September 25, 2021</td>\n",
       "      <td>2020</td>\n",
       "      <td>PG-13</td>\n",
       "      <td>90 min</td>\n",
       "      <td>Documentaries</td>\n",
       "      <td>As her father nears the end of his life, filmm...</td>\n",
       "    </tr>\n",
       "    <tr>\n",
       "      <th>1</th>\n",
       "      <td>s2</td>\n",
       "      <td>TV Show</td>\n",
       "      <td>Blood &amp; Water</td>\n",
       "      <td>NaN</td>\n",
       "      <td>Ama Qamata, Khosi Ngema, Gail Mabalane, Thaban...</td>\n",
       "      <td>South Africa</td>\n",
       "      <td>September 24, 2021</td>\n",
       "      <td>2021</td>\n",
       "      <td>TV-MA</td>\n",
       "      <td>2 Seasons</td>\n",
       "      <td>International TV Shows, TV Dramas, TV Mysteries</td>\n",
       "      <td>After crossing paths at a party, a Cape Town t...</td>\n",
       "    </tr>\n",
       "    <tr>\n",
       "      <th>2</th>\n",
       "      <td>s3</td>\n",
       "      <td>TV Show</td>\n",
       "      <td>Ganglands</td>\n",
       "      <td>Julien Leclercq</td>\n",
       "      <td>Sami Bouajila, Tracy Gotoas, Samuel Jouy, Nabi...</td>\n",
       "      <td>NaN</td>\n",
       "      <td>September 24, 2021</td>\n",
       "      <td>2021</td>\n",
       "      <td>TV-MA</td>\n",
       "      <td>1 Season</td>\n",
       "      <td>Crime TV Shows, International TV Shows, TV Act...</td>\n",
       "      <td>To protect his family from a powerful drug lor...</td>\n",
       "    </tr>\n",
       "    <tr>\n",
       "      <th>3</th>\n",
       "      <td>s4</td>\n",
       "      <td>TV Show</td>\n",
       "      <td>Jailbirds New Orleans</td>\n",
       "      <td>NaN</td>\n",
       "      <td>NaN</td>\n",
       "      <td>NaN</td>\n",
       "      <td>September 24, 2021</td>\n",
       "      <td>2021</td>\n",
       "      <td>TV-MA</td>\n",
       "      <td>1 Season</td>\n",
       "      <td>Docuseries, Reality TV</td>\n",
       "      <td>Feuds, flirtations and toilet talk go down amo...</td>\n",
       "    </tr>\n",
       "    <tr>\n",
       "      <th>4</th>\n",
       "      <td>s5</td>\n",
       "      <td>TV Show</td>\n",
       "      <td>Kota Factory</td>\n",
       "      <td>NaN</td>\n",
       "      <td>Mayur More, Jitendra Kumar, Ranjan Raj, Alam K...</td>\n",
       "      <td>India</td>\n",
       "      <td>September 24, 2021</td>\n",
       "      <td>2021</td>\n",
       "      <td>TV-MA</td>\n",
       "      <td>2 Seasons</td>\n",
       "      <td>International TV Shows, Romantic TV Shows, TV ...</td>\n",
       "      <td>In a city of coaching centers known to train I...</td>\n",
       "    </tr>\n",
       "  </tbody>\n",
       "</table>\n",
       "</div>"
      ],
      "text/plain": [
       "  show_id     type                  title         director  \\\n",
       "0      s1    Movie   Dick Johnson Is Dead  Kirsten Johnson   \n",
       "1      s2  TV Show          Blood & Water              NaN   \n",
       "2      s3  TV Show              Ganglands  Julien Leclercq   \n",
       "3      s4  TV Show  Jailbirds New Orleans              NaN   \n",
       "4      s5  TV Show           Kota Factory              NaN   \n",
       "\n",
       "                                                cast        country  \\\n",
       "0                                                NaN  United States   \n",
       "1  Ama Qamata, Khosi Ngema, Gail Mabalane, Thaban...   South Africa   \n",
       "2  Sami Bouajila, Tracy Gotoas, Samuel Jouy, Nabi...            NaN   \n",
       "3                                                NaN            NaN   \n",
       "4  Mayur More, Jitendra Kumar, Ranjan Raj, Alam K...          India   \n",
       "\n",
       "           date_added  release_year rating   duration  \\\n",
       "0  September 25, 2021          2020  PG-13     90 min   \n",
       "1  September 24, 2021          2021  TV-MA  2 Seasons   \n",
       "2  September 24, 2021          2021  TV-MA   1 Season   \n",
       "3  September 24, 2021          2021  TV-MA   1 Season   \n",
       "4  September 24, 2021          2021  TV-MA  2 Seasons   \n",
       "\n",
       "                                           listed_in  \\\n",
       "0                                      Documentaries   \n",
       "1    International TV Shows, TV Dramas, TV Mysteries   \n",
       "2  Crime TV Shows, International TV Shows, TV Act...   \n",
       "3                             Docuseries, Reality TV   \n",
       "4  International TV Shows, Romantic TV Shows, TV ...   \n",
       "\n",
       "                                         description  \n",
       "0  As her father nears the end of his life, filmm...  \n",
       "1  After crossing paths at a party, a Cape Town t...  \n",
       "2  To protect his family from a powerful drug lor...  \n",
       "3  Feuds, flirtations and toilet talk go down amo...  \n",
       "4  In a city of coaching centers known to train I...  "
      ]
     },
     "execution_count": 2,
     "metadata": {},
     "output_type": "execute_result"
    }
   ],
   "source": [
    "df = pd.read_csv(\"https://raw.githubusercontent.com/sahinozan/Netflix-Movies-TV-Shows/main/netflix_titles.csv\", encoding=\"utf-8\")\n",
    "df.head()"
   ]
  },
  {
   "cell_type": "markdown",
   "id": "bbd7bd21",
   "metadata": {
    "papermill": {
     "duration": 0.010183,
     "end_time": "2022-09-23T20:11:01.512571",
     "exception": false,
     "start_time": "2022-09-23T20:11:01.502388",
     "status": "completed"
    },
    "tags": []
   },
   "source": [
    "<div id=\"understanding-the-data\"\n",
    "     style = \"display: fill;\n",
    "              border-radius: 10px;\n",
    "              background-color: #E50914;\">\n",
    "    <h2 style = \"padding: 15px; \n",
    "                 color: White;\n",
    "                 text-align: left;\n",
    "                 font-family: Trebuchet MS;\">3. Understanding the Data\n",
    "    </h2>\n",
    "</div>\n",
    "\n",
    "<body>\n",
    "    <div style=\"background-color: #FF6A74;\n",
    "                border: 2px solid;\n",
    "                border-radius: 10px;\n",
    "                padding-top: 10px;\n",
    "                padding-bottom: 10px;\n",
    "                padding-right: 20px;\n",
    "                padding-left: 20px;\n",
    "                border-color: #FF1100;\"> \n",
    "        <p style=\"font-family:verdana;\">Dataset consists of 12 features.</p>\n",
    "        <ol>\n",
    "            <li style=\"font-family:verdana;\"><b>show_id</b>: The unique id number of each show or movie\n",
    "                <ul>\n",
    "                    <li style=\"font-family:verdana;\">s1</li>\n",
    "                    <li style=\"font-family:verdana;\">s2</li>\n",
    "                    <li style=\"font-family:verdana;\">s3</li>\n",
    "                    <li style=\"font-family:verdana;\">...</li>\n",
    "                </ul>\n",
    "            </li>\n",
    "            <li style=\"font-family:verdana;\"><b>type</b>: Type of the content\n",
    "                <ul>\n",
    "                    <li style=\"font-family:verdana;\">Movie</li>\n",
    "                    <li style=\"font-family:verdana;\">TV Show</li>\n",
    "                </ul>\n",
    "            </li>\n",
    "            <li style=\"font-family:verdana;\"><b>title</b>: Title of the content\n",
    "                <ul>\n",
    "                    <li style=\"font-family:verdana;\">The Starling</li>\n",
    "                    <li style=\"font-family:verdana;\">Squid Game</li>\n",
    "                    <li style=\"font-family:verdana;\">Jaws: The Revenge</li>\n",
    "                    <li style=\"font-family:verdana;\">...</li>\n",
    "                </ul>\n",
    "            </li>\n",
    "            <li style=\"font-family:verdana;\"><b>director</b>: Name of the director for that movie or show\n",
    "                <ul>\n",
    "                    <li style=\"font-family:verdana;\">Steven Spielberg</li>\n",
    "                    <li style=\"font-family:verdana;\">Cédric Jimenez</li>\n",
    "                    <li style=\"font-family:verdana;\">Hirotsugu Kawasaki</li>\n",
    "                    <li style=\"font-family:verdana;\">...</li>\n",
    "                </ul>\n",
    "            </li>\n",
    "            <li style=\"font-family:verdana;\"><b>cast</b>: Names of the cast for that movie or show\n",
    "                <ul>\n",
    "                    <li style=\"font-family:verdana;\">Ama Qamata, Khosi Ngema, Gail Mabalane, Thabang Molaba, Dillon Windvogel, Natasha Thahane...</li>\n",
    "                    <li style=\"font-family:verdana;\">Antti Pääkkönen, Heljä Heikkinen, Lynne Guaglione, Pasi Ruohonen, Rauno Ahonen...</li>\n",
    "                    <li style=\"font-family:verdana;\">Luna Wedler, Jannis Niewöhner, Milan Peschel, Edin Hasanović...</li>\n",
    "                    <li style=\"font-family:verdana;\">...</li>\n",
    "                </ul>\n",
    "            </li>\n",
    "            <li style=\"font-family:verdana;\"><b>country</b>: List of countries in which the content is available\n",
    "                <ul>\n",
    "                    <li style=\"font-family:verdana;\">United States, South Africa, India...</li>\n",
    "                    <li style=\"font-family:verdana;\">United States, United Kingdom, Canada, Germany...</li>\n",
    "                    <li style=\"font-family:verdana;\">Canada, France, Japan, Russia...</li>\n",
    "                    <li style=\"font-family:verdana;\">...</li>\n",
    "                </ul>\n",
    "            </li>\n",
    "            <li style=\"font-family:verdana;\"><b>date_added</b>: The date the content was added\n",
    "                <ul>\n",
    "                    <li style=\"font-family:verdana;\">September 25, 2021</li>\n",
    "                    <li style=\"font-family:verdana;\">September 22, 2021</li>\n",
    "                    <li style=\"font-family:verdana;\">August 23, 2021</li>\n",
    "                    <li style=\"font-family:verdana;\">...</li>\n",
    "                </ul>\n",
    "            </li>\n",
    "            <li style=\"font-family:verdana;\"><b>release_year</b>: Release year of the content\n",
    "                <ul>\n",
    "                    <li style=\"font-family:verdana;\">2020</li>\n",
    "                    <li style=\"font-family:verdana;\">2014</li>\n",
    "                    <li style=\"font-family:verdana;\">2006</li>\n",
    "                    <li style=\"font-family:verdana;\">...</li>\n",
    "                </ul>\n",
    "            </li>\n",
    "            <li style=\"font-family:verdana;\"><b>rating</b>: Motion picture content rating\n",
    "                <ul>\n",
    "                    <li style=\"font-family:verdana;\">PG-13</li>\n",
    "                    <li style=\"font-family:verdana;\">TV-14</li>\n",
    "                    <li style=\"font-family:verdana;\">R</li>\n",
    "                    <li style=\"font-family:verdana;\">...</li>\n",
    "                </ul>\n",
    "            </li>\n",
    "            <li style=\"font-family:verdana;\"><b>duration</b>: Total duration of the content\n",
    "                <ul>\n",
    "                    <li style=\"font-family:verdana;\">90 min</li>\n",
    "                    <li style=\"font-family:verdana;\">2 seasons</li>\n",
    "                    <li style=\"font-family:verdana;\">48 min</li>\n",
    "                    <li style=\"font-family:verdana;\">...</li>\n",
    "                </ul>\n",
    "            </li>\n",
    "            <li style=\"font-family:verdana;\"><b>listed_in</b>: List of categories where content is listed\n",
    "                <ul>\n",
    "                    <li style=\"font-family:verdana;\">Documentaries, International TV Shows, TV Dramas, TV Mysteries...</li>\n",
    "                    <li style=\"font-family:verdana;\">Comedies, Dramas, International Movies...</li>\n",
    "                    <li style=\"font-family:verdana;\">Documentaries, TV Dramas, Comedies...</li>\n",
    "                    <li style=\"font-family:verdana;\">...</li>\n",
    "                </ul>\n",
    "            </li>\n",
    "            <li style=\"font-family:verdana;\"><b>description</b>: Short description about the content\n",
    "                <ul>\n",
    "                    <li style=\"font-family:verdana;\">As her father nears the end of his life, filmmaker Kirsten Johnson stages his death in inventive and comical ways to help them both face the inevitable</li>\n",
    "                    <li style=\"font-family:verdana;\">After crossing paths at a party, a Cape Town teen sets out to prove whether a private-school swimming star is her sister who was abducted at birth</li>\n",
    "                    <li style=\"font-family:verdana;\">Tayo speeds into an adventure when his friends get kidnapped by evil magicians invading their city in search of a magical gemstone</li>\n",
    "                    <li style=\"font-family:verdana;\">...</li>\n",
    "                </ul>\n",
    "            </li>\n",
    "        </ol>\n",
    "    </div>\n",
    "</body>"
   ]
  },
  {
   "cell_type": "markdown",
   "id": "5a1aa08f",
   "metadata": {
    "papermill": {
     "duration": 0.010291,
     "end_time": "2022-09-23T20:11:01.533696",
     "exception": false,
     "start_time": "2022-09-23T20:11:01.523405",
     "status": "completed"
    },
    "tags": []
   },
   "source": [
    "<div id=\"checking-null-values\"\n",
    "     style = \"display: fill;\n",
    "              border-radius: 10px;\n",
    "              background-color: #E50914;\">\n",
    "    <h3 style = \"padding: 15px; \n",
    "                 color: White;\n",
    "                 text-align: left;\n",
    "                 font-family: Trebuchet MS;\">3.1 Checking Null Values\n",
    "    </h3>\n",
    "</div>\n",
    "\n",
    "<body>\n",
    "    <div style=\"background-color: #FF6A74;\n",
    "                border: 2px solid;\n",
    "                border-radius: 10px;\n",
    "                padding-top: 10px;\n",
    "                padding-bottom: 10px;\n",
    "                padding-right: 20px;\n",
    "                padding-left: 20px;\n",
    "                border-color: #FF1100;\"> \n",
    "        <p></p>\n",
    "        <p style=\"font-family:verdana;\">Let's first check if there are any null values in the dataset.</p>\n",
    "    </div>\n",
    "</body>"
   ]
  },
  {
   "cell_type": "code",
   "execution_count": 3,
   "id": "4add4c8b",
   "metadata": {
    "execution": {
     "iopub.execute_input": "2022-09-23T20:11:01.556662Z",
     "iopub.status.busy": "2022-09-23T20:11:01.556270Z",
     "iopub.status.idle": "2022-09-23T20:11:01.571123Z",
     "shell.execute_reply": "2022-09-23T20:11:01.569997Z"
    },
    "papermill": {
     "duration": 0.029126,
     "end_time": "2022-09-23T20:11:01.573351",
     "exception": false,
     "start_time": "2022-09-23T20:11:01.544225",
     "status": "completed"
    },
    "tags": []
   },
   "outputs": [
    {
     "data": {
      "text/plain": [
       "director        2634\n",
       "country          831\n",
       "cast             825\n",
       "date_added        10\n",
       "rating             4\n",
       "duration           3\n",
       "show_id            0\n",
       "type               0\n",
       "title              0\n",
       "release_year       0\n",
       "listed_in          0\n",
       "description        0\n",
       "dtype: int64"
      ]
     },
     "execution_count": 3,
     "metadata": {},
     "output_type": "execute_result"
    }
   ],
   "source": [
    "df.isna().sum().sort_values(ascending=False)"
   ]
  },
  {
   "cell_type": "markdown",
   "id": "4ccde449",
   "metadata": {
    "papermill": {
     "duration": 0.01025,
     "end_time": "2022-09-23T20:11:01.594240",
     "exception": false,
     "start_time": "2022-09-23T20:11:01.583990",
     "status": "completed"
    },
    "tags": []
   },
   "source": [
    "<body>\n",
    "    <div style=\"background-color: #FF6A74;\n",
    "                border: 2px solid;\n",
    "                border-radius: 10px;\n",
    "                padding-top: 10px;\n",
    "                padding-bottom: 10px;\n",
    "                padding-right: 20px;\n",
    "                padding-left: 20px;\n",
    "                border-color: #FF1100;\"> \n",
    "        <p></p>\n",
    "        <p style=\"font-family:verdana;\">Let's first check if there are any null values in the dataset.</p>\n",
    "        <ul>\n",
    "            <li style=\"font-family:verdana;\">There are small amount of null values in the <b>date_added</b>, <b>rating</b>, <b>duration</b> columns.</li>\n",
    "            <li style=\"font-family:verdana;\">Meanwhile, there are large amount of null values in the <b>country</b>, <b>cast</b>, <b>director</b> columns.</li>\n",
    "        </ul>\n",
    "    </div>\n",
    "</body>"
   ]
  },
  {
   "cell_type": "markdown",
   "id": "31ae80da",
   "metadata": {
    "papermill": {
     "duration": 0.010132,
     "end_time": "2022-09-23T20:11:01.615292",
     "exception": false,
     "start_time": "2022-09-23T20:11:01.605160",
     "status": "completed"
    },
    "tags": []
   },
   "source": [
    "<div id=\"optimizing-the-dataset\"\n",
    "     style = \"display: fill;\n",
    "              border-radius: 10px;\n",
    "              background-color: #E50914;\">\n",
    "    <h3 style = \"padding: 15px; \n",
    "                 color: White;\n",
    "                 text-align: left;\n",
    "                 font-family: Trebuchet MS;\">3.2 Optimizing the Dataset\n",
    "    </h3>\n",
    "</div>\n",
    "\n",
    "<body>\n",
    "    <div style=\"background-color: #FF6A74;\n",
    "                border: 2px solid;\n",
    "                padding-top: 10px;\n",
    "                padding-bottom: 10px;\n",
    "                padding-right: 20px;\n",
    "                padding-left: 20px;\n",
    "                border-radius: 10px;\n",
    "                border-color: #FF1100;\"> \n",
    "        <p></p>\n",
    "        <p style=\"font-family:verdana;\">Many of the features are <b>object</b> type. We can convert those features into more specific and compact types to save memory and increase efficiency.</p>\n",
    "    </div>\n",
    "</body>\n"
   ]
  },
  {
   "cell_type": "code",
   "execution_count": 4,
   "id": "1dbf8899",
   "metadata": {
    "execution": {
     "iopub.execute_input": "2022-09-23T20:11:01.638387Z",
     "iopub.status.busy": "2022-09-23T20:11:01.637853Z",
     "iopub.status.idle": "2022-09-23T20:11:01.670644Z",
     "shell.execute_reply": "2022-09-23T20:11:01.669275Z"
    },
    "papermill": {
     "duration": 0.047412,
     "end_time": "2022-09-23T20:11:01.673275",
     "exception": false,
     "start_time": "2022-09-23T20:11:01.625863",
     "status": "completed"
    },
    "tags": []
   },
   "outputs": [
    {
     "name": "stdout",
     "output_type": "stream",
     "text": [
      "<class 'pandas.core.frame.DataFrame'>\n",
      "RangeIndex: 8807 entries, 0 to 8806\n",
      "Data columns (total 12 columns):\n",
      " #   Column        Non-Null Count  Dtype \n",
      "---  ------        --------------  ----- \n",
      " 0   show_id       8807 non-null   object\n",
      " 1   type          8807 non-null   object\n",
      " 2   title         8807 non-null   object\n",
      " 3   director      6173 non-null   object\n",
      " 4   cast          7982 non-null   object\n",
      " 5   country       7976 non-null   object\n",
      " 6   date_added    8797 non-null   object\n",
      " 7   release_year  8807 non-null   int64 \n",
      " 8   rating        8803 non-null   object\n",
      " 9   duration      8804 non-null   object\n",
      " 10  listed_in     8807 non-null   object\n",
      " 11  description   8807 non-null   object\n",
      "dtypes: int64(1), object(11)\n",
      "memory usage: 825.8+ KB\n"
     ]
    }
   ],
   "source": [
    "df.info()"
   ]
  },
  {
   "cell_type": "markdown",
   "id": "5b2fe25b",
   "metadata": {
    "papermill": {
     "duration": 0.010498,
     "end_time": "2022-09-23T20:11:01.694905",
     "exception": false,
     "start_time": "2022-09-23T20:11:01.684407",
     "status": "completed"
    },
    "tags": []
   },
   "source": [
    "<body>\n",
    "    <div style=\"background-color: #FF6A74;\n",
    "                border: 2px solid;\n",
    "                border-radius: 10px;\n",
    "                padding-top: 10px;\n",
    "                padding-bottom: 10px;\n",
    "                padding-right: 20px;\n",
    "                padding-left: 20px;\n",
    "                border-color: #FF1100;\"> \n",
    "        <p></p>\n",
    "        <p style=\"font-family:verdana;\">Let's first check the number of unique values for each feature to make the conversion process easier..</p>\n",
    "    </div>\n",
    "</body>"
   ]
  },
  {
   "cell_type": "code",
   "execution_count": 5,
   "id": "e19d184f",
   "metadata": {
    "execution": {
     "iopub.execute_input": "2022-09-23T20:11:01.719750Z",
     "iopub.status.busy": "2022-09-23T20:11:01.718402Z",
     "iopub.status.idle": "2022-09-23T20:11:01.745522Z",
     "shell.execute_reply": "2022-09-23T20:11:01.744408Z"
    },
    "papermill": {
     "duration": 0.041861,
     "end_time": "2022-09-23T20:11:01.748012",
     "exception": false,
     "start_time": "2022-09-23T20:11:01.706151",
     "status": "completed"
    },
    "tags": []
   },
   "outputs": [
    {
     "name": "stdout",
     "output_type": "stream",
     "text": [
      "Number of unique values in the show_id column: 8807\n",
      "Number of unique values in the type column: 2\n",
      "Number of unique values in the title column: 8807\n",
      "Number of unique values in the director column: 4528\n",
      "Number of unique values in the cast column: 7692\n",
      "Number of unique values in the country column: 748\n",
      "Number of unique values in the date_added column: 1767\n",
      "Number of unique values in the release_year column: 74\n",
      "Number of unique values in the rating column: 17\n",
      "Number of unique values in the duration column: 220\n",
      "Number of unique values in the listed_in column: 514\n",
      "Number of unique values in the description column: 8775\n"
     ]
    }
   ],
   "source": [
    "for i in df.columns:\n",
    "    print(f\"Number of unique values in the {i} column: {df[i].nunique()}\")"
   ]
  },
  {
   "cell_type": "markdown",
   "id": "c17e118b",
   "metadata": {
    "papermill": {
     "duration": 0.010583,
     "end_time": "2022-09-23T20:11:01.769744",
     "exception": false,
     "start_time": "2022-09-23T20:11:01.759161",
     "status": "completed"
    },
    "tags": []
   },
   "source": [
    "<body>\n",
    "    <div style=\"background-color: #FF6A74;\n",
    "                border: 2px solid;\n",
    "                border-radius: 10px;\n",
    "                padding-top: 10px;\n",
    "                padding-bottom: 10px;\n",
    "                padding-right: 20px;\n",
    "                padding-left: 20px;\n",
    "                border-color: #FF1100;\"> \n",
    "        <p></p>\n",
    "        <p style=\"font-family:verdana;\">Some of the columns contain less unique values. These will be the ones that we do conversion on them. Columns that contain less unique values:</p>\n",
    "        <ul>\n",
    "            <li><b>type</b></li>\n",
    "            <li><b>release_year</b></li>\n",
    "            <li><b>rating</b></li>\n",
    "        </ul>         \n",
    "        <p style=\"font-family:verdana;\">Other interesting features are <b>show_id</b>, <b>title</b>, and <b>description</b>. They contain unique values for each row. I will check them first to see what is going.</p>\n",
    "    </div>\n",
    "</body>\n",
    "\n"
   ]
  },
  {
   "cell_type": "code",
   "execution_count": 6,
   "id": "372dc8cd",
   "metadata": {
    "execution": {
     "iopub.execute_input": "2022-09-23T20:11:01.794029Z",
     "iopub.status.busy": "2022-09-23T20:11:01.793613Z",
     "iopub.status.idle": "2022-09-23T20:11:01.803476Z",
     "shell.execute_reply": "2022-09-23T20:11:01.801623Z"
    },
    "papermill": {
     "duration": 0.024988,
     "end_time": "2022-09-23T20:11:01.805975",
     "exception": false,
     "start_time": "2022-09-23T20:11:01.780987",
     "status": "completed"
    },
    "tags": []
   },
   "outputs": [
    {
     "name": "stdout",
     "output_type": "stream",
     "text": [
      "Number of unique values: 8807\n",
      "['s1' 's2' 's3' ... 's8805' 's8806' 's8807']\n"
     ]
    }
   ],
   "source": [
    "print(\"Number of unique values:\", df[\"show_id\"].nunique())\n",
    "print(df[\"show_id\"].unique())"
   ]
  },
  {
   "cell_type": "markdown",
   "id": "6dba3522",
   "metadata": {
    "papermill": {
     "duration": 0.010505,
     "end_time": "2022-09-23T20:11:01.827509",
     "exception": false,
     "start_time": "2022-09-23T20:11:01.817004",
     "status": "completed"
    },
    "tags": []
   },
   "source": [
    "<body>\n",
    "    <div style=\"background-color: #FF6A74;\n",
    "                border: 2px solid;\n",
    "                border-radius: 10px;\n",
    "                padding-top: 10px;\n",
    "                padding-bottom: 10px;\n",
    "                padding-right: 20px;\n",
    "                padding-left: 20px;\n",
    "                border-color: #FF1100;\"> \n",
    "        <p></p>\n",
    "        <p style=\"font-family:verdana;\">There is a unique value for each show. I don't understand the point of this feature. It only contains the values starting from 1 to 8807 which is basically an index for every row. The problem is that we already have that information stored in our dataframe so, I will remove this feature because it doesn't contain any valuable information for the analysis.</p>\n",
    "    </div>\n",
    "</body>"
   ]
  },
  {
   "cell_type": "code",
   "execution_count": 7,
   "id": "9e3fc390",
   "metadata": {
    "execution": {
     "iopub.execute_input": "2022-09-23T20:11:01.850744Z",
     "iopub.status.busy": "2022-09-23T20:11:01.850332Z",
     "iopub.status.idle": "2022-09-23T20:11:01.857859Z",
     "shell.execute_reply": "2022-09-23T20:11:01.857002Z"
    },
    "papermill": {
     "duration": 0.021645,
     "end_time": "2022-09-23T20:11:01.859980",
     "exception": false,
     "start_time": "2022-09-23T20:11:01.838335",
     "status": "completed"
    },
    "tags": []
   },
   "outputs": [],
   "source": [
    "df.drop(labels=\"show_id\", axis=1, inplace=True)"
   ]
  },
  {
   "cell_type": "code",
   "execution_count": 8,
   "id": "c9a92968",
   "metadata": {
    "execution": {
     "iopub.execute_input": "2022-09-23T20:11:01.885081Z",
     "iopub.status.busy": "2022-09-23T20:11:01.884301Z",
     "iopub.status.idle": "2022-09-23T20:11:01.894689Z",
     "shell.execute_reply": "2022-09-23T20:11:01.893111Z"
    },
    "papermill": {
     "duration": 0.026007,
     "end_time": "2022-09-23T20:11:01.897171",
     "exception": false,
     "start_time": "2022-09-23T20:11:01.871164",
     "status": "completed"
    },
    "tags": []
   },
   "outputs": [
    {
     "name": "stdout",
     "output_type": "stream",
     "text": [
      "Number of unique values: 8807\n",
      "['Dick Johnson Is Dead' 'Blood & Water' 'Ganglands' ... 'Zombieland'\n",
      " 'Zoom' 'Zubaan']\n"
     ]
    }
   ],
   "source": [
    "print(\"Number of unique values:\", df[\"title\"].nunique())\n",
    "print(df[\"title\"].unique())"
   ]
  },
  {
   "cell_type": "markdown",
   "id": "d0bacd0f",
   "metadata": {
    "papermill": {
     "duration": 0.01067,
     "end_time": "2022-09-23T20:11:01.919061",
     "exception": false,
     "start_time": "2022-09-23T20:11:01.908391",
     "status": "completed"
    },
    "tags": []
   },
   "source": [
    "<body>\n",
    "    <div style=\"background-color: #FF6A74;\n",
    "                border: 2px solid;\n",
    "                border-radius: 10px;\n",
    "                padding-top: 10px;\n",
    "                padding-bottom: 10px;\n",
    "                padding-right: 20px;\n",
    "                padding-left: 20px;\n",
    "                border-color: #FF1100;\"> \n",
    "        <p></p>\n",
    "        <p style=\"font-family:verdana;\">Similar to <b>show_id</b>, this column also contains unique values for each show but the difference is that these values are not just integers like an index value. These values contain the name of the each show which is probably will be used in the analysis. Therefore, I will not remove this feature.</p>\n",
    "    </div>\n",
    "</body>"
   ]
  },
  {
   "cell_type": "code",
   "execution_count": 9,
   "id": "ea768f8b",
   "metadata": {
    "execution": {
     "iopub.execute_input": "2022-09-23T20:11:01.943518Z",
     "iopub.status.busy": "2022-09-23T20:11:01.942716Z",
     "iopub.status.idle": "2022-09-23T20:11:01.960162Z",
     "shell.execute_reply": "2022-09-23T20:11:01.958167Z"
    },
    "papermill": {
     "duration": 0.033242,
     "end_time": "2022-09-23T20:11:01.963582",
     "exception": false,
     "start_time": "2022-09-23T20:11:01.930340",
     "status": "completed"
    },
    "tags": []
   },
   "outputs": [
    {
     "name": "stdout",
     "output_type": "stream",
     "text": [
      "Number of unique values: 8775\n",
      "['As her father nears the end of his life, filmmaker Kirsten Johnson stages his death in inventive and comical ways to help them both face the inevitable.'\n",
      " 'After crossing paths at a party, a Cape Town teen sets out to prove whether a private-school swimming star is her sister who was abducted at birth.'\n",
      " 'To protect his family from a powerful drug lord, skilled thief Mehdi and his expert team of robbers are pulled into a violent and deadly turf war.'\n",
      " ...\n",
      " 'Looking to survive in a world taken over by zombies, a dorky college student teams with an urban roughneck and a pair of grifter sisters.'\n",
      " 'Dragged from civilian life, a former superhero must train a new crop of youthful saviors when the military preps for an attack by a familiar villain.'\n",
      " \"A scrappy but poor boy worms his way into a tycoon's dysfunctional family, while facing his fear of music and the truth about his past.\"]\n"
     ]
    }
   ],
   "source": [
    "print(\"Number of unique values:\", df[\"description\"].nunique())\n",
    "print(df[\"description\"].unique())"
   ]
  },
  {
   "cell_type": "markdown",
   "id": "f35803f8",
   "metadata": {
    "papermill": {
     "duration": 0.011144,
     "end_time": "2022-09-23T20:11:01.986746",
     "exception": false,
     "start_time": "2022-09-23T20:11:01.975602",
     "status": "completed"
    },
    "tags": []
   },
   "source": [
    "<body>\n",
    "    <div style=\"background-color: #FF6A74;\n",
    "                border: 2px solid;\n",
    "                border-radius: 10px;\n",
    "                padding-top: 10px;\n",
    "                padding-bottom: 10px;\n",
    "                padding-right: 20px;\n",
    "                padding-left: 20px;\n",
    "                border-color: #FF1100;\"> \n",
    "        <p></p>\n",
    "        <p style=\"font-family:verdana;\">Similar to <b>title</b>, this column also contains unique values for each show. These values contain the short description of the each show which we may use it in the analysis. Therefore, I will not remove this feature.</p>\n",
    "    </div>\n",
    "</body>"
   ]
  },
  {
   "cell_type": "code",
   "execution_count": 10,
   "id": "3dc53142",
   "metadata": {
    "execution": {
     "iopub.execute_input": "2022-09-23T20:11:02.011528Z",
     "iopub.status.busy": "2022-09-23T20:11:02.011108Z",
     "iopub.status.idle": "2022-09-23T20:11:02.019331Z",
     "shell.execute_reply": "2022-09-23T20:11:02.017957Z"
    },
    "papermill": {
     "duration": 0.023627,
     "end_time": "2022-09-23T20:11:02.021840",
     "exception": false,
     "start_time": "2022-09-23T20:11:01.998213",
     "status": "completed"
    },
    "tags": []
   },
   "outputs": [
    {
     "name": "stdout",
     "output_type": "stream",
     "text": [
      "Number of unique values: 2\n",
      "['Movie' 'TV Show']\n"
     ]
    }
   ],
   "source": [
    "print(\"Number of unique values:\", df[\"type\"].nunique())\n",
    "print(df[\"type\"].unique())"
   ]
  },
  {
   "cell_type": "markdown",
   "id": "d70e9f61",
   "metadata": {
    "papermill": {
     "duration": 0.010813,
     "end_time": "2022-09-23T20:11:02.044073",
     "exception": false,
     "start_time": "2022-09-23T20:11:02.033260",
     "status": "completed"
    },
    "tags": []
   },
   "source": [
    "<body>\n",
    "    <div style=\"background-color: #FF6A74;\n",
    "                border: 2px solid;\n",
    "                border-radius: 10px;\n",
    "                padding-top: 10px;\n",
    "                padding-bottom: 10px;\n",
    "                padding-right: 20px;\n",
    "                padding-left: 20px;\n",
    "                border-color: #FF1100;\"> \n",
    "        <p></p>\n",
    "        <p style=\"font-family:verdana;\">There are only two unique values in the <b>type</b> column. These are essentially used to categorize the content into <b>Movie</b> or <b>TV-Show</b>. I will convert this feature into <b>category</b> type.</p>\n",
    "    </div>\n",
    "</body>"
   ]
  },
  {
   "cell_type": "code",
   "execution_count": 11,
   "id": "7b125a6d",
   "metadata": {
    "execution": {
     "iopub.execute_input": "2022-09-23T20:11:02.069028Z",
     "iopub.status.busy": "2022-09-23T20:11:02.068583Z",
     "iopub.status.idle": "2022-09-23T20:11:02.078239Z",
     "shell.execute_reply": "2022-09-23T20:11:02.076995Z"
    },
    "papermill": {
     "duration": 0.02509,
     "end_time": "2022-09-23T20:11:02.080503",
     "exception": false,
     "start_time": "2022-09-23T20:11:02.055413",
     "status": "completed"
    },
    "tags": []
   },
   "outputs": [],
   "source": [
    "df[\"type\"] = df[\"type\"].astype(\"category\")"
   ]
  },
  {
   "cell_type": "code",
   "execution_count": 12,
   "id": "f59ecd81",
   "metadata": {
    "execution": {
     "iopub.execute_input": "2022-09-23T20:11:02.105437Z",
     "iopub.status.busy": "2022-09-23T20:11:02.104635Z",
     "iopub.status.idle": "2022-09-23T20:11:02.111929Z",
     "shell.execute_reply": "2022-09-23T20:11:02.110601Z"
    },
    "papermill": {
     "duration": 0.022659,
     "end_time": "2022-09-23T20:11:02.114481",
     "exception": false,
     "start_time": "2022-09-23T20:11:02.091822",
     "status": "completed"
    },
    "tags": []
   },
   "outputs": [
    {
     "name": "stdout",
     "output_type": "stream",
     "text": [
      "Number of unique values: 74\n",
      "[2020 2021 1993 2018 1996 1998 1997 2010 2013 2017 1975 1978 1983 1987\n",
      " 2012 2001 2014 2002 2003 2004 2011 2008 2009 2007 2005 2006 1994 2015\n",
      " 2019 2016 1982 1989 1990 1991 1999 1986 1992 1984 1980 1961 2000 1995\n",
      " 1985 1976 1959 1988 1981 1972 1964 1945 1954 1979 1958 1956 1963 1970\n",
      " 1973 1925 1974 1960 1966 1971 1962 1969 1977 1967 1968 1965 1946 1942\n",
      " 1955 1944 1947 1943]\n"
     ]
    }
   ],
   "source": [
    "print(\"Number of unique values:\", df[\"release_year\"].nunique())\n",
    "print(df[\"release_year\"].unique())"
   ]
  },
  {
   "cell_type": "markdown",
   "id": "ef625920",
   "metadata": {
    "papermill": {
     "duration": 0.012713,
     "end_time": "2022-09-23T20:11:02.138508",
     "exception": false,
     "start_time": "2022-09-23T20:11:02.125795",
     "status": "completed"
    },
    "tags": []
   },
   "source": [
    "<body>\n",
    "    <div style=\"background-color: #FF6A74;\n",
    "                border: 2px solid;\n",
    "                border-radius: 10px;\n",
    "                padding-top: 10px;\n",
    "                padding-bottom: 10px;\n",
    "                padding-right: 20px;\n",
    "                padding-left: 20px;\n",
    "                border-color: #FF1100;\"> \n",
    "        <p></p>\n",
    "        <p style=\"font-family:verdana;\">There are 74 unique values in the <b>release_year</b> column. Also, these are integer values. Smallest integer datatype that can hold these values is <b>int16</b>.</p>\n",
    "    </div>\n",
    "</body>"
   ]
  },
  {
   "cell_type": "code",
   "execution_count": 13,
   "id": "6481f6eb",
   "metadata": {
    "execution": {
     "iopub.execute_input": "2022-09-23T20:11:02.167632Z",
     "iopub.status.busy": "2022-09-23T20:11:02.167243Z",
     "iopub.status.idle": "2022-09-23T20:11:02.173616Z",
     "shell.execute_reply": "2022-09-23T20:11:02.172399Z"
    },
    "papermill": {
     "duration": 0.02215,
     "end_time": "2022-09-23T20:11:02.176003",
     "exception": false,
     "start_time": "2022-09-23T20:11:02.153853",
     "status": "completed"
    },
    "tags": []
   },
   "outputs": [],
   "source": [
    "df[\"release_year\"] = df[\"release_year\"].astype(\"int16\")"
   ]
  },
  {
   "cell_type": "code",
   "execution_count": 14,
   "id": "7d217f19",
   "metadata": {
    "execution": {
     "iopub.execute_input": "2022-09-23T20:11:02.200318Z",
     "iopub.status.busy": "2022-09-23T20:11:02.199909Z",
     "iopub.status.idle": "2022-09-23T20:11:02.207112Z",
     "shell.execute_reply": "2022-09-23T20:11:02.205972Z"
    },
    "papermill": {
     "duration": 0.022182,
     "end_time": "2022-09-23T20:11:02.209483",
     "exception": false,
     "start_time": "2022-09-23T20:11:02.187301",
     "status": "completed"
    },
    "tags": []
   },
   "outputs": [
    {
     "name": "stdout",
     "output_type": "stream",
     "text": [
      "Number of unique values: 17\n",
      "['PG-13' 'TV-MA' 'PG' 'TV-14' 'TV-PG' 'TV-Y' 'TV-Y7' 'R' 'TV-G' 'G'\n",
      " 'NC-17' '74 min' '84 min' '66 min' 'NR' nan 'TV-Y7-FV' 'UR']\n"
     ]
    }
   ],
   "source": [
    "print(\"Number of unique values:\", df[\"rating\"].nunique())\n",
    "print(df[\"rating\"].unique())"
   ]
  },
  {
   "cell_type": "markdown",
   "id": "567dc299",
   "metadata": {
    "papermill": {
     "duration": 0.011356,
     "end_time": "2022-09-23T20:11:02.232095",
     "exception": false,
     "start_time": "2022-09-23T20:11:02.220739",
     "status": "completed"
    },
    "tags": []
   },
   "source": [
    "<body>\n",
    "    <div style=\"background-color: #FF6A74;\n",
    "                border: 2px solid;\n",
    "                border-radius: 10px;\n",
    "                padding-top: 10px;\n",
    "                padding-bottom: 10px;\n",
    "                padding-right: 20px;\n",
    "                padding-left: 20px;\n",
    "                border-color: #FF1100;\"> \n",
    "        <p></p>\n",
    "        <p style=\"font-family:verdana;\">There are 17 unique values in the <b>rating</b> column. These values contain both integers and strings. Therefore, we will convert this column into <b>category</b> type.</p>\n",
    "    </div>\n",
    "</body>"
   ]
  },
  {
   "cell_type": "code",
   "execution_count": 15,
   "id": "60e2ec2f",
   "metadata": {
    "execution": {
     "iopub.execute_input": "2022-09-23T20:11:02.256762Z",
     "iopub.status.busy": "2022-09-23T20:11:02.256355Z",
     "iopub.status.idle": "2022-09-23T20:11:02.265907Z",
     "shell.execute_reply": "2022-09-23T20:11:02.264401Z"
    },
    "papermill": {
     "duration": 0.025092,
     "end_time": "2022-09-23T20:11:02.268688",
     "exception": false,
     "start_time": "2022-09-23T20:11:02.243596",
     "status": "completed"
    },
    "tags": []
   },
   "outputs": [],
   "source": [
    "df[\"rating\"] = df[\"rating\"].astype(\"category\")"
   ]
  },
  {
   "cell_type": "code",
   "execution_count": 16,
   "id": "8a955980",
   "metadata": {
    "execution": {
     "iopub.execute_input": "2022-09-23T20:11:02.293164Z",
     "iopub.status.busy": "2022-09-23T20:11:02.292745Z",
     "iopub.status.idle": "2022-09-23T20:11:02.301074Z",
     "shell.execute_reply": "2022-09-23T20:11:02.299821Z"
    },
    "papermill": {
     "duration": 0.023589,
     "end_time": "2022-09-23T20:11:02.303614",
     "exception": false,
     "start_time": "2022-09-23T20:11:02.280025",
     "status": "completed"
    },
    "tags": []
   },
   "outputs": [
    {
     "name": "stdout",
     "output_type": "stream",
     "text": [
      "Number of unique values: 220\n",
      "['90 min' '2 Seasons' '1 Season' '91 min' '125 min' '9 Seasons' '104 min'\n",
      " '127 min' '4 Seasons' '67 min' '94 min' '5 Seasons' '161 min' '61 min'\n",
      " '166 min' '147 min' '103 min' '97 min' '106 min' '111 min']\n"
     ]
    }
   ],
   "source": [
    "print(\"Number of unique values:\", df[\"duration\"].nunique())\n",
    "print(df.loc[:30, \"duration\"].unique())"
   ]
  },
  {
   "cell_type": "markdown",
   "id": "18ba43f8",
   "metadata": {
    "papermill": {
     "duration": 0.011158,
     "end_time": "2022-09-23T20:11:02.326874",
     "exception": false,
     "start_time": "2022-09-23T20:11:02.315716",
     "status": "completed"
    },
    "tags": []
   },
   "source": [
    "<body>\n",
    "    <div style=\"background-color: #FF6A74;\n",
    "                border: 2px solid;\n",
    "                border-radius: 10px;\n",
    "                padding-top: 10px;\n",
    "                padding-bottom: 10px;\n",
    "                padding-right: 20px;\n",
    "                padding-left: 20px;\n",
    "                border-color: #FF1100;\"> \n",
    "        <p></p>\n",
    "        <p style=\"font-family:verdana;\">There are 220 unique values in the <b>duration</b> column. Considering there are 8807 rows, there will be a lot of repetition. That's why I will convert it into <b>category</b> type.</p>\n",
    "    </div>\n",
    "</body>"
   ]
  },
  {
   "cell_type": "code",
   "execution_count": 17,
   "id": "e7b3dbd6",
   "metadata": {
    "execution": {
     "iopub.execute_input": "2022-09-23T20:11:02.351238Z",
     "iopub.status.busy": "2022-09-23T20:11:02.350764Z",
     "iopub.status.idle": "2022-09-23T20:11:02.359335Z",
     "shell.execute_reply": "2022-09-23T20:11:02.358351Z"
    },
    "papermill": {
     "duration": 0.023279,
     "end_time": "2022-09-23T20:11:02.361530",
     "exception": false,
     "start_time": "2022-09-23T20:11:02.338251",
     "status": "completed"
    },
    "tags": []
   },
   "outputs": [],
   "source": [
    "df[\"duration\"] = df[\"duration\"].astype(\"category\")"
   ]
  },
  {
   "cell_type": "code",
   "execution_count": 18,
   "id": "7e06a74c",
   "metadata": {
    "execution": {
     "iopub.execute_input": "2022-09-23T20:11:02.386099Z",
     "iopub.status.busy": "2022-09-23T20:11:02.385658Z",
     "iopub.status.idle": "2022-09-23T20:11:02.393708Z",
     "shell.execute_reply": "2022-09-23T20:11:02.392664Z"
    },
    "papermill": {
     "duration": 0.023755,
     "end_time": "2022-09-23T20:11:02.396689",
     "exception": false,
     "start_time": "2022-09-23T20:11:02.372934",
     "status": "completed"
    },
    "tags": []
   },
   "outputs": [
    {
     "name": "stdout",
     "output_type": "stream",
     "text": [
      "Number of unique values: 4528\n",
      "['Kirsten Johnson' nan 'Julien Leclercq' 'Mike Flanagan'\n",
      " 'Robert Cullen, José Luis Ucha' 'Haile Gerima' 'Andy Devonshire'\n",
      " 'Theodore Melfi' 'Kongkiat Komesiri' 'Christian Schwochow'\n",
      " 'Bruno Garotti' 'Pedro de Echave García, Pablo Azorín Williams'\n",
      " 'Adam Salky' 'Olivier Megaton']\n"
     ]
    }
   ],
   "source": [
    "print(\"Number of unique values:\", df[\"director\"].nunique())\n",
    "print(df.loc[:20, \"director\"].unique())"
   ]
  },
  {
   "cell_type": "markdown",
   "id": "61d535b7",
   "metadata": {
    "papermill": {
     "duration": 0.01126,
     "end_time": "2022-09-23T20:11:02.419616",
     "exception": false,
     "start_time": "2022-09-23T20:11:02.408356",
     "status": "completed"
    },
    "tags": []
   },
   "source": [
    "<body>\n",
    "    <div style=\"background-color: #FF6A74;\n",
    "                border: 2px solid;\n",
    "                border-radius: 10px;\n",
    "                padding-top: 10px;\n",
    "                padding-bottom: 10px;\n",
    "                padding-right: 20px;\n",
    "                padding-left: 20px;\n",
    "                border-color: #FF1100;\"> \n",
    "        <p></p>\n",
    "        <p style=\"font-family:verdana;\">There are 4528 unique values in the <b>director</b> column. Similar to <b>duration</b> column, there are way too many unique values for the <b>category</b> type. I will not convert it into <b>category</b> type.</p>\n",
    "    </div>\n",
    "</body>"
   ]
  },
  {
   "cell_type": "code",
   "execution_count": 19,
   "id": "ac499ae2",
   "metadata": {
    "execution": {
     "iopub.execute_input": "2022-09-23T20:11:02.445065Z",
     "iopub.status.busy": "2022-09-23T20:11:02.444655Z",
     "iopub.status.idle": "2022-09-23T20:11:02.452872Z",
     "shell.execute_reply": "2022-09-23T20:11:02.451749Z"
    },
    "papermill": {
     "duration": 0.024262,
     "end_time": "2022-09-23T20:11:02.455566",
     "exception": false,
     "start_time": "2022-09-23T20:11:02.431304",
     "status": "completed"
    },
    "tags": []
   },
   "outputs": [
    {
     "name": "stdout",
     "output_type": "stream",
     "text": [
      "Number of unique values: 1767\n",
      "['September 25, 2021' 'September 24, 2021' 'September 23, 2021'\n",
      " 'September 22, 2021']\n"
     ]
    }
   ],
   "source": [
    "print(\"Number of unique values:\", df[\"date_added\"].nunique())\n",
    "print(df.loc[:20, \"date_added\"].unique())"
   ]
  },
  {
   "cell_type": "markdown",
   "id": "2aab5589",
   "metadata": {
    "papermill": {
     "duration": 0.0113,
     "end_time": "2022-09-23T20:11:02.478822",
     "exception": false,
     "start_time": "2022-09-23T20:11:02.467522",
     "status": "completed"
    },
    "tags": []
   },
   "source": [
    "<body>\n",
    "    <div style=\"background-color: #FF6A74;\n",
    "                border: 2px solid;\n",
    "                border-radius: 10px;\n",
    "                padding-top: 10px;\n",
    "                padding-bottom: 10px;\n",
    "                padding-right: 20px;\n",
    "                padding-left: 20px;\n",
    "                border-color: #FF1100;\"> \n",
    "        <p></p>\n",
    "        <p style=\"font-family:verdana;\">There are 1767 unique values in the <b>date_added</b> columns. We can use <b>datetime64</b> type for this column. This will helps us to sort dates easier.</p>\n",
    "    </div>\n",
    "</body>"
   ]
  },
  {
   "cell_type": "code",
   "execution_count": 20,
   "id": "ae9734f4",
   "metadata": {
    "execution": {
     "iopub.execute_input": "2022-09-23T20:11:02.504640Z",
     "iopub.status.busy": "2022-09-23T20:11:02.504246Z",
     "iopub.status.idle": "2022-09-23T20:11:02.718016Z",
     "shell.execute_reply": "2022-09-23T20:11:02.717029Z"
    },
    "papermill": {
     "duration": 0.229978,
     "end_time": "2022-09-23T20:11:02.720883",
     "exception": false,
     "start_time": "2022-09-23T20:11:02.490905",
     "status": "completed"
    },
    "tags": []
   },
   "outputs": [],
   "source": [
    "df[\"date_added\"] = df[\"date_added\"].astype(\"datetime64\")"
   ]
  },
  {
   "cell_type": "code",
   "execution_count": 21,
   "id": "2b837c9b",
   "metadata": {
    "execution": {
     "iopub.execute_input": "2022-09-23T20:11:02.745677Z",
     "iopub.status.busy": "2022-09-23T20:11:02.745307Z",
     "iopub.status.idle": "2022-09-23T20:11:02.753221Z",
     "shell.execute_reply": "2022-09-23T20:11:02.751702Z"
    },
    "papermill": {
     "duration": 0.023141,
     "end_time": "2022-09-23T20:11:02.755658",
     "exception": false,
     "start_time": "2022-09-23T20:11:02.732517",
     "status": "completed"
    },
    "tags": []
   },
   "outputs": [
    {
     "name": "stdout",
     "output_type": "stream",
     "text": [
      "Number of unique values: 748\n",
      "['United States' 'South Africa' nan 'India'\n",
      " 'United States, Ghana, Burkina Faso, United Kingdom, Germany, Ethiopia'\n",
      " 'United Kingdom' 'Germany, Czech Republic' 'Mexico']\n"
     ]
    }
   ],
   "source": [
    "print(\"Number of unique values:\", df[\"country\"].nunique())\n",
    "print(df.loc[:20, \"country\"].unique())"
   ]
  },
  {
   "cell_type": "markdown",
   "id": "b36b8c19",
   "metadata": {
    "papermill": {
     "duration": 0.011391,
     "end_time": "2022-09-23T20:11:02.779232",
     "exception": false,
     "start_time": "2022-09-23T20:11:02.767841",
     "status": "completed"
    },
    "tags": []
   },
   "source": [
    "<body>\n",
    "    <div style=\"background-color: #FF6A74;\n",
    "                border: 2px solid;\n",
    "                border-radius: 10px;\n",
    "                padding-top: 10px;\n",
    "                padding-bottom: 10px;\n",
    "                padding-right: 20px;\n",
    "                padding-left: 20px;\n",
    "                border-color: #FF1100;\"> \n",
    "        <p></p>\n",
    "        <p style=\"font-family:verdana;\">There are 748 unique values in the <b>country</b> column. Because of the same reason with <b>duration</b> column, I will convert this into <b>category</b> type.</p>\n",
    "    </div>\n",
    "</body>"
   ]
  },
  {
   "cell_type": "code",
   "execution_count": 22,
   "id": "92b5e80b",
   "metadata": {
    "execution": {
     "iopub.execute_input": "2022-09-23T20:11:02.805405Z",
     "iopub.status.busy": "2022-09-23T20:11:02.804999Z",
     "iopub.status.idle": "2022-09-23T20:11:02.813713Z",
     "shell.execute_reply": "2022-09-23T20:11:02.812638Z"
    },
    "papermill": {
     "duration": 0.024883,
     "end_time": "2022-09-23T20:11:02.816176",
     "exception": false,
     "start_time": "2022-09-23T20:11:02.791293",
     "status": "completed"
    },
    "tags": []
   },
   "outputs": [],
   "source": [
    "df[\"country\"] = df[\"country\"].astype(\"category\")"
   ]
  },
  {
   "cell_type": "code",
   "execution_count": 23,
   "id": "f81e1ef0",
   "metadata": {
    "execution": {
     "iopub.execute_input": "2022-09-23T20:11:02.841290Z",
     "iopub.status.busy": "2022-09-23T20:11:02.840819Z",
     "iopub.status.idle": "2022-09-23T20:11:02.847853Z",
     "shell.execute_reply": "2022-09-23T20:11:02.846857Z"
    },
    "papermill": {
     "duration": 0.022975,
     "end_time": "2022-09-23T20:11:02.851032",
     "exception": false,
     "start_time": "2022-09-23T20:11:02.828057",
     "status": "completed"
    },
    "tags": []
   },
   "outputs": [
    {
     "name": "stdout",
     "output_type": "stream",
     "text": [
      "[nan\n",
      " 'Ama Qamata, Khosi Ngema, Gail Mabalane, Thabang Molaba, Dillon Windvogel, Natasha Thahane, Arno Greeff, Xolile Tshabalala, Getmore Sithole, Cindy Mahlangu, Ryle De Morny, Greteli Fincham, Sello Maake Ka-Ncube, Odwa Gwanya, Mekaila Mathys, Sandi Schultz, Duane Williams, Shamilla Miller, Patrick Mofokeng'\n",
      " 'Sami Bouajila, Tracy Gotoas, Samuel Jouy, Nabiha Akkari, Sofia Lesaffre, Salim Kechiouche, Noureddine Farihi, Geert Van Rampelberg, Bakary Diombera'\n",
      " 'Mayur More, Jitendra Kumar, Ranjan Raj, Alam Khan, Ahsaas Channa, Revathi Pillai, Urvi Singh, Arun Kumar'\n",
      " 'Kate Siegel, Zach Gilford, Hamish Linklater, Henry Thomas, Kristin Lehman, Samantha Sloyan, Igby Rigney, Rahul Kohli, Annarah Cymone, Annabeth Gish, Alex Essoe, Rahul Abburi, Matt Biedel, Michael Trucco, Crystal Balint, Louis Oliver'] \n",
      "\n",
      "['Documentaries' 'International TV Shows, TV Dramas, TV Mysteries'\n",
      " 'Crime TV Shows, International TV Shows, TV Action & Adventure'\n",
      " 'Docuseries, Reality TV'\n",
      " 'International TV Shows, Romantic TV Shows, TV Comedies'\n",
      " 'TV Dramas, TV Horror, TV Mysteries']\n"
     ]
    }
   ],
   "source": [
    "print(df.loc[:5, \"cast\"].unique(), \"\\n\")\n",
    "print(df.loc[:5, \"listed_in\"].unique())"
   ]
  },
  {
   "cell_type": "markdown",
   "id": "9935b39d",
   "metadata": {
    "papermill": {
     "duration": 0.011097,
     "end_time": "2022-09-23T20:11:02.873721",
     "exception": false,
     "start_time": "2022-09-23T20:11:02.862624",
     "status": "completed"
    },
    "tags": []
   },
   "source": [
    "<body>\n",
    "    <div style=\"background-color: #FF6A74;\n",
    "                border: 2px solid;\n",
    "                border-radius: 10px;\n",
    "                padding-top: 10px;\n",
    "                padding-bottom: 10px;\n",
    "                padding-right: 20px;\n",
    "                padding-left: 20px;\n",
    "                border-color: #FF1100;\"> \n",
    "        <p></p>\n",
    "        <p style=\"font-family:verdana;\">The <b>cast</b> and <b>listed_in</b> columns does contain list of values for each show. We can't do any conversion on this.</p>\n",
    "        <p style=\"font-family:verdana;\">We're done with the optimization. Let's check the dataframe after the conversion.</p>\n",
    "    </div>\n",
    "</body>"
   ]
  },
  {
   "cell_type": "code",
   "execution_count": 24,
   "id": "c5197f67",
   "metadata": {
    "execution": {
     "iopub.execute_input": "2022-09-23T20:11:02.899703Z",
     "iopub.status.busy": "2022-09-23T20:11:02.899305Z",
     "iopub.status.idle": "2022-09-23T20:11:02.921875Z",
     "shell.execute_reply": "2022-09-23T20:11:02.920133Z"
    },
    "papermill": {
     "duration": 0.038718,
     "end_time": "2022-09-23T20:11:02.924980",
     "exception": false,
     "start_time": "2022-09-23T20:11:02.886262",
     "status": "completed"
    },
    "tags": []
   },
   "outputs": [
    {
     "name": "stdout",
     "output_type": "stream",
     "text": [
      "<class 'pandas.core.frame.DataFrame'>\n",
      "RangeIndex: 8807 entries, 0 to 8806\n",
      "Data columns (total 11 columns):\n",
      " #   Column        Non-Null Count  Dtype         \n",
      "---  ------        --------------  -----         \n",
      " 0   type          8807 non-null   category      \n",
      " 1   title         8807 non-null   object        \n",
      " 2   director      6173 non-null   object        \n",
      " 3   cast          7982 non-null   object        \n",
      " 4   country       7976 non-null   category      \n",
      " 5   date_added    8797 non-null   datetime64[ns]\n",
      " 6   release_year  8807 non-null   int16         \n",
      " 7   rating        8803 non-null   category      \n",
      " 8   duration      8804 non-null   category      \n",
      " 9   listed_in     8807 non-null   object        \n",
      " 10  description   8807 non-null   object        \n",
      "dtypes: category(4), datetime64[ns](1), int16(1), object(5)\n",
      "memory usage: 514.4+ KB\n"
     ]
    }
   ],
   "source": [
    "df.info()"
   ]
  },
  {
   "cell_type": "markdown",
   "id": "b05cbfc1",
   "metadata": {
    "papermill": {
     "duration": 0.011394,
     "end_time": "2022-09-23T20:11:02.948362",
     "exception": false,
     "start_time": "2022-09-23T20:11:02.936968",
     "status": "completed"
    },
    "tags": []
   },
   "source": [
    "<body>\n",
    "    <div style=\"background-color: #FF6A74;\n",
    "                border: 2px solid;\n",
    "                border-radius: 10px;\n",
    "                padding-top: 10px;\n",
    "                padding-bottom: 10px;\n",
    "                padding-right: 20px;\n",
    "                padding-left: 20px;\n",
    "                border-color: #FF1100;\"> \n",
    "        <ul>\n",
    "            <li style=\"font-family:verdana;\">Before the optimization, dataset had a memory usage of <b>825.8+ KB</b>.</li>\n",
    "            <li style=\"font-family:verdana;\">After the optimization, dataset have a memory usage of <b>514.4+ KB</b>.</li>\n",
    "            <li style=\"font-family:verdana;\">We lowered the memory usage by almost <b>38%</b>.</li>\n",
    "        </ul>\n",
    "        <p style=\"font-family:verdana;\">The <b>cast</b> and <b>listed_in</b> columns does contain list of values for each show. We can't do any conversion on this.</p>\n",
    "        <p style=\"font-family:verdana;\">We're done with the optimization. Let's check the dataframe after the conversion.</p>\n",
    "    </div>\n",
    "</body>"
   ]
  },
  {
   "cell_type": "markdown",
   "id": "b68540e7",
   "metadata": {
    "papermill": {
     "duration": 0.011319,
     "end_time": "2022-09-23T20:11:02.971311",
     "exception": false,
     "start_time": "2022-09-23T20:11:02.959992",
     "status": "completed"
    },
    "tags": []
   },
   "source": [
    "<div id=\"exploratory-data-analysis\"\n",
    "     style = \"display: fill;\n",
    "              border-radius: 10px;\n",
    "              background-color: #E50914;\">\n",
    "    <h2 style = \"padding: 15px; \n",
    "                 color: White;\n",
    "                 text-align: left;\n",
    "                 font-family: Trebuchet MS;\">4. Exploratory Data Analysis\n",
    "    </h2>\n",
    "</div>"
   ]
  },
  {
   "cell_type": "code",
   "execution_count": 25,
   "id": "aaf56dc3",
   "metadata": {
    "execution": {
     "iopub.execute_input": "2022-09-23T20:11:02.997358Z",
     "iopub.status.busy": "2022-09-23T20:11:02.996516Z",
     "iopub.status.idle": "2022-09-23T20:11:04.190454Z",
     "shell.execute_reply": "2022-09-23T20:11:04.189475Z"
    },
    "papermill": {
     "duration": 1.211002,
     "end_time": "2022-09-23T20:11:04.194044",
     "exception": false,
     "start_time": "2022-09-23T20:11:02.983042",
     "status": "completed"
    },
    "tags": []
   },
   "outputs": [
    {
     "data": {
      "text/html": [
       "        <script type=\"text/javascript\">\n",
       "        window.PlotlyConfig = {MathJaxConfig: 'local'};\n",
       "        if (window.MathJax && window.MathJax.Hub && window.MathJax.Hub.Config) {window.MathJax.Hub.Config({SVG: {font: \"STIX-Web\"}});}\n",
       "        if (typeof require !== 'undefined') {\n",
       "        require.undef(\"plotly\");\n",
       "        requirejs.config({\n",
       "            paths: {\n",
       "                'plotly': ['https://cdn.plot.ly/plotly-2.14.0.min']\n",
       "            }\n",
       "        });\n",
       "        require(['plotly'], function(Plotly) {\n",
       "            window._Plotly = Plotly;\n",
       "        });\n",
       "        }\n",
       "        </script>\n",
       "        "
      ]
     },
     "metadata": {},
     "output_type": "display_data"
    },
    {
     "data": {
      "text/html": [
       "<div>                            <div id=\"a4d8938b-8ea3-4a6b-bbf9-2617d1e1b4e5\" class=\"plotly-graph-div\" style=\"height:525px; width:100%;\"></div>            <script type=\"text/javascript\">                require([\"plotly\"], function(Plotly) {                    window.PLOTLYENV=window.PLOTLYENV || {};                                    if (document.getElementById(\"a4d8938b-8ea3-4a6b-bbf9-2617d1e1b4e5\")) {                    Plotly.newPlot(                        \"a4d8938b-8ea3-4a6b-bbf9-2617d1e1b4e5\",                        [{\"alignmentgroup\":\"True\",\"hovertemplate\":\"rating=%{x}<br>count=%{y}<extra></extra>\",\"legendgroup\":\"\",\"marker\":{\"color\":\"#636efa\",\"pattern\":{\"shape\":\"\"}},\"name\":\"\",\"offsetgroup\":\"\",\"orientation\":\"v\",\"showlegend\":false,\"textposition\":\"auto\",\"x\":[\"PG-13\",\"TV-MA\",\"TV-MA\",\"TV-MA\",\"TV-MA\",\"TV-MA\",\"PG\",\"TV-MA\",\"TV-14\",\"PG-13\",\"TV-MA\",\"TV-MA\",\"TV-MA\",\"TV-PG\",\"TV-MA\",\"TV-MA\",\"TV-MA\",\"TV-MA\",\"TV-14\",\"TV-MA\",\"TV-14\",\"TV-14\",\"TV-PG\",\"TV-Y\",\"TV-14\",\"TV-14\",\"TV-PG\",\"PG-13\",\"PG-13\",\"PG-13\",\"TV-14\",\"TV-MA\",\"TV-MA\",\"TV-MA\",\"TV-Y7\",\"TV-MA\",\"TV-MA\",\"TV-Y7\",\"PG-13\",\"TV-Y7\",\"TV-Y7\",\"PG\",\"PG\",\"PG\",\"PG-13\",\"PG\",\"R\",\"TV-MA\",\"R\",\"TV-MA\",\"TV-PG\",\"TV-14\",\"TV-14\",\"TV-PG\",\"TV-PG\",\"TV-PG\",\"TV-14\",\"TV-PG\",\"TV-PG\",\"TV-PG\",\"TV-14\",\"TV-PG\",\"TV-PG\",\"TV-PG\",\"TV-PG\",\"TV-Y\",\"TV-G\",\"TV-PG\",\"TV-14\",\"TV-PG\",\"TV-MA\",\"TV-Y\",\"TV-MA\",\"TV-MA\",\"TV-PG\",\"TV-G\",\"TV-14\",\"TV-Y7\",\"TV-14\",\"TV-14\",\"TV-Y7\",\"R\",\"TV-14\",\"TV-MA\",\"TV-MA\",\"TV-Y7\",\"TV-MA\",\"TV-Y\",\"PG-13\",\"TV-Y7\",\"TV-MA\",\"TV-14\",\"TV-MA\",\"TV-MA\",\"PG\",\"TV-MA\",\"TV-MA\",\"TV-Y7\",\"TV-Y\",\"TV-MA\",\"TV-Y7\",\"TV-MA\",\"TV-14\",\"TV-MA\",\"TV-Y\",\"TV-14\",\"TV-G\",\"G\",\"TV-G\",\"TV-MA\",\"TV-MA\",\"TV-Y\",\"PG-13\",\"TV-PG\",\"TV-14\",\"PG\",\"TV-PG\",\"PG-13\",\"TV-14\",\"TV-MA\",\"TV-Y7\",\"TV-14\",\"R\",\"TV-Y7\",\"TV-Y7\",\"TV-MA\",\"TV-14\",\"PG\",\"PG-13\",\"PG-13\",\"TV-Y\",\"R\",\"TV-MA\",\"R\",\"PG-13\",\"R\",\"R\",\"PG\",\"PG-13\",\"R\",\"TV-MA\",\"R\",\"PG-13\",\"PG-13\",\"R\",\"R\",\"R\",\"TV-PG\",\"TV-14\",\"R\",\"R\",\"TV-14\",\"TV-MA\",\"TV-Y\",\"TV-MA\",\"PG\",\"PG\",\"TV-14\",\"PG-13\",\"TV-MA\",\"TV-PG\",\"PG-13\",\"PG-13\",\"R\",\"PG-13\",\"TV-MA\",\"R\",\"PG\",\"PG\",\"PG-13\",\"R\",\"PG-13\",\"PG-13\",\"PG-13\",\"R\",\"R\",\"PG-13\",\"TV-14\",\"R\",\"PG-13\",\"PG-13\",\"TV-14\",\"PG-13\",\"R\",\"TV-PG\",\"TV-MA\",\"TV-14\",\"TV-G\",\"TV-MA\",\"TV-Y\",\"TV-14\",\"R\",\"TV-14\",\"TV-MA\",\"TV-MA\",\"TV-14\",\"TV-14\",\"TV-Y7\",\"TV-MA\",\"TV-14\",\"TV-14\",\"TV-14\",\"TV-MA\",\"TV-MA\",\"TV-MA\",\"TV-14\",\"TV-MA\",\"TV-14\",\"TV-14\",\"TV-14\",\"TV-MA\",\"TV-MA\",\"TV-MA\",\"TV-PG\",\"R\",\"TV-MA\",\"TV-14\",\"TV-14\",\"TV-14\",\"TV-14\",\"TV-PG\",\"TV-14\",\"TV-MA\",\"TV-MA\",\"TV-14\",\"TV-MA\",\"TV-MA\",\"TV-MA\",\"R\",\"TV-MA\",\"TV-MA\",\"PG\",\"TV-G\",\"TV-MA\",\"TV-Y\",\"TV-PG\",\"TV-14\",\"TV-14\",\"TV-14\",\"TV-14\",\"TV-MA\",\"TV-14\",\"TV-MA\",\"TV-MA\",\"TV-14\",\"TV-PG\",\"TV-MA\",\"R\",\"TV-MA\",\"TV-Y7\",\"TV-PG\",\"PG-13\",\"TV-MA\",\"TV-14\",\"TV-Y\",\"TV-MA\",\"TV-14\",\"TV-14\",\"TV-MA\",\"TV-PG\",\"TV-MA\",\"TV-14\",\"TV-MA\",\"TV-Y\",\"R\",\"TV-14\",\"TV-MA\",\"R\",\"TV-MA\",\"TV-Y7\",\"TV-MA\",\"TV-MA\",\"TV-Y7\",\"TV-MA\",\"TV-MA\",\"TV-MA\",\"TV-MA\",\"TV-14\",\"TV-MA\",\"TV-PG\",\"TV-PG\",\"TV-14\",\"TV-MA\",\"PG-13\",\"TV-14\",\"R\",\"TV-Y\",\"TV-14\",\"TV-MA\",\"TV-14\",\"TV-MA\",\"TV-14\",\"PG-13\",\"TV-MA\",\"TV-PG\",\"PG-13\",\"TV-MA\",\"TV-MA\",\"TV-MA\",\"TV-14\",\"PG\",\"TV-14\",\"TV-MA\",\"TV-MA\",\"TV-14\",\"TV-MA\",\"TV-PG\",\"TV-MA\",\"TV-MA\",\"TV-PG\",\"TV-MA\",\"TV-MA\",\"TV-MA\",\"TV-14\",\"R\",\"TV-MA\",\"TV-14\",\"PG-13\",\"TV-MA\",\"TV-14\",\"TV-PG\",\"TV-14\",\"TV-MA\",\"TV-14\",\"TV-Y7\",\"PG\",\"PG\",\"PG-13\",\"R\",\"PG-13\",\"PG\",\"TV-MA\",\"R\",\"PG-13\",\"PG-13\",\"R\",\"TV-14\",\"R\",\"TV-14\",\"TV-14\",\"PG-13\",\"R\",\"PG-13\",\"PG-13\",\"PG\",\"PG\",\"R\",\"PG\",\"PG-13\",\"PG-13\",\"PG-13\",\"R\",\"R\",\"R\",\"R\",\"R\",\"PG-13\",\"R\",\"PG-13\",\"R\",\"PG-13\",\"TV-14\",\"TV-14\",\"R\",\"TV-Y7\",\"TV-14\",\"TV-14\",\"TV-14\",\"TV-14\",\"TV-14\",\"TV-MA\",\"TV-14\",\"TV-MA\",\"TV-MA\",\"TV-PG\",\"TV-14\",\"TV-Y7\",\"TV-MA\",\"TV-14\",\"TV-MA\",\"TV-14\",\"TV-MA\",\"TV-14\",\"TV-MA\",\"TV-14\",\"TV-MA\",\"TV-Y\",\"TV-14\",\"TV-MA\",\"TV-MA\",\"TV-MA\",\"TV-MA\",\"R\",\"PG\",\"TV-MA\",\"TV-MA\",\"TV-MA\",\"TV-MA\",\"TV-MA\",\"TV-PG\",\"TV-PG\",\"TV-MA\",\"TV-MA\",\"TV-MA\",\"TV-MA\",\"TV-Y\",\"TV-Y7\",\"TV-Y7\",\"TV-Y7\",\"TV-Y7\",\"TV-Y7\",\"TV-Y7\",\"TV-Y7\",\"TV-Y7\",\"TV-Y7\",\"TV-Y7\",\"TV-Y7\",\"TV-Y7\",\"TV-Y\",\"TV-Y7\",\"TV-Y7\",\"TV-Y7\",\"TV-Y7\",\"TV-Y7\",\"TV-Y7\",\"TV-14\",\"TV-MA\",\"TV-14\",\"TV-G\",\"TV-14\",\"TV-14\",\"TV-MA\",\"TV-Y7\",\"TV-MA\",\"TV-MA\",\"TV-MA\",\"TV-14\",\"R\",\"TV-PG\",\"TV-MA\",\"TV-MA\",\"R\",\"TV-Y7\",\"R\",\"TV-14\",\"R\",\"PG-13\",\"PG-13\",\"PG-13\",\"PG-13\",\"PG-13\",\"PG-13\",\"TV-PG\",\"TV-MA\",\"TV-MA\",\"TV-MA\",\"TV-14\",\"TV-PG\",\"TV-14\",\"TV-14\",\"PG\",\"TV-14\",\"TV-MA\",\"TV-MA\",\"R\",\"TV-MA\",\"TV-MA\",\"TV-MA\",\"TV-MA\",\"TV-MA\",\"TV-14\",\"TV-PG\",\"TV-Y\",\"TV-MA\",\"R\",\"TV-MA\",\"TV-MA\",\"TV-14\",\"TV-MA\",\"R\",\"TV-14\",\"TV-MA\",\"TV-MA\",\"TV-MA\",\"TV-G\",\"TV-14\",\"PG\",\"TV-MA\",\"TV-14\",\"TV-14\",\"TV-MA\",\"PG-13\",\"PG-13\",\"TV-MA\",\"R\",\"TV-MA\",\"PG-13\",\"TV-14\",\"TV-MA\",\"TV-PG\",\"TV-MA\",\"TV-MA\",\"TV-14\",\"TV-MA\",\"TV-MA\",\"TV-PG\",\"TV-G\",\"TV-14\",\"TV-MA\",\"TV-Y\",\"TV-14\",\"TV-MA\",\"TV-Y7\",\"TV-14\",\"TV-MA\",\"TV-MA\",\"TV-MA\",\"TV-14\",\"TV-14\",\"TV-MA\",\"TV-MA\",\"TV-MA\",\"TV-Y7\",\"TV-MA\",\"TV-MA\",\"TV-Y\",\"TV-MA\",\"TV-Y\",\"TV-14\",\"TV-MA\",\"TV-G\",\"TV-PG\",\"TV-MA\",\"TV-14\",\"TV-G\",\"TV-Y\",\"TV-14\",\"TV-14\",\"TV-PG\",\"TV-PG\",\"TV-G\",\"TV-14\",\"TV-14\",\"TV-MA\",\"TV-MA\",\"TV-Y\",\"TV-14\",\"TV-Y7\",\"TV-14\",\"TV-14\",\"R\",\"TV-MA\",\"TV-MA\",\"TV-MA\",\"TV-MA\",\"R\",\"TV-14\",\"PG-13\",\"R\",\"R\",\"PG-13\",\"PG-13\",\"PG-13\",\"PG-13\",\"R\",\"TV-G\",\"PG-13\",\"PG-13\",\"PG\",\"TV-14\",\"TV-14\",\"TV-MA\",\"PG-13\",\"PG\",\"PG\",\"PG-13\",\"R\",\"TV-MA\",\"PG-13\",\"R\",\"TV-14\",\"PG-13\",\"PG-13\",\"R\",\"R\",\"PG-13\",\"R\",\"TV-MA\",\"TV-Y\",\"R\",\"TV-Y7\",\"PG-13\",\"R\",\"PG\",\"PG-13\",\"PG\",\"R\",\"PG-13\",\"R\",\"PG-13\",\"R\",\"PG\",\"PG\",\"PG\",\"R\",\"R\",\"PG-13\",\"R\",\"PG-13\",\"PG-13\",\"R\",\"R\",\"R\",\"TV-MA\",\"PG-13\",\"R\",\"R\",\"TV-MA\",\"TV-MA\",\"TV-14\",\"TV-MA\",\"TV-14\",\"R\",\"TV-MA\",\"TV-MA\",\"TV-MA\",\"TV-MA\",\"TV-14\",\"TV-Y\",\"TV-14\",\"R\",\"TV-14\",\"TV-14\",\"TV-MA\",\"TV-14\",\"TV-MA\",\"PG-13\",\"TV-MA\",\"TV-MA\",\"TV-14\",\"TV-MA\",\"PG\",\"TV-MA\",\"R\",\"TV-MA\",\"TV-14\",\"TV-MA\",\"TV-G\",\"TV-MA\",\"TV-14\",\"TV-14\",\"TV-MA\",\"TV-14\",\"TV-MA\",\"TV-MA\",\"TV-MA\",\"TV-MA\",\"TV-14\",\"TV-14\",\"TV-14\",\"TV-14\",\"TV-MA\",\"TV-14\",\"TV-MA\",\"TV-Y\",\"TV-MA\",\"TV-14\",\"TV-14\",\"TV-MA\",\"TV-MA\",\"TV-14\",\"TV-MA\",\"TV-14\",\"TV-MA\",\"TV-MA\",\"TV-MA\",\"TV-14\",\"TV-MA\",\"TV-MA\",\"TV-MA\",\"TV-MA\",\"TV-MA\",\"TV-MA\",\"TV-MA\",\"TV-MA\",\"PG-13\",\"TV-14\",\"TV-MA\",\"TV-14\",\"TV-14\",\"TV-14\",\"TV-14\",\"TV-14\",\"TV-14\",\"TV-PG\",\"TV-14\",\"TV-MA\",\"TV-MA\",\"TV-MA\",\"TV-MA\",\"TV-MA\",\"TV-MA\",\"R\",\"TV-MA\",\"TV-14\",\"TV-14\",\"TV-MA\",\"TV-14\",\"PG-13\",\"TV-MA\",\"TV-PG\",\"TV-MA\",\"TV-MA\",\"TV-Y7\",\"TV-MA\",\"TV-MA\",\"TV-MA\",\"TV-G\",\"R\",\"TV-G\",\"TV-Y\",\"R\",\"TV-MA\",\"TV-G\",\"TV-14\",\"TV-MA\",\"TV-MA\",\"TV-MA\",\"TV-MA\",\"TV-MA\",\"TV-MA\",\"TV-14\",\"TV-MA\",\"TV-Y7\",\"TV-MA\",\"TV-PG\",\"PG\",\"TV-MA\",\"TV-14\",\"PG\",\"R\",\"TV-MA\",\"TV-MA\",\"TV-MA\",\"TV-MA\",\"TV-14\",\"TV-MA\",\"TV-MA\",\"TV-PG\",\"TV-MA\",\"TV-MA\",\"TV-Y7\",\"PG-13\",\"TV-MA\",\"R\",\"TV-G\",\"TV-MA\",\"TV-PG\",\"TV-MA\",\"TV-G\",\"TV-G\",\"TV-PG\",\"TV-14\",\"TV-14\",\"TV-14\",\"TV-MA\",\"TV-MA\",\"TV-14\",\"TV-MA\",\"TV-G\",\"TV-14\",\"TV-14\",\"TV-MA\",\"TV-MA\",\"PG-13\",\"TV-MA\",\"PG-13\",\"TV-MA\",\"TV-MA\",\"PG-13\",\"TV-Y\",\"TV-14\",\"R\",\"TV-MA\",\"TV-MA\",\"TV-Y\",\"R\",\"R\",\"PG-13\",\"TV-14\",\"TV-MA\",\"R\",\"PG\",\"PG-13\",\"TV-14\",\"TV-14\",\"R\",\"PG-13\",\"R\",\"PG-13\",\"TV-14\",\"R\",\"R\",\"TV-PG\",\"R\",\"TV-14\",\"TV-14\",\"TV-PG\",\"R\",\"PG-13\",\"PG\",\"TV-Y\",\"R\",\"TV-Y7\",\"PG\",\"TV-MA\",\"PG-13\",\"PG-13\",\"PG-13\",\"PG\",\"TV-14\",\"R\",\"R\",\"TV-MA\",\"R\",\"TV-MA\",\"TV-MA\",\"TV-14\",\"PG-13\",\"TV-Y7\",\"TV-MA\",\"TV-MA\",\"TV-14\",\"TV-MA\",\"TV-PG\",\"TV-PG\",\"TV-MA\",\"TV-MA\",\"TV-MA\",\"TV-MA\",\"TV-MA\",\"TV-MA\",\"TV-14\",\"TV-MA\",\"TV-MA\",\"TV-14\",\"PG\",\"TV-MA\",\"TV-MA\",\"TV-G\",\"TV-14\",\"TV-14\",\"TV-14\",\"R\",\"TV-MA\",\"TV-Y7\",\"TV-MA\",\"TV-MA\",\"TV-14\",\"TV-14\",\"TV-MA\",\"TV-Y7\",\"TV-MA\",\"PG\",\"TV-14\",\"R\",\"R\",\"PG-13\",\"TV-Y\",\"TV-MA\",\"TV-14\",\"TV-14\",\"R\",\"TV-MA\",\"TV-Y\",\"TV-MA\",\"TV-MA\",\"TV-MA\",\"TV-MA\",\"TV-MA\",\"TV-MA\",\"TV-MA\",\"TV-Y7\",\"TV-MA\",\"TV-MA\",\"TV-MA\",\"TV-14\",\"TV-MA\",\"TV-14\",\"R\",\"TV-MA\",\"R\",\"TV-MA\",\"TV-14\",\"TV-MA\",\"TV-14\",\"TV-14\",\"TV-14\",\"TV-14\",\"TV-MA\",\"TV-14\",\"TV-PG\",\"TV-14\",\"TV-MA\",\"R\",\"TV-14\",\"TV-MA\",\"TV-MA\",\"TV-MA\",\"TV-14\",\"TV-MA\",\"TV-Y7\",\"TV-14\",\"TV-PG\",\"TV-MA\",\"TV-MA\",\"R\",\"TV-MA\",\"TV-PG\",\"TV-MA\",\"TV-PG\",\"TV-MA\",\"TV-MA\",\"TV-Y\",\"PG\",\"TV-Y\",\"R\",\"TV-Y\",\"PG-13\",\"R\",\"R\",\"PG-13\",\"R\",\"G\",\"R\",\"PG\",\"TV-Y7\",\"TV-Y7\",\"TV-Y7\",\"TV-Y7\",\"TV-Y7\",\"TV-Y7\",\"R\",\"PG-13\",\"TV-MA\",\"TV-MA\",\"PG-13\",\"PG-13\",\"TV-14\",\"PG-13\",\"PG-13\",\"R\",\"R\",\"R\",\"TV-PG\",\"R\",\"R\",\"TV-PG\",\"TV-14\",\"TV-MA\",\"TV-MA\",\"PG\",\"R\",\"TV-MA\",\"TV-MA\",\"TV-MA\",\"TV-MA\",\"TV-G\",\"TV-MA\",\"R\",\"PG-13\",\"R\",\"TV-MA\",\"TV-PG\",\"TV-14\",\"TV-14\",\"TV-14\",\"TV-14\",\"TV-MA\",\"TV-MA\",\"TV-MA\",\"TV-MA\",\"TV-14\",\"TV-MA\",\"TV-MA\",\"TV-MA\",\"TV-14\",\"TV-MA\",\"TV-14\",\"TV-MA\",\"TV-MA\",\"TV-G\",\"TV-G\",\"TV-14\",\"TV-14\",\"TV-MA\",\"TV-MA\",\"TV-PG\",\"TV-14\",\"TV-MA\",\"TV-MA\",\"TV-14\",\"TV-MA\",\"TV-MA\",\"TV-Y\",\"TV-Y\",\"TV-Y7\",\"TV-Y\",\"TV-Y\",\"TV-Y7\",\"TV-Y7\",\"TV-14\",\"TV-MA\",\"R\",\"TV-Y\",\"R\",\"TV-MA\",\"TV-MA\",\"TV-14\",\"PG\",\"TV-14\",\"TV-MA\",\"PG\",\"TV-MA\",\"TV-Y7\",\"TV-Y7\",\"TV-Y\",\"R\",\"TV-14\",\"TV-MA\",\"TV-MA\",\"TV-14\",\"TV-14\",\"R\",\"R\",\"PG-13\",\"TV-14\",\"TV-14\",\"TV-PG\",\"TV-MA\",\"TV-MA\",\"TV-MA\",\"TV-PG\",\"TV-14\",\"TV-MA\",\"TV-14\",\"TV-14\",\"TV-14\",\"TV-Y\",\"TV-Y\",\"TV-MA\",\"TV-Y7\",\"R\",\"TV-MA\",\"TV-14\",\"R\",\"TV-PG\",\"TV-14\",\"TV-MA\",\"TV-MA\",\"TV-14\",\"TV-MA\",\"TV-14\",\"TV-MA\",\"TV-MA\",\"TV-MA\",\"TV-MA\",\"TV-MA\",\"TV-MA\",\"TV-14\",\"TV-MA\",\"TV-Y7\",\"TV-Y7\",\"TV-Y7\",\"TV-Y7\",\"TV-PG\",\"TV-Y7\",\"TV-Y7\",\"TV-Y\",\"TV-PG\",\"TV-14\",\"TV-G\",\"TV-14\",\"R\",\"TV-14\",\"TV-MA\",\"TV-MA\",\"TV-14\",\"PG-13\",\"TV-MA\",\"TV-PG\",\"TV-MA\",\"TV-PG\",\"TV-14\",\"TV-MA\",\"TV-MA\",\"TV-Y7\",\"TV-MA\",\"TV-14\",\"TV-MA\",\"TV-MA\",\"PG\",\"PG-13\",\"R\",\"TV-Y\",\"R\",\"R\",\"TV-MA\",\"TV-MA\",\"TV-MA\",\"TV-MA\",\"PG-13\",\"PG\",\"PG-13\",\"PG-13\",\"TV-PG\",\"TV-PG\",\"TV-PG\",\"PG-13\",\"R\",\"PG-13\",\"PG-13\",\"TV-14\",\"TV-G\",\"R\",\"TV-MA\",\"G\",\"TV-MA\",\"R\",\"TV-PG\",\"TV-14\",\"TV-14\",\"TV-14\",\"R\",\"R\",\"PG-13\",\"TV-14\",\"TV-PG\",\"R\",\"PG-13\",\"R\",\"TV-14\",\"TV-MA\",\"TV-MA\",\"PG-13\",\"PG-13\",\"TV-14\",\"TV-MA\",\"TV-Y\",\"TV-Y7\",\"TV-PG\",\"TV-Y\",\"TV-Y\",\"PG-13\",\"R\",\"TV-PG\",\"TV-PG\",\"TV-MA\",\"TV-G\",\"TV-MA\",\"TV-MA\",\"TV-PG\",\"TV-14\",\"TV-MA\",\"TV-MA\",\"TV-PG\",\"TV-14\",\"TV-14\",\"TV-MA\",\"TV-Y7\",\"TV-Y7\",\"TV-14\",\"TV-MA\",\"TV-14\",\"TV-14\",\"PG-13\",\"TV-MA\",\"TV-MA\",\"R\",\"TV-Y7\",\"TV-Y7\",\"TV-PG\",\"TV-MA\",\"TV-G\",\"TV-14\",\"TV-MA\",\"TV-MA\",\"R\",\"TV-14\",\"TV-G\",\"R\",\"PG-13\",\"TV-MA\",\"TV-PG\",\"TV-14\",\"R\",\"TV-14\",\"PG-13\",\"TV-MA\",\"R\",\"TV-Y\",\"TV-14\",\"TV-14\",\"PG\",\"TV-14\",\"TV-MA\",\"TV-G\",\"TV-14\",\"TV-MA\",\"TV-G\",\"TV-MA\",\"TV-14\",\"TV-MA\",\"TV-MA\",\"TV-MA\",\"TV-MA\",\"TV-MA\",\"TV-MA\",\"PG\",\"TV-PG\",\"TV-MA\",\"TV-14\",\"TV-MA\",\"TV-MA\",\"TV-MA\",\"TV-G\",\"TV-14\",\"TV-MA\",\"PG-13\",\"TV-14\",\"TV-14\",\"TV-Y7\",\"TV-MA\",\"TV-14\",\"TV-MA\",\"TV-Y7\",\"TV-MA\",\"TV-14\",\"TV-14\",\"R\",\"PG-13\",\"PG-13\",\"TV-14\",\"PG-13\",\"TV-14\",\"TV-Y\",\"TV-MA\",\"TV-PG\",\"R\",\"TV-MA\",\"TV-G\",\"PG-13\",\"TV-14\",\"TV-Y\",\"R\",\"TV-14\",\"R\",\"TV-14\",\"TV-Y7\",\"R\",\"TV-MA\",\"TV-MA\",\"TV-MA\",\"R\",\"R\",\"TV-MA\",\"TV-MA\",\"TV-MA\",\"TV-MA\",\"TV-PG\",\"TV-MA\",\"TV-MA\",\"TV-MA\",\"TV-14\",\"TV-PG\",\"TV-14\",\"TV-MA\",\"TV-14\",\"TV-G\",\"TV-14\",\"TV-14\",\"TV-14\",\"TV-MA\",\"R\",\"R\",\"TV-14\",\"TV-MA\",\"TV-14\",\"PG-13\",\"TV-G\",\"R\",\"TV-14\",\"TV-PG\",\"TV-MA\",\"TV-MA\",\"TV-MA\",\"TV-14\",\"TV-14\",\"TV-14\",\"TV-MA\",\"TV-MA\",\"TV-MA\",\"TV-14\",\"TV-PG\",\"TV-PG\",\"TV-14\",\"TV-MA\",\"PG\",\"TV-Y7\",\"TV-14\",\"TV-14\",\"TV-14\",\"TV-MA\",\"TV-14\",\"TV-MA\",\"TV-MA\",\"TV-MA\",\"TV-G\",\"TV-14\",\"TV-Y7\",\"TV-MA\",\"TV-MA\",\"TV-14\",\"TV-14\",\"R\",\"TV-MA\",\"TV-14\",\"TV-MA\",\"TV-MA\",\"TV-MA\",\"PG\",\"TV-MA\",\"TV-G\",\"R\",\"TV-14\",\"TV-MA\",\"TV-MA\",\"TV-PG\",\"TV-MA\",\"TV-MA\",\"TV-14\",\"R\",\"TV-MA\",\"R\",\"TV-MA\",\"TV-14\",\"TV-MA\",\"TV-MA\",\"TV-MA\",\"TV-MA\",\"TV-Y7\",\"TV-PG\",\"TV-MA\",\"PG-13\",\"TV-14\",\"TV-14\",\"TV-14\",\"TV-MA\",\"R\",\"R\",\"TV-MA\",\"TV-14\",\"TV-PG\",\"TV-14\",\"PG\",\"TV-Y7\",\"PG-13\",\"R\",\"TV-MA\",\"PG\",\"PG-13\",\"TV-14\",\"TV-PG\",\"TV-MA\",\"TV-14\",\"TV-MA\",\"TV-MA\",\"TV-MA\",\"TV-14\",\"TV-14\",\"TV-Y\",\"TV-14\",\"TV-PG\",\"TV-14\",\"TV-14\",\"TV-14\",\"TV-MA\",\"PG-13\",\"R\",\"R\",\"R\",\"R\",\"TV-MA\",\"TV-14\",\"TV-MA\",\"TV-Y\",\"R\",\"PG-13\",\"R\",\"TV-14\",\"TV-MA\",\"TV-Y7\",\"TV-14\",\"TV-G\",\"TV-G\",\"R\",\"PG\",\"TV-Y\",\"TV-MA\",\"R\",\"TV-MA\",\"TV-14\",\"TV-PG\",\"TV-MA\",\"TV-14\",\"R\",\"TV-MA\",\"TV-MA\",\"TV-MA\",\"TV-MA\",\"TV-MA\",\"R\",\"TV-14\",\"TV-14\",\"TV-Y7\",\"TV-14\",\"TV-MA\",\"TV-MA\",\"TV-MA\",\"TV-Y\",\"TV-14\",\"TV-MA\",\"TV-14\",\"TV-14\",\"PG\",\"R\",\"TV-MA\",\"TV-MA\",\"TV-14\",\"TV-MA\",\"TV-PG\",\"TV-14\",\"TV-G\",\"TV-14\",\"PG-13\",\"TV-14\",\"TV-MA\",\"R\",\"TV-14\",\"TV-G\",\"R\",\"TV-Y\",\"PG-13\",\"PG\",\"PG-13\",\"TV-G\",\"R\",\"TV-MA\",\"R\",\"PG-13\",\"TV-MA\",\"R\",\"TV-Y7\",\"TV-Y\",\"TV-14\",\"TV-G\",\"TV-14\",\"PG-13\",\"TV-MA\",\"PG-13\",\"TV-MA\",\"TV-MA\",\"TV-14\",\"TV-14\",\"TV-PG\",\"TV-14\",\"TV-G\",\"TV-MA\",\"TV-MA\",\"TV-MA\",\"TV-14\",\"TV-MA\",\"TV-Y7\",\"TV-PG\",\"PG-13\",\"PG\",\"TV-MA\",\"TV-MA\",\"TV-MA\",\"TV-PG\",\"TV-Y\",\"TV-MA\",\"TV-MA\",\"TV-G\",\"PG\",\"TV-MA\",\"TV-G\",\"TV-14\",\"TV-14\",\"PG-13\",\"TV-MA\",\"R\",\"TV-MA\",\"TV-14\",\"TV-14\",\"TV-Y\",\"TV-Y\",\"TV-Y\",\"TV-Y\",\"TV-MA\",\"R\",\"TV-14\",\"TV-MA\",\"PG-13\",\"TV-MA\",\"R\",\"TV-MA\",\"R\",\"TV-PG\",\"TV-PG\",\"TV-MA\",\"TV-PG\",\"TV-14\",\"TV-14\",\"R\",\"TV-14\",\"TV-14\",\"TV-Y\",\"TV-MA\",\"TV-14\",\"TV-MA\",\"TV-PG\",\"TV-MA\",\"TV-MA\",\"TV-MA\",\"TV-MA\",\"PG-13\",\"PG-13\",\"TV-14\",\"TV-14\",\"R\",\"TV-MA\",\"TV-MA\",\"TV-14\",\"R\",\"TV-Y\",\"TV-MA\",\"TV-14\",\"TV-14\",\"TV-14\",\"PG-13\",\"TV-Y7\",\"TV-MA\",\"TV-MA\",\"TV-14\",\"TV-Y\",\"TV-Y\",\"G\",\"PG-13\",\"TV-MA\",\"PG-13\",\"TV-MA\",\"TV-MA\",\"TV-MA\",\"TV-14\",\"TV-G\",\"TV-14\",\"TV-MA\",\"TV-MA\",\"TV-14\",\"TV-14\",\"TV-14\",\"TV-G\",\"TV-PG\",\"TV-14\",\"TV-PG\",\"PG\",\"TV-MA\",\"TV-PG\",\"TV-14\",\"TV-Y7\",\"TV-Y\",\"R\",\"TV-14\",\"R\",\"TV-14\",\"TV-MA\",\"TV-MA\",\"TV-Y\",\"TV-MA\",\"TV-MA\",\"TV-Y7\",\"TV-MA\",\"TV-MA\",\"TV-MA\",\"R\",\"TV-MA\",\"TV-PG\",\"TV-14\",\"TV-MA\",\"TV-Y\",\"TV-MA\",\"TV-14\",\"TV-PG\",\"TV-MA\",\"TV-14\",\"TV-MA\",\"TV-MA\",\"PG-13\",\"TV-Y\",\"PG-13\",\"TV-14\",\"R\",\"PG-13\",\"TV-Y\",\"TV-14\",\"PG\",\"TV-MA\",\"TV-Y\",\"TV-Y\",\"R\",\"PG-13\",\"TV-MA\",\"TV-14\",\"PG-13\",\"TV-14\",\"R\",\"TV-PG\",\"TV-PG\",\"TV-MA\",\"TV-PG\",\"R\",\"TV-Y\",\"TV-MA\",\"TV-14\",\"TV-Y\",\"TV-PG\",\"TV-MA\",\"TV-MA\",\"TV-14\",\"TV-MA\",\"TV-14\",\"TV-MA\",\"TV-MA\",\"TV-PG\",\"TV-14\",\"TV-MA\",\"TV-14\",\"R\",\"TV-MA\",\"TV-PG\",\"PG\",\"TV-14\",\"TV-14\",\"TV-MA\",\"TV-Y\",\"R\",\"TV-MA\",\"TV-14\",\"R\",\"TV-MA\",\"TV-MA\",\"TV-14\",\"TV-PG\",\"R\",\"TV-14\",\"TV-Y\",\"TV-G\",\"TV-14\",\"PG\",\"TV-MA\",\"TV-PG\",\"TV-PG\",\"TV-MA\",\"TV-14\",\"TV-14\",\"TV-14\",\"TV-14\",\"TV-MA\",\"TV-14\",\"TV-14\",\"TV-G\",\"TV-G\",\"TV-14\",\"TV-G\",\"TV-PG\",\"TV-MA\",\"TV-Y7\",\"TV-MA\",\"PG-13\",\"R\",\"TV-G\",\"TV-14\",\"TV-Y\",\"PG\",\"TV-G\",\"TV-Y\",\"TV-14\",\"TV-MA\",\"TV-G\",\"TV-14\",\"TV-MA\",\"TV-Y7\",\"PG\",\"TV-PG\",\"PG-13\",\"TV-MA\",\"TV-G\",\"TV-MA\",\"TV-MA\",\"R\",\"TV-MA\",\"TV-MA\",\"TV-MA\",\"PG-13\",\"TV-14\",\"TV-MA\",\"TV-MA\",\"TV-MA\",\"TV-14\",\"TV-MA\",\"TV-14\",\"TV-14\",\"TV-Y7\",\"TV-PG\",\"TV-MA\",\"TV-PG\",\"TV-MA\",\"TV-MA\",\"R\",\"TV-MA\",\"TV-MA\",\"TV-14\",\"TV-14\",\"TV-G\",\"TV-14\",\"TV-G\",\"TV-14\",\"TV-G\",\"TV-PG\",\"TV-MA\",\"TV-PG\",\"TV-MA\",\"TV-14\",\"TV-PG\",\"TV-PG\",\"TV-MA\",\"R\",\"TV-MA\",\"TV-PG\",\"TV-14\",\"TV-Y\",\"TV-Y\",\"PG\",\"TV-14\",\"TV-14\",\"TV-Y\",\"TV-Y\",\"TV-Y7\",\"TV-Y7\",\"TV-Y\",\"PG\",\"R\",\"R\",\"R\",\"TV-Y\",\"TV-MA\",\"PG-13\",\"PG\",\"TV-14\",\"R\",\"TV-PG\",\"TV-MA\",\"TV-PG\",\"TV-14\",\"TV-14\",\"TV-14\",\"TV-14\",\"TV-Y\",\"TV-14\",\"TV-MA\",\"TV-14\",\"TV-MA\",\"TV-MA\",\"TV-14\",\"TV-MA\",\"TV-14\",\"R\",\"TV-MA\",\"TV-PG\",\"TV-MA\",\"TV-Y\",\"TV-14\",\"TV-MA\",\"TV-14\",\"TV-14\",\"R\",\"TV-MA\",\"TV-MA\",\"TV-MA\",\"TV-MA\",\"PG\",\"TV-14\",\"TV-MA\",\"TV-MA\",\"TV-MA\",\"TV-MA\",\"TV-MA\",\"PG-13\",\"TV-14\",\"R\",\"R\",\"TV-PG\",\"TV-MA\",\"PG-13\",\"TV-Y\",\"PG-13\",\"TV-14\",\"TV-14\",\"TV-MA\",\"TV-14\",\"TV-MA\",\"TV-MA\",\"TV-MA\",\"TV-MA\",\"TV-MA\",\"TV-14\",\"TV-MA\",\"TV-MA\",\"TV-MA\",\"TV-14\",\"TV-14\",\"TV-MA\",\"PG\",\"TV-14\",\"R\",\"TV-MA\",\"TV-MA\",\"R\",\"TV-MA\",\"TV-MA\",\"TV-Y7\",\"R\",\"R\",\"TV-PG\",\"R\",\"TV-14\",\"TV-Y\",\"TV-14\",\"TV-PG\",\"TV-14\",\"TV-14\",\"TV-Y7\",\"TV-PG\",\"TV-MA\",\"TV-14\",\"TV-14\",\"TV-MA\",\"TV-14\",\"TV-Y\",\"TV-MA\",\"TV-14\",\"TV-14\",\"TV-MA\",\"TV-Y7\",\"TV-14\",\"TV-14\",\"TV-MA\",\"TV-MA\",\"TV-MA\",\"TV-MA\",\"TV-Y\",\"R\",\"TV-MA\",\"TV-MA\",\"TV-14\",\"TV-MA\",\"TV-14\",\"TV-MA\",\"PG-13\",\"TV-MA\",\"R\",\"TV-14\",\"TV-Y\",\"TV-14\",\"TV-14\",\"PG\",\"TV-MA\",\"TV-14\",\"TV-Y\",\"TV-Y\",\"TV-14\",\"TV-Y\",\"TV-PG\",\"TV-MA\",\"TV-PG\",\"TV-MA\",\"TV-MA\",\"TV-MA\",\"TV-MA\",\"PG-13\",\"TV-MA\",\"TV-PG\",\"R\",\"TV-14\",\"TV-MA\",\"TV-14\",\"TV-MA\",\"TV-MA\",\"R\",\"TV-MA\",\"TV-14\",\"PG-13\",\"TV-MA\",\"TV-MA\",\"TV-MA\",\"PG-13\",\"TV-MA\",\"TV-MA\",\"TV-PG\",\"TV-14\",\"R\",\"TV-PG\",\"TV-14\",\"TV-14\",\"TV-MA\",\"TV-MA\",\"TV-PG\",\"TV-MA\",\"TV-PG\",\"TV-MA\",\"R\",\"TV-MA\",\"TV-MA\",\"PG-13\",\"TV-MA\",\"R\",\"PG-13\",\"TV-PG\",\"TV-14\",\"TV-MA\",\"TV-PG\",\"TV-14\",\"TV-14\",\"TV-14\",\"TV-14\",\"TV-PG\",\"TV-PG\",\"TV-MA\",\"TV-14\",\"TV-14\",\"TV-14\",\"TV-Y\",\"TV-MA\",\"TV-MA\",\"TV-MA\",\"TV-MA\",\"PG-13\",\"TV-MA\",\"PG-13\",\"TV-G\",\"TV-MA\",\"TV-PG\",\"TV-PG\",\"TV-MA\",\"TV-MA\",\"TV-MA\",\"TV-MA\",\"TV-MA\",\"TV-MA\",\"TV-MA\",\"TV-14\",\"TV-14\",\"TV-Y\",\"TV-MA\",\"TV-14\",\"TV-MA\",\"TV-MA\",\"TV-MA\",\"TV-G\",\"TV-14\",\"TV-14\",\"TV-14\",\"TV-MA\",\"TV-MA\",\"TV-Y\",\"TV-14\",\"TV-MA\",\"TV-MA\",\"TV-MA\",\"TV-14\",\"TV-MA\",\"TV-MA\",\"TV-MA\",\"TV-PG\",\"R\",\"TV-MA\",\"R\",\"TV-MA\",\"TV-PG\",\"TV-MA\",\"R\",\"TV-MA\",\"PG\",\"PG\",\"TV-MA\",\"TV-Y\",\"TV-14\",\"TV-MA\",\"TV-14\",\"PG\",\"TV-Y7\",\"TV-MA\",\"TV-MA\",\"TV-14\",\"TV-14\",\"TV-14\",\"TV-14\",\"TV-PG\",\"TV-PG\",\"TV-G\",\"TV-14\",\"TV-G\",\"TV-MA\",\"TV-MA\",\"TV-14\",\"TV-14\",\"TV-G\",\"TV-14\",\"TV-MA\",\"TV-14\",\"TV-MA\",\"TV-PG\",\"TV-MA\",\"TV-14\",\"PG-13\",\"TV-MA\",\"TV-14\",\"TV-G\",\"TV-MA\",\"TV-Y7\",\"PG\",\"TV-MA\",\"R\",\"TV-14\",\"R\",\"TV-14\",\"TV-Y7\",\"TV-MA\",\"TV-14\",\"TV-MA\",\"TV-PG\",\"TV-PG\",\"TV-MA\",\"TV-14\",\"TV-MA\",\"PG\",\"TV-G\",\"TV-MA\",\"PG-13\",\"TV-14\",\"TV-Y\",\"TV-MA\",\"TV-Y\",\"TV-MA\",\"TV-PG\",\"TV-14\",\"TV-14\",\"TV-MA\",\"TV-MA\",\"TV-Y7\",\"PG\",\"R\",\"TV-PG\",\"TV-14\",\"TV-MA\",\"TV-Y7\",\"TV-MA\",\"TV-14\",\"PG\",\"TV-Y\",\"TV-Y\",\"TV-14\",\"TV-MA\",\"PG\",\"TV-MA\",\"TV-MA\",\"TV-MA\",\"TV-MA\",\"TV-14\",\"TV-MA\",\"TV-MA\",\"PG-13\",\"TV-MA\",\"TV-MA\",\"TV-MA\",\"TV-MA\",\"PG-13\",\"TV-Y\",\"TV-MA\",\"PG-13\",\"TV-MA\",\"TV-G\",\"TV-14\",\"TV-MA\",\"TV-MA\",\"TV-14\",\"TV-PG\",\"TV-MA\",\"TV-PG\",\"TV-MA\",\"TV-14\",\"TV-14\",\"TV-14\",\"TV-Y7\",\"R\",\"TV-PG\",\"TV-PG\",\"TV-Y7\",\"TV-PG\",\"PG-13\",\"PG-13\",\"TV-MA\",\"TV-PG\",\"TV-MA\",\"TV-14\",\"TV-PG\",\"TV-MA\",\"TV-G\",\"TV-Y7\",\"TV-MA\",\"TV-Y\",\"R\",\"TV-MA\",\"TV-MA\",\"TV-Y7\",\"TV-Y7\",\"TV-MA\",\"R\",\"TV-MA\",\"TV-MA\",\"TV-14\",\"PG\",\"TV-MA\",\"TV-G\",\"TV-MA\",\"PG-13\",\"TV-14\",\"TV-14\",\"R\",\"TV-MA\",\"TV-MA\",\"TV-MA\",\"TV-PG\",\"TV-14\",\"TV-Y\",\"TV-PG\",\"TV-Y7\",\"TV-Y\",\"TV-14\",\"TV-Y7\",\"TV-PG\",\"TV-MA\",\"TV-14\",\"TV-14\",\"TV-14\",\"TV-Y\",\"TV-G\",\"TV-PG\",\"TV-MA\",\"TV-MA\",\"TV-MA\",\"R\",\"TV-PG\",\"TV-G\",\"TV-14\",\"R\",\"TV-Y\",\"TV-G\",\"R\",\"TV-14\",\"TV-Y\",\"TV-MA\",\"R\",\"TV-PG\",\"TV-Y\",\"TV-MA\",\"TV-MA\",\"TV-G\",\"TV-PG\",\"TV-14\",\"TV-MA\",\"TV-Y7\",\"TV-MA\",\"TV-MA\",\"TV-MA\",\"TV-MA\",\"TV-MA\",\"TV-MA\",\"TV-PG\",\"TV-MA\",\"TV-MA\",\"TV-MA\",\"TV-MA\",\"TV-14\",\"TV-14\",\"TV-MA\",\"TV-Y7\",\"TV-Y\",\"TV-MA\",\"TV-MA\",\"TV-MA\",\"TV-G\",\"TV-14\",\"TV-14\",\"TV-Y7\",\"TV-PG\",\"TV-MA\",\"TV-MA\",\"TV-MA\",\"TV-MA\",\"TV-MA\",\"TV-PG\",\"TV-MA\",\"TV-14\",\"TV-Y\",\"TV-MA\",\"TV-MA\",\"R\",\"TV-14\",\"TV-MA\",\"TV-MA\",\"TV-14\",\"TV-MA\",\"TV-14\",\"TV-MA\",\"TV-Y7\",\"TV-MA\",\"TV-Y\",\"TV-14\",\"TV-MA\",\"TV-MA\",\"TV-MA\",\"TV-MA\",\"TV-MA\",\"TV-14\",\"TV-PG\",\"TV-14\",\"TV-14\",\"TV-Y7\",\"R\",\"TV-MA\",\"TV-G\",\"TV-MA\",\"TV-MA\",\"TV-14\",\"R\",\"TV-14\",\"TV-MA\",\"R\",\"PG\",\"TV-MA\",\"TV-MA\",\"TV-MA\",\"TV-14\",\"TV-14\",\"TV-14\",\"TV-MA\",\"TV-14\",\"TV-MA\",\"TV-14\",\"TV-PG\",\"TV-14\",\"TV-14\",\"TV-14\",\"TV-MA\",\"TV-MA\",\"TV-14\",\"TV-PG\",\"TV-MA\",\"TV-MA\",\"TV-PG\",\"TV-14\",\"TV-MA\",\"TV-14\",\"TV-14\",\"TV-MA\",\"TV-MA\",\"TV-MA\",\"TV-PG\",\"TV-14\",\"TV-14\",\"TV-Y7\",\"TV-MA\",\"TV-MA\",\"TV-MA\",\"PG-13\",\"TV-MA\",\"TV-PG\",\"TV-G\",\"TV-MA\",\"TV-G\",\"TV-MA\",\"TV-MA\",\"TV-14\",\"TV-MA\",\"TV-MA\",\"TV-Y\",\"TV-MA\",\"TV-MA\",\"TV-MA\",\"R\",\"TV-MA\",\"TV-14\",\"PG-13\",\"TV-MA\",\"TV-14\",\"R\",\"TV-Y\",\"TV-MA\",\"TV-14\",\"TV-MA\",\"TV-MA\",\"TV-14\",\"TV-G\",\"TV-MA\",\"TV-14\",\"TV-MA\",\"PG\",\"TV-MA\",\"PG-13\",\"TV-MA\",\"TV-14\",\"TV-MA\",\"TV-MA\",\"TV-14\",\"TV-14\",\"TV-G\",\"TV-MA\",\"TV-14\",\"TV-14\",\"PG-13\",\"TV-MA\",\"TV-PG\",\"TV-MA\",\"TV-MA\",\"TV-14\",\"TV-14\",\"TV-PG\",\"TV-MA\",\"R\",\"TV-MA\",\"TV-14\",\"TV-MA\",\"TV-14\",\"TV-MA\",\"TV-G\",\"TV-PG\",\"TV-MA\",\"TV-MA\",\"TV-MA\",\"TV-14\",\"TV-MA\",\"TV-MA\",\"TV-PG\",\"TV-MA\",\"TV-MA\",\"TV-MA\",\"TV-14\",\"TV-14\",\"TV-PG\",\"TV-14\",\"TV-G\",\"TV-MA\",\"TV-MA\",\"TV-14\",\"TV-MA\",\"PG\",\"TV-MA\",\"R\",\"TV-PG\",\"TV-14\",\"PG-13\",\"TV-PG\",\"TV-MA\",\"PG\",\"TV-14\",\"TV-MA\",\"TV-G\",\"TV-14\",\"TV-14\",\"TV-14\",\"TV-MA\",\"R\",\"TV-MA\",\"TV-MA\",\"TV-MA\",\"TV-MA\",\"PG\",\"TV-14\",\"TV-MA\",\"TV-MA\",\"TV-MA\",\"TV-14\",\"TV-MA\",\"TV-14\",\"TV-MA\",\"R\",\"TV-MA\",\"TV-MA\",\"TV-MA\",\"PG-13\",\"TV-MA\",\"TV-14\",\"TV-14\",\"TV-MA\",\"R\",\"TV-MA\",\"TV-14\",\"PG-13\",\"TV-14\",\"TV-MA\",\"TV-14\",\"TV-14\",\"TV-MA\",\"TV-MA\",\"TV-MA\",\"TV-14\",\"TV-MA\",\"TV-MA\",\"R\",\"TV-G\",\"TV-14\",\"TV-14\",\"TV-14\",\"TV-14\",\"TV-14\",\"TV-MA\",\"TV-14\",\"TV-14\",\"TV-Y\",\"TV-PG\",\"TV-14\",\"TV-MA\",\"TV-Y7\",\"TV-14\",\"TV-G\",\"TV-MA\",\"TV-PG\",\"TV-MA\",\"TV-MA\",\"PG\",\"TV-MA\",\"TV-MA\",\"R\",\"TV-14\",\"TV-14\",\"TV-PG\",\"TV-MA\",\"TV-MA\",\"TV-MA\",\"TV-MA\",\"TV-MA\",\"TV-14\",\"TV-14\",\"TV-MA\",\"TV-G\",\"TV-MA\",\"TV-MA\",\"TV-14\",\"TV-14\",\"R\",\"TV-MA\",\"TV-14\",\"TV-G\",\"TV-G\",\"TV-14\",\"TV-MA\",\"PG\",\"R\",\"TV-MA\",\"TV-G\",\"TV-14\",\"TV-14\",\"TV-PG\",\"TV-14\",\"TV-MA\",\"TV-14\",\"TV-14\",\"TV-14\",\"TV-14\",\"TV-14\",\"TV-PG\",\"TV-MA\",\"TV-PG\",\"TV-14\",\"TV-MA\",\"TV-14\",\"TV-MA\",\"TV-14\",\"TV-MA\",\"TV-PG\",\"TV-14\",\"TV-14\",\"TV-14\",\"TV-PG\",\"TV-14\",\"TV-MA\",\"TV-14\",\"TV-14\",\"TV-14\",\"PG\",\"TV-PG\",\"TV-14\",\"TV-PG\",\"TV-MA\",\"TV-MA\",\"TV-14\",\"TV-14\",\"TV-Y7\",\"TV-MA\",\"TV-MA\",\"TV-MA\",\"TV-PG\",\"TV-14\",\"TV-MA\",\"TV-Y7\",\"TV-MA\",\"TV-MA\",\"TV-Y\",\"TV-MA\",\"TV-14\",\"TV-14\",\"TV-G\",\"TV-MA\",\"TV-14\",\"TV-MA\",\"TV-14\",\"TV-PG\",\"TV-14\",\"TV-MA\",\"TV-14\",\"TV-Y\",\"TV-14\",\"TV-PG\",\"TV-14\",\"TV-MA\",\"TV-MA\",\"TV-MA\",\"R\",\"TV-MA\",\"TV-MA\",\"TV-14\",\"TV-MA\",\"TV-Y7\",\"TV-14\",\"TV-14\",\"TV-MA\",\"TV-PG\",\"PG\",\"TV-MA\",\"TV-PG\",\"PG\",\"TV-G\",\"TV-14\",\"TV-MA\",\"PG-13\",\"TV-14\",\"TV-PG\",\"TV-PG\",\"PG\",\"TV-14\",\"PG\",\"R\",\"TV-PG\",\"TV-14\",\"R\",\"TV-MA\",\"TV-MA\",\"TV-Y\",\"TV-MA\",\"TV-MA\",\"PG\",\"TV-Y\",\"TV-14\",\"TV-MA\",\"TV-PG\",\"TV-MA\",\"TV-G\",\"TV-MA\",\"TV-MA\",\"PG-13\",\"R\",\"TV-Y\",\"TV-Y\",\"TV-Y\",\"PG\",\"TV-14\",\"TV-14\",\"TV-MA\",\"TV-PG\",\"TV-14\",\"TV-MA\",\"TV-MA\",\"TV-14\",\"TV-PG\",\"TV-MA\",\"TV-14\",\"TV-MA\",\"TV-G\",\"TV-14\",\"TV-MA\",\"TV-MA\",\"TV-MA\",\"TV-MA\",\"TV-14\",\"TV-MA\",\"TV-MA\",\"TV-MA\",\"TV-MA\",\"TV-14\",\"TV-14\",\"PG-13\",\"TV-14\",\"TV-14\",\"TV-MA\",\"TV-MA\",\"TV-PG\",\"TV-MA\",\"TV-14\",\"TV-MA\",\"TV-14\",\"TV-MA\",\"TV-14\",\"PG-13\",\"TV-14\",\"TV-14\",\"TV-14\",\"TV-14\",\"TV-14\",\"TV-MA\",\"TV-PG\",\"TV-14\",\"TV-MA\",\"TV-MA\",\"TV-14\",\"TV-G\",\"TV-14\",\"TV-MA\",\"TV-14\",\"TV-MA\",\"TV-PG\",\"TV-MA\",\"TV-MA\",\"TV-MA\",\"TV-MA\",\"PG\",\"TV-14\",\"TV-14\",\"TV-MA\",\"TV-MA\",\"TV-MA\",\"TV-MA\",\"TV-14\",\"TV-Y\",\"TV-14\",\"TV-MA\",\"TV-MA\",\"TV-MA\",\"TV-MA\",\"TV-MA\",\"TV-MA\",\"R\",\"TV-MA\",\"TV-MA\",\"TV-MA\",\"TV-MA\",\"PG-13\",\"PG\",\"TV-MA\",\"R\",\"TV-G\",\"TV-14\",\"TV-PG\",\"TV-MA\",\"TV-MA\",\"TV-MA\",\"TV-14\",\"TV-14\",\"TV-14\",\"TV-MA\",\"TV-MA\",\"TV-MA\",\"TV-MA\",\"TV-MA\",\"TV-G\",\"TV-MA\",\"PG\",\"TV-14\",\"TV-MA\",\"TV-MA\",\"PG\",\"TV-MA\",\"TV-MA\",\"R\",\"TV-MA\",\"R\",\"R\",\"TV-MA\",\"TV-MA\",\"TV-14\",\"TV-MA\",\"R\",\"TV-14\",\"TV-PG\",\"TV-14\",\"TV-14\",\"TV-Y7\",\"TV-14\",\"TV-MA\",\"TV-14\",\"TV-14\",\"TV-14\",\"TV-14\",\"TV-14\",\"TV-14\",\"TV-14\",\"TV-MA\",\"TV-14\",\"TV-14\",\"TV-14\",\"TV-14\",\"TV-14\",\"TV-14\",\"TV-14\",\"TV-14\",\"TV-MA\",\"TV-Y7\",\"TV-14\",\"TV-Y7\",\"TV-14\",\"TV-MA\",\"TV-MA\",\"TV-MA\",\"TV-G\",\"R\",\"TV-MA\",\"TV-14\",\"TV-14\",\"R\",\"TV-Y7\",\"TV-G\",\"TV-Y7\",\"TV-MA\",\"PG\",\"TV-MA\",\"TV-MA\",\"TV-14\",\"R\",\"TV-Y\",\"TV-14\",\"TV-MA\",\"R\",\"TV-Y\",\"TV-MA\",\"TV-MA\",\"TV-MA\",\"TV-MA\",\"TV-MA\",\"TV-14\",\"TV-Y\",\"TV-MA\",\"TV-MA\",\"TV-Y\",\"TV-MA\",\"TV-MA\",\"TV-G\",\"TV-MA\",\"PG\",\"R\",\"TV-MA\",\"TV-MA\",\"TV-MA\",\"TV-MA\",\"TV-14\",\"TV-Y\",\"TV-14\",\"TV-Y7\",\"TV-Y7\",\"TV-14\",\"TV-PG\",\"TV-MA\",\"TV-MA\",\"TV-14\",\"TV-PG\",\"TV-MA\",\"TV-MA\",\"TV-MA\",\"R\",\"TV-MA\",\"TV-14\",\"R\",\"TV-MA\",\"PG\",\"TV-MA\",\"TV-14\",\"TV-MA\",\"TV-Y7\",\"TV-MA\",\"R\",\"TV-14\",\"TV-Y\",\"TV-Y\",\"TV-MA\",\"TV-Y\",\"TV-MA\",\"TV-14\",\"TV-14\",\"TV-MA\",\"TV-PG\",\"TV-MA\",\"TV-MA\",\"R\",\"TV-14\",\"TV-MA\",\"TV-MA\",\"TV-14\",\"TV-MA\",\"TV-Y7\",\"TV-MA\",\"TV-PG\",\"TV-MA\",\"TV-MA\",\"TV-MA\",\"TV-MA\",\"TV-MA\",\"R\",\"TV-MA\",\"TV-MA\",\"TV-PG\",\"TV-14\",\"TV-Y\",\"TV-MA\",\"TV-MA\",\"TV-MA\",\"R\",\"TV-14\",\"R\",\"TV-Y\",\"TV-MA\",\"TV-14\",\"TV-MA\",\"R\",\"TV-MA\",\"TV-14\",\"TV-MA\",\"TV-14\",\"TV-Y\",\"TV-Y\",\"TV-MA\",\"PG\",\"TV-14\",\"TV-14\",\"R\",\"TV-14\",\"TV-MA\",\"TV-MA\",\"TV-MA\",\"TV-14\",\"TV-14\",\"TV-MA\",\"TV-MA\",\"TV-MA\",\"TV-14\",\"TV-MA\",\"TV-MA\",\"TV-Y7\",\"TV-14\",\"TV-14\",\"TV-MA\",\"TV-MA\",\"TV-MA\",\"TV-MA\",\"TV-MA\",\"TV-MA\",\"TV-14\",\"TV-MA\",\"TV-PG\",\"TV-14\",\"TV-MA\",\"TV-MA\",\"TV-MA\",\"TV-MA\",\"TV-G\",\"TV-MA\",\"TV-MA\",\"TV-14\",\"R\",\"TV-MA\",\"TV-PG\",\"TV-MA\",\"TV-PG\",\"TV-PG\",\"R\",\"TV-MA\",\"R\",\"TV-MA\",\"R\",\"PG-13\",\"TV-Y\",\"TV-Y\",\"G\",\"TV-MA\",\"TV-MA\",\"TV-MA\",\"TV-PG\",\"TV-14\",\"TV-MA\",\"TV-14\",\"TV-PG\",\"TV-MA\",\"TV-MA\",\"TV-14\",\"TV-MA\",\"TV-PG\",\"TV-14\",\"TV-Y\",\"TV-Y7\",\"R\",\"TV-PG\",\"TV-14\",\"TV-MA\",\"TV-MA\",\"PG-13\",\"TV-MA\",\"TV-14\",\"TV-14\",\"TV-Y\",\"TV-14\",\"R\",\"TV-14\",\"TV-14\",\"TV-14\",\"R\",\"TV-MA\",\"TV-MA\",\"TV-14\",\"TV-14\",\"TV-MA\",\"TV-MA\",\"PG-13\",\"PG\",\"TV-14\",\"TV-PG\",\"TV-14\",\"TV-MA\",\"TV-MA\",\"TV-14\",\"TV-MA\",\"TV-MA\",\"R\",\"PG-13\",\"TV-Y7\",\"TV-G\",\"TV-PG\",\"TV-MA\",\"TV-14\",\"TV-Y\",\"TV-MA\",\"TV-G\",\"TV-MA\",\"TV-MA\",\"TV-MA\",\"TV-14\",\"TV-MA\",\"TV-MA\",\"TV-MA\",\"TV-14\",\"TV-MA\",\"TV-MA\",\"TV-14\",\"TV-MA\",\"TV-14\",\"TV-PG\",\"TV-MA\",\"TV-14\",\"TV-14\",\"TV-MA\",\"PG\",\"TV-MA\",\"TV-MA\",\"TV-MA\",\"TV-14\",\"TV-MA\",\"TV-MA\",\"TV-PG\",\"TV-MA\",\"TV-MA\",\"TV-14\",\"TV-14\",\"TV-14\",\"TV-MA\",\"TV-MA\",\"TV-MA\",\"TV-14\",\"TV-PG\",\"TV-14\",\"TV-14\",\"R\",\"TV-MA\",\"TV-MA\",\"TV-MA\",\"TV-14\",\"TV-PG\",\"TV-14\",\"TV-14\",\"PG\",\"TV-MA\",\"R\",\"TV-14\",\"TV-14\",\"R\",\"TV-14\",\"TV-MA\",\"TV-MA\",\"R\",\"TV-MA\",\"TV-MA\",\"TV-Y\",\"TV-MA\",\"TV-G\",\"TV-14\",\"TV-MA\",\"TV-14\",\"TV-MA\",\"TV-Y7\",\"TV-MA\",\"TV-MA\",\"R\",\"TV-Y\",\"TV-MA\",\"TV-MA\",\"TV-MA\",\"R\",\"TV-MA\",\"TV-14\",\"TV-14\",\"TV-PG\",\"TV-14\",\"TV-MA\",\"TV-MA\",\"TV-14\",\"TV-14\",\"TV-14\",\"TV-PG\",\"TV-PG\",\"TV-Y7\",\"TV-Y\",\"TV-Y7\",\"G\",\"TV-MA\",\"TV-MA\",\"G\",\"TV-MA\",\"TV-G\",\"TV-MA\",\"TV-Y7\",\"TV-MA\",\"R\",\"TV-Y7\",\"TV-MA\",\"TV-14\",\"TV-MA\",\"R\",\"TV-MA\",\"TV-MA\",\"TV-14\",\"TV-14\",\"TV-MA\",\"TV-PG\",\"PG-13\",\"TV-MA\",\"TV-MA\",\"TV-Y7\",\"TV-Y\",\"TV-Y7\",\"TV-MA\",\"TV-14\",\"TV-14\",\"TV-MA\",\"TV-MA\",\"TV-14\",\"TV-MA\",\"TV-MA\",\"TV-MA\",\"TV-MA\",\"TV-MA\",\"R\",\"TV-PG\",\"PG-13\",\"R\",\"R\",\"PG-13\",\"TV-MA\",\"TV-14\",\"TV-PG\",\"TV-PG\",\"R\",\"TV-14\",\"TV-Y\",\"TV-PG\",\"TV-MA\",\"TV-14\",\"TV-MA\",\"TV-PG\",\"TV-MA\",\"PG-13\",\"TV-MA\",\"TV-PG\",\"TV-MA\",\"TV-MA\",\"TV-MA\",\"TV-MA\",\"TV-MA\",\"TV-MA\",\"R\",\"TV-14\",\"TV-PG\",\"TV-Y\",\"TV-14\",\"TV-MA\",\"TV-14\",\"TV-MA\",\"TV-14\",\"TV-14\",\"TV-14\",\"TV-14\",\"TV-PG\",\"TV-14\",\"TV-14\",\"TV-14\",\"TV-14\",\"TV-PG\",\"TV-14\",\"TV-MA\",\"TV-14\",\"TV-Y7\",\"TV-14\",\"TV-Y7\",\"TV-14\",\"R\",\"TV-MA\",\"TV-MA\",\"TV-14\",\"TV-14\",\"TV-MA\",\"TV-MA\",\"TV-MA\",\"TV-MA\",\"TV-14\",\"TV-MA\",\"TV-PG\",\"R\",\"TV-14\",\"PG-13\",\"TV-MA\",\"TV-14\",\"TV-14\",\"TV-PG\",\"R\",\"TV-MA\",\"TV-MA\",\"TV-Y7\",\"TV-PG\",\"TV-MA\",\"TV-14\",\"TV-MA\",\"TV-MA\",\"TV-14\",\"TV-PG\",\"TV-PG\",\"TV-MA\",\"TV-MA\",\"TV-MA\",\"TV-PG\",\"TV-14\",\"TV-MA\",\"TV-MA\",\"PG\",\"TV-PG\",\"R\",\"TV-MA\",\"TV-MA\",\"TV-14\",\"TV-MA\",\"TV-14\",\"TV-PG\",\"TV-14\",\"TV-PG\",\"TV-Y\",\"TV-14\",\"TV-14\",\"TV-MA\",\"TV-MA\",\"TV-14\",\"TV-G\",\"TV-14\",\"TV-14\",\"TV-Y\",\"TV-MA\",\"TV-MA\",\"TV-MA\",\"TV-MA\",\"TV-MA\",\"TV-MA\",\"TV-MA\",\"TV-14\",\"TV-14\",\"TV-PG\",\"TV-14\",\"TV-MA\",\"TV-PG\",\"TV-MA\",\"R\",\"TV-14\",\"TV-Y7\",\"TV-MA\",\"R\",\"TV-MA\",\"TV-Y\",\"TV-MA\",\"TV-Y\",\"TV-MA\",\"TV-14\",\"TV-MA\",\"R\",\"TV-14\",\"TV-MA\",\"TV-14\",\"TV-MA\",\"TV-MA\",\"TV-PG\",\"TV-MA\",\"TV-MA\",\"TV-MA\",\"TV-MA\",\"TV-Y7\",\"TV-Y7\",\"TV-14\",\"TV-MA\",\"TV-MA\",\"TV-14\",\"TV-MA\",\"TV-G\",\"TV-14\",\"TV-MA\",\"TV-MA\",\"TV-14\",\"TV-MA\",\"TV-MA\",\"TV-MA\",\"PG-13\",\"R\",\"TV-14\",\"R\",\"TV-14\",\"TV-PG\",\"TV-MA\",\"TV-14\",\"TV-MA\",\"TV-14\",\"TV-PG\",\"TV-PG\",\"PG\",\"TV-MA\",\"TV-Y\",\"TV-PG\",\"TV-14\",\"TV-14\",\"TV-MA\",\"TV-14\",\"TV-MA\",\"TV-14\",\"TV-MA\",\"TV-14\",\"TV-MA\",\"TV-14\",\"TV-MA\",\"TV-14\",\"TV-MA\",\"R\",\"TV-14\",\"TV-MA\",\"TV-MA\",\"TV-14\",\"TV-Y7\",\"PG-13\",\"TV-MA\",\"TV-MA\",\"TV-14\",\"TV-MA\",\"TV-14\",\"TV-14\",\"TV-G\",\"TV-PG\",\"TV-MA\",\"TV-MA\",\"R\",\"TV-MA\",\"R\",\"TV-PG\",\"TV-14\",\"TV-MA\",\"TV-MA\",\"TV-Y\",\"TV-Y7\",\"TV-G\",\"TV-PG\",\"TV-Y\",\"TV-PG\",\"TV-Y\",\"TV-PG\",\"TV-PG\",\"TV-Y\",\"TV-Y\",\"TV-G\",\"TV-MA\",\"TV-PG\",\"TV-MA\",\"TV-MA\",\"TV-14\",\"TV-PG\",\"TV-MA\",\"TV-PG\",\"TV-14\",\"TV-MA\",\"TV-14\",\"TV-PG\",\"PG\",\"TV-PG\",\"TV-14\",\"TV-14\",\"TV-14\",\"TV-PG\",\"TV-MA\",\"TV-Y7\",\"TV-MA\",\"R\",\"TV-MA\",\"TV-MA\",\"TV-Y\",\"TV-MA\",\"TV-MA\",\"TV-MA\",\"TV-MA\",\"TV-MA\",\"TV-MA\",\"TV-MA\",\"TV-14\",\"TV-MA\",\"TV-14\",\"TV-14\",\"TV-MA\",\"TV-MA\",\"TV-14\",\"TV-PG\",\"TV-G\",\"TV-PG\",\"TV-G\",\"TV-MA\",\"TV-MA\",\"TV-MA\",\"R\",\"TV-MA\",\"TV-MA\",\"TV-MA\",\"TV-PG\",\"TV-14\",\"TV-PG\",\"TV-MA\",\"TV-MA\",\"TV-14\",\"TV-MA\",\"PG-13\",\"TV-14\",\"TV-MA\",\"TV-PG\",\"TV-14\",\"TV-MA\",\"R\",\"TV-Y7\",\"PG-13\",\"TV-14\",\"TV-Y\",\"TV-Y\",\"TV-Y\",\"TV-Y\",\"TV-Y\",\"TV-MA\",\"TV-MA\",\"TV-PG\",\"TV-Y\",\"TV-14\",\"TV-Y\",\"TV-Y7\",\"TV-MA\",\"TV-Y7\",\"TV-MA\",\"TV-MA\",\"R\",\"TV-MA\",\"TV-14\",\"TV-14\",\"TV-14\",\"TV-14\",\"TV-PG\",\"TV-MA\",\"TV-MA\",\"TV-MA\",\"TV-MA\",\"TV-14\",\"R\",\"TV-MA\",\"TV-MA\",\"TV-14\",\"TV-MA\",\"TV-14\",\"TV-MA\",\"TV-MA\",\"TV-MA\",\"TV-MA\",\"TV-14\",\"TV-MA\",\"TV-MA\",\"TV-MA\",\"TV-Y7\",\"TV-14\",\"TV-14\",\"PG-13\",\"TV-14\",\"TV-MA\",\"TV-MA\",\"TV-Y7\",\"TV-14\",\"TV-Y7\",\"TV-14\",\"TV-MA\",\"TV-14\",\"TV-MA\",\"TV-PG\",\"TV-MA\",\"TV-PG\",\"TV-MA\",\"TV-PG\",\"TV-MA\",\"TV-Y\",\"TV-Y\",\"TV-MA\",\"TV-MA\",\"TV-MA\",\"TV-PG\",\"TV-14\",\"TV-14\",\"TV-MA\",\"TV-MA\",\"TV-14\",\"TV-MA\",\"TV-MA\",\"TV-PG\",\"TV-Y\",\"TV-Y7\",\"TV-MA\",\"G\",\"TV-14\",\"TV-PG\",\"G\",\"R\",\"TV-MA\",\"TV-MA\",\"TV-PG\",\"TV-PG\",\"TV-MA\",\"TV-PG\",\"TV-MA\",\"TV-MA\",\"TV-MA\",\"TV-14\",\"PG-13\",\"TV-MA\",\"TV-14\",\"TV-G\",\"TV-MA\",\"TV-14\",\"TV-14\",\"R\",\"TV-MA\",\"TV-MA\",\"TV-MA\",\"TV-MA\",\"TV-MA\",\"TV-MA\",\"TV-MA\",\"TV-MA\",\"TV-MA\",\"TV-MA\",\"TV-14\",\"TV-MA\",\"TV-MA\",\"TV-Y\",\"TV-MA\",\"TV-14\",\"TV-MA\",\"TV-MA\",\"TV-PG\",\"TV-14\",\"TV-MA\",\"TV-14\",\"TV-PG\",\"TV-MA\",\"TV-MA\",\"TV-14\",\"TV-MA\",\"TV-14\",\"TV-PG\",\"TV-MA\",\"TV-MA\",\"TV-MA\",\"TV-14\",\"TV-MA\",\"TV-MA\",\"TV-MA\",\"TV-MA\",\"TV-14\",\"TV-14\",\"TV-MA\",\"TV-G\",\"TV-14\",\"TV-14\",\"TV-MA\",\"TV-Y\",\"TV-G\",\"TV-14\",\"TV-MA\",\"TV-14\",\"G\",\"TV-14\",\"TV-Y\",\"TV-MA\",\"TV-MA\",\"TV-PG\",\"TV-14\",\"TV-PG\",\"TV-MA\",\"TV-Y\",\"TV-MA\",\"TV-PG\",\"TV-14\",\"TV-MA\",\"TV-MA\",\"TV-MA\",\"TV-MA\",\"TV-MA\",\"TV-14\",\"TV-PG\",\"TV-14\",\"TV-PG\",\"TV-14\",\"TV-14\",\"TV-MA\",\"TV-MA\",\"TV-MA\",\"TV-PG\",\"TV-MA\",\"TV-G\",\"TV-MA\",\"TV-MA\",\"TV-MA\",\"TV-MA\",\"TV-14\",\"TV-MA\",\"TV-Y7\",\"TV-MA\",\"PG-13\",\"TV-14\",\"TV-Y\",\"TV-MA\",\"TV-MA\",\"TV-MA\",\"TV-MA\",\"TV-MA\",\"TV-MA\",\"TV-MA\",\"TV-MA\",\"TV-14\",\"TV-MA\",\"TV-MA\",\"TV-MA\",\"TV-MA\",\"TV-Y7\",\"TV-14\",\"TV-MA\",\"TV-MA\",\"TV-MA\",\"TV-Y7\",\"TV-MA\",\"TV-14\",\"TV-MA\",\"TV-MA\",\"TV-14\",\"TV-MA\",\"TV-PG\",\"TV-MA\",\"TV-MA\",\"TV-MA\",\"TV-MA\",\"TV-MA\",\"TV-14\",\"TV-MA\",\"TV-14\",\"TV-MA\",\"TV-MA\",\"TV-MA\",\"TV-MA\",\"TV-MA\",\"TV-PG\",\"TV-MA\",\"TV-14\",\"TV-PG\",\"TV-MA\",\"R\",\"TV-14\",\"TV-14\",\"TV-MA\",\"TV-MA\",\"TV-MA\",\"TV-MA\",\"TV-PG\",\"TV-MA\",\"TV-14\",\"TV-MA\",\"TV-14\",\"TV-MA\",\"TV-MA\",\"TV-MA\",\"TV-Y\",\"TV-MA\",\"TV-MA\",\"TV-14\",\"TV-14\",\"TV-14\",\"TV-MA\",\"TV-MA\",\"TV-MA\",\"TV-14\",\"TV-Y7\",\"TV-MA\",\"TV-14\",\"TV-14\",\"TV-14\",\"TV-Y7\",\"TV-14\",\"TV-PG\",\"TV-14\",\"TV-PG\",\"TV-14\",\"TV-14\",\"TV-PG\",\"TV-Y7\",\"TV-MA\",\"TV-MA\",\"TV-MA\",\"TV-MA\",\"TV-MA\",\"TV-14\",\"TV-14\",\"TV-MA\",\"TV-14\",\"TV-Y\",\"TV-14\",\"TV-MA\",\"TV-G\",\"TV-G\",\"TV-14\",\"TV-14\",\"TV-MA\",\"TV-14\",\"TV-MA\",\"TV-MA\",\"TV-14\",\"TV-14\",\"TV-14\",\"TV-PG\",\"TV-Y\",\"TV-MA\",\"TV-Y\",\"TV-Y7\",\"TV-MA\",\"TV-MA\",\"TV-MA\",\"TV-14\",\"TV-MA\",\"TV-MA\",\"TV-MA\",\"TV-14\",\"TV-MA\",\"TV-MA\",\"TV-MA\",\"TV-Y\",\"TV-MA\",\"TV-PG\",\"TV-MA\",\"TV-MA\",\"TV-PG\",\"TV-14\",\"TV-14\",\"TV-MA\",\"TV-14\",\"R\",\"TV-MA\",\"TV-MA\",\"TV-MA\",\"TV-MA\",\"TV-PG\",\"TV-MA\",\"TV-MA\",\"TV-14\",\"TV-14\",\"TV-MA\",\"TV-MA\",\"TV-MA\",\"TV-14\",\"TV-MA\",\"TV-14\",\"TV-MA\",\"R\",\"TV-MA\",\"TV-MA\",\"TV-MA\",\"TV-PG\",\"TV-14\",\"TV-14\",\"TV-14\",\"TV-MA\",\"TV-MA\",\"TV-MA\",\"TV-PG\",\"TV-MA\",\"TV-PG\",\"TV-MA\",\"TV-MA\",\"TV-MA\",\"TV-14\",\"TV-MA\",\"PG-13\",\"TV-MA\",\"TV-MA\",\"TV-PG\",\"TV-MA\",\"TV-MA\",\"TV-MA\",\"TV-Y\",\"TV-MA\",\"TV-MA\",\"TV-MA\",\"TV-PG\",\"TV-PG\",\"PG\",\"TV-PG\",\"TV-MA\",\"TV-Y\",\"TV-MA\",\"TV-MA\",\"TV-MA\",\"TV-14\",\"TV-MA\",\"TV-MA\",\"TV-14\",\"TV-Y\",\"TV-14\",\"TV-G\",\"TV-MA\",\"TV-14\",\"TV-14\",\"TV-MA\",\"TV-14\",\"TV-MA\",\"TV-14\",\"TV-MA\",\"TV-MA\",\"TV-MA\",\"TV-MA\",\"TV-MA\",\"TV-MA\",\"TV-MA\",\"TV-MA\",\"TV-PG\",\"TV-MA\",\"TV-MA\",\"TV-14\",\"TV-MA\",\"TV-MA\",\"TV-MA\",\"TV-MA\",\"TV-PG\",\"TV-14\",\"TV-MA\",\"TV-G\",\"TV-MA\",\"TV-MA\",\"TV-14\",\"TV-14\",\"TV-MA\",\"TV-MA\",\"TV-MA\",\"TV-14\",\"TV-MA\",\"TV-MA\",\"TV-MA\",\"TV-PG\",\"TV-MA\",\"TV-PG\",\"TV-Y\",\"TV-MA\",\"TV-Y\",\"TV-14\",\"R\",\"TV-14\",\"TV-MA\",\"TV-MA\",\"TV-G\",\"TV-14\",\"TV-14\",\"TV-MA\",\"TV-MA\",\"TV-14\",\"TV-MA\",\"TV-MA\",\"TV-MA\",\"TV-MA\",\"TV-14\",\"TV-MA\",\"R\",\"TV-MA\",\"TV-PG\",\"TV-PG\",\"TV-14\",\"TV-PG\",\"TV-14\",\"TV-PG\",\"TV-14\",\"TV-PG\",\"TV-14\",\"TV-14\",\"TV-14\",\"TV-14\",\"TV-14\",\"TV-14\",\"TV-MA\",\"TV-MA\",\"TV-14\",\"TV-MA\",\"TV-Y7\",\"TV-MA\",\"R\",\"TV-PG\",\"TV-MA\",\"TV-14\",\"TV-MA\",\"TV-PG\",\"R\",\"TV-MA\",\"TV-MA\",\"PG\",\"TV-MA\",\"TV-14\",\"TV-MA\",\"TV-14\",\"TV-MA\",\"TV-MA\",\"TV-MA\",\"TV-14\",\"TV-14\",\"TV-MA\",\"TV-MA\",\"TV-MA\",\"TV-MA\",\"TV-MA\",\"TV-MA\",\"TV-MA\",\"TV-MA\",\"TV-PG\",\"TV-14\",\"TV-PG\",\"R\",\"TV-MA\",\"TV-MA\",\"TV-14\",\"TV-MA\",\"TV-MA\",\"TV-14\",\"TV-MA\",\"TV-PG\",\"TV-MA\",\"R\",\"TV-MA\",\"R\",\"TV-MA\",\"TV-MA\",\"R\",\"TV-Y\",\"TV-MA\",\"TV-14\",\"TV-MA\",\"TV-MA\",\"TV-14\",\"TV-14\",\"TV-14\",\"TV-14\",\"TV-PG\",\"TV-MA\",\"TV-MA\",\"TV-MA\",\"TV-MA\",\"TV-MA\",\"TV-MA\",\"TV-MA\",\"TV-14\",\"TV-14\",\"TV-MA\",\"TV-14\",\"PG-13\",\"TV-PG\",\"TV-14\",\"TV-14\",\"TV-MA\",\"TV-MA\",\"TV-MA\",\"TV-MA\",\"TV-PG\",\"TV-14\",\"TV-MA\",\"TV-PG\",\"TV-MA\",\"TV-Y7\",\"TV-MA\",\"TV-14\",\"TV-MA\",\"TV-MA\",\"TV-MA\",\"TV-14\",\"TV-14\",\"TV-MA\",\"TV-MA\",\"TV-Y7\",\"TV-14\",\"TV-MA\",\"TV-MA\",\"TV-MA\",\"TV-14\",\"TV-14\",\"TV-14\",\"TV-Y\",\"TV-14\",\"TV-MA\",\"TV-MA\",\"TV-MA\",\"R\",\"TV-MA\",\"TV-14\",\"TV-MA\",\"TV-MA\",\"TV-MA\",\"TV-MA\",\"TV-PG\",\"TV-PG\",\"TV-14\",\"TV-14\",\"TV-MA\",\"TV-MA\",\"TV-Y\",\"TV-MA\",\"TV-MA\",\"TV-MA\",\"TV-MA\",\"TV-14\",\"TV-MA\",\"TV-MA\",\"TV-PG\",\"TV-Y\",\"TV-14\",\"TV-14\",\"TV-14\",\"TV-MA\",\"TV-MA\",\"TV-PG\",\"TV-MA\",\"TV-14\",\"TV-PG\",\"TV-MA\",\"TV-MA\",\"PG-13\",\"TV-MA\",\"TV-MA\",\"TV-MA\",\"TV-MA\",\"R\",\"TV-MA\",\"TV-MA\",\"TV-MA\",\"TV-MA\",\"TV-MA\",\"TV-14\",\"TV-14\",\"TV-14\",\"TV-Y7\",\"TV-14\",\"TV-MA\",\"TV-14\",\"TV-14\",\"TV-MA\",\"TV-14\",\"TV-MA\",\"TV-14\",\"TV-14\",\"R\",\"TV-MA\",\"TV-14\",\"TV-14\",\"TV-MA\",\"TV-14\",\"TV-MA\",\"TV-14\",\"TV-MA\",\"TV-MA\",\"TV-MA\",\"TV-PG\",\"TV-PG\",\"TV-MA\",\"TV-14\",\"TV-14\",\"TV-MA\",\"TV-MA\",\"TV-MA\",\"TV-MA\",\"TV-MA\",\"TV-MA\",\"TV-14\",\"TV-MA\",\"TV-MA\",\"TV-MA\",\"TV-MA\",\"TV-MA\",\"TV-14\",\"TV-MA\",\"TV-MA\",\"TV-Y7\",\"TV-MA\",\"TV-14\",\"TV-G\",\"TV-14\",\"TV-G\",\"TV-14\",\"TV-PG\",\"TV-14\",\"TV-MA\",\"PG\",\"TV-MA\",\"TV-MA\",\"TV-MA\",\"TV-14\",\"TV-PG\",\"TV-14\",\"TV-PG\",\"TV-14\",\"TV-PG\",\"TV-14\",\"TV-14\",\"TV-MA\",\"TV-MA\",\"TV-MA\",\"TV-MA\",\"TV-PG\",\"TV-MA\",\"TV-MA\",\"TV-MA\",\"TV-MA\",\"TV-MA\",\"TV-MA\",\"TV-PG\",\"TV-PG\",\"TV-PG\",\"TV-MA\",\"TV-PG\",\"TV-MA\",\"TV-14\",\"R\",\"TV-MA\",\"TV-MA\",\"TV-MA\",\"TV-14\",\"TV-MA\",\"TV-MA\",\"TV-14\",\"TV-14\",\"TV-MA\",\"TV-MA\",\"TV-14\",\"TV-MA\",\"TV-14\",\"TV-MA\",\"TV-MA\",\"TV-14\",\"TV-14\",\"TV-MA\",\"TV-Y\",\"TV-MA\",\"TV-14\",\"TV-PG\",\"TV-14\",\"TV-MA\",\"TV-MA\",\"TV-PG\",\"TV-PG\",\"TV-MA\",\"TV-MA\",\"TV-MA\",\"TV-14\",\"TV-MA\",\"TV-MA\",\"TV-MA\",\"TV-MA\",\"TV-14\",\"TV-14\",\"TV-MA\",\"TV-14\",\"TV-MA\",\"TV-MA\",\"TV-G\",\"TV-Y7\",\"TV-Y7\",\"TV-Y\",\"TV-Y7\",\"TV-MA\",\"TV-MA\",\"TV-MA\",\"TV-Y\",\"R\",\"TV-PG\",\"TV-MA\",\"TV-Y\",\"TV-14\",\"TV-14\",\"TV-14\",\"TV-14\",\"TV-MA\",\"TV-MA\",\"TV-MA\",\"TV-14\",\"TV-MA\",\"TV-14\",\"TV-14\",\"TV-14\",\"TV-MA\",\"TV-MA\",\"TV-MA\",\"TV-MA\",\"TV-MA\",\"TV-MA\",\"TV-MA\",\"TV-MA\",\"TV-MA\",\"TV-14\",\"TV-MA\",\"TV-MA\",\"TV-MA\",\"TV-MA\",\"TV-MA\",\"TV-14\",\"TV-MA\",\"TV-14\",\"TV-14\",\"TV-MA\",\"TV-MA\",\"TV-G\",\"TV-MA\",\"TV-14\",\"TV-14\",\"TV-14\",\"TV-14\",\"TV-14\",\"TV-MA\",\"TV-14\",\"TV-MA\",\"TV-MA\",\"TV-MA\",\"TV-MA\",\"TV-14\",\"TV-MA\",\"TV-MA\",\"TV-MA\",\"TV-MA\",\"TV-MA\",\"TV-Y7\",\"TV-MA\",\"TV-MA\",\"TV-MA\",\"TV-Y\",\"TV-MA\",\"TV-PG\",\"TV-14\",\"TV-14\",\"TV-MA\",\"TV-14\",\"TV-MA\",\"TV-PG\",\"TV-14\",\"TV-14\",\"PG\",\"TV-PG\",\"TV-14\",\"TV-MA\",\"TV-MA\",\"TV-MA\",\"TV-Y7\",\"TV-MA\",\"TV-MA\",\"TV-MA\",\"TV-PG\",\"TV-MA\",\"TV-MA\",\"TV-MA\",\"TV-MA\",\"TV-MA\",\"TV-MA\",\"TV-MA\",\"TV-MA\",\"TV-MA\",\"TV-MA\",\"TV-MA\",\"TV-MA\",\"TV-MA\",\"TV-14\",\"TV-PG\",\"TV-14\",\"TV-MA\",\"TV-MA\",\"TV-MA\",\"TV-MA\",\"TV-MA\",\"TV-14\",\"TV-14\",\"TV-MA\",\"TV-MA\",\"TV-MA\",\"TV-MA\",\"TV-MA\",\"TV-MA\",\"TV-14\",\"TV-14\",\"TV-MA\",\"TV-PG\",\"TV-14\",\"TV-PG\",\"TV-14\",\"TV-MA\",\"TV-MA\",\"TV-PG\",\"TV-MA\",\"R\",\"TV-14\",\"TV-14\",\"TV-MA\",\"TV-14\",\"TV-MA\",\"TV-MA\",\"TV-MA\",\"TV-MA\",\"R\",\"TV-PG\",\"TV-14\",\"TV-MA\",\"TV-MA\",\"TV-MA\",\"TV-MA\",\"TV-MA\",\"TV-MA\",\"TV-G\",\"TV-14\",\"TV-14\",\"TV-PG\",\"TV-PG\",\"R\",\"R\",\"TV-MA\",\"PG-13\",\"TV-PG\",\"TV-MA\",\"TV-14\",\"TV-MA\",\"TV-MA\",\"TV-PG\",\"TV-MA\",\"TV-14\",\"TV-MA\",\"TV-14\",\"TV-MA\",\"R\",\"TV-MA\",\"TV-MA\",\"TV-MA\",\"TV-MA\",\"TV-Y7\",\"TV-MA\",\"TV-PG\",\"TV-MA\",\"TV-14\",\"TV-MA\",\"PG-13\",\"TV-G\",\"PG-13\",\"TV-MA\",\"TV-MA\",\"TV-MA\",\"TV-Y\",\"TV-MA\",\"TV-MA\",\"TV-14\",\"TV-MA\",\"TV-14\",\"TV-14\",\"TV-MA\",\"TV-MA\",\"TV-MA\",\"TV-MA\",\"TV-14\",\"TV-14\",\"TV-14\",\"TV-PG\",\"TV-14\",\"TV-14\",\"TV-G\",\"TV-14\",\"TV-MA\",\"TV-14\",\"TV-Y\",\"TV-MA\",\"TV-MA\",\"TV-MA\",\"TV-MA\",\"TV-MA\",\"TV-MA\",\"TV-PG\",\"TV-Y\",\"TV-PG\",\"TV-MA\",\"PG-13\",\"TV-MA\",\"TV-MA\",\"TV-MA\",\"TV-Y7\",\"TV-MA\",\"TV-MA\",\"TV-MA\",\"TV-PG\",\"TV-Y\",\"TV-MA\",\"TV-MA\",\"TV-MA\",\"TV-14\",\"TV-PG\",\"TV-MA\",\"TV-Y7\",\"TV-Y7\",\"PG\",\"TV-MA\",\"TV-14\",\"TV-PG\",\"TV-MA\",\"G\",\"TV-14\",\"TV-14\",\"TV-14\",\"TV-MA\",\"TV-MA\",\"TV-G\",\"R\",\"TV-G\",\"TV-MA\",\"TV-PG\",\"TV-Y\",\"PG\",\"TV-14\",\"TV-MA\",\"TV-MA\",\"TV-14\",\"TV-14\",\"TV-14\",\"TV-MA\",\"TV-14\",\"TV-MA\",\"TV-PG\",\"TV-14\",\"TV-MA\",\"TV-MA\",\"R\",\"TV-MA\",\"TV-MA\",\"TV-Y\",\"TV-MA\",\"TV-MA\",\"TV-MA\",\"TV-14\",\"TV-MA\",\"TV-14\",\"TV-MA\",\"TV-G\",\"TV-14\",\"TV-G\",\"R\",\"TV-MA\",\"TV-14\",\"TV-14\",\"TV-14\",\"TV-14\",\"TV-14\",\"TV-14\",\"TV-14\",\"TV-14\",\"TV-PG\",\"TV-14\",\"TV-Y\",\"TV-14\",\"TV-14\",\"TV-PG\",\"TV-MA\",\"TV-MA\",\"TV-MA\",\"TV-14\",\"TV-MA\",\"TV-14\",\"TV-14\",\"TV-MA\",\"TV-14\",\"TV-14\",\"TV-PG\",\"TV-MA\",\"TV-14\",\"TV-MA\",\"TV-14\",\"TV-14\",\"TV-MA\",\"TV-MA\",\"TV-14\",\"TV-MA\",\"TV-14\",\"TV-14\",\"TV-14\",\"TV-14\",\"TV-14\",\"TV-14\",\"TV-MA\",\"TV-PG\",\"TV-MA\",\"TV-MA\",\"TV-14\",\"TV-PG\",\"PG\",\"TV-MA\",\"R\",\"TV-MA\",\"TV-14\",\"TV-MA\",\"PG-13\",\"TV-MA\",\"TV-14\",\"TV-14\",\"TV-MA\",\"TV-MA\",\"TV-PG\",\"TV-14\",\"TV-MA\",\"TV-14\",\"TV-MA\",\"TV-14\",\"PG-13\",\"TV-MA\",\"TV-MA\",\"TV-14\",\"TV-PG\",\"TV-PG\",\"TV-MA\",\"TV-MA\",\"PG\",\"TV-MA\",\"TV-14\",\"TV-MA\",\"TV-14\",\"TV-Y\",\"TV-MA\",\"TV-MA\",\"TV-MA\",\"TV-MA\",\"TV-MA\",\"TV-PG\",\"TV-MA\",\"TV-MA\",\"TV-MA\",\"TV-MA\",\"TV-MA\",\"TV-14\",\"TV-MA\",\"TV-Y7\",\"TV-MA\",\"TV-MA\",\"TV-MA\",\"TV-14\",\"TV-14\",\"TV-PG\",\"TV-MA\",\"R\",\"TV-MA\",\"TV-PG\",\"R\",\"TV-MA\",\"R\",\"TV-MA\",\"TV-14\",\"TV-Y\",\"PG-13\",\"TV-14\",\"TV-14\",\"TV-14\",\"TV-MA\",\"R\",\"TV-Y\",\"TV-MA\",\"TV-PG\",\"PG-13\",\"TV-MA\",\"R\",\"TV-MA\",\"TV-MA\",\"TV-MA\",\"TV-MA\",\"TV-MA\",\"TV-MA\",\"TV-MA\",\"R\",\"TV-MA\",\"TV-MA\",\"TV-MA\",\"TV-14\",\"R\",\"TV-MA\",\"TV-14\",\"TV-MA\",\"TV-14\",\"PG\",\"TV-14\",\"TV-14\",\"TV-14\",\"TV-14\",\"TV-MA\",\"TV-PG\",\"TV-14\",\"TV-14\",\"TV-MA\",\"TV-14\",\"TV-14\",\"TV-PG\",\"TV-MA\",\"TV-14\",\"TV-14\",\"TV-14\",\"TV-PG\",\"TV-14\",\"TV-14\",\"TV-14\",\"TV-14\",\"TV-14\",\"TV-14\",\"TV-14\",\"TV-14\",\"TV-PG\",\"TV-14\",\"TV-PG\",\"TV-14\",\"TV-14\",\"TV-14\",\"TV-Y\",\"TV-Y\",\"TV-MA\",\"TV-14\",\"TV-14\",\"TV-PG\",\"TV-14\",\"TV-14\",\"TV-14\",\"TV-14\",\"TV-PG\",\"TV-14\",\"TV-14\",\"TV-PG\",\"TV-14\",\"TV-14\",\"TV-14\",\"TV-MA\",\"TV-PG\",\"TV-14\",\"TV-14\",\"TV-MA\",\"TV-14\",\"TV-14\",\"TV-14\",\"TV-PG\",\"TV-14\",\"PG\",\"TV-MA\",\"TV-MA\",\"TV-MA\",\"TV-14\",\"TV-MA\",\"TV-Y7\",\"TV-Y7\",\"TV-MA\",\"TV-MA\",\"TV-MA\",\"TV-MA\",\"TV-14\",\"TV-MA\",\"TV-MA\",\"TV-MA\",\"TV-14\",\"TV-PG\",\"TV-Y7\",\"TV-14\",\"TV-MA\",\"TV-PG\",\"TV-MA\",\"TV-MA\",\"TV-Y\",\"TV-MA\",\"TV-MA\",\"TV-14\",\"TV-14\",\"TV-MA\",\"TV-MA\",\"TV-MA\",\"TV-G\",\"TV-MA\",\"TV-14\",\"TV-Y7\",\"TV-Y7\",\"TV-MA\",\"TV-MA\",\"TV-MA\",\"TV-PG\",\"PG-13\",\"TV-Y7\",\"TV-MA\",\"TV-14\",\"TV-MA\",\"TV-MA\",\"TV-14\",\"TV-MA\",\"TV-MA\",\"TV-MA\",\"TV-14\",\"TV-MA\",\"TV-PG\",\"TV-MA\",\"TV-MA\",\"TV-MA\",\"TV-MA\",\"TV-MA\",\"TV-MA\",\"TV-PG\",\"TV-PG\",\"TV-MA\",\"TV-14\",\"TV-14\",\"TV-14\",\"TV-MA\",\"TV-MA\",\"TV-MA\",\"TV-MA\",\"TV-MA\",\"TV-14\",\"TV-MA\",\"TV-MA\",\"TV-14\",\"TV-14\",\"TV-14\",\"PG-13\",\"TV-14\",\"TV-14\",\"TV-PG\",\"TV-MA\",\"TV-14\",\"TV-MA\",\"TV-14\",\"TV-MA\",\"TV-14\",\"TV-MA\",\"TV-PG\",\"TV-PG\",\"TV-MA\",\"TV-PG\",\"TV-MA\",\"TV-14\",\"TV-14\",\"TV-14\",\"TV-PG\",\"TV-14\",\"TV-MA\",\"TV-PG\",\"TV-MA\",\"TV-Y7\",\"TV-MA\",\"TV-MA\",\"TV-PG\",\"TV-MA\",\"TV-14\",\"TV-14\",\"TV-14\",\"TV-MA\",\"TV-14\",\"TV-14\",\"TV-PG\",\"TV-14\",\"TV-14\",\"TV-14\",\"TV-14\",\"TV-14\",\"TV-14\",\"TV-14\",\"TV-14\",\"TV-PG\",\"TV-G\",\"TV-MA\",\"TV-MA\",\"TV-MA\",\"TV-14\",\"TV-MA\",\"TV-MA\",\"TV-PG\",\"TV-14\",\"TV-MA\",\"TV-MA\",\"TV-MA\",\"TV-MA\",\"TV-MA\",\"TV-MA\",\"TV-14\",\"TV-MA\",\"TV-PG\",\"TV-MA\",\"TV-MA\",\"TV-PG\",\"TV-MA\",\"PG\",\"TV-MA\",\"TV-Y7\",\"TV-MA\",\"TV-Y\",\"PG\",\"TV-MA\",\"TV-14\",\"TV-14\",\"TV-14\",\"TV-G\",\"TV-MA\",\"TV-14\",\"TV-MA\",\"TV-MA\",\"TV-MA\",\"TV-MA\",\"TV-MA\",\"TV-MA\",\"TV-MA\",\"TV-PG\",\"TV-14\",\"TV-14\",\"TV-MA\",\"TV-PG\",\"TV-MA\",\"TV-MA\",\"TV-MA\",\"TV-MA\",\"TV-14\",\"TV-14\",\"TV-MA\",\"TV-14\",\"TV-14\",\"TV-MA\",\"TV-PG\",\"TV-14\",\"TV-14\",\"TV-14\",\"TV-14\",\"TV-14\",\"TV-MA\",\"TV-MA\",\"TV-MA\",\"TV-14\",\"TV-MA\",\"TV-MA\",\"TV-MA\",\"TV-MA\",\"TV-MA\",\"TV-14\",\"TV-MA\",\"R\",\"TV-Y7\",\"TV-MA\",\"TV-MA\",\"TV-MA\",\"TV-MA\",\"TV-14\",\"PG-13\",\"TV-MA\",\"TV-MA\",\"TV-MA\",\"TV-MA\",\"TV-MA\",\"TV-MA\",\"TV-MA\",\"TV-G\",\"TV-MA\",\"PG-13\",\"TV-MA\",\"TV-Y\",\"TV-Y\",\"TV-MA\",\"TV-MA\",\"TV-MA\",\"TV-MA\",\"TV-14\",\"TV-Y7\",\"TV-14\",\"TV-MA\",\"TV-MA\",\"TV-MA\",\"TV-MA\",\"TV-14\",\"TV-MA\",\"TV-MA\",\"TV-MA\",\"TV-MA\",\"TV-MA\",\"TV-MA\",\"TV-14\",\"TV-Y7\",\"TV-MA\",\"TV-14\",\"TV-MA\",\"TV-Y\",\"TV-Y7\",\"TV-MA\",\"TV-MA\",\"TV-MA\",\"PG-13\",\"TV-MA\",\"TV-MA\",\"TV-MA\",\"TV-14\",\"TV-MA\",\"TV-MA\",\"TV-14\",\"TV-PG\",\"TV-MA\",\"TV-14\",\"TV-MA\",\"G\",\"TV-G\",\"TV-MA\",\"TV-MA\",\"TV-PG\",\"TV-MA\",\"TV-Y7\",\"TV-14\",\"TV-MA\",\"TV-MA\",\"TV-MA\",\"TV-MA\",\"TV-MA\",\"TV-14\",\"TV-PG\",\"TV-MA\",\"TV-MA\",\"TV-MA\",\"PG\",\"TV-Y\",\"TV-Y\",\"TV-Y\",\"TV-Y\",\"TV-Y\",\"TV-Y\",\"TV-Y\",\"TV-14\",\"TV-PG\",\"R\",\"TV-MA\",\"TV-14\",\"TV-14\",\"TV-MA\",\"TV-MA\",\"TV-14\",\"TV-14\",\"TV-MA\",\"TV-PG\",\"TV-MA\",\"TV-14\",\"TV-PG\",\"TV-14\",\"TV-MA\",\"TV-PG\",\"TV-Y\",\"TV-MA\",\"TV-PG\",\"TV-MA\",\"TV-MA\",\"TV-PG\",\"TV-MA\",\"TV-MA\",\"TV-MA\",\"TV-MA\",\"R\",\"TV-14\",\"TV-MA\",\"TV-Y\",\"TV-MA\",\"TV-MA\",\"TV-MA\",\"TV-MA\",\"TV-MA\",\"TV-14\",\"TV-14\",\"TV-MA\",\"TV-MA\",\"TV-MA\",\"TV-MA\",\"TV-PG\",\"R\",\"TV-MA\",\"TV-MA\",\"TV-PG\",\"TV-14\",\"TV-PG\",\"TV-MA\",\"TV-MA\",\"TV-MA\",\"TV-14\",\"TV-14\",\"TV-14\",\"TV-PG\",\"TV-14\",\"TV-MA\",\"R\",\"TV-MA\",\"TV-MA\",\"TV-MA\",\"TV-MA\",\"TV-MA\",\"TV-MA\",\"R\",\"R\",\"TV-14\",\"TV-14\",\"TV-MA\",\"TV-MA\",\"TV-MA\",\"TV-MA\",\"TV-MA\",\"TV-MA\",\"TV-14\",\"TV-MA\",\"TV-PG\",\"TV-MA\",\"TV-14\",\"TV-MA\",\"TV-MA\",\"PG-13\",\"TV-MA\",\"TV-14\",\"TV-MA\",\"TV-MA\",\"TV-MA\",\"TV-14\",\"TV-MA\",\"TV-Y7\",\"TV-14\",\"TV-MA\",\"TV-MA\",\"TV-MA\",\"TV-G\",\"R\",\"TV-MA\",\"TV-14\",\"TV-G\",\"TV-MA\",\"TV-MA\",\"TV-MA\",\"TV-MA\",\"TV-MA\",\"TV-MA\",\"TV-MA\",\"TV-14\",\"TV-PG\",\"TV-14\",\"R\",\"TV-14\",\"TV-PG\",\"TV-MA\",\"TV-PG\",\"TV-MA\",\"TV-MA\",\"TV-MA\",\"TV-MA\",\"TV-MA\",\"TV-14\",\"TV-14\",\"TV-MA\",\"TV-MA\",\"TV-MA\",\"TV-MA\",\"TV-14\",\"TV-MA\",\"TV-MA\",\"TV-MA\",\"TV-14\",\"TV-MA\",\"TV-MA\",\"TV-PG\",\"TV-MA\",\"TV-Y7\",\"TV-14\",\"TV-MA\",\"TV-MA\",\"TV-MA\",\"TV-14\",\"TV-14\",\"TV-MA\",\"TV-PG\",\"TV-14\",\"TV-PG\",\"TV-14\",\"PG-13\",\"TV-MA\",\"TV-MA\",\"TV-MA\",\"TV-14\",\"TV-MA\",\"TV-MA\",\"TV-MA\",\"TV-PG\",\"TV-14\",\"TV-MA\",\"TV-MA\",\"TV-MA\",\"TV-MA\",\"TV-MA\",\"TV-MA\",\"TV-Y7\",\"R\",\"TV-MA\",\"TV-MA\",\"TV-MA\",\"TV-MA\",\"TV-MA\",\"TV-PG\",\"TV-14\",\"PG-13\",\"TV-MA\",\"TV-MA\",\"TV-MA\",\"TV-MA\",\"TV-14\",\"TV-MA\",\"TV-14\",\"TV-14\",\"TV-PG\",\"TV-MA\",\"TV-14\",\"TV-14\",\"TV-MA\",\"TV-MA\",\"TV-MA\",\"TV-MA\",\"TV-PG\",\"TV-MA\",\"PG-13\",\"TV-MA\",\"TV-14\",\"TV-MA\",\"TV-14\",\"TV-14\",\"TV-MA\",\"TV-Y7\",\"TV-MA\",\"TV-MA\",\"R\",\"R\",\"TV-MA\",\"TV-14\",\"TV-14\",\"TV-14\",\"TV-MA\",\"TV-MA\",\"TV-14\",\"TV-MA\",\"TV-PG\",\"TV-14\",\"TV-MA\",\"TV-MA\",\"TV-G\",\"R\",\"TV-MA\",\"TV-14\",\"TV-MA\",\"TV-MA\",\"TV-G\",\"TV-MA\",\"PG-13\",\"TV-MA\",\"TV-14\",\"TV-14\",\"TV-MA\",\"TV-14\",\"TV-MA\",\"TV-14\",\"TV-14\",\"TV-14\",\"TV-Y7\",\"TV-MA\",\"TV-MA\",\"TV-MA\",\"TV-Y\",\"TV-Y7\",\"TV-14\",\"TV-Y\",\"TV-PG\",\"TV-Y7\",\"TV-14\",\"TV-Y7\",\"TV-14\",\"TV-MA\",\"TV-14\",\"TV-MA\",\"TV-MA\",\"TV-MA\",\"PG-13\",\"TV-14\",\"TV-MA\",\"TV-14\",\"TV-MA\",\"TV-MA\",\"TV-MA\",\"TV-14\",\"TV-MA\",\"TV-Y\",\"TV-PG\",\"TV-PG\",\"TV-PG\",\"TV-MA\",\"TV-MA\",\"TV-Y\",\"R\",\"TV-MA\",\"TV-14\",\"TV-MA\",\"TV-MA\",\"TV-MA\",\"TV-MA\",\"TV-Y7\",\"TV-MA\",\"TV-MA\",\"TV-MA\",\"TV-MA\",\"R\",\"TV-G\",\"R\",\"TV-MA\",\"PG-13\",\"TV-14\",\"TV-MA\",\"TV-PG\",\"TV-MA\",\"TV-PG\",\"TV-G\",\"TV-MA\",\"TV-MA\",\"TV-MA\",\"TV-14\",\"TV-14\",\"TV-14\",\"TV-MA\",\"R\",\"PG-13\",\"PG\",\"TV-14\",\"TV-14\",\"R\",\"R\",\"TV-MA\",\"TV-MA\",\"TV-MA\",\"TV-MA\",\"TV-PG\",\"TV-14\",\"TV-MA\",\"TV-MA\",\"TV-MA\",\"TV-MA\",\"TV-14\",\"TV-PG\",\"TV-14\",\"TV-14\",\"TV-MA\",\"TV-Y\",\"TV-PG\",\"TV-G\",\"TV-14\",\"TV-MA\",\"TV-MA\",\"TV-MA\",\"TV-MA\",\"TV-MA\",\"TV-MA\",\"TV-MA\",\"TV-MA\",\"TV-PG\",\"TV-Y7\",\"TV-MA\",\"TV-MA\",\"TV-MA\",\"TV-Y7\",\"TV-Y7\",\"TV-MA\",\"TV-MA\",\"PG-13\",\"TV-Y7\",\"TV-14\",\"TV-Y\",\"TV-14\",\"TV-PG\",\"TV-14\",\"TV-14\",\"TV-14\",\"TV-MA\",\"TV-14\",\"TV-MA\",\"TV-MA\",\"TV-14\",\"TV-PG\",\"TV-14\",\"TV-MA\",\"TV-14\",\"TV-MA\",\"TV-PG\",\"TV-MA\",\"TV-MA\",\"TV-14\",\"TV-14\",\"NC-17\",\"TV-MA\",\"TV-MA\",\"R\",\"TV-14\",\"TV-Y\",\"TV-MA\",\"TV-MA\",\"TV-Y\",\"G\",\"TV-MA\",\"TV-14\",\"TV-MA\",\"TV-14\",\"TV-MA\",\"TV-MA\",\"TV-MA\",\"TV-MA\",\"TV-MA\",\"TV-MA\",\"TV-PG\",\"TV-14\",\"TV-14\",\"TV-14\",\"TV-MA\",\"TV-PG\",\"TV-14\",\"TV-MA\",\"TV-MA\",\"TV-MA\",\"TV-MA\",\"TV-PG\",\"TV-14\",\"TV-PG\",\"TV-14\",\"TV-PG\",\"TV-14\",\"TV-Y7\",\"TV-MA\",\"TV-14\",\"TV-14\",\"TV-MA\",\"TV-MA\",\"TV-MA\",\"TV-MA\",\"TV-14\",\"TV-MA\",\"TV-G\",\"TV-14\",\"TV-MA\",\"TV-MA\",\"TV-14\",\"TV-MA\",\"R\",\"TV-MA\",\"TV-MA\",\"TV-Y7\",\"TV-MA\",\"PG-13\",\"TV-MA\",\"TV-MA\",\"TV-MA\",\"TV-MA\",\"TV-MA\",\"TV-14\",\"TV-MA\",\"TV-MA\",\"TV-14\",\"R\",\"TV-14\",\"TV-MA\",\"TV-14\",\"TV-MA\",\"TV-14\",\"TV-14\",\"TV-14\",\"TV-Y7\",\"PG-13\",\"TV-MA\",\"TV-MA\",\"R\",\"TV-MA\",\"TV-MA\",\"TV-14\",\"TV-14\",\"TV-14\",\"TV-14\",\"TV-MA\",\"TV-14\",\"TV-Y\",\"TV-PG\",\"TV-MA\",\"TV-14\",\"TV-14\",\"TV-MA\",\"TV-Y\",\"TV-MA\",\"TV-MA\",\"TV-14\",\"TV-MA\",\"TV-MA\",\"TV-MA\",\"TV-MA\",\"TV-14\",\"TV-MA\",\"TV-MA\",\"TV-14\",\"TV-MA\",\"TV-MA\",\"TV-MA\",\"TV-MA\",\"TV-Y7\",\"TV-PG\",\"TV-MA\",\"TV-MA\",\"TV-MA\",\"TV-Y7\",\"TV-14\",\"TV-PG\",\"TV-14\",\"TV-14\",\"TV-MA\",\"TV-14\",\"TV-14\",\"TV-MA\",\"PG\",\"TV-14\",\"TV-PG\",\"TV-Y\",\"TV-14\",\"TV-MA\",\"TV-MA\",\"TV-14\",\"TV-Y\",\"TV-MA\",\"TV-14\",\"TV-PG\",\"TV-14\",\"TV-14\",\"TV-14\",\"TV-MA\",\"TV-14\",\"TV-14\",\"TV-14\",\"TV-14\",\"TV-14\",\"TV-14\",\"TV-PG\",\"TV-14\",\"TV-MA\",\"TV-Y7\",\"TV-MA\",\"TV-MA\",\"TV-MA\",\"TV-14\",\"TV-MA\",\"TV-PG\",\"TV-14\",\"TV-Y7\",\"TV-Y7\",\"TV-MA\",\"TV-MA\",\"TV-MA\",\"TV-PG\",\"TV-Y7\",\"TV-PG\",\"TV-MA\",\"TV-PG\",\"TV-MA\",\"TV-PG\",\"TV-PG\",\"TV-14\",\"TV-PG\",\"TV-14\",\"TV-14\",\"TV-MA\",\"TV-MA\",\"TV-14\",\"TV-MA\",\"R\",\"TV-MA\",\"TV-MA\",\"TV-MA\",\"TV-14\",\"TV-PG\",\"TV-MA\",\"TV-14\",\"TV-PG\",\"TV-MA\",\"TV-MA\",\"TV-MA\",\"TV-14\",\"TV-PG\",\"TV-14\",\"TV-Y7\",\"TV-MA\",\"TV-14\",\"TV-PG\",\"TV-14\",\"TV-14\",\"TV-14\",\"TV-14\",\"TV-PG\",\"TV-14\",\"TV-MA\",\"TV-14\",\"TV-MA\",\"TV-14\",\"TV-14\",\"TV-MA\",\"TV-MA\",\"TV-MA\",\"TV-14\",\"TV-MA\",\"TV-MA\",\"TV-MA\",\"TV-MA\",\"TV-14\",\"TV-14\",\"TV-MA\",\"TV-14\",\"TV-14\",\"TV-MA\",\"PG-13\",\"TV-Y7\",\"TV-MA\",\"TV-MA\",\"TV-Y7\",\"TV-MA\",\"TV-MA\",\"TV-Y\",\"TV-MA\",\"TV-PG\",\"TV-MA\",\"TV-MA\",\"TV-14\",\"TV-14\",\"TV-MA\",\"TV-MA\",\"TV-PG\",\"TV-MA\",\"TV-MA\",\"TV-MA\",\"TV-MA\",\"TV-14\",\"TV-14\",\"TV-14\",\"TV-MA\",\"TV-MA\",\"TV-14\",\"TV-MA\",\"TV-14\",\"R\",\"TV-MA\",\"TV-MA\",\"TV-Y7\",\"TV-MA\",\"TV-MA\",\"TV-MA\",\"TV-Y7\",\"TV-MA\",\"TV-MA\",\"TV-PG\",\"TV-14\",\"TV-14\",\"TV-MA\",\"TV-14\",\"TV-14\",\"TV-MA\",\"TV-14\",\"TV-MA\",\"R\",\"TV-MA\",\"TV-14\",\"TV-MA\",\"TV-MA\",\"TV-MA\",\"74 min\",\"TV-MA\",\"TV-MA\",\"TV-MA\",\"TV-14\",\"TV-MA\",\"TV-14\",\"TV-MA\",\"TV-14\",\"TV-MA\",\"TV-MA\",\"TV-MA\",\"TV-MA\",\"TV-MA\",\"TV-MA\",\"TV-MA\",\"TV-MA\",\"TV-Y7\",\"TV-MA\",\"TV-14\",\"TV-MA\",\"TV-MA\",\"TV-14\",\"TV-MA\",\"TV-14\",\"TV-Y\",\"TV-MA\",\"TV-MA\",\"TV-PG\",\"PG\",\"R\",\"TV-MA\",\"TV-PG\",\"TV-14\",\"TV-PG\",\"TV-MA\",\"TV-MA\",\"TV-Y7\",\"TV-MA\",\"TV-14\",\"TV-PG\",\"TV-MA\",\"TV-14\",\"TV-MA\",\"TV-MA\",\"TV-MA\",\"TV-14\",\"TV-MA\",\"TV-MA\",\"TV-MA\",\"TV-Y7\",\"TV-14\",\"TV-PG\",\"TV-14\",\"TV-MA\",\"G\",\"G\",\"TV-14\",\"TV-MA\",\"TV-MA\",\"TV-14\",\"TV-MA\",\"TV-PG\",\"TV-MA\",\"TV-MA\",\"TV-MA\",\"TV-MA\",\"TV-14\",\"TV-14\",\"TV-MA\",\"TV-MA\",\"TV-MA\",\"TV-MA\",\"TV-MA\",\"TV-MA\",\"TV-PG\",\"TV-14\",\"TV-14\",\"TV-MA\",\"TV-MA\",\"TV-Y\",\"TV-MA\",\"TV-MA\",\"TV-14\",\"TV-MA\",\"TV-MA\",\"TV-MA\",\"TV-MA\",\"TV-14\",\"TV-MA\",\"TV-MA\",\"TV-MA\",\"TV-PG\",\"TV-MA\",\"TV-MA\",\"TV-14\",\"TV-MA\",\"TV-MA\",\"TV-14\",\"TV-Y\",\"PG-13\",\"TV-14\",\"TV-Y7\",\"TV-MA\",\"PG\",\"TV-MA\",\"TV-MA\",\"PG\",\"TV-MA\",\"TV-14\",\"TV-MA\",\"TV-MA\",\"TV-14\",\"TV-MA\",\"TV-14\",\"TV-MA\",\"TV-MA\",\"TV-MA\",\"TV-Y7\",\"TV-14\",\"TV-MA\",\"TV-MA\",\"TV-MA\",\"TV-MA\",\"TV-PG\",\"TV-MA\",\"TV-14\",\"TV-14\",\"TV-MA\",\"TV-14\",\"TV-14\",\"TV-14\",\"TV-14\",\"TV-PG\",\"TV-PG\",\"TV-PG\",\"TV-MA\",\"TV-MA\",\"TV-MA\",\"TV-MA\",\"TV-G\",\"TV-14\",\"TV-14\",\"TV-14\",\"TV-MA\",\"TV-14\",\"TV-MA\",\"TV-14\",\"TV-MA\",\"TV-MA\",\"TV-MA\",\"TV-G\",\"TV-14\",\"TV-MA\",\"TV-PG\",\"TV-14\",\"TV-PG\",\"TV-14\",\"TV-PG\",\"TV-PG\",\"TV-MA\",\"TV-MA\",\"TV-14\",\"TV-MA\",\"TV-14\",\"TV-MA\",\"TV-14\",\"TV-MA\",\"TV-MA\",\"TV-14\",\"TV-MA\",\"TV-MA\",\"TV-MA\",\"TV-MA\",\"TV-MA\",\"TV-MA\",\"TV-MA\",\"TV-MA\",\"TV-14\",\"TV-MA\",\"TV-MA\",\"TV-MA\",\"TV-Y7\",\"TV-MA\",\"TV-14\",\"TV-PG\",\"TV-14\",\"TV-14\",\"TV-14\",\"TV-MA\",\"TV-14\",\"TV-14\",\"TV-MA\",\"TV-Y\",\"TV-MA\",\"G\",\"TV-14\",\"TV-PG\",\"TV-14\",\"TV-MA\",\"TV-MA\",\"TV-MA\",\"TV-MA\",\"TV-MA\",\"TV-MA\",\"TV-MA\",\"TV-MA\",\"TV-PG\",\"TV-14\",\"TV-14\",\"TV-14\",\"TV-MA\",\"TV-14\",\"TV-MA\",\"TV-MA\",\"TV-MA\",\"TV-MA\",\"TV-MA\",\"TV-Y\",\"TV-MA\",\"TV-Y7\",\"TV-PG\",\"TV-14\",\"TV-MA\",\"TV-MA\",\"TV-14\",\"TV-MA\",\"TV-14\",\"TV-Y\",\"TV-MA\",\"TV-PG\",\"TV-MA\",\"TV-Y7\",\"TV-MA\",\"TV-Y7\",\"TV-14\",\"TV-14\",\"TV-MA\",\"TV-MA\",\"TV-MA\",\"TV-14\",\"TV-MA\",\"TV-MA\",\"TV-MA\",\"TV-Y\",\"TV-MA\",\"TV-MA\",\"TV-MA\",\"TV-MA\",\"TV-MA\",\"TV-MA\",\"TV-MA\",\"TV-MA\",\"84 min\",\"TV-PG\",\"TV-14\",\"TV-PG\",\"TV-MA\",\"TV-14\",\"TV-Y7\",\"TV-14\",\"TV-MA\",\"TV-MA\",\"TV-14\",\"TV-MA\",\"TV-14\",\"TV-Y7\",\"TV-14\",\"TV-MA\",\"TV-MA\",\"TV-14\",\"TV-MA\",\"66 min\",\"TV-14\",\"TV-14\",\"TV-PG\",\"TV-14\",\"TV-14\",\"TV-MA\",\"TV-MA\",\"TV-MA\",\"TV-14\",\"TV-G\",\"TV-MA\",\"TV-MA\",\"TV-14\",\"TV-Y7\",\"TV-MA\",\"TV-Y\",\"TV-MA\",\"TV-MA\",\"R\",\"TV-MA\",\"TV-14\",\"TV-MA\",\"TV-MA\",\"TV-MA\",\"TV-Y\",\"TV-MA\",\"TV-MA\",\"PG-13\",\"TV-MA\",\"TV-MA\",\"TV-PG\",\"TV-PG\",\"TV-MA\",\"TV-MA\",\"TV-MA\",\"TV-MA\",\"TV-MA\",\"TV-MA\",\"R\",\"TV-MA\",\"TV-MA\",\"TV-Y\",\"TV-14\",\"TV-PG\",\"R\",\"TV-MA\",\"TV-14\",\"TV-PG\",\"TV-MA\",\"TV-14\",\"PG-13\",\"PG\",\"TV-14\",\"TV-Y\",\"TV-MA\",\"TV-Y7\",\"TV-Y\",\"TV-MA\",\"TV-MA\",\"R\",\"R\",\"TV-MA\",\"TV-MA\",\"TV-Y\",\"TV-MA\",\"TV-14\",\"TV-MA\",\"TV-14\",\"TV-PG\",\"TV-MA\",\"TV-MA\",\"TV-MA\",\"TV-MA\",\"TV-Y\",\"TV-MA\",\"R\",\"TV-MA\",\"TV-MA\",\"TV-MA\",\"TV-MA\",\"TV-14\",\"TV-PG\",\"TV-14\",\"TV-PG\",\"TV-MA\",\"TV-MA\",\"TV-MA\",\"TV-14\",\"TV-Y7\",\"R\",\"TV-MA\",\"TV-MA\",\"TV-14\",\"TV-MA\",\"TV-Y\",\"TV-MA\",\"TV-MA\",\"TV-MA\",\"TV-14\",\"TV-MA\",\"TV-Y\",\"TV-MA\",\"TV-MA\",\"TV-MA\",\"TV-14\",\"TV-MA\",\"TV-MA\",\"TV-MA\",\"TV-MA\",\"TV-G\",\"TV-MA\",\"TV-MA\",\"TV-MA\",\"TV-MA\",\"TV-MA\",\"TV-14\",\"TV-PG\",\"TV-MA\",\"TV-14\",\"TV-MA\",\"TV-PG\",\"TV-MA\",\"TV-G\",\"PG\",\"TV-MA\",\"TV-14\",\"TV-MA\",\"PG\",\"TV-14\",\"TV-MA\",\"TV-14\",\"TV-14\",\"TV-PG\",\"TV-PG\",\"TV-PG\",\"TV-MA\",\"TV-PG\",\"TV-14\",\"TV-14\",\"TV-PG\",\"TV-MA\",\"TV-MA\",\"TV-MA\",\"TV-MA\",\"PG-13\",\"PG-13\",\"R\",\"TV-14\",\"TV-MA\",\"TV-14\",\"TV-14\",\"R\",\"TV-14\",\"TV-PG\",\"TV-14\",\"TV-14\",\"TV-14\",\"NR\",\"TV-14\",\"TV-14\",\"TV-14\",\"TV-MA\",\"TV-MA\",\"PG-13\",\"TV-MA\",\"TV-PG\",\"TV-14\",\"PG-13\",\"TV-MA\",\"TV-14\",\"TV-14\",\"TV-MA\",\"TV-14\",\"NR\",\"R\",null,\"R\",\"TV-MA\",\"PG-13\",\"PG-13\",\"TV-MA\",\"TV-MA\",\"PG-13\",\"TV-PG\",\"TV-14\",\"R\",\"R\",\"TV-14\",\"TV-MA\",\"R\",\"TV-MA\",\"TV-MA\",\"PG-13\",\"TV-MA\",\"PG-13\",\"TV-PG\",\"TV-PG\",\"TV-14\",\"R\",\"TV-14\",\"TV-MA\",\"NR\",\"TV-MA\",\"R\",\"PG-13\",\"R\",\"TV-14\",\"R\",\"TV-MA\",\"R\",\"TV-14\",\"TV-PG\",\"TV-PG\",\"R\",\"TV-14\",\"PG\",\"PG\",\"R\",\"R\",\"TV-PG\",\"R\",\"TV-14\",\"R\",\"TV-14\",\"TV-MA\",\"R\",\"TV-14\",\"TV-G\",\"R\",\"TV-MA\",\"TV-14\",\"TV-MA\",\"R\",\"PG-13\",\"TV-14\",\"PG-13\",\"TV-MA\",\"TV-MA\",\"R\",\"TV-PG\",\"NR\",\"TV-MA\",\"PG-13\",\"R\",\"TV-PG\",\"PG-13\",\"R\",\"PG-13\",\"PG\",\"TV-MA\",\"TV-14\",\"PG\",\"TV-MA\",\"TV-14\",\"TV-MA\",\"PG\",\"TV-MA\",\"TV-MA\",\"TV-PG\",\"TV-14\",\"TV-14\",\"TV-14\",\"TV-PG\",\"TV-MA\",\"TV-14\",\"TV-PG\",\"TV-Y7\",\"PG-13\",\"TV-MA\",\"TV-MA\",\"TV-MA\",\"PG-13\",\"R\",\"NR\",\"R\",\"TV-14\",\"TV-14\",\"R\",\"TV-14\",\"NR\",\"TV-PG\",\"NR\",\"TV-MA\",\"TV-MA\",\"R\",\"TV-MA\",\"TV-MA\",\"TV-MA\",\"TV-14\",\"TV-14\",\"R\",\"TV-PG\",\"TV-14\",\"TV-14\",\"TV-MA\",\"TV-PG\",\"TV-MA\",\"PG\",\"TV-PG\",\"PG\",\"TV-14\",\"R\",\"G\",\"TV-MA\",\"TV-G\",\"TV-MA\",\"R\",\"R\",\"R\",\"R\",\"TV-G\",\"TV-Y7\",\"TV-Y\",\"TV-G\",\"TV-14\",\"TV-MA\",\"TV-14\",\"TV-14\",\"TV-14\",\"TV-MA\",\"R\",\"R\",\"TV-14\",\"TV-MA\",\"TV-MA\",\"TV-PG\",\"TV-14\",\"TV-MA\",\"R\",\"R\",\"R\",\"TV-MA\",\"TV-14\",\"R\",\"TV-MA\",\"R\",\"TV-PG\",\"G\",\"G\",\"G\",\"G\",\"TV-14\",\"TV-14\",\"TV-PG\",\"TV-MA\",\"TV-MA\",\"TV-MA\",\"TV-14\",\"R\",\"R\",\"PG-13\",\"TV-MA\",\"TV-14\",\"TV-14\",\"TV-14\",\"TV-PG\",\"TV-PG\",\"PG-13\",\"TV-MA\",\"TV-Y7\",\"TV-PG\",\"TV-MA\",\"TV-14\",\"TV-Y7\",\"TV-MA\",\"NR\",\"PG-13\",\"PG\",\"TV-14\",\"TV-14\",\"TV-14\",\"PG-13\",\"PG\",\"R\",\"PG-13\",\"TV-MA\",\"NR\",\"TV-MA\",\"TV-14\",\"TV-14\",\"TV-Y7\",\"TV-14\",\"TV-14\",\"TV-PG\",\"TV-MA\",\"R\",\"PG-13\",\"TV-MA\",\"TV-14\",\"TV-14\",\"TV-14\",\"R\",\"TV-MA\",\"NR\",\"NR\",\"TV-MA\",\"R\",\"R\",\"R\",\"TV-MA\",\"TV-MA\",\"TV-MA\",\"TV-14\",\"TV-14\",\"TV-14\",\"TV-MA\",\"G\",\"G\",\"G\",\"TV-MA\",\"TV-14\",\"R\",\"NR\",\"TV-MA\",\"TV-MA\",\"TV-MA\",\"TV-14\",\"TV-MA\",\"TV-14\",\"TV-MA\",\"TV-Y\",\"TV-Y\",\"TV-Y\",\"TV-Y\",\"TV-Y\",\"TV-Y7\",\"TV-Y\",\"TV-Y\",\"TV-Y\",\"TV-Y\",\"PG-13\",\"TV-14\",\"TV-PG\",\"R\",\"R\",\"TV-Y\",\"TV-MA\",\"PG-13\",\"TV-14\",\"TV-PG\",\"TV-PG\",\"TV-14\",\"TV-MA\",\"PG\",\"TV-Y\",\"TV-G\",\"PG-13\",\"TV-G\",\"TV-PG\",\"TV-14\",\"TV-14\",\"TV-MA\",\"PG-13\",\"PG-13\",\"TV-14\",\"TV-14\",\"PG-13\",\"PG\",\"PG\",\"TV-14\",\"TV-MA\",\"TV-MA\",\"TV-MA\",\"TV-MA\",\"TV-14\",\"TV-14\",\"TV-MA\",\"TV-Y7\",\"TV-MA\",\"PG\",\"TV-G\",\"TV-14\",\"R\",\"TV-14\",\"TV-PG\",\"TV-PG\",\"TV-14\",\"TV-Y7\",\"TV-14\",\"TV-14\",\"TV-PG\",\"TV-14\",\"TV-14\",\"TV-Y\",\"TV-14\",\"TV-MA\",\"TV-14\",\"TV-G\",\"TV-MA\",\"PG-13\",\"TV-G\",\"PG\",\"R\",\"TV-MA\",\"PG\",\"R\",\"NR\",\"R\",\"TV-PG\",\"TV-MA\",\"TV-14\",\"TV-MA\",\"R\",\"TV-14\",\"TV-MA\",\"TV-MA\",\"TV-14\",\"TV-MA\",\"R\",\"TV-14\",\"TV-PG\",\"PG-13\",\"TV-MA\",\"R\",\"TV-MA\",\"PG-13\",\"PG-13\",\"R\",\"R\",\"PG\",\"TV-MA\",\"TV-14\",\"R\",\"R\",\"NC-17\",\"PG-13\",\"R\",\"TV-G\",\"R\",\"PG-13\",\"R\",\"TV-MA\",\"TV-MA\",\"TV-G\",\"TV-G\",\"TV-MA\",\"TV-14\",\"TV-14\",\"TV-14\",\"TV-14\",\"PG\",\"TV-14\",\"TV-MA\",\"TV-PG\",\"R\",\"TV-MA\",\"TV-PG\",\"TV-14\",\"TV-MA\",\"TV-14\",\"TV-MA\",\"TV-MA\",\"PG\",\"TV-MA\",\"TV-G\",\"TV-MA\",\"PG\",\"TV-14\",\"TV-MA\",\"TV-PG\",\"TV-MA\",\"TV-MA\",\"R\",\"PG-13\",\"TV-14\",\"R\",\"TV-MA\",\"TV-14\",\"TV-PG\",\"TV-PG\",\"TV-PG\",\"TV-PG\",\"TV-MA\",\"TV-G\",\"TV-MA\",\"TV-PG\",\"PG-13\",\"TV-MA\",\"TV-MA\",\"TV-MA\",\"TV-MA\",\"TV-14\",\"R\",\"R\",\"TV-PG\",\"TV-14\",\"TV-MA\",\"TV-MA\",\"TV-MA\",\"TV-14\",\"TV-Y\",\"TV-Y\",\"TV-Y\",\"TV-14\",\"TV-14\",\"TV-MA\",\"TV-G\",\"TV-MA\",\"R\",\"TV-14\",\"PG-13\",\"R\",\"TV-MA\",\"TV-14\",\"TV-PG\",\"TV-MA\",\"TV-Y\",\"TV-14\",\"R\",\"R\",\"PG-13\",\"R\",\"TV-14\",\"PG-13\",\"TV-MA\",\"TV-MA\",\"TV-MA\",\"NR\",\"TV-14\",\"PG\",\"TV-PG\",\"TV-MA\",\"TV-PG\",\"PG-13\",\"TV-PG\",\"TV-14\",\"TV-14\",\"TV-14\",\"TV-G\",\"PG\",\"TV-14\",\"PG-13\",\"PG\",\"PG-13\",\"G\",\"TV-PG\",\"R\",\"TV-PG\",\"TV-MA\",\"TV-PG\",\"TV-14\",\"TV-14\",\"TV-PG\",\"TV-PG\",\"R\",\"TV-14\",\"TV-MA\",\"TV-Y7\",\"TV-Y7\",\"TV-Y7\",\"TV-Y7\",\"TV-14\",\"G\",\"TV-MA\",\"R\",\"TV-G\",\"TV-MA\",\"TV-MA\",\"NR\",\"G\",\"R\",\"TV-MA\",\"PG\",\"TV-MA\",\"TV-PG\",\"TV-G\",\"PG\",\"PG\",\"R\",\"TV-Y7\",\"TV-14\",\"TV-PG\",\"PG-13\",\"TV-PG\",\"R\",\"TV-MA\",\"TV-14\",\"TV-MA\",\"PG-13\",\"TV-PG\",\"TV-MA\",\"TV-PG\",\"PG\",\"PG-13\",\"TV-14\",\"TV-MA\",\"R\",\"R\",\"R\",\"PG-13\",\"TV-MA\",\"TV-MA\",\"TV-MA\",\"TV-MA\",\"TV-MA\",\"TV-MA\",\"PG-13\",\"PG-13\",\"TV-PG\",\"TV-14\",\"TV-MA\",\"TV-14\",\"R\",\"TV-14\",\"R\",\"TV-14\",\"TV-14\",\"TV-PG\",\"TV-MA\",\"TV-MA\",\"TV-14\",\"TV-MA\",\"R\",\"TV-MA\",\"R\",\"TV-MA\",\"TV-14\",\"TV-14\",\"TV-MA\",\"TV-14\",\"PG\",\"TV-MA\",\"PG\",\"TV-14\",\"TV-MA\",\"TV-G\",\"R\",\"TV-MA\",\"TV-MA\",\"PG-13\",\"R\",\"R\",\"TV-14\",\"TV-MA\",\"PG\",\"TV-PG\",\"PG\",\"TV-MA\",\"NR\",\"TV-14\",\"TV-MA\",\"R\",\"TV-PG\",\"TV-PG\",\"TV-MA\",\"TV-MA\",\"TV-MA\",\"TV-MA\",\"PG-13\",\"TV-PG\",\"TV-MA\",\"R\",\"R\",\"TV-MA\",\"TV-MA\",\"TV-14\",\"NR\",\"TV-MA\",\"TV-MA\",\"TV-MA\",\"TV-PG\",\"R\",\"TV-MA\",\"TV-14\",\"TV-14\",\"PG-13\",\"TV-14\",\"TV-Y7-FV\",\"TV-PG\",\"R\",\"R\",\"TV-MA\",\"TV-MA\",\"TV-MA\",\"TV-MA\",\"TV-14\",\"R\",\"NR\",\"R\",\"R\",\"TV-MA\",\"TV-MA\",\"TV-14\",\"R\",\"TV-14\",\"TV-MA\",\"TV-MA\",\"TV-PG\",\"TV-PG\",\"TV-MA\",\"TV-14\",\"TV-14\",\"TV-PG\",\"TV-PG\",\"NR\",\"PG-13\",\"TV-14\",\"TV-MA\",\"PG-13\",\"TV-G\",\"TV-14\",\"TV-MA\",\"TV-14\",\"R\",\"TV-MA\",\"PG-13\",\"TV-MA\",\"TV-PG\",\"PG\",\"R\",\"TV-14\",\"PG-13\",\"R\",\"TV-MA\",\"TV-MA\",\"TV-14\",\"R\",\"TV-MA\",\"R\",\"R\",\"R\",\"TV-14\",\"TV-14\",\"PG-13\",\"TV-PG\",\"PG\",\"PG\",\"PG-13\",\"PG-13\",\"PG\",\"PG-13\",\"TV-Y\",\"TV-14\",\"TV-G\",\"TV-MA\",\"TV-PG\",\"TV-PG\",\"TV-MA\",\"TV-14\",\"TV-14\",\"TV-14\",\"PG-13\",\"TV-14\",\"PG\",\"TV-Y\",\"TV-PG\",\"TV-14\",\"PG\",\"PG-13\",\"TV-MA\",\"PG-13\",\"TV-MA\",\"TV-14\",\"TV-14\",\"TV-PG\",\"TV-MA\",\"R\",\"NR\",\"TV-MA\",\"TV-MA\",\"TV-PG\",\"TV-14\",\"TV-14\",\"TV-14\",\"TV-MA\",\"TV-PG\",\"TV-MA\",\"TV-G\",\"R\",\"TV-14\",\"TV-MA\",\"TV-PG\",\"TV-PG\",\"TV-MA\",\"TV-PG\",\"TV-MA\",\"TV-PG\",\"TV-14\",\"PG-13\",\"TV-MA\",\"TV-14\",\"TV-14\",\"R\",\"TV-MA\",\"R\",\"TV-14\",\"TV-MA\",\"R\",\"PG-13\",\"R\",\"TV-MA\",\"NR\",\"TV-14\",\"TV-14\",\"R\",\"TV-PG\",\"PG\",\"R\",\"TV-MA\",\"R\",\"TV-PG\",\"PG-13\",\"R\",\"TV-14\",\"TV-14\",\"R\",\"TV-MA\",\"NR\",\"R\",\"TV-14\",\"TV-MA\",\"TV-MA\",\"TV-PG\",\"TV-PG\",\"TV-14\",\"TV-MA\",\"TV-MA\",\"TV-MA\",\"TV-G\",\"TV-14\",\"TV-14\",\"R\",\"TV-MA\",\"TV-14\",\"TV-14\",\"NR\",\"TV-MA\",\"TV-MA\",\"TV-14\",\"R\",\"TV-MA\",\"TV-MA\",\"G\",\"NR\",\"TV-Y7\",\"TV-PG\",\"TV-14\",\"TV-MA\",\"TV-PG\",\"R\",\"R\",\"R\",\"TV-14\",\"TV-MA\",\"TV-14\",\"R\",\"TV-MA\",\"TV-14\",\"NR\",\"TV-14\",\"TV-14\",\"R\",\"TV-G\",\"PG-13\",\"TV-14\",\"TV-MA\",\"TV-Y7\",\"TV-MA\",\"TV-MA\",\"TV-PG\",\"TV-14\",\"PG\",\"R\",\"TV-PG\",\"R\",\"TV-MA\",\"TV-MA\",\"G\",\"TV-14\",\"TV-14\",\"G\",\"TV-PG\",\"TV-MA\",\"TV-MA\",\"TV-MA\",\"PG\",\"PG-13\",\"TV-MA\",\"R\",\"R\",\"R\",\"TV-PG\",\"TV-MA\",\"PG\",\"PG\",\"R\",\"TV-MA\",\"TV-MA\",\"TV-PG\",\"TV-PG\",\"R\",\"R\",\"TV-14\",\"TV-14\",\"R\",\"PG\",\"TV-PG\",\"TV-PG\",\"TV-PG\",\"R\",\"TV-PG\",\"TV-MA\",\"TV-MA\",\"TV-MA\",\"PG\",\"TV-MA\",\"TV-14\",\"TV-14\",\"TV-PG\",\"TV-PG\",\"TV-MA\",\"TV-PG\",\"R\",null,\"TV-PG\",\"TV-PG\",\"TV-MA\",\"TV-MA\",\"TV-PG\",\"TV-PG\",\"TV-PG\",\"TV-PG\",\"TV-MA\",\"PG\",\"TV-Y\",\"R\",\"PG\",\"TV-MA\",\"PG-13\",\"PG-13\",\"TV-14\",\"TV-MA\",\"TV-MA\",\"PG-13\",\"TV-MA\",\"TV-14\",\"TV-14\",\"TV-MA\",\"TV-14\",\"G\",\"PG-13\",\"TV-14\",\"NR\",\"TV-14\",\"PG\",\"TV-PG\",\"NR\",\"PG\",\"PG\",\"TV-MA\",\"TV-PG\",\"TV-Y\",\"PG-13\",\"TV-MA\",\"TV-Y\",\"R\",\"TV-14\",\"TV-MA\",\"R\",\"TV-14\",\"R\",\"R\",\"TV-MA\",\"TV-MA\",\"PG\",\"R\",\"R\",\"TV-MA\",\"R\",\"PG\",\"R\",\"TV-14\",\"R\",\"TV-14\",\"R\",\"TV-14\",\"TV-PG\",\"TV-MA\",\"TV-MA\",\"PG\",\"TV-PG\",\"TV-PG\",\"R\",\"TV-MA\",\"TV-MA\",\"TV-PG\",\"TV-PG\",\"TV-14\",\"TV-G\",\"TV-MA\",\"TV-MA\",\"TV-14\",\"TV-MA\",\"TV-14\",\"TV-14\",\"PG\",\"PG-13\",\"TV-14\",\"TV-14\",\"R\",\"TV-14\",\"R\",\"TV-14\",\"TV-MA\",\"TV-G\",\"TV-14\",\"TV-MA\",\"NR\",\"TV-MA\",\"TV-MA\",\"TV-MA\",\"R\",\"TV-14\",\"R\",\"R\",\"TV-14\",\"TV-14\",\"TV-G\",\"TV-Y7\",\"TV-PG\",\"NR\",\"TV-PG\",\"TV-PG\",\"TV-14\",\"TV-MA\",\"TV-MA\",\"TV-MA\",\"TV-14\",\"TV-MA\",\"R\",\"PG-13\",\"R\",\"TV-MA\",\"TV-MA\",\"TV-14\",\"PG-13\",\"TV-MA\",\"TV-MA\",\"PG\",\"TV-MA\",\"R\",\"TV-14\",\"R\",\"PG-13\",\"R\",\"TV-14\",\"TV-14\",\"TV-MA\",\"TV-MA\",\"TV-MA\",\"TV-MA\",\"TV-Y7\",\"TV-14\",\"TV-14\",\"TV-14\",\"TV-PG\",\"TV-PG\",\"TV-14\",\"TV-PG\",\"TV-MA\",\"TV-MA\",\"TV-14\",\"TV-PG\",\"PG-13\",\"TV-PG\",\"TV-14\",\"TV-PG\",\"TV-Y\",\"TV-MA\",\"TV-MA\",\"TV-MA\",\"NR\",\"TV-14\",\"TV-MA\",\"TV-14\",\"TV-PG\",\"PG-13\",\"PG-13\",\"PG\",\"TV-14\",\"PG\",\"TV-14\",\"TV-MA\",\"R\",\"TV-14\",\"TV-14\",\"TV-14\",\"TV-PG\",\"R\",\"NR\",\"TV-MA\",\"PG-13\",\"TV-14\",\"TV-MA\",\"PG\",\"PG-13\",\"TV-14\",\"TV-14\",\"TV-PG\",\"PG\",\"PG-13\",\"R\",\"NR\",\"TV-MA\",\"PG-13\",\"TV-PG\",\"TV-14\",\"PG-13\",\"TV-G\",\"TV-PG\",\"TV-PG\",\"TV-MA\",\"R\",\"R\",\"TV-14\",\"TV-Y7\",\"TV-MA\",\"TV-MA\",\"R\",\"TV-14\",\"TV-MA\",\"TV-MA\",\"PG\",\"TV-14\",\"TV-14\",\"TV-14\",\"TV-14\",\"NR\",\"R\",\"R\",\"PG-13\",\"TV-14\",\"TV-14\",\"R\",\"PG-13\",\"PG\",\"TV-MA\",\"TV-MA\",\"R\",\"TV-14\",\"TV-PG\",\"PG\",\"NR\",\"PG\",\"UR\",\"TV-14\",\"R\",\"PG-13\",\"TV-14\",\"TV-MA\",\"TV-MA\",\"R\",\"TV-MA\",\"PG\",\"NR\",\"TV-PG\",\"PG-13\",\"PG-13\",\"PG\",\"PG\",\"TV-MA\",\"PG\",\"TV-PG\",\"R\",\"PG\",\"TV-14\",\"TV-MA\",\"TV-14\",\"TV-14\",\"TV-MA\",\"PG-13\",\"TV-MA\",\"TV-14\",\"R\",\"TV-PG\",\"TV-14\",\"TV-14\",\"PG-13\",\"TV-PG\",\"TV-MA\",\"TV-Y7\",\"TV-14\",\"TV-14\",\"PG\",\"TV-Y7\",\"TV-14\",\"TV-PG\",\"TV-MA\",\"TV-MA\",\"PG\",\"TV-14\",\"TV-MA\",\"TV-14\",\"NR\",\"TV-Y7\",\"TV-14\",\"PG\",\"TV-MA\",\"TV-MA\",\"R\",\"TV-14\",\"TV-14\",\"TV-Y\",\"TV-14\",\"TV-14\",\"TV-14\",\"TV-G\",\"R\",\"TV-MA\",\"TV-G\",\"PG-13\",\"TV-14\",\"R\",\"TV-14\",\"TV-MA\",\"TV-14\",\"R\",\"TV-Y7\",\"PG\",\"TV-14\",\"TV-14\",\"TV-14\",\"PG-13\",\"TV-MA\",\"TV-MA\",\"TV-MA\",\"TV-14\",\"TV-MA\",\"TV-MA\",\"TV-14\",\"TV-14\",\"PG\",\"TV-14\",\"PG-13\",\"TV-Y\",\"PG-13\",\"R\",\"PG-13\",\"PG-13\",\"TV-14\",\"G\",\"TV-MA\",\"PG-13\",\"TV-14\",\"TV-14\",\"TV-PG\",\"TV-14\",\"TV-PG\",\"TV-MA\",\"TV-14\",\"PG\",\"TV-14\",\"TV-MA\",\"TV-14\",\"TV-14\",\"TV-14\",\"PG-13\",\"TV-PG\",\"NR\",\"TV-14\",\"TV-14\",\"TV-14\",\"TV-PG\",\"TV-PG\",\"R\",\"R\",\"TV-MA\",\"TV-MA\",\"TV-14\",\"TV-14\",\"TV-14\",\"TV-14\",\"TV-14\",\"TV-14\",\"TV-PG\",\"TV-14\",\"TV-14\",\"R\",\"TV-MA\",\"R\",\"TV-14\",\"R\",\"TV-Y\",\"R\",\"R\",\"TV-MA\",\"TV-14\",\"TV-MA\",\"R\",\"PG-13\",\"PG-13\",\"TV-MA\",\"R\",\"NR\",\"PG-13\",\"TV-PG\",\"PG-13\",\"R\",\"TV-PG\",\"R\",\"TV-14\",\"TV-14\",\"TV-14\",\"TV-MA\",\"R\",\"TV-14\",\"PG-13\",\"TV-G\",\"TV-PG\",\"PG-13\",\"TV-14\",\"TV-MA\",\"TV-Y7\",\"TV-Y7\",\"TV-Y\",\"TV-Y7\",\"TV-Y7\",\"TV-Y7\",\"TV-Y7\",\"TV-Y7\",\"R\",\"TV-Y7\",\"NR\",\"R\",\"TV-MA\",\"R\",\"TV-Y7\",\"TV-PG\",\"TV-PG\",\"TV-14\",\"R\",\"TV-14\",\"TV-MA\",\"TV-PG\",\"TV-MA\",\"TV-PG\",\"TV-MA\",\"R\",\"PG-13\",\"TV-MA\",\"TV-14\",\"TV-14\",\"TV-MA\",\"TV-PG\",\"TV-14\",\"TV-14\",\"TV-MA\",\"R\",\"PG-13\",\"NC-17\",\"TV-14\",\"TV-MA\",\"TV-14\",\"TV-14\",\"TV-14\",\"TV-MA\",\"R\",\"R\",\"TV-14\",\"TV-PG\",\"PG\",\"TV-Y\",\"TV-Y\",\"TV-Y\",\"TV-Y\",\"TV-Y\",\"TV-MA\",\"PG-13\",\"PG\",\"TV-MA\",\"TV-14\",\"TV-PG\",\"R\",\"TV-G\",\"TV-Y\",\"TV-G\",\"TV-Y7-FV\",\"TV-Y\",\"TV-Y7-FV\",\"TV-MA\",\"TV-PG\",\"TV-MA\",\"TV-14\",\"TV-PG\",\"R\",\"TV-PG\",\"TV-G\",\"TV-14\",\"TV-MA\",\"TV-14\",\"TV-PG\",\"R\",\"R\",\"TV-MA\",\"PG-13\",\"TV-14\",\"TV-14\",\"TV-14\",null,\"TV-Y7\",\"TV-Y7\",\"PG\",\"PG-13\",\"TV-Y7-FV\",\"TV-Y7\",\"TV-Y7\",\"NR\",\"TV-G\",\"TV-14\",\"PG-13\",\"TV-14\",\"TV-14\",\"R\",\"R\",\"PG-13\",\"TV-MA\",\"PG\",\"TV-Y\",\"R\",\"TV-MA\",\"TV-14\",\"TV-14\",\"NR\",\"TV-14\",\"TV-MA\",\"TV-14\",\"TV-14\",\"TV-14\",\"TV-14\",\"TV-MA\",\"TV-MA\",\"TV-MA\",\"TV-14\",\"TV-14\",\"TV-PG\",\"TV-MA\",\"TV-MA\",\"TV-14\",\"TV-14\",\"TV-G\",\"R\",\"TV-MA\",\"TV-MA\",\"TV-14\",\"TV-PG\",\"TV-PG\",\"TV-14\",\"TV-14\",\"TV-MA\",\"TV-14\",\"TV-PG\",\"R\",\"TV-MA\",\"R\",\"TV-14\",\"PG-13\",\"NR\",\"TV-MA\",\"TV-14\",\"TV-MA\",\"TV-MA\",\"TV-Y7\",\"TV-14\",\"TV-Y\",\"TV-14\",\"TV-PG\",\"TV-14\",\"TV-14\",\"TV-14\",\"TV-14\",\"TV-PG\",\"TV-14\",\"TV-14\",\"TV-PG\",\"TV-PG\",\"TV-MA\",\"R\",\"R\",\"TV-PG\",\"TV-MA\",\"TV-14\",\"PG-13\",\"TV-14\",\"TV-14\",\"TV-MA\",\"PG-13\",\"TV-MA\",\"TV-14\",\"TV-MA\",\"R\",\"TV-14\",\"TV-14\",\"TV-MA\",\"TV-MA\",\"TV-14\",\"TV-PG\",\"R\",\"R\",\"TV-PG\",\"TV-14\",\"TV-PG\",\"PG\",\"PG\",\"PG\",\"TV-14\",\"TV-14\",\"NR\",\"TV-MA\",\"TV-14\",\"TV-14\",\"TV-MA\",\"TV-14\",\"TV-PG\",\"TV-PG\",\"TV-PG\",\"TV-MA\",\"R\",\"R\",\"TV-PG\",\"TV-MA\",\"TV-14\",\"TV-G\",\"TV-PG\",\"TV-PG\",\"TV-14\",\"R\",\"TV-MA\",\"TV-14\",\"PG-13\",\"PG-13\",\"TV-MA\",\"R\",\"TV-14\",\"TV-MA\",\"TV-MA\",\"TV-PG\",\"TV-14\",\"R\",\"PG\",\"TV-14\",\"PG-13\",\"TV-Y7\",\"R\",\"TV-G\",\"TV-14\",\"TV-PG\",\"PG\",\"PG\",\"TV-MA\",\"TV-14\",\"PG-13\",\"PG-13\",\"TV-14\",\"NR\",\"TV-MA\",\"TV-MA\",\"NR\",\"TV-14\",\"TV-MA\",\"TV-PG\",\"R\",\"TV-MA\",\"TV-MA\",\"R\",\"TV-14\",\"R\",\"TV-14\",\"PG-13\",\"R\",\"TV-PG\",\"R\",\"TV-PG\",\"PG\",\"TV-MA\",\"PG\",\"TV-Y7\",\"TV-Y7\",\"TV-Y7\",\"TV-Y7\",\"TV-Y7\",\"TV-Y7\",\"TV-Y7\",\"TV-Y7\",\"TV-Y7\",\"TV-Y7\",\"TV-Y7\",\"TV-G\",\"TV-Y7\",\"TV-Y\",\"PG-13\",\"TV-G\",\"TV-G\",\"R\",\"R\",\"R\",\"TV-14\",\"R\",\"TV-MA\",\"TV-14\",\"TV-Y7-FV\",\"PG\",\"R\",\"PG-13\",\"PG-13\",\"TV-14\",\"TV-14\",\"PG-13\",\"TV-G\",\"TV-14\",\"PG-13\",\"TV-PG\",\"PG\",\"PG\",\"NR\",\"TV-MA\",\"TV-PG\",\"TV-PG\",\"TV-PG\",\"TV-PG\",\"TV-14\",\"TV-14\",\"PG-13\",\"TV-MA\",null,\"TV-PG\",\"PG-13\",\"TV-14\",\"TV-Y\",\"TV-Y\",\"TV-14\",\"TV-14\",\"TV-MA\",\"PG-13\",\"TV-MA\",\"TV-MA\",\"R\",\"TV-14\",\"TV-14\",\"TV-PG\",\"PG\",\"TV-PG\",\"TV-MA\",\"TV-PG\",\"TV-14\",\"NR\",\"TV-14\",\"TV-MA\",\"TV-MA\",\"PG-13\",\"TV-G\",\"PG\",\"TV-14\",\"R\",\"R\",\"TV-PG\",\"TV-G\",\"TV-G\",\"TV-PG\",\"TV-PG\",\"TV-PG\",\"TV-PG\",\"TV-MA\",\"TV-PG\",\"R\",\"TV-PG\",\"PG\",\"NR\",\"PG-13\",\"TV-14\",\"TV-MA\",\"R\",\"R\",\"TV-MA\",\"PG-13\",\"TV-Y7\",\"TV-G\",\"TV-PG\",\"TV-MA\",\"PG\",\"R\",\"TV-Y7\",\"TV-PG\",\"TV-PG\",\"NR\",\"TV-14\",\"TV-G\",\"TV-G\",\"TV-PG\",\"TV-PG\",\"TV-PG\",\"TV-G\",\"TV-14\",\"TV-G\",\"TV-PG\",\"TV-PG\",\"TV-14\",\"TV-PG\",\"TV-PG\",\"TV-PG\",\"TV-PG\",\"TV-G\",\"TV-PG\",\"TV-PG\",\"TV-PG\",\"TV-G\",\"PG-13\",\"PG-13\",\"TV-MA\",\"R\",\"TV-MA\",\"TV-MA\",\"TV-PG\",\"TV-MA\",\"TV-MA\",\"TV-MA\",\"TV-14\",\"NR\",\"TV-MA\",\"TV-MA\",\"R\",\"R\",\"G\",\"R\",\"TV-PG\",\"PG-13\",\"PG-13\",\"TV-14\",\"TV-MA\",\"R\",\"TV-MA\",\"TV-MA\",\"TV-MA\",\"TV-Y7-FV\",\"TV-14\",\"TV-PG\",\"TV-Y\",\"TV-MA\",\"TV-14\",\"TV-14\",\"TV-14\",\"TV-14\",\"TV-PG\",\"TV-MA\",\"TV-PG\",\"TV-MA\",\"PG-13\",\"TV-PG\",\"PG\",\"TV-G\",\"TV-MA\",\"TV-MA\",\"TV-MA\",\"TV-PG\",\"R\",\"TV-MA\",\"PG\",\"NR\",\"TV-14\",\"TV-MA\",\"TV-MA\",\"TV-PG\",\"TV-PG\",\"TV-MA\",\"TV-MA\",\"TV-MA\",\"TV-PG\",\"TV-14\",\"TV-MA\",\"TV-PG\",\"TV-MA\",\"PG-13\",\"TV-PG\",\"TV-MA\",\"TV-MA\",\"TV-14\",\"TV-Y\",\"PG-13\",\"TV-14\",\"NR\",\"TV-14\",\"TV-MA\",\"R\",\"R\",\"TV-PG\",\"TV-Y\",\"TV-14\",\"TV-MA\",\"R\",\"TV-PG\",\"TV-MA\",\"R\",\"TV-14\",\"TV-14\",\"TV-PG\",\"R\",\"TV-14\",\"TV-14\",\"R\",\"TV-PG\",\"TV-14\",\"R\",\"TV-MA\",\"PG\",\"TV-14\",\"TV-14\",\"TV-14\",\"TV-MA\",\"TV-PG\",\"TV-PG\",\"TV-MA\",\"PG\",\"TV-MA\",\"TV-MA\",\"TV-MA\",\"R\",\"TV-14\",\"R\",\"TV-MA\",\"PG\",\"TV-MA\",\"PG\",\"PG-13\",\"TV-14\",\"TV-MA\",\"TV-14\",\"TV-14\",\"TV-PG\",\"TV-MA\",\"TV-PG\",\"TV-14\",\"TV-MA\",\"TV-MA\",\"TV-MA\",\"TV-G\",\"TV-PG\",\"TV-14\",\"TV-MA\",\"R\",\"TV-14\",\"TV-MA\",\"PG\",\"PG\",\"TV-14\",\"TV-MA\",\"TV-MA\",\"TV-14\",\"TV-Y7\",\"TV-Y7\",\"TV-Y7\",\"TV-Y7\",\"TV-Y7\",\"TV-Y7\",\"TV-Y7\",\"TV-Y7\",\"TV-Y7\",\"TV-Y7\",\"TV-Y7\",\"TV-Y7\",\"TV-Y7\",\"TV-Y7\",\"TV-Y7\",\"TV-Y7\",\"TV-Y7\",\"TV-Y7\",\"TV-Y7\",\"TV-Y7\",\"TV-Y7\",\"TV-Y7\",\"TV-Y7\",\"TV-Y7\",\"TV-Y7\",\"TV-Y7\",\"TV-Y7\",\"TV-Y7\",\"TV-Y7\",\"TV-MA\",\"TV-14\",\"TV-14\",\"NR\",\"R\",\"TV-14\",\"TV-Y\",\"TV-MA\",\"TV-MA\",\"TV-PG\",\"TV-MA\",\"TV-MA\",\"TV-14\",\"R\",\"TV-14\",\"R\",\"TV-14\",\"TV-14\",\"TV-MA\",\"TV-MA\",\"PG-13\",\"TV-MA\",\"PG-13\",\"TV-MA\",\"TV-14\",\"PG\",\"TV-14\",\"PG\",\"R\",\"TV-MA\",\"TV-PG\",\"R\",\"TV-14\",\"NR\",\"TV-14\",\"TV-14\",\"TV-PG\",\"PG\",\"TV-14\",\"TV-14\",\"TV-PG\",\"TV-14\",\"TV-MA\",\"TV-MA\",\"TV-14\",\"NR\",\"TV-14\",\"TV-14\",\"TV-PG\",\"TV-MA\",\"PG-13\",\"TV-14\",\"TV-MA\",\"TV-MA\",\"TV-MA\",\"PG-13\",\"TV-14\",\"TV-PG\",\"NR\",\"TV-PG\",\"TV-MA\",\"TV-MA\",\"R\",\"TV-PG\",\"R\",\"PG-13\",\"PG-13\",\"TV-14\",\"R\",\"TV-MA\",\"TV-MA\",\"R\",\"NR\",\"TV-MA\",\"R\",\"TV-PG\",\"R\",\"NR\",\"TV-MA\",\"R\",\"TV-14\",\"TV-MA\",\"TV-MA\",\"TV-14\",\"TV-MA\",\"TV-14\",\"TV-14\",\"TV-14\",\"TV-14\",\"TV-MA\",\"PG\",\"PG\",\"PG\",\"PG\",\"PG-13\",\"R\",\"TV-MA\",\"TV-MA\",\"TV-MA\",\"TV-14\",\"R\",\"TV-MA\",\"TV-Y7\",\"TV-14\",\"TV-PG\",\"R\",\"R\",\"TV-PG\",\"TV-PG\",\"TV-MA\",\"TV-MA\",\"R\",\"PG-13\",\"TV-14\",\"PG\",\"TV-14\",\"TV-14\",\"TV-14\",\"PG\",\"NR\",\"NR\",\"TV-14\",\"TV-MA\",\"PG-13\",\"TV-14\",\"TV-MA\",\"TV-MA\",\"TV-14\",\"TV-14\",\"TV-PG\",\"TV-MA\",\"R\",\"TV-MA\",\"TV-14\",\"TV-PG\",\"TV-14\",\"TV-MA\",\"TV-PG\",\"TV-14\",\"PG-13\",\"TV-Y\",\"TV-14\",\"TV-14\",\"TV-14\",\"TV-PG\",\"TV-G\",\"PG-13\",\"TV-14\",\"TV-PG\",\"TV-14\",\"TV-14\",\"TV-14\",\"TV-MA\",\"TV-PG\",\"TV-14\",\"TV-14\",\"TV-MA\",\"TV-MA\",\"TV-MA\",\"TV-G\",\"PG-13\",\"R\",\"R\",\"PG\",\"TV-14\",\"TV-PG\",\"R\",\"PG-13\",\"R\",\"R\",\"TV-PG\",\"PG-13\",\"R\",\"R\",\"TV-MA\",\"PG\",\"PG-13\",\"PG-13\",\"TV-PG\",\"TV-14\",\"PG-13\",\"TV-PG\",\"TV-PG\",\"TV-PG\",\"TV-PG\",\"TV-PG\",\"TV-14\",\"TV-PG\",\"TV-PG\",\"TV-PG\",\"TV-PG\",\"TV-14\",\"PG-13\",\"TV-MA\",\"TV-MA\",\"TV-14\",\"R\",\"R\",\"R\",\"UR\",\"R\",\"TV-MA\",\"TV-MA\",\"TV-14\",\"TV-14\",\"TV-MA\",\"TV-14\",\"TV-PG\",\"TV-14\",\"PG-13\",\"TV-14\",\"TV-PG\",\"R\",\"TV-14\",\"PG-13\",\"TV-MA\",\"TV-Y\",\"TV-Y\",\"TV-Y\",\"TV-14\",\"R\",\"PG\",\"TV-MA\",\"TV-14\",\"TV-MA\",\"TV-MA\",\"TV-Y\",\"TV-G\",\"TV-MA\",\"R\",\"TV-PG\",\"TV-MA\",\"TV-14\",\"TV-MA\",\"TV-14\",\"TV-PG\",\"PG-13\",\"TV-MA\",\"TV-MA\",\"R\",\"R\",\"TV-14\",\"TV-14\",\"PG-13\",\"TV-MA\",\"TV-G\",\"PG-13\",\"R\",\"PG\",\"R\",\"R\",\"TV-MA\",\"R\",\"PG-13\",\"R\",\"TV-MA\",\"PG-13\",\"R\",\"TV-14\",\"TV-MA\",\"TV-MA\",\"NR\",\"PG-13\",\"PG-13\",\"R\",\"TV-MA\",\"PG-13\",\"R\",\"NR\",\"TV-MA\",\"PG\",\"TV-MA\",\"NR\",\"TV-Y\",\"PG\",\"TV-MA\",\"PG-13\",\"TV-14\",\"PG-13\",\"PG\",\"TV-14\",\"TV-Y\",\"R\",\"R\",\"TV-MA\",\"PG\",\"PG\",\"PG\",\"TV-MA\",\"TV-MA\",\"TV-14\",\"R\",\"TV-14\",\"PG-13\",\"TV-14\",\"TV-MA\",\"TV-MA\",\"TV-PG\",\"R\",\"TV-14\",\"R\",\"TV-14\",\"TV-MA\",\"TV-PG\",\"TV-PG\",\"TV-Y7\",\"PG-13\",\"NR\",\"TV-MA\",\"TV-PG\",\"TV-MA\",\"PG-13\",\"PG-13\",\"TV-Y\",\"PG\",\"TV-MA\",\"R\",\"R\",\"TV-14\",\"NR\",\"TV-PG\",\"PG\",\"TV-MA\",\"NR\",\"TV-MA\",\"TV-14\",\"TV-MA\",\"TV-MA\",\"TV-MA\",\"TV-MA\",\"TV-MA\",\"TV-MA\",\"TV-Y\",\"TV-Y7\",\"TV-MA\",\"TV-PG\",\"TV-Y\",\"R\",\"R\",\"PG-13\",\"TV-PG\",\"PG-13\",\"TV-14\",\"TV-MA\",\"TV-MA\",\"TV-MA\",\"TV-G\",\"TV-PG\",\"TV-14\",\"R\",\"R\",\"R\",\"TV-MA\",\"R\",\"TV-PG\",\"TV-PG\",\"TV-14\",\"R\",\"TV-14\",\"TV-MA\",\"TV-MA\",\"TV-MA\",\"G\",\"G\",\"TV-14\",\"TV-Y7\",\"TV-14\",\"TV-PG\",\"TV-MA\",\"PG\",\"PG\",\"PG\",\"TV-PG\",\"TV-Y7\",\"TV-MA\",\"TV-MA\",\"TV-PG\",\"R\",\"PG-13\",\"TV-PG\",\"TV-MA\",\"TV-PG\",\"TV-MA\",\"TV-Y7\",\"TV-MA\",\"TV-14\",\"TV-MA\",\"TV-MA\",\"TV-MA\",\"TV-14\",\"R\",\"TV-PG\",\"TV-Y7\",\"TV-Y7\",\"PG\",\"PG\",\"TV-MA\",\"TV-MA\",\"PG-13\",\"R\",\"TV-G\",\"PG\",\"TV-MA\",\"TV-14\",\"TV-PG\",\"TV-MA\",\"R\",\"R\",\"R\",\"R\",\"TV-14\",\"TV-14\",\"TV-MA\",\"TV-MA\",\"TV-14\",\"TV-MA\",\"TV-14\",\"TV-MA\",\"TV-PG\",\"TV-14\",\"TV-PG\",\"TV-MA\",\"TV-MA\",\"R\",\"R\",\"TV-G\",\"TV-14\",\"TV-MA\",\"R\",\"TV-MA\",\"PG-13\",\"PG-13\",\"PG-13\",\"PG-13\",\"R\",\"TV-MA\",\"PG-13\",\"PG-13\",\"TV-14\",\"PG-13\",\"PG-13\",\"TV-MA\",\"TV-14\",\"PG-13\",\"TV-MA\",\"TV-14\",\"TV-MA\",\"R\",\"PG\",\"TV-MA\",\"TV-PG\",\"TV-MA\",\"TV-14\",\"R\",\"TV-14\",\"TV-MA\",\"TV-14\",\"TV-MA\",\"PG\",\"TV-PG\",\"TV-14\",\"TV-PG\",\"R\",\"TV-14\",\"PG-13\",\"TV-MA\",\"TV-14\",\"R\",\"TV-14\",\"PG\",\"R\",\"TV-PG\",\"R\",\"TV-PG\",\"R\",\"TV-14\",\"TV-MA\",\"PG\",\"TV-MA\",\"TV-MA\",\"TV-MA\",\"TV-MA\",\"TV-Y7\",\"R\",\"TV-14\",\"TV-14\",\"TV-PG\",\"R\",\"TV-14\",\"TV-14\",\"TV-MA\",\"TV-PG\",\"TV-MA\",\"TV-MA\",\"R\",\"PG-13\",\"R\",\"TV-MA\",\"TV-PG\",\"R\",\"TV-MA\",\"TV-MA\",\"R\",\"R\",\"TV-MA\",\"TV-MA\",\"TV-MA\",\"R\",\"TV-14\",\"R\",\"TV-14\",\"TV-MA\",\"PG\",\"TV-MA\",\"R\",\"PG\",\"PG\",\"TV-MA\",\"PG-13\",\"TV-MA\",\"R\",\"TV-MA\",\"TV-14\",\"PG-13\",\"TV-PG\",\"R\",\"TV-Y\",\"TV-PG\",\"TV-14\",\"TV-MA\",\"TV-MA\",\"R\",\"TV-G\",\"TV-MA\",\"PG-13\",\"TV-MA\",\"R\",\"TV-14\",\"TV-14\",\"TV-14\",\"TV-14\",\"TV-MA\",\"TV-PG\",\"TV-14\",\"R\",\"NR\",\"PG-13\",\"TV-MA\",\"R\",\"PG-13\",\"TV-14\",\"TV-MA\",\"PG-13\",\"TV-MA\",\"TV-MA\",\"TV-MA\",\"R\",\"TV-14\",\"TV-PG\",\"TV-14\",\"TV-PG\",\"TV-PG\",\"R\",\"PG\",\"TV-PG\",\"PG-13\",\"PG-13\",\"PG-13\",\"TV-MA\",\"TV-MA\",\"TV-G\",\"PG\",\"PG\",\"R\",\"TV-MA\",\"TV-MA\",\"PG-13\",\"TV-MA\",\"TV-MA\",\"TV-MA\",\"PG-13\",\"TV-14\",\"TV-PG\",\"PG-13\",\"TV-Y7\",\"TV-PG\",\"PG-13\",\"TV-PG\",\"R\",\"TV-MA\",\"TV-MA\",\"PG\",\"PG\",\"TV-MA\",\"R\",\"PG-13\",\"R\",\"TV-MA\",\"TV-PG\",\"TV-14\",\"PG\",\"TV-MA\",\"TV-14\",\"TV-14\",\"R\",\"PG\",\"PG\",\"R\",\"TV-14\",\"R\",\"R\",\"TV-PG\",\"R\",\"PG\",\"PG-13\",\"PG-13\",\"PG-13\",\"PG-13\",\"TV-14\",\"TV-14\",\"TV-14\",\"TV-PG\",\"TV-PG\",\"TV-14\",\"PG-13\",\"R\",\"R\",\"R\",\"TV-14\",\"TV-MA\",\"TV-PG\",\"R\",\"TV-14\",\"TV-PG\",\"TV-G\",\"TV-MA\",\"TV-MA\",\"R\",\"TV-MA\",\"TV-MA\",\"TV-MA\",\"PG\",\"TV-MA\",\"TV-PG\",\"PG-13\",\"PG-13\",\"PG\",\"TV-14\",\"TV-MA\",\"TV-MA\",\"TV-14\",\"TV-14\",\"PG\",\"TV-14\",\"R\",\"TV-PG\",\"PG-13\",\"R\",\"NR\",\"R\",\"PG-13\",\"TV-14\",\"PG-13\",\"PG-13\",\"R\",\"PG\",\"G\",\"R\",\"PG\",\"R\",\"TV-MA\",\"TV-MA\",\"G\",\"TV-14\",\"TV-MA\",\"R\",\"PG\",\"G\",\"TV-MA\",\"TV-14\",\"PG-13\",\"TV-MA\",\"TV-PG\",\"TV-PG\",\"PG-13\",\"TV-14\",\"TV-PG\",\"TV-MA\",\"TV-PG\",\"TV-MA\",\"TV-14\",\"TV-MA\",\"TV-14\",\"TV-MA\",\"TV-MA\",\"TV-MA\",\"TV-14\",\"PG-13\",\"R\",\"NR\",\"PG-13\",\"TV-14\",\"TV-MA\",\"PG-13\",\"R\",\"R\",\"R\",\"R\",\"PG-13\",\"R\",\"PG-13\",\"TV-G\",\"PG\",\"R\",\"TV-PG\",\"TV-MA\",\"TV-MA\",\"TV-14\",\"PG-13\",\"NR\",\"TV-14\",\"TV-MA\",\"PG-13\",\"PG-13\",\"R\",\"TV-MA\",\"PG\",\"TV-MA\",\"R\",\"TV-14\",\"TV-14\",\"TV-14\",\"TV-MA\",\"R\",\"TV-Y7\",\"TV-14\",\"R\",\"R\",\"R\",\"TV-14\",\"TV-14\",\"TV-G\",\"PG-13\",\"PG-13\",\"TV-MA\",\"R\",\"R\",\"TV-MA\",\"R\",\"TV-14\",\"TV-MA\",\"PG-13\",\"TV-14\",\"R\",\"TV-MA\",\"TV-MA\",\"TV-14\",\"TV-MA\",\"PG-13\",\"PG-13\",\"TV-MA\",\"TV-14\",\"TV-14\",\"R\",\"PG\",\"PG-13\",\"TV-PG\",\"TV-14\",\"TV-14\",\"R\",\"TV-14\",\"TV-MA\",\"TV-MA\",\"TV-PG\",\"TV-MA\",\"PG-13\",\"TV-PG\",\"TV-14\",\"TV-PG\",\"TV-MA\",\"TV-14\",\"TV-PG\",\"TV-14\",\"PG-13\",\"TV-14\",\"TV-14\",\"TV-14\",\"TV-PG\",\"NR\",\"TV-MA\",\"TV-MA\",\"PG-13\",\"TV-Y7\",\"NR\",\"NR\",\"TV-MA\",\"TV-14\",\"TV-MA\",\"TV-PG\",\"TV-14\",\"TV-14\",\"TV-MA\",\"TV-14\",\"TV-14\",\"TV-14\",\"G\",\"TV-14\",\"TV-Y\",\"TV-14\",\"PG-13\",\"TV-MA\",\"TV-Y7\",\"TV-14\",\"TV-Y7\",\"PG-13\",\"TV-14\",\"TV-MA\",\"TV-14\",\"PG-13\",\"NR\",\"TV-MA\",\"PG-13\",\"TV-MA\",\"TV-MA\",\"TV-MA\",\"R\",\"PG-13\",\"PG-13\",\"R\",\"R\",\"TV-G\",\"TV-PG\",\"PG-13\",\"PG-13\",\"PG\",\"PG-13\",\"PG-13\",\"PG-13\",\"R\",\"TV-14\",\"TV-PG\",\"TV-MA\",\"TV-MA\",\"TV-MA\",\"TV-MA\",\"TV-MA\",\"G\",\"R\",\"R\",\"R\",\"TV-PG\",\"TV-14\",\"PG\",\"R\",\"TV-14\",\"TV-14\",\"TV-MA\",\"TV-Y\",\"TV-14\",\"TV-MA\",\"R\",\"TV-14\",\"R\",\"NR\",\"TV-14\",\"R\",\"PG\",\"TV-MA\",\"TV-14\",\"R\",\"PG-13\",\"TV-PG\",\"PG-13\",\"TV-14\",\"TV-14\",\"R\",\"TV-MA\",\"TV-14\",\"R\",\"R\",\"TV-G\",\"PG-13\",\"TV-14\",\"TV-14\",\"TV-14\",\"NR\",\"PG-13\",\"R\",\"TV-PG\",\"R\",\"TV-Y7\",\"TV-14\",\"TV-14\",\"NR\",\"TV-14\",\"TV-Y\",\"TV-MA\",\"TV-MA\",\"TV-14\",\"TV-MA\",\"R\",\"TV-14\",\"R\",\"TV-PG\",\"PG-13\",\"R\",\"TV-14\",\"PG-13\",\"R\",\"TV-14\",\"TV-14\",\"TV-MA\",\"PG\",\"TV-G\",\"R\",\"TV-14\",\"TV-MA\",\"R\",\"TV-PG\",\"TV-MA\",\"TV-MA\",\"TV-MA\",\"TV-MA\",\"TV-PG\",\"TV-MA\",\"TV-Y7\",\"R\",\"TV-MA\",\"TV-MA\",\"TV-MA\",\"TV-14\",\"TV-14\",\"TV-14\",\"PG-13\",\"TV-14\",\"TV-14\",\"R\",\"TV-PG\",\"NR\",\"TV-14\",\"PG-13\",\"R\",\"R\",\"TV-MA\",\"TV-MA\",\"TV-MA\",\"R\",\"TV-14\",\"TV-14\",\"TV-MA\",\"TV-PG\",\"TV-PG\",\"TV-PG\",\"PG-13\",\"PG-13\",\"TV-MA\",\"G\",\"TV-14\",\"TV-G\",\"NR\",\"TV-MA\",\"R\",\"R\",\"TV-14\",\"TV-MA\",\"R\",\"TV-14\",\"TV-MA\",\"PG-13\",\"TV-PG\",\"TV-PG\",\"TV-MA\",\"TV-14\",\"TV-MA\",\"TV-PG\",\"PG-13\",\"R\",\"PG-13\",\"PG-13\",\"R\",\"TV-MA\",\"TV-14\",\"TV-14\",\"TV-14\",\"TV-PG\",\"TV-14\",\"TV-PG\",\"PG\",\"TV-PG\",\"TV-PG\",\"TV-PG\",\"TV-Y7\",\"TV-Y7\",\"PG-13\",\"TV-Y\",\"TV-Y\",\"TV-Y7\",\"TV-G\",\"TV-PG\",\"TV-MA\",\"TV-PG\",\"UR\",\"R\",\"NR\",\"PG\",\"TV-14\",\"TV-Y7\",\"TV-PG\",\"TV-Y7\",\"TV-MA\",\"TV-14\",\"TV-PG\",\"TV-MA\",\"R\",\"TV-Y7\",\"R\",\"PG\",\"TV-14\"],\"xaxis\":\"x\",\"y\":[1,1,1,1,1,1,1,1,1,1,1,1,1,1,1,1,1,1,1,1,1,1,1,1,1,1,1,1,1,1,1,1,1,1,1,1,1,1,1,1,1,1,1,1,1,1,1,1,1,1,1,1,1,1,1,1,1,1,1,1,1,1,1,1,1,1,1,1,1,1,1,1,1,1,1,1,1,1,1,1,1,1,1,1,1,1,1,1,1,1,1,1,1,1,1,1,1,1,1,1,1,1,1,1,1,1,1,1,1,1,1,1,1,1,1,1,1,1,1,1,1,1,1,1,1,1,1,1,1,1,1,1,1,1,1,1,1,1,1,1,1,1,1,1,1,1,1,1,1,1,1,1,1,1,1,1,1,1,1,1,1,1,1,1,1,1,1,1,1,1,1,1,1,1,1,1,1,1,1,1,1,1,1,1,1,1,1,1,1,1,1,1,1,1,1,1,1,1,1,1,1,1,1,1,1,1,1,1,1,1,1,1,1,1,1,1,1,1,1,1,1,1,1,1,1,1,1,1,1,1,1,1,1,1,1,1,1,1,1,1,1,1,1,1,1,1,1,1,1,1,1,1,1,1,1,1,1,1,1,1,1,1,1,1,1,1,1,1,1,1,1,1,1,1,1,1,1,1,1,1,1,1,1,1,1,1,1,1,1,1,1,1,1,1,1,1,1,1,1,1,1,1,1,1,1,1,1,1,1,1,1,1,1,1,1,1,1,1,1,1,1,1,1,1,1,1,1,1,1,1,1,1,1,1,1,1,1,1,1,1,1,1,1,1,1,1,1,1,1,1,1,1,1,1,1,1,1,1,1,1,1,1,1,1,1,1,1,1,1,1,1,1,1,1,1,1,1,1,1,1,1,1,1,1,1,1,1,1,1,1,1,1,1,1,1,1,1,1,1,1,1,1,1,1,1,1,1,1,1,1,1,1,1,1,1,1,1,1,1,1,1,1,1,1,1,1,1,1,1,1,1,1,1,1,1,1,1,1,1,1,1,1,1,1,1,1,1,1,1,1,1,1,1,1,1,1,1,1,1,1,1,1,1,1,1,1,1,1,1,1,1,1,1,1,1,1,1,1,1,1,1,1,1,1,1,1,1,1,1,1,1,1,1,1,1,1,1,1,1,1,1,1,1,1,1,1,1,1,1,1,1,1,1,1,1,1,1,1,1,1,1,1,1,1,1,1,1,1,1,1,1,1,1,1,1,1,1,1,1,1,1,1,1,1,1,1,1,1,1,1,1,1,1,1,1,1,1,1,1,1,1,1,1,1,1,1,1,1,1,1,1,1,1,1,1,1,1,1,1,1,1,1,1,1,1,1,1,1,1,1,1,1,1,1,1,1,1,1,1,1,1,1,1,1,1,1,1,1,1,1,1,1,1,1,1,1,1,1,1,1,1,1,1,1,1,1,1,1,1,1,1,1,1,1,1,1,1,1,1,1,1,1,1,1,1,1,1,1,1,1,1,1,1,1,1,1,1,1,1,1,1,1,1,1,1,1,1,1,1,1,1,1,1,1,1,1,1,1,1,1,1,1,1,1,1,1,1,1,1,1,1,1,1,1,1,1,1,1,1,1,1,1,1,1,1,1,1,1,1,1,1,1,1,1,1,1,1,1,1,1,1,1,1,1,1,1,1,1,1,1,1,1,1,1,1,1,1,1,1,1,1,1,1,1,1,1,1,1,1,1,1,1,1,1,1,1,1,1,1,1,1,1,1,1,1,1,1,1,1,1,1,1,1,1,1,1,1,1,1,1,1,1,1,1,1,1,1,1,1,1,1,1,1,1,1,1,1,1,1,1,1,1,1,1,1,1,1,1,1,1,1,1,1,1,1,1,1,1,1,1,1,1,1,1,1,1,1,1,1,1,1,1,1,1,1,1,1,1,1,1,1,1,1,1,1,1,1,1,1,1,1,1,1,1,1,1,1,1,1,1,1,1,1,1,1,1,1,1,1,1,1,1,1,1,1,1,1,1,1,1,1,1,1,1,1,1,1,1,1,1,1,1,1,1,1,1,1,1,1,1,1,1,1,1,1,1,1,1,1,1,1,1,1,1,1,1,1,1,1,1,1,1,1,1,1,1,1,1,1,1,1,1,1,1,1,1,1,1,1,1,1,1,1,1,1,1,1,1,1,1,1,1,1,1,1,1,1,1,1,1,1,1,1,1,1,1,1,1,1,1,1,1,1,1,1,1,1,1,1,1,1,1,1,1,1,1,1,1,1,1,1,1,1,1,1,1,1,1,1,1,1,1,1,1,1,1,1,1,1,1,1,1,1,1,1,1,1,1,1,1,1,1,1,1,1,1,1,1,1,1,1,1,1,1,1,1,1,1,1,1,1,1,1,1,1,1,1,1,1,1,1,1,1,1,1,1,1,1,1,1,1,1,1,1,1,1,1,1,1,1,1,1,1,1,1,1,1,1,1,1,1,1,1,1,1,1,1,1,1,1,1,1,1,1,1,1,1,1,1,1,1,1,1,1,1,1,1,1,1,1,1,1,1,1,1,1,1,1,1,1,1,1,1,1,1,1,1,1,1,1,1,1,1,1,1,1,1,1,1,1,1,1,1,1,1,1,1,1,1,1,1,1,1,1,1,1,1,1,1,1,1,1,1,1,1,1,1,1,1,1,1,1,1,1,1,1,1,1,1,1,1,1,1,1,1,1,1,1,1,1,1,1,1,1,1,1,1,1,1,1,1,1,1,1,1,1,1,1,1,1,1,1,1,1,1,1,1,1,1,1,1,1,1,1,1,1,1,1,1,1,1,1,1,1,1,1,1,1,1,1,1,1,1,1,1,1,1,1,1,1,1,1,1,1,1,1,1,1,1,1,1,1,1,1,1,1,1,1,1,1,1,1,1,1,1,1,1,1,1,1,1,1,1,1,1,1,1,1,1,1,1,1,1,1,1,1,1,1,1,1,1,1,1,1,1,1,1,1,1,1,1,1,1,1,1,1,1,1,1,1,1,1,1,1,1,1,1,1,1,1,1,1,1,1,1,1,1,1,1,1,1,1,1,1,1,1,1,1,1,1,1,1,1,1,1,1,1,1,1,1,1,1,1,1,1,1,1,1,1,1,1,1,1,1,1,1,1,1,1,1,1,1,1,1,1,1,1,1,1,1,1,1,1,1,1,1,1,1,1,1,1,1,1,1,1,1,1,1,1,1,1,1,1,1,1,1,1,1,1,1,1,1,1,1,1,1,1,1,1,1,1,1,1,1,1,1,1,1,1,1,1,1,1,1,1,1,1,1,1,1,1,1,1,1,1,1,1,1,1,1,1,1,1,1,1,1,1,1,1,1,1,1,1,1,1,1,1,1,1,1,1,1,1,1,1,1,1,1,1,1,1,1,1,1,1,1,1,1,1,1,1,1,1,1,1,1,1,1,1,1,1,1,1,1,1,1,1,1,1,1,1,1,1,1,1,1,1,1,1,1,1,1,1,1,1,1,1,1,1,1,1,1,1,1,1,1,1,1,1,1,1,1,1,1,1,1,1,1,1,1,1,1,1,1,1,1,1,1,1,1,1,1,1,1,1,1,1,1,1,1,1,1,1,1,1,1,1,1,1,1,1,1,1,1,1,1,1,1,1,1,1,1,1,1,1,1,1,1,1,1,1,1,1,1,1,1,1,1,1,1,1,1,1,1,1,1,1,1,1,1,1,1,1,1,1,1,1,1,1,1,1,1,1,1,1,1,1,1,1,1,1,1,1,1,1,1,1,1,1,1,1,1,1,1,1,1,1,1,1,1,1,1,1,1,1,1,1,1,1,1,1,1,1,1,1,1,1,1,1,1,1,1,1,1,1,1,1,1,1,1,1,1,1,1,1,1,1,1,1,1,1,1,1,1,1,1,1,1,1,1,1,1,1,1,1,1,1,1,1,1,1,1,1,1,1,1,1,1,1,1,1,1,1,1,1,1,1,1,1,1,1,1,1,1,1,1,1,1,1,1,1,1,1,1,1,1,1,1,1,1,1,1,1,1,1,1,1,1,1,1,1,1,1,1,1,1,1,1,1,1,1,1,1,1,1,1,1,1,1,1,1,1,1,1,1,1,1,1,1,1,1,1,1,1,1,1,1,1,1,1,1,1,1,1,1,1,1,1,1,1,1,1,1,1,1,1,1,1,1,1,1,1,1,1,1,1,1,1,1,1,1,1,1,1,1,1,1,1,1,1,1,1,1,1,1,1,1,1,1,1,1,1,1,1,1,1,1,1,1,1,1,1,1,1,1,1,1,1,1,1,1,1,1,1,1,1,1,1,1,1,1,1,1,1,1,1,1,1,1,1,1,1,1,1,1,1,1,1,1,1,1,1,1,1,1,1,1,1,1,1,1,1,1,1,1,1,1,1,1,1,1,1,1,1,1,1,1,1,1,1,1,1,1,1,1,1,1,1,1,1,1,1,1,1,1,1,1,1,1,1,1,1,1,1,1,1,1,1,1,1,1,1,1,1,1,1,1,1,1,1,1,1,1,1,1,1,1,1,1,1,1,1,1,1,1,1,1,1,1,1,1,1,1,1,1,1,1,1,1,1,1,1,1,1,1,1,1,1,1,1,1,1,1,1,1,1,1,1,1,1,1,1,1,1,1,1,1,1,1,1,1,1,1,1,1,1,1,1,1,1,1,1,1,1,1,1,1,1,1,1,1,1,1,1,1,1,1,1,1,1,1,1,1,1,1,1,1,1,1,1,1,1,1,1,1,1,1,1,1,1,1,1,1,1,1,1,1,1,1,1,1,1,1,1,1,1,1,1,1,1,1,1,1,1,1,1,1,1,1,1,1,1,1,1,1,1,1,1,1,1,1,1,1,1,1,1,1,1,1,1,1,1,1,1,1,1,1,1,1,1,1,1,1,1,1,1,1,1,1,1,1,1,1,1,1,1,1,1,1,1,1,1,1,1,1,1,1,1,1,1,1,1,1,1,1,1,1,1,1,1,1,1,1,1,1,1,1,1,1,1,1,1,1,1,1,1,1,1,1,1,1,1,1,1,1,1,1,1,1,1,1,1,1,1,1,1,1,1,1,1,1,1,1,1,1,1,1,1,1,1,1,1,1,1,1,1,1,1,1,1,1,1,1,1,1,1,1,1,1,1,1,1,1,1,1,1,1,1,1,1,1,1,1,1,1,1,1,1,1,1,1,1,1,1,1,1,1,1,1,1,1,1,1,1,1,1,1,1,1,1,1,1,1,1,1,1,1,1,1,1,1,1,1,1,1,1,1,1,1,1,1,1,1,1,1,1,1,1,1,1,1,1,1,1,1,1,1,1,1,1,1,1,1,1,1,1,1,1,1,1,1,1,1,1,1,1,1,1,1,1,1,1,1,1,1,1,1,1,1,1,1,1,1,1,1,1,1,1,1,1,1,1,1,1,1,1,1,1,1,1,1,1,1,1,1,1,1,1,1,1,1,1,1,1,1,1,1,1,1,1,1,1,1,1,1,1,1,1,1,1,1,1,1,1,1,1,1,1,1,1,1,1,1,1,1,1,1,1,1,1,1,1,1,1,1,1,1,1,1,1,1,1,1,1,1,1,1,1,1,1,1,1,1,1,1,1,1,1,1,1,1,1,1,1,1,1,1,1,1,1,1,1,1,1,1,1,1,1,1,1,1,1,1,1,1,1,1,1,1,1,1,1,1,1,1,1,1,1,1,1,1,1,1,1,1,1,1,1,1,1,1,1,1,1,1,1,1,1,1,1,1,1,1,1,1,1,1,1,1,1,1,1,1,1,1,1,1,1,1,1,1,1,1,1,1,1,1,1,1,1,1,1,1,1,1,1,1,1,1,1,1,1,1,1,1,1,1,1,1,1,1,1,1,1,1,1,1,1,1,1,1,1,1,1,1,1,1,1,1,1,1,1,1,1,1,1,1,1,1,1,1,1,1,1,1,1,1,1,1,1,1,1,1,1,1,1,1,1,1,1,1,1,1,1,1,1,1,1,1,1,1,1,1,1,1,1,1,1,1,1,1,1,1,1,1,1,1,1,1,1,1,1,1,1,1,1,1,1,1,1,1,1,1,1,1,1,1,1,1,1,1,1,1,1,1,1,1,1,1,1,1,1,1,1,1,1,1,1,1,1,1,1,1,1,1,1,1,1,1,1,1,1,1,1,1,1,1,1,1,1,1,1,1,1,1,1,1,1,1,1,1,1,1,1,1,1,1,1,1,1,1,1,1,1,1,1,1,1,1,1,1,1,1,1,1,1,1,1,1,1,1,1,1,1,1,1,1,1,1,1,1,1,1,1,1,1,1,1,1,1,1,1,1,1,1,1,1,1,1,1,1,1,1,1,1,1,1,1,1,1,1,1,1,1,1,1,1,1,1,1,1,1,1,1,1,1,1,1,1,1,1,1,1,1,1,1,1,1,1,1,1,1,1,1,1,1,1,1,1,1,1,1,1,1,1,1,1,1,1,1,1,1,1,1,1,1,1,1,1,1,1,1,1,1,1,1,1,1,1,1,1,1,1,1,1,1,1,1,1,1,1,1,1,1,1,1,1,1,1,1,1,1,1,1,1,1,1,1,1,1,1,1,1,1,1,1,1,1,1,1,1,1,1,1,1,1,1,1,1,1,1,1,1,1,1,1,1,1,1,1,1,1,1,1,1,1,1,1,1,1,1,1,1,1,1,1,1,1,1,1,1,1,1,1,1,1,1,1,1,1,1,1,1,1,1,1,1,1,1,1,1,1,1,1,1,1,1,1,1,1,1,1,1,1,1,1,1,1,1,1,1,1,1,1,1,1,1,1,1,1,1,1,1,1,1,1,1,1,1,1,1,1,1,1,1,1,1,1,1,1,1,1,1,1,1,1,1,1,1,1,1,1,1,1,1,1,1,1,1,1,1,1,1,1,1,1,1,1,1,1,1,1,1,1,1,1,1,1,1,1,1,1,1,1,1,1,1,1,1,1,1,1,1,1,1,1,1,1,1,1,1,1,1,1,1,1,1,1,1,1,1,1,1,1,1,1,1,1,1,1,1,1,1,1,1,1,1,1,1,1,1,1,1,1,1,1,1,1,1,1,1,1,1,1,1,1,1,1,1,1,1,1,1,1,1,1,1,1,1,1,1,1,1,1,1,1,1,1,1,1,1,1,1,1,1,1,1,1,1,1,1,1,1,1,1,1,1,1,1,1,1,1,1,1,1,1,1,1,1,1,1,1,1,1,1,1,1,1,1,1,1,1,1,1,1,1,1,1,1,1,1,1,1,1,1,1,1,1,1,1,1,1,1,1,1,1,1,1,1,1,1,1,1,1,1,1,1,1,1,1,1,1,1,1,1,1,1,1,1,1,1,1,1,1,1,1,1,1,1,1,1,1,1,1,1,1,1,1,1,1,1,1,1,1,1,1,1,1,1,1,1,1,1,1,1,1,1,1,1,1,1,1,1,1,1,1,1,1,1,1,1,1,1,1,1,1,1,1,1,1,1,1,1,1,1,1,1,1,1,1,1,1,1,1,1,1,1,1,1,1,1,1,1,1,1,1,1,1,1,1,1,1,1,1,1,1,1,1,1,1,1,1,1,1,1,1,1,1,1,1,1,1,1,1,1,1,1,1,1,1,1,1,1,1,1,1,1,1,1,1,1,1,1,1,1,1,1,1,1,1,1,1,1,1,1,1,1,1,1,1,1,1,1,1,1,1,1,1,1,1,1,1,1,1,1,1,1,1,1,1,1,1,1,1,1,1,1,1,1,1,1,1,1,1,1,1,1,1,1,1,1,1,1,1,1,1,1,1,1,1,1,1,1,1,1,1,1,1,1,1,1,1,1,1,1,1,1,1,1,1,1,1,1,1,1,1,1,1,1,1,1,1,1,1,1,1,1,1,1,1,1,1,1,1,1,1,1,1,1,1,1,1,1,1,1,1,1,1,1,1,1,1,1,1,1,1,1,1,1,1,1,1,1,1,1,1,1,1,1,1,1,1,1,1,1,1,1,1,1,1,1,1,1,1,1,1,1,1,1,1,1,1,1,1,1,1,1,1,1,1,1,1,1,1,1,1,1,1,1,1,1,1,1,1,1,1,1,1,1,1,1,1,1,1,1,1,1,1,1,1,1,1,1,1,1,1,1,1,1,1,1,1,1,1,1,1,1,1,1,1,1,1,1,1,1,1,1,1,1,1,1,1,1,1,1,1,1,1,1,1,1,1,1,1,1,1,1,1,1,1,1,1,1,1,1,1,1,1,1,1,1,1,1,1,1,1,1,1,1,1,1,1,1,1,1,1,1,1,1,1,1,1,1,1,1,1,1,1,1,1,1,1,1,1,1,1,1,1,1,1,1,1,1,1,1,1,1,1,1,1,1,1,1,1,1,1,1,1,1,1,1,1,1,1,1,1,1,1,1,1,1,1,1,1,1,1,1,1,1,1,1,1,1,1,1,1,1,1,1,1,1,1,1,1,1,1,1,1,1,1,1,1,1,1,1,1,1,1,1,1,1,1,1,1,1,1,1,1,1,1,1,1,1,1,1,1,1,1,1,1,1,1,1,1,1,1,1,1,1,1,1,1,1,1,1,1,1,1,1,1,1,1,1,1,1,1,1,1,1,1,1,1,1,1,1,1,1,1,1,1,1,1,1,1,1,1,1,1,1,1,1,1,1,1,1,1,1,1,1,1,1,1,1,1,1,1,1,1,1,1,1,1,1,1,1,1,1,1,1,1,1,1,1,1,1,1,1,1,1,1,1,1,1,1,1,1,1,1,1,1,1,1,1,1,1,1,1,1,1,1,1,1,1,1,1,1,1,1,1,1,1,1,1,1,1,1,1,1,1,1,1,1,1,1,1,1,1,1,1,1,1,1,1,1,1,1,1,1,1,1,1,1,1,1,1,1,1,1,1,1,1,1,1,1,1,1,1,1,1,1,1,1,1,1,1,1,1,1,1,1,1,1,1,1,1,1,1,1,1,1,1,1,1,1,1,1,1,1,1,1,1,1,1,1,1,1,1,1,1,1,1,1,1,1,1,1,1,1,1,1,1,1,1,1,1,1,1,1,1,1,1,1,1,1,1,1,1,1,1,1,1,1,1,1,1,1,1,1,1,1,1,1,1,1,1,1,1,1,1,1,1,1,1,1,1,1,1,1,1,1,1,1,1,1,1,1,1,1,1,1,1,1,1,1,1,1,1,1,1,1,1,1,1,1,1,1,1,1,1,1,1,1,1,1,1,1,1,1,1,1,1,1,1,1,1,1,1,1,1,1,1,1,1,1,1,1,1,1,1,1,1,1,1,1,1,1,1,1,1,1,1,1,1,1,1,1,1,1,1,1,1,1,1,1,1,1,1,1,1,1,1,1,1,1,1,1,1,1,1,1,1,1,1,1,1,1,1,1,1,1,1,1,1,1,1,1,1,1,1,1,1,1,1,1,1,1,1,1,1,1,1,1,1,1,1,1,1,1,1,1,1,1,1,1,1,1,1,1,1,1,1,1,1,1,1,1,1,1,1,1,1,1,1,1,1,1,1,1,1,1,1,1,1,1,1,1,1,1,1,1,1,1,1,1,1,1,1,1,1,1,1,1,1,1,1,1,1,1,1,1,1,1,1,1,1,1,1,1,1,1,1,1,1,1,1,1,1,1,1,1,1,1,1,1,1,1,1,1,1,1,1,1,1,1,1,1,1,1,1,1,1,1,1,1,1,1,1,1,1,1,1,1,1,1,1,1,1,1,1,1,1,1,1,1,1,1,1,1,1,1,1,1,1,1,1,1,1,1,1,1,1,1,1,1,1,1,1,1,1,1,1,1,1,1,1,1,1,1,1,1,1,1,1,1,1,1,1,1,1,1,1,1,1,1,1,1,1,1,1,1,1,1,1,1,1,1,1,1,1,1,1,1,1,1,1,1,1,1,1,1,1,1,1,1,1,1,1,1,1,1,1,1,1,1,1,1,1,1,1,1,1,1,1,1,1,1,1,1,1,1,1,1,1,1,1,1,1,1,1,1,1,1,1,1,1,1,1,1,1,1,1,1,1,1,1,1,1,1,1,1,1,1,1,1,1,1,1,1,1,1,1,1,1,1,1,1,1,1,1,1,1,1,1,1,1,1,1,1,1,1,1,1,1,1,1,1,1,1,1,1,1,1,1,1,1,1,1,1,1,1,1,1,1,1,1,1,1,1,1,1,1,1,1,1,1,1,1,1,1,1,1,1,1,1,1,1,1,1,1,1,1,1,1,1,1,1,1,1,1,1,1,1,1,1,1,1,1,1,1,1,1,1,1,1,1,1,1,1,1,1,1,1,1,1,1,1,1,1,1,1,1,1,1,1,1,1,1,1,1,1,1,1,1,1,1,1,1,1,1,1,1,1,1,1,1,1,1,1,1,1,1,1,1,1,1,1,1,1,1,1,1,1,1,1,1,1,1,1,1,1,1,1,1,1,1,1,1,1,1,1,1,1,1,1,1,1,1,1,1,1,1,1,1,1,1,1,1,1,1,1,1,1,1,1,1,1,1,1,1,1,1,1,1,1,1,1,1,1,1,1,1,1,1,1,1,1,1,1,1,1,1,1,1,1,1,1,1,1,1,1,1,1,1,1,1,1,1,1,1,1,1,1,1,1,1,1,1,1,1,1,1,1,1,1,1,1,1,1,1,1,1,1,1,1,1,1,1,1,1,1,1,1,1,1,1,1,1,1,1,1,1,1,1,1,1,1,1,1,1,1,1,1,1,1,1,1,1,1,1,1,1,1,1,1,1,1,1,1,1,1,1,1,1,1,1,1,1,1,1,1,1,1,1,1,1,1,1,1,1,1,1,1,1,1,1,1,1,1,1,1,1,1,1,1,1,1,1,1,1,1,1,1,1,1,1,1,1,1,1,1,1,1,1,1,1,1,1,1,1,1,1,1,1,1,1,1,1,1,1,1,1,1,1,1,1,1,1,1,1,1,1,1,1,1,1,1,1,1,1,1,1,1,1,1,1,1,1,1,1,1,1,1,1,1,1,1,1,1,1,1,1,1,1,1,1,1,1,1,1,1,1,1,1,1,1,1,1,1,1,1,1,1,1,1,1,1,1,1,1,1,1,1,1,1,1,1,1,1,1,1,1,1,1,1,1,1,1,1,1,1,1,1,1,1,1,1,1,1,1,1,1,1,1,1,1,1,1,1,1,1,1,1,1,1,1,1,1,1,1,1,1,1,1,1,1,1,1,1,1,1,1,1,1,1,1,1,1,1,1,1,1,1,1,1,1,1,1,1,1,1,1,1,1,1,1,1,1,1,1,1,1,1,1,1,1,1,1,1,1,1,1,1,1,1,1,1,1,1,1,1,1,1,1,1,1,1,1,1,1,1,1,1,1,1,1,1,1,1,1,1,1,1,1,1,1,1,1,1,1,1,1,1,1,1,1,1,1,1,1,1,1,1,1,1,1,1,1,1,1,1,1,1,1,1,1,1,1,1,1,1,1,1,1,1,1,1,1,1,1,1,1,1,1,1,1,1,1,1,1,1,1,1,1,1,1,1,1,1,1,1,1,1,1,1,1,1,1,1,1,1,1,1,1,1,1,1,1,1,1,1,1,1,1,1,1,1,1,1,1,1,1,1,1,1,1,1,1,1,1,1,1,1,1,1,1,1,1,1,1,1,1,1,1,1,1,1,1,1,1,1,1,1,1,1,1,1,1,1,1,1,1,1,1,1,1,1,1,1,1,1,1,1,1,1,1,1,1,1,1,1,1,1,1,1,1,1,1,1,1,1,1,1,1,1,1,1,1,1,1,1,1,1,1,1,1,1,1,1,1,1,1,1,1,1,1,1,1,1,1,1,1,1,1,1,1,1,1,1,1,1,1,1,1,1,1,1,1,1,1,1,1,1,1,1,1,1,1,1,1,1,1,1,1,1,1,1,1,1,1,1,1,1,1,1,1,1,1,1,1,1,1,1,1,1,1,1,1,1,1,1,1,1,1,1,1,1,1,1,1,1,1,1,1,1,1,1,1,1,1,1,1,1,1,1,1,1,1,1,1,1,1,1,1,1,1,1,1,1,1,1,1,1,1,1,1,1,1,1,1,1,1,1,1,1,1,1,1,1,1,1,1,1,1,1,1,1,1,1,1,1,1,1,1,1,1,1,1,1,1,1,1,1,1,1,1,1,1,1,1,1,1,1,1,1,1,1,1,1,1,1,1,1,1,1,1,1,1,1,1,1,1,1,1,1,1,1,1,1,1,1,1,1,1,1,1,1,1,1,1,1,1,1,1,1,1,1,1,1,1,1,1,1,1,1,1,1,1,1,1,1,1,1,1,1,1,1,1,1,1,1,1,1,1,1,1,1,1,1,1,1,1,1,1,1,1,1,1,1,1,1,1,1,1,1,1,1,1,1,1,1,1,1,1,1,1,1,1,1,1,1,1,1,1,1,1,1,1,1,1,1,1,1,1,1,1,1,1,1,1,1,1,1,1,1,1,1,1,1,1,1,1,1,1,1,1,1,1,1,1,1,1,1,1,1,1,1,1,1,1,1,1,1,1,1,1,1,1,1,1,1,1,1,1,1,1,1,1,1,1,1,1,1,1,1,1,1,1,1,1,1,1,1,1,1,1,1,1,1,1,1,1,1,1,1,1,1,1,1,1,1,1,1,1,1,1,1,1,1,1,1,1,1,1,1,1,1,1,1,1,1,1,1,1,1,1,1,1,1,1,1,1,1,1,1,1,1,1,1,1,1,1,1,1,1,1,1,1,1,1,1,1,1,1,1,1,1,1,1,1,1,1,1,1,1,1,1,1,1,1,1,1,1,1,1,1,1,1,1,1,1,1,1,1,1,1,1,1,1,1,1,1,1,1,1,1,1,1,1,1,1,1,1,1,1,1,1,1,1,1,1,1,1,1,1,1,1,1,1,1,1,1,1,1,1,1,1,1,1,1,1,1,1,1,1,1,1,1,1,1,1,1,1,1,1,1,1,1,1,1,1,1,1,1,1,1,1,1,1,1,1,1,1,1,1,1,1,1,1,1,1,1,1,1,1,1,1,1,1,1,1,1,1,1,1,1,1,1,1,1,1,1,1,1,1,1,1,1,1,1,1,1,1,1,1,1,1,1,1,1,1,1,1,1,1,1,1,1,1,1,1,1,1,1,1,1,1,1,1,1,1,1,1,1,1,1,1,1,1,1,1,1,1,1,1,1,1,1,1,1,1,1,1,1,1,1,1,1,1,1,1,1,1,1,1,1,1,1,1,1,1,1,1,1,1,1,1,1,1,1,1,1,1,1,1,1,1,1,1,1,1,1,1,1,1,1,1,1,1,1,1,1,1,1,1,1,1,1,1,1,1,1,1,1,1,1,1,1,1,1,1,1,1,1,1,1,1,1,1,1,1,1,1,1,1,1,1,1,1,1,1,1,1,1,1,1,1,1,1,1,1,1,1,1,1,1,1,1,1,1,1,1,1,1,1,1,1,1,1,1,1,1,1,1,1,1,1,1,1,1,1,1,1,1,1,1,1,1,1,1,1,1,1,1,1,1,1,1,1,1,1,1,1,1,1,1,1,1,1,1,1,1,1,1,1,1,1,1,1,1,1,1,1,1,1,1,1,1,1,1,1,1,1,1,1,1,1,1,1,1,1,1,1,1,1,1,1,1,1,1,1,1,1,1,1,1,1,1,1,1,1,1,1,1,1,1,1,1,1,1,1,1,1,1,1,1,1,1,1,1,1,1,1,1,1,1,1,1,1,1,1,1,1,1,1,1,1,1,1,1,1,1,1,1,1,1,1,1,1,1,1,1,1,1,1,1,1,1,1,1,1,1,1,1,1,1,1,1,1,1,1,1,1,1,1,1,1,1,1,1,1,1,1,1,1,1,1,1,1,1,1,1,1,1,1,1,1,1,1,1,1,1,1,1,1,1,1,1,1,1,1,1,1,1,1,1,1,1,1,1,1,1,1,1,1,1,1,1,1,1,1,1,1,1,1,1,1,1,1,1,1,1,1,1,1,1,1,1,1,1,1,1,1,1,1,1,1,1,1,1,1,1,1,1,1,1,1,1,1,1,1,1,1,1,1,1,1,1,1,1,1,1,1,1,1,1,1,1,1,1,1,1,1,1,1,1,1,1,1,1,1,1,1,1,1,1,1,1,1,1,1,1,1,1,1,1,1,1,1,1,1,1,1,1,1,1,1,1,1,1,1,1,1,1,1,1,1,1,1,1,1,1,1,1,1,1,1,1,1,1,1,1,1,1,1,1,1,1,1,1,1,1,1,1,1,1,1,1,1,1,1,1,1,1,1,1,1,1,1,1,1,1,1,1,1,1,1,1,1,1,1,1,1,1,1,1,1,1,1,1,1,1,1,1,1,1,1,1,1,1,1,1,1,1,1,1,1,1,1,1,1,1,1,1,1,1,1,1,1,1,1,1,1,1,1,1,1,1,1,1,1,1,1,1,1,1,1,1,1,1,1,1,1,1,1,1,1,1,1,1,1,1,1,1,1,1,1,1,1,1,1,1,1,1,1,1,1,1,1,1,1,1,1,1,1,1,1,1,1,1,1,1,1,1,1,1,1,1,1,1,1,1,1,1,1,1,1,1,1,1,1,1,1,1,1,1,1,1,1,1,1,1,1,1,1,1,1,1,1,1,1,1,1,1,1,1,1,1,1,1,1,1,1,1,1,1,1,1,1,1,1,1,1,1,1,1,1,1,1,1,1,1,1,1,1,1,1,1,1,1,1,1,1,1,1,1,1,1,1,1,1,1,1,1,1,1,1,1,1,1,1,1,1,1,1,1,1,1,1,1,1,1,1,1,1,1,1,1,1,1,1,1,1,1,1,1,1,1,1,1,1,1,1,1,1,1,1,1,1,1,1,1,1,1,1,1,1,1,1,1,1,1,1,1,1,1,1,1,1,1,1,1,1,1,1,1,1,1,1,1,1,1,1,1,1,1,1,1,1,1,1,1,1,1,1,1,1,1,1,1,1,1,1,1,1,1,1,1,1,1,1,1,1,1,1,1,1,1,1,1,1,1,1,1,1,1,1,1,1,1,1,1,1,1,1,1,1,1,1,1,1,1,1,1,1,1,1,1,1,1,1,1,1,1,1,1,1,1,1,1,1,1,1,1,1,1,1,1,1,1,1,1,1,1,1,1,1,1,1,1,1,1,1,1,1,1,1,1,1,1,1,1,1,1,1,1,1,1,1,1,1,1,1,1,1,1,1,1,1,1,1,1,1,1,1,1,1,1,1,1,1,1,1,1,1,1,1,1,1,1,1,1,1,1,1,1,1,1,1,1,1,1,1,1,1,1,1,1,1,1,1,1,1,1,1,1,1,1,1,1,1,1,1,1,1,1,1,1,1,1,1,1,1,1,1,1,1,1,1,1,1,1,1,1,1,1,1,1,1,1,1,1,1,1,1,1,1,1,1,1,1,1,1,1,1,1,1,1,1,1,1,1,1,1,1,1,1,1,1,1,1,1,1,1,1,1,1,1,1,1,1,1,1,1,1,1,1,1,1,1,1,1,1,1,1,1,1,1,1,1,1,1,1,1,1,1,1,1,1,1,1,1,1,1,1,1,1,1,1,1,1,1,1,1,1,1,1,1,1,1,1,1,1,1,1,1,1,1,1,1,1,1,1,1,1,1,1,1,1,1,1,1,1,1,1,1,1,1,1,1,1,1,1,1,1,1,1,1,1,1,1,1,1,1,1,1,1,1,1,1,1,1,1,1,1,1,1,1,1,1,1,1,1,1,1,1,1,1,1,1,1,1,1,1,1,1,1,1,1,1,1,1,1,1,1,1,1,1,1,1,1,1,1,1,1,1,1,1,1,1,1,1,1,1,1,1,1,1,1,1,1,1,1,1,1,1,1,1,1,1,1,1,1,1,1,1,1,1,1,1,1,1,1,1,1,1,1,1,1,1,1,1,1,1,1,1,1,1,1,1,1,1,1,1,1,1,1,1,1,1,1,1,1,1,1,1,1,1,1,1,1,1,1,1,1,1,1,1,1,1,1,1,1,1,1,1,1,1,1,1,1,1,1,1,1,1,1,1,1,1,1,1,1,1,1,1,1,1,1,1,1,1,1,1,1,1,1,1,1,1,1,1,1,1,1,1,1,1,1,1,1,1,1,1,1,1,1,1,1,1,1,1,1,1,1,1,1,1,1,1,1,1,1,1,1,1,1,1,1,1,1,1,1,1,1,1,1,1,1,1,1,1,1,1,1,1,1,1,1,1,1,1,1,1,1,1,1,1,1,1,1,1,1,1,1,1,1,1,1,1,1,1,1,1,1,1,1,1,1,1,1,1,1,1,1,1,1,1,1,1,1,1,1,1,1,1,1,1,1,1,1,1,1,1,1,1,1,1,1,1,1,1,1,1,1,1,1,1,1,1,1,1,1,1,1,1,1,1,1,1,1,1,1,1,1,1,1,1,1,1,1,1,1,1,1,1,1,1,1,1,1,1,1,1,1,1,1,1,1,1,1,1,1,1,1,1,1,1,1,1,1,1,1,1,1,1,1,1,1,1,1,1,1,1,1,1,1,1,1,1,1,1,1,1,1,1,1,1,1,1,1,1,1,1,1,1,1,1,1,1,1,1,1,1,1,1,1,1,1,1,1,1,1,1,1,1,1,1,1,1,1,1,1,1,1,1,1,1,1,1,1,1,1,1,1,1,1,1,1,1,1,1,1,1,1,1,1,1,1,1,1,1,1,1,1,1,1,1,1,1,1,1,1,1,1,1,1,1,1,1,1,1,1,1,1,1,1,1,1,1,1,1,1,1,1,1,1,1,1,1,1,1,1,1,1,1,1,1,1,1,1,1,1,1,1,1,1,1,1,1,1,1,1,1,1,1,1,1,1,1,1,1,1,1,1,1,1,1,1,1,1,1,1,1,1,1,1,1,1,1,1,1,1,1,1,1,1,1,1,1,1,1,1,1,1,1,1,1,1,1,1,1,1,1,1,1,1,1,1,1,1,1,1,1,1,1,1,1,1,1,1,1,1,1,1,1,1,1,1,1,1,1,1,1,1,1,1,1,1,1,1,1,1,1,1,1,1,1,1,1,1,1,1,1,1,1,1,1,1,1,1,1,1,1,1,1,1,1,1,1,1,1,1,1,1,1,1,1,1,1,1,1,1,1,1,1,1,1,1,1,1,1,1,1,1,1,1,1,1,1,1,1,1,1,1,1,1,1,1,1,1,1,1,1,1,1,1,1,1,1,1,1,1,1,1,1,1,1,1,1,1,1,1,1,1,1,1,1,1,1,1,1,1,1,1,1,1,1,1,1,1,1,1,1,1,1,1,1,1,1,1,1,1,1,1,1,1,1,1,1,1,1,1,1,1,1,1,1,1,1,1,1,1,1,1,1,1,1,1,1,1,1,1,1,1,1,1,1,1,1,1,1,1,1,1,1,1,1,1,1,1,1,1,1,1,1,1,1,1,1,1,1,1,1,1,1,1,1,1,1,1,1,1,1,1,1,1,1,1,1,1,1,1,1,1,1,1,1,1,1,1,1,1,1,1,1,1,1,1,1,1,1,1,1,1,1,1,1,1,1,1,1,1,1,1,1,1,1,1,1,1,1,1,1,1,1,1,1,1,1,1,1,1,1,1,1,1,1,1,1,1,1,1,1,1,1,1,1,1,1,1,1,1,1,1,1,1,1,1,1,1,1,1,1,1,1,1,1,1,1,1,1,1,1,1,1,1,1,1,1,1,1,1,1,1,1,1,1,1,1,1,1,1,1,1,1,1,1,1,1,1,1,1,1,1,1,1,1,1,1,1,1,1,1,1,1,1,1,1,1,1,1,1,1,1,1,1,1,1,1,1,1,1,1,1,1,1,1,1,1,1,1,1,1,1,1,1,1,1,1,1,1,1,1,1,1,1,1,1,1,1,1,1,1,1,1,1,1,1,1,1,1,1,1,1,1,1,1,1,1,1,1,1,1,1,1,1,1,1,1,1,1,1,1,1,1,1,1,1,1,1,1,1,1,1,1,1,1,1,1,1,1,1,1,1,1,1,1,1,1,1,1,1,1,1,1,1,1,1,1,1,1,1,1,1,1,1,1,1,1,1,1,1,1,1,1,1,1,1,1,1,1,1,1,1,1,1,1,1,1,1,1,1,1,1,1,1,1,1,1,1,1,1,1,1,1,1,1,1,1,1,1,1,1,1,1,1,1,1,1,1,1,1,1,1,1,1,1,1,1,1,1,1,1,1,1,1,1,1,1,1,1,1,1,1,1,1,1,1,1,1,1,1,1,1,1,1,1,1,1,1,1,1,1,1,1,1,1,1,1,1,1,1,1,1,1,1,1,1,1,1,1,1,1,1,1,1,1,1,1,1,1,1,1,1,1,1,1,1,1,1,1,1,1,1,1,1,1,1,1,1,1,1,1,1,1,1,1,1,1,1,1,1,1,1,1,1,1,1,1,1,1,1,1,1,1,1,1,1,1,1,1,1,1,1,1,1,1,1,1,1,1,1,1,1,1,1,1,1,1,1,1,1,1,1,1,1,1,1,1,1,1,1,1,1,1,1,1,1,1,1,1,1,1,1,1,1,1,1,1,1,1,1,1,1,1,1,1,1,1,1,1,1,1,1,1,1,1,1,1,1,1,1,1,1,1,1,1,1,1,1,1,1,1,1,1,1,1,1,1,1,1,1,1,1,1,1,1,1,1,1,1,1,1,1,1,1,1,1,1,1,1,1,1,1,1,1,1,1,1,1,1,1,1,1,1,1,1,1,1,1,1,1,1,1,1,1,1,1,1,1,1,1,1,1,1,1,1,1,1,1,1,1,1,1,1,1,1,1,1,1,1,1,1,1,1,1,1,1,1,1,1,1,1,1,1,1,1,1,1,1,1,1,1,1,1,1,1,1,1,1,1,1,1,1,1,1,1,1,1,1,1,1,1,1,1,1,1,1,1,1,1,1,1,1,1,1,1,1,1,1,1,1,1,1,1,1,1,1,1,1,1,1,1,1,1,1,1,1,1,1,1,1,1,1,1,1,1,1,1,1,1,1,1,1,1,1,1,1,1,1,1,1,1,1,1,1,1,1,1,1,1,1,1,1,1,1,1,1,1,1,1,1,1,1,1,1,1,1,1,1,1,1,1,1,1,1,1,1,1,1,1,1,1,1,1,1,1,1,1,1,1,1,1,1,1,1,1,1,1,1,1,1,1,1,1,1,1,1,1,1,1,1,1,1,1,1,1,1,1,1,1,1,1,1,1,1,1,1,1,1,1,1,1,1,1,1,1,1,1,1,1,1,1,1,1,1,1,1,1,1,1,1,1,1,1,1,1,1,1,1,1,1,1,1,1,1,1,1,1,1,1,1,1,1,1,1,1,1,1,1,1,1,1,1,1,1,1,1,1,1,1,1,1,1,1,1,1,1,1,1,1,1,1,1,1,1,1,1,1,1,1,1,1,1,1,1,1,1,1,1,1,1,1,1,1,1,1,1,1,1,1,1,1,1,1,1,1,1,1,1,1,1,1,1,1,1,1,1,1,1,1,1,1,1,1,1,1,1,1,1,1,1,1,1,1,1,1,1,1,1,1,1,1,1,1,1,1,1,1,1,1,1,1,1,1,1,1,1,1,1,1,1,1,1,1,1,1,1,1,1,1,1,1,1,1,1,1,1,1,1,1,1,1,1,1,1,1,1,1,1,1,1,1,1,1,1,1,1,1,1,1,1,1,1,1,1,1,1,1,1,1,1,1,1,1,1,1,1,1,1,1,1,1,1,1,1,1,1,1,1,1,1,1,1,1,1,1,1,1,1,1,1,1,1,1,1,1,1,1,1,1,1,1,1,1,1,1,1,1,1,1,1,1,1,1,1,1],\"yaxis\":\"y\",\"type\":\"bar\"}],                        {\"template\":{\"data\":{\"barpolar\":[{\"marker\":{\"line\":{\"color\":\"rgb(17,17,17)\",\"width\":0.5},\"pattern\":{\"fillmode\":\"overlay\",\"size\":10,\"solidity\":0.2}},\"type\":\"barpolar\"}],\"bar\":[{\"error_x\":{\"color\":\"#f2f5fa\"},\"error_y\":{\"color\":\"#f2f5fa\"},\"marker\":{\"line\":{\"color\":\"rgb(17,17,17)\",\"width\":0.5},\"pattern\":{\"fillmode\":\"overlay\",\"size\":10,\"solidity\":0.2}},\"type\":\"bar\"}],\"carpet\":[{\"aaxis\":{\"endlinecolor\":\"#A2B1C6\",\"gridcolor\":\"#506784\",\"linecolor\":\"#506784\",\"minorgridcolor\":\"#506784\",\"startlinecolor\":\"#A2B1C6\"},\"baxis\":{\"endlinecolor\":\"#A2B1C6\",\"gridcolor\":\"#506784\",\"linecolor\":\"#506784\",\"minorgridcolor\":\"#506784\",\"startlinecolor\":\"#A2B1C6\"},\"type\":\"carpet\"}],\"choropleth\":[{\"colorbar\":{\"outlinewidth\":0,\"ticks\":\"\"},\"type\":\"choropleth\"}],\"contourcarpet\":[{\"colorbar\":{\"outlinewidth\":0,\"ticks\":\"\"},\"type\":\"contourcarpet\"}],\"contour\":[{\"colorbar\":{\"outlinewidth\":0,\"ticks\":\"\"},\"colorscale\":[[0.0,\"#0d0887\"],[0.1111111111111111,\"#46039f\"],[0.2222222222222222,\"#7201a8\"],[0.3333333333333333,\"#9c179e\"],[0.4444444444444444,\"#bd3786\"],[0.5555555555555556,\"#d8576b\"],[0.6666666666666666,\"#ed7953\"],[0.7777777777777778,\"#fb9f3a\"],[0.8888888888888888,\"#fdca26\"],[1.0,\"#f0f921\"]],\"type\":\"contour\"}],\"heatmapgl\":[{\"colorbar\":{\"outlinewidth\":0,\"ticks\":\"\"},\"colorscale\":[[0.0,\"#0d0887\"],[0.1111111111111111,\"#46039f\"],[0.2222222222222222,\"#7201a8\"],[0.3333333333333333,\"#9c179e\"],[0.4444444444444444,\"#bd3786\"],[0.5555555555555556,\"#d8576b\"],[0.6666666666666666,\"#ed7953\"],[0.7777777777777778,\"#fb9f3a\"],[0.8888888888888888,\"#fdca26\"],[1.0,\"#f0f921\"]],\"type\":\"heatmapgl\"}],\"heatmap\":[{\"colorbar\":{\"outlinewidth\":0,\"ticks\":\"\"},\"colorscale\":[[0.0,\"#0d0887\"],[0.1111111111111111,\"#46039f\"],[0.2222222222222222,\"#7201a8\"],[0.3333333333333333,\"#9c179e\"],[0.4444444444444444,\"#bd3786\"],[0.5555555555555556,\"#d8576b\"],[0.6666666666666666,\"#ed7953\"],[0.7777777777777778,\"#fb9f3a\"],[0.8888888888888888,\"#fdca26\"],[1.0,\"#f0f921\"]],\"type\":\"heatmap\"}],\"histogram2dcontour\":[{\"colorbar\":{\"outlinewidth\":0,\"ticks\":\"\"},\"colorscale\":[[0.0,\"#0d0887\"],[0.1111111111111111,\"#46039f\"],[0.2222222222222222,\"#7201a8\"],[0.3333333333333333,\"#9c179e\"],[0.4444444444444444,\"#bd3786\"],[0.5555555555555556,\"#d8576b\"],[0.6666666666666666,\"#ed7953\"],[0.7777777777777778,\"#fb9f3a\"],[0.8888888888888888,\"#fdca26\"],[1.0,\"#f0f921\"]],\"type\":\"histogram2dcontour\"}],\"histogram2d\":[{\"colorbar\":{\"outlinewidth\":0,\"ticks\":\"\"},\"colorscale\":[[0.0,\"#0d0887\"],[0.1111111111111111,\"#46039f\"],[0.2222222222222222,\"#7201a8\"],[0.3333333333333333,\"#9c179e\"],[0.4444444444444444,\"#bd3786\"],[0.5555555555555556,\"#d8576b\"],[0.6666666666666666,\"#ed7953\"],[0.7777777777777778,\"#fb9f3a\"],[0.8888888888888888,\"#fdca26\"],[1.0,\"#f0f921\"]],\"type\":\"histogram2d\"}],\"histogram\":[{\"marker\":{\"pattern\":{\"fillmode\":\"overlay\",\"size\":10,\"solidity\":0.2}},\"type\":\"histogram\"}],\"mesh3d\":[{\"colorbar\":{\"outlinewidth\":0,\"ticks\":\"\"},\"type\":\"mesh3d\"}],\"parcoords\":[{\"line\":{\"colorbar\":{\"outlinewidth\":0,\"ticks\":\"\"}},\"type\":\"parcoords\"}],\"pie\":[{\"automargin\":true,\"type\":\"pie\"}],\"scatter3d\":[{\"line\":{\"colorbar\":{\"outlinewidth\":0,\"ticks\":\"\"}},\"marker\":{\"colorbar\":{\"outlinewidth\":0,\"ticks\":\"\"}},\"type\":\"scatter3d\"}],\"scattercarpet\":[{\"marker\":{\"colorbar\":{\"outlinewidth\":0,\"ticks\":\"\"}},\"type\":\"scattercarpet\"}],\"scattergeo\":[{\"marker\":{\"colorbar\":{\"outlinewidth\":0,\"ticks\":\"\"}},\"type\":\"scattergeo\"}],\"scattergl\":[{\"marker\":{\"line\":{\"color\":\"#283442\"}},\"type\":\"scattergl\"}],\"scattermapbox\":[{\"marker\":{\"colorbar\":{\"outlinewidth\":0,\"ticks\":\"\"}},\"type\":\"scattermapbox\"}],\"scatterpolargl\":[{\"marker\":{\"colorbar\":{\"outlinewidth\":0,\"ticks\":\"\"}},\"type\":\"scatterpolargl\"}],\"scatterpolar\":[{\"marker\":{\"colorbar\":{\"outlinewidth\":0,\"ticks\":\"\"}},\"type\":\"scatterpolar\"}],\"scatter\":[{\"marker\":{\"line\":{\"color\":\"#283442\"}},\"type\":\"scatter\"}],\"scatterternary\":[{\"marker\":{\"colorbar\":{\"outlinewidth\":0,\"ticks\":\"\"}},\"type\":\"scatterternary\"}],\"surface\":[{\"colorbar\":{\"outlinewidth\":0,\"ticks\":\"\"},\"colorscale\":[[0.0,\"#0d0887\"],[0.1111111111111111,\"#46039f\"],[0.2222222222222222,\"#7201a8\"],[0.3333333333333333,\"#9c179e\"],[0.4444444444444444,\"#bd3786\"],[0.5555555555555556,\"#d8576b\"],[0.6666666666666666,\"#ed7953\"],[0.7777777777777778,\"#fb9f3a\"],[0.8888888888888888,\"#fdca26\"],[1.0,\"#f0f921\"]],\"type\":\"surface\"}],\"table\":[{\"cells\":{\"fill\":{\"color\":\"#506784\"},\"line\":{\"color\":\"rgb(17,17,17)\"}},\"header\":{\"fill\":{\"color\":\"#2a3f5f\"},\"line\":{\"color\":\"rgb(17,17,17)\"}},\"type\":\"table\"}]},\"layout\":{\"annotationdefaults\":{\"arrowcolor\":\"#f2f5fa\",\"arrowhead\":0,\"arrowwidth\":1},\"autotypenumbers\":\"strict\",\"coloraxis\":{\"colorbar\":{\"outlinewidth\":0,\"ticks\":\"\"}},\"colorscale\":{\"diverging\":[[0,\"#8e0152\"],[0.1,\"#c51b7d\"],[0.2,\"#de77ae\"],[0.3,\"#f1b6da\"],[0.4,\"#fde0ef\"],[0.5,\"#f7f7f7\"],[0.6,\"#e6f5d0\"],[0.7,\"#b8e186\"],[0.8,\"#7fbc41\"],[0.9,\"#4d9221\"],[1,\"#276419\"]],\"sequential\":[[0.0,\"#0d0887\"],[0.1111111111111111,\"#46039f\"],[0.2222222222222222,\"#7201a8\"],[0.3333333333333333,\"#9c179e\"],[0.4444444444444444,\"#bd3786\"],[0.5555555555555556,\"#d8576b\"],[0.6666666666666666,\"#ed7953\"],[0.7777777777777778,\"#fb9f3a\"],[0.8888888888888888,\"#fdca26\"],[1.0,\"#f0f921\"]],\"sequentialminus\":[[0.0,\"#0d0887\"],[0.1111111111111111,\"#46039f\"],[0.2222222222222222,\"#7201a8\"],[0.3333333333333333,\"#9c179e\"],[0.4444444444444444,\"#bd3786\"],[0.5555555555555556,\"#d8576b\"],[0.6666666666666666,\"#ed7953\"],[0.7777777777777778,\"#fb9f3a\"],[0.8888888888888888,\"#fdca26\"],[1.0,\"#f0f921\"]]},\"colorway\":[\"#636efa\",\"#EF553B\",\"#00cc96\",\"#ab63fa\",\"#FFA15A\",\"#19d3f3\",\"#FF6692\",\"#B6E880\",\"#FF97FF\",\"#FECB52\"],\"font\":{\"color\":\"#f2f5fa\"},\"geo\":{\"bgcolor\":\"rgb(17,17,17)\",\"lakecolor\":\"rgb(17,17,17)\",\"landcolor\":\"rgb(17,17,17)\",\"showlakes\":true,\"showland\":true,\"subunitcolor\":\"#506784\"},\"hoverlabel\":{\"align\":\"left\"},\"hovermode\":\"closest\",\"mapbox\":{\"style\":\"dark\"},\"paper_bgcolor\":\"rgb(17,17,17)\",\"plot_bgcolor\":\"rgb(17,17,17)\",\"polar\":{\"angularaxis\":{\"gridcolor\":\"#506784\",\"linecolor\":\"#506784\",\"ticks\":\"\"},\"bgcolor\":\"rgb(17,17,17)\",\"radialaxis\":{\"gridcolor\":\"#506784\",\"linecolor\":\"#506784\",\"ticks\":\"\"}},\"scene\":{\"xaxis\":{\"backgroundcolor\":\"rgb(17,17,17)\",\"gridcolor\":\"#506784\",\"gridwidth\":2,\"linecolor\":\"#506784\",\"showbackground\":true,\"ticks\":\"\",\"zerolinecolor\":\"#C8D4E3\"},\"yaxis\":{\"backgroundcolor\":\"rgb(17,17,17)\",\"gridcolor\":\"#506784\",\"gridwidth\":2,\"linecolor\":\"#506784\",\"showbackground\":true,\"ticks\":\"\",\"zerolinecolor\":\"#C8D4E3\"},\"zaxis\":{\"backgroundcolor\":\"rgb(17,17,17)\",\"gridcolor\":\"#506784\",\"gridwidth\":2,\"linecolor\":\"#506784\",\"showbackground\":true,\"ticks\":\"\",\"zerolinecolor\":\"#C8D4E3\"}},\"shapedefaults\":{\"line\":{\"color\":\"#f2f5fa\"}},\"sliderdefaults\":{\"bgcolor\":\"#C8D4E3\",\"bordercolor\":\"rgb(17,17,17)\",\"borderwidth\":1,\"tickwidth\":0},\"ternary\":{\"aaxis\":{\"gridcolor\":\"#506784\",\"linecolor\":\"#506784\",\"ticks\":\"\"},\"baxis\":{\"gridcolor\":\"#506784\",\"linecolor\":\"#506784\",\"ticks\":\"\"},\"bgcolor\":\"rgb(17,17,17)\",\"caxis\":{\"gridcolor\":\"#506784\",\"linecolor\":\"#506784\",\"ticks\":\"\"}},\"title\":{\"x\":0.05},\"updatemenudefaults\":{\"bgcolor\":\"#506784\",\"borderwidth\":0},\"xaxis\":{\"automargin\":true,\"gridcolor\":\"#283442\",\"linecolor\":\"#506784\",\"ticks\":\"\",\"title\":{\"standoff\":15},\"zerolinecolor\":\"#283442\",\"zerolinewidth\":2},\"yaxis\":{\"automargin\":true,\"gridcolor\":\"#283442\",\"linecolor\":\"#506784\",\"ticks\":\"\",\"title\":{\"standoff\":15},\"zerolinecolor\":\"#283442\",\"zerolinewidth\":2}}},\"xaxis\":{\"anchor\":\"y\",\"domain\":[0.0,1.0],\"title\":{\"text\":\"rating\"}},\"yaxis\":{\"anchor\":\"x\",\"domain\":[0.0,1.0],\"title\":{\"text\":\"count\"}},\"legend\":{\"tracegroupgap\":0},\"margin\":{\"t\":60},\"barmode\":\"relative\"},                        {\"responsive\": true}                    ).then(function(){\n",
       "                            \n",
       "var gd = document.getElementById('a4d8938b-8ea3-4a6b-bbf9-2617d1e1b4e5');\n",
       "var x = new MutationObserver(function (mutations, observer) {{\n",
       "        var display = window.getComputedStyle(gd).display;\n",
       "        if (!display || display === 'none') {{\n",
       "            console.log([gd, 'removed!']);\n",
       "            Plotly.purge(gd);\n",
       "            observer.disconnect();\n",
       "        }}\n",
       "}});\n",
       "\n",
       "// Listen for the removal of the full notebook cells\n",
       "var notebookContainer = gd.closest('#notebook-container');\n",
       "if (notebookContainer) {{\n",
       "    x.observe(notebookContainer, {childList: true});\n",
       "}}\n",
       "\n",
       "// Listen for the clearing of the current output cell\n",
       "var outputEl = gd.closest('.output');\n",
       "if (outputEl) {{\n",
       "    x.observe(outputEl, {childList: true});\n",
       "}}\n",
       "\n",
       "                        })                };                });            </script>        </div>"
      ]
     },
     "metadata": {},
     "output_type": "display_data"
    }
   ],
   "source": [
    "fig = px.bar(data_frame=df, x=\"rating\", template=\"plotly_dark\")\n",
    "fig.show()"
   ]
  },
  {
   "cell_type": "code",
   "execution_count": null,
   "id": "084ffd5c",
   "metadata": {
    "papermill": {
     "duration": 0.012628,
     "end_time": "2022-09-23T20:11:04.220587",
     "exception": false,
     "start_time": "2022-09-23T20:11:04.207959",
     "status": "completed"
    },
    "tags": []
   },
   "outputs": [],
   "source": []
  }
 ],
 "metadata": {
  "kernelspec": {
   "display_name": "Python 3",
   "language": "python",
   "name": "python3"
  },
  "language_info": {
   "codemirror_mode": {
    "name": "ipython",
    "version": 3
   },
   "file_extension": ".py",
   "mimetype": "text/x-python",
   "name": "python",
   "nbconvert_exporter": "python",
   "pygments_lexer": "ipython3",
   "version": "3.7.12"
  },
  "papermill": {
   "default_parameters": {},
   "duration": 15.540851,
   "end_time": "2022-09-23T20:11:05.056686",
   "environment_variables": {},
   "exception": null,
   "input_path": "__notebook__.ipynb",
   "output_path": "__notebook__.ipynb",
   "parameters": {},
   "start_time": "2022-09-23T20:10:49.515835",
   "version": "2.3.4"
  }
 },
 "nbformat": 4,
 "nbformat_minor": 5
}
