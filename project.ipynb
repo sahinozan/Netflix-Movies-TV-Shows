{
 "cells": [
  {
   "cell_type": "markdown",
   "id": "a3cd8bf8",
   "metadata": {
    "papermill": {
     "duration": 0.012467,
     "end_time": "2022-09-25T18:52:58.678914",
     "exception": false,
     "start_time": "2022-09-25T18:52:58.666447",
     "status": "completed"
    },
    "tags": []
   },
   "source": [
    "<div style = \"display: fill;\n",
    "              border-radius: 10px;\n",
    "              background-color: #E50914;\">\n",
    "    <h1 style = \"padding: 15px; \n",
    "                 color: White;\n",
    "                 text-align:center;\n",
    "                 font-family: Trebuchet MS;\">Netflix Movies and TV Shows\n",
    "    </h1>\n",
    "</div>\n",
    "\n",
    "<div align=\"center\"> \n",
    "    <img src=\"https://content.api.news/v3/images/bin/3fcf3cdcc2cfd6905e582a186e46e584\" alt=\"Netflix\" width=\"75%\" style=\"margin-top:2rem;margin-bottom:2rem\">\n",
    "</div>\n",
    "\n",
    "<body>\n",
    "    <div style=\"background-color: #FF6A74;\n",
    "                border: 2px solid;\n",
    "                border-radius: 10px;\n",
    "                padding-top: 10px;\n",
    "                padding-bottom: 10px;\n",
    "                padding-right: 20px;\n",
    "                padding-left: 20px;\n",
    "                border-color: #FF1100;\"> \n",
    "        <p></p>\n",
    "        <p style=\"font-family:verdana;\">Netflix is one of the most popular media and video streaming platforms. They have over 8000 movies or tv shows available on their platform, as of mid-2021, they have over 200M Subscribers globally.</p>\n",
    "    </div>\n",
    "</body>"
   ]
  },
  {
   "cell_type": "markdown",
   "id": "4ef6b5f9",
   "metadata": {
    "papermill": {
     "duration": 0.011036,
     "end_time": "2022-09-25T18:52:58.700998",
     "exception": false,
     "start_time": "2022-09-25T18:52:58.689962",
     "status": "completed"
    },
    "tags": []
   },
   "source": [
    "<div style = \"display: fill;\n",
    "              border-radius: 10px;\n",
    "              background-color: #E50914;\">\n",
    "    <h2 style = \"padding: 15px; \n",
    "                 color: White;\n",
    "                 text-align: left;\n",
    "                 font-family: Trebuchet MS;\">Table of Contents\n",
    "    </h2>\n",
    "</div>\n",
    "\n",
    "* [<span style=\"font-family: Trebuchet MS; font-size:15px;\">1. Imports</span>](#imports)\n",
    "* [<span style=\"font-family: Trebuchet MS; font-size:15px;\">2. Loading the Dataset</span>](#loading-the-dataset)\n",
    "* [<span style=\"font-family: Trebuchet MS; font-size:15px;\">3. Understanding the Data</span>](#understanding-the-data)\n",
    "    * [<span style=\"font-family: Trebuchet MS; font-size:15px;\">3.1 Checking Null Values</span>](#checking-null-values)\n",
    "    * [<span style=\"font-family: Trebuchet MS; font-size:15px;\">3.2 Optimizing the Dataset</span>](#optimizing-the-dataset)\n",
    "* [<span style=\"font-family: Trebuchet MS; font-size:15px;\">4. Exploratory Data Analysis</span>](#exploratory-data-analysis)\n"
   ]
  },
  {
   "cell_type": "markdown",
   "id": "498bfd24",
   "metadata": {
    "papermill": {
     "duration": 0.012318,
     "end_time": "2022-09-25T18:52:58.724253",
     "exception": false,
     "start_time": "2022-09-25T18:52:58.711935",
     "status": "completed"
    },
    "tags": []
   },
   "source": [
    "<div id=\"imports\"\n",
    "     style = \"display: fill;\n",
    "              border-radius: 10px;\n",
    "              background-color: #E50914;\">\n",
    "    <h2 style = \"padding: 15px; \n",
    "                 color: White;\n",
    "                 text-align: left;\n",
    "                 font-family: Trebuchet MS;\">1. Imports\n",
    "    </h2>\n",
    "</div>"
   ]
  },
  {
   "cell_type": "code",
   "execution_count": 1,
   "id": "fccb4b08",
   "metadata": {
    "_cell_guid": "b1076dfc-b9ad-4769-8c92-a6c4dae69d19",
    "_kg_hide-output": true,
    "_uuid": "8f2839f25d086af736a60e9eeb907d3b93b6e0e5",
    "execution": {
     "iopub.execute_input": "2022-09-25T18:52:58.748893Z",
     "iopub.status.busy": "2022-09-25T18:52:58.747916Z",
     "iopub.status.idle": "2022-09-25T18:53:16.823805Z",
     "shell.execute_reply": "2022-09-25T18:53:16.822458Z"
    },
    "papermill": {
     "duration": 18.091975,
     "end_time": "2022-09-25T18:53:16.827162",
     "exception": false,
     "start_time": "2022-09-25T18:52:58.735187",
     "status": "completed"
    },
    "tags": []
   },
   "outputs": [],
   "source": [
    "%%capture\n",
    "!pip install kaleido\n",
    "import numpy as np\n",
    "import pandas as pd\n",
    "import plotly\n",
    "import plotly.express as px\n",
    "from pprint import pprint\n",
    "import kaleido\n",
    "from tqdm import tqdm\n",
    "from tqdm import trange\n",
    "\n",
    "# disable auto sort behavior in pprint\n",
    "pprint.sorted = lambda x, key=None: x"
   ]
  },
  {
   "cell_type": "code",
   "execution_count": 2,
   "id": "41728499",
   "metadata": {
    "execution": {
     "iopub.execute_input": "2022-09-25T18:53:16.851133Z",
     "iopub.status.busy": "2022-09-25T18:53:16.850696Z",
     "iopub.status.idle": "2022-09-25T18:53:16.885046Z",
     "shell.execute_reply": "2022-09-25T18:53:16.883622Z"
    },
    "papermill": {
     "duration": 0.049536,
     "end_time": "2022-09-25T18:53:16.887925",
     "exception": false,
     "start_time": "2022-09-25T18:53:16.838389",
     "status": "completed"
    },
    "tags": []
   },
   "outputs": [],
   "source": [
    "# for github \n",
    "import plotly.io as pio\n",
    "pio.renderers.default = \"svg\"\n",
    "pio.renderers[\"svg\"].width = 1300"
   ]
  },
  {
   "cell_type": "markdown",
   "id": "01af158c",
   "metadata": {
    "papermill": {
     "duration": 0.01076,
     "end_time": "2022-09-25T18:53:16.909921",
     "exception": false,
     "start_time": "2022-09-25T18:53:16.899161",
     "status": "completed"
    },
    "tags": []
   },
   "source": [
    "<div id=\"loading-the-dataset\"\n",
    "     style = \"display: fill;\n",
    "              border-radius: 10px;\n",
    "              background-color: #E50914;\">\n",
    "    <h2 style = \"padding: 15px; \n",
    "                 color: White;\n",
    "                 text-align: left;\n",
    "                 font-family: Trebuchet MS;\">2. Loading the Dataset\n",
    "    </h2>\n",
    "</div>"
   ]
  },
  {
   "cell_type": "code",
   "execution_count": 3,
   "id": "aee4b83f",
   "metadata": {
    "execution": {
     "iopub.execute_input": "2022-09-25T18:53:16.934609Z",
     "iopub.status.busy": "2022-09-25T18:53:16.933682Z",
     "iopub.status.idle": "2022-09-25T18:53:17.369909Z",
     "shell.execute_reply": "2022-09-25T18:53:17.368787Z"
    },
    "papermill": {
     "duration": 0.45209,
     "end_time": "2022-09-25T18:53:17.373012",
     "exception": false,
     "start_time": "2022-09-25T18:53:16.920922",
     "status": "completed"
    },
    "tags": []
   },
   "outputs": [
    {
     "data": {
      "text/html": [
       "<div>\n",
       "<style scoped>\n",
       "    .dataframe tbody tr th:only-of-type {\n",
       "        vertical-align: middle;\n",
       "    }\n",
       "\n",
       "    .dataframe tbody tr th {\n",
       "        vertical-align: top;\n",
       "    }\n",
       "\n",
       "    .dataframe thead th {\n",
       "        text-align: right;\n",
       "    }\n",
       "</style>\n",
       "<table border=\"1\" class=\"dataframe\">\n",
       "  <thead>\n",
       "    <tr style=\"text-align: right;\">\n",
       "      <th></th>\n",
       "      <th>show_id</th>\n",
       "      <th>type</th>\n",
       "      <th>title</th>\n",
       "      <th>director</th>\n",
       "      <th>cast</th>\n",
       "      <th>country</th>\n",
       "      <th>date_added</th>\n",
       "      <th>release_year</th>\n",
       "      <th>rating</th>\n",
       "      <th>duration</th>\n",
       "      <th>listed_in</th>\n",
       "      <th>description</th>\n",
       "    </tr>\n",
       "  </thead>\n",
       "  <tbody>\n",
       "    <tr>\n",
       "      <th>0</th>\n",
       "      <td>s1</td>\n",
       "      <td>Movie</td>\n",
       "      <td>Dick Johnson Is Dead</td>\n",
       "      <td>Kirsten Johnson</td>\n",
       "      <td>NaN</td>\n",
       "      <td>United States</td>\n",
       "      <td>September 25, 2021</td>\n",
       "      <td>2020</td>\n",
       "      <td>PG-13</td>\n",
       "      <td>90 min</td>\n",
       "      <td>Documentaries</td>\n",
       "      <td>As her father nears the end of his life, filmm...</td>\n",
       "    </tr>\n",
       "    <tr>\n",
       "      <th>1</th>\n",
       "      <td>s2</td>\n",
       "      <td>TV Show</td>\n",
       "      <td>Blood &amp; Water</td>\n",
       "      <td>NaN</td>\n",
       "      <td>Ama Qamata, Khosi Ngema, Gail Mabalane, Thaban...</td>\n",
       "      <td>South Africa</td>\n",
       "      <td>September 24, 2021</td>\n",
       "      <td>2021</td>\n",
       "      <td>TV-MA</td>\n",
       "      <td>2 Seasons</td>\n",
       "      <td>International TV Shows, TV Dramas, TV Mysteries</td>\n",
       "      <td>After crossing paths at a party, a Cape Town t...</td>\n",
       "    </tr>\n",
       "    <tr>\n",
       "      <th>2</th>\n",
       "      <td>s3</td>\n",
       "      <td>TV Show</td>\n",
       "      <td>Ganglands</td>\n",
       "      <td>Julien Leclercq</td>\n",
       "      <td>Sami Bouajila, Tracy Gotoas, Samuel Jouy, Nabi...</td>\n",
       "      <td>NaN</td>\n",
       "      <td>September 24, 2021</td>\n",
       "      <td>2021</td>\n",
       "      <td>TV-MA</td>\n",
       "      <td>1 Season</td>\n",
       "      <td>Crime TV Shows, International TV Shows, TV Act...</td>\n",
       "      <td>To protect his family from a powerful drug lor...</td>\n",
       "    </tr>\n",
       "    <tr>\n",
       "      <th>3</th>\n",
       "      <td>s4</td>\n",
       "      <td>TV Show</td>\n",
       "      <td>Jailbirds New Orleans</td>\n",
       "      <td>NaN</td>\n",
       "      <td>NaN</td>\n",
       "      <td>NaN</td>\n",
       "      <td>September 24, 2021</td>\n",
       "      <td>2021</td>\n",
       "      <td>TV-MA</td>\n",
       "      <td>1 Season</td>\n",
       "      <td>Docuseries, Reality TV</td>\n",
       "      <td>Feuds, flirtations and toilet talk go down amo...</td>\n",
       "    </tr>\n",
       "    <tr>\n",
       "      <th>4</th>\n",
       "      <td>s5</td>\n",
       "      <td>TV Show</td>\n",
       "      <td>Kota Factory</td>\n",
       "      <td>NaN</td>\n",
       "      <td>Mayur More, Jitendra Kumar, Ranjan Raj, Alam K...</td>\n",
       "      <td>India</td>\n",
       "      <td>September 24, 2021</td>\n",
       "      <td>2021</td>\n",
       "      <td>TV-MA</td>\n",
       "      <td>2 Seasons</td>\n",
       "      <td>International TV Shows, Romantic TV Shows, TV ...</td>\n",
       "      <td>In a city of coaching centers known to train I...</td>\n",
       "    </tr>\n",
       "  </tbody>\n",
       "</table>\n",
       "</div>"
      ],
      "text/plain": [
       "  show_id     type                  title         director  \\\n",
       "0      s1    Movie   Dick Johnson Is Dead  Kirsten Johnson   \n",
       "1      s2  TV Show          Blood & Water              NaN   \n",
       "2      s3  TV Show              Ganglands  Julien Leclercq   \n",
       "3      s4  TV Show  Jailbirds New Orleans              NaN   \n",
       "4      s5  TV Show           Kota Factory              NaN   \n",
       "\n",
       "                                                cast        country  \\\n",
       "0                                                NaN  United States   \n",
       "1  Ama Qamata, Khosi Ngema, Gail Mabalane, Thaban...   South Africa   \n",
       "2  Sami Bouajila, Tracy Gotoas, Samuel Jouy, Nabi...            NaN   \n",
       "3                                                NaN            NaN   \n",
       "4  Mayur More, Jitendra Kumar, Ranjan Raj, Alam K...          India   \n",
       "\n",
       "           date_added  release_year rating   duration  \\\n",
       "0  September 25, 2021          2020  PG-13     90 min   \n",
       "1  September 24, 2021          2021  TV-MA  2 Seasons   \n",
       "2  September 24, 2021          2021  TV-MA   1 Season   \n",
       "3  September 24, 2021          2021  TV-MA   1 Season   \n",
       "4  September 24, 2021          2021  TV-MA  2 Seasons   \n",
       "\n",
       "                                           listed_in  \\\n",
       "0                                      Documentaries   \n",
       "1    International TV Shows, TV Dramas, TV Mysteries   \n",
       "2  Crime TV Shows, International TV Shows, TV Act...   \n",
       "3                             Docuseries, Reality TV   \n",
       "4  International TV Shows, Romantic TV Shows, TV ...   \n",
       "\n",
       "                                         description  \n",
       "0  As her father nears the end of his life, filmm...  \n",
       "1  After crossing paths at a party, a Cape Town t...  \n",
       "2  To protect his family from a powerful drug lor...  \n",
       "3  Feuds, flirtations and toilet talk go down amo...  \n",
       "4  In a city of coaching centers known to train I...  "
      ]
     },
     "execution_count": 3,
     "metadata": {},
     "output_type": "execute_result"
    }
   ],
   "source": [
    "df = pd.read_csv(\"https://raw.githubusercontent.com/sahinozan/Netflix-Movies-TV-Shows/main/netflix_titles.csv\", encoding=\"utf-8\")\n",
    "df.head()"
   ]
  },
  {
   "cell_type": "markdown",
   "id": "5e9e36dc",
   "metadata": {
    "papermill": {
     "duration": 0.011086,
     "end_time": "2022-09-25T18:53:17.395724",
     "exception": false,
     "start_time": "2022-09-25T18:53:17.384638",
     "status": "completed"
    },
    "tags": []
   },
   "source": [
    "<div id=\"understanding-the-data\"\n",
    "     style = \"display: fill;\n",
    "              border-radius: 10px;\n",
    "              background-color: #E50914;\">\n",
    "    <h2 style = \"padding: 15px; \n",
    "                 color: White;\n",
    "                 text-align: left;\n",
    "                 font-family: Trebuchet MS;\">3. Understanding the Data\n",
    "    </h2>\n",
    "</div>\n",
    "\n",
    "<body>\n",
    "    <div style=\"background-color: #FF6A74;\n",
    "                border: 2px solid;\n",
    "                border-radius: 10px;\n",
    "                padding-top: 10px;\n",
    "                padding-bottom: 10px;\n",
    "                padding-right: 20px;\n",
    "                padding-left: 20px;\n",
    "                border-color: #FF1100;\"> \n",
    "        <p style=\"font-family:verdana;\">Dataset consists of 12 features.</p>\n",
    "        <ol>\n",
    "            <li style=\"font-family:verdana;\"><b>show_id</b>: The unique id number of each show or movie\n",
    "                <ul>\n",
    "                    <li style=\"font-family:verdana;\">s1</li>\n",
    "                    <li style=\"font-family:verdana;\">s2</li>\n",
    "                    <li style=\"font-family:verdana;\">s3</li>\n",
    "                    <li style=\"font-family:verdana;\">...</li>\n",
    "                </ul>\n",
    "            </li>\n",
    "            <li style=\"font-family:verdana;\"><b>type</b>: Type of the content\n",
    "                <ul>\n",
    "                    <li style=\"font-family:verdana;\">Movie</li>\n",
    "                    <li style=\"font-family:verdana;\">TV Show</li>\n",
    "                </ul>\n",
    "            </li>\n",
    "            <li style=\"font-family:verdana;\"><b>title</b>: Title of the content\n",
    "                <ul>\n",
    "                    <li style=\"font-family:verdana;\">The Starling</li>\n",
    "                    <li style=\"font-family:verdana;\">Squid Game</li>\n",
    "                    <li style=\"font-family:verdana;\">Jaws: The Revenge</li>\n",
    "                    <li style=\"font-family:verdana;\">...</li>\n",
    "                </ul>\n",
    "            </li>\n",
    "            <li style=\"font-family:verdana;\"><b>director</b>: Name of the director for that movie or show\n",
    "                <ul>\n",
    "                    <li style=\"font-family:verdana;\">Steven Spielberg</li>\n",
    "                    <li style=\"font-family:verdana;\">Cédric Jimenez</li>\n",
    "                    <li style=\"font-family:verdana;\">Hirotsugu Kawasaki</li>\n",
    "                    <li style=\"font-family:verdana;\">...</li>\n",
    "                </ul>\n",
    "            </li>\n",
    "            <li style=\"font-family:verdana;\"><b>cast</b>: Names of the cast for that movie or show\n",
    "                <ul>\n",
    "                    <li style=\"font-family:verdana;\">Ama Qamata, Khosi Ngema, Gail Mabalane, Thabang Molaba, Dillon Windvogel, Natasha Thahane...</li>\n",
    "                    <li style=\"font-family:verdana;\">Antti Pääkkönen, Heljä Heikkinen, Lynne Guaglione, Pasi Ruohonen, Rauno Ahonen...</li>\n",
    "                    <li style=\"font-family:verdana;\">Luna Wedler, Jannis Niewöhner, Milan Peschel, Edin Hasanović...</li>\n",
    "                    <li style=\"font-family:verdana;\">...</li>\n",
    "                </ul>\n",
    "            </li>\n",
    "            <li style=\"font-family:verdana;\"><b>country</b>: List of countries in which the content is available\n",
    "                <ul>\n",
    "                    <li style=\"font-family:verdana;\">United States, South Africa, India...</li>\n",
    "                    <li style=\"font-family:verdana;\">United States, United Kingdom, Canada, Germany...</li>\n",
    "                    <li style=\"font-family:verdana;\">Canada, France, Japan, Russia...</li>\n",
    "                    <li style=\"font-family:verdana;\">...</li>\n",
    "                </ul>\n",
    "            </li>\n",
    "            <li style=\"font-family:verdana;\"><b>date_added</b>: The date the content was added\n",
    "                <ul>\n",
    "                    <li style=\"font-family:verdana;\">September 25, 2021</li>\n",
    "                    <li style=\"font-family:verdana;\">September 22, 2021</li>\n",
    "                    <li style=\"font-family:verdana;\">August 23, 2021</li>\n",
    "                    <li style=\"font-family:verdana;\">...</li>\n",
    "                </ul>\n",
    "            </li>\n",
    "            <li style=\"font-family:verdana;\"><b>release_year</b>: Release year of the content\n",
    "                <ul>\n",
    "                    <li style=\"font-family:verdana;\">2020</li>\n",
    "                    <li style=\"font-family:verdana;\">2014</li>\n",
    "                    <li style=\"font-family:verdana;\">2006</li>\n",
    "                    <li style=\"font-family:verdana;\">...</li>\n",
    "                </ul>\n",
    "            </li>\n",
    "            <li style=\"font-family:verdana;\"><b>rating</b>: Motion picture content rating\n",
    "                <ul>\n",
    "                    <li style=\"font-family:verdana;\">PG-13</li>\n",
    "                    <li style=\"font-family:verdana;\">TV-14</li>\n",
    "                    <li style=\"font-family:verdana;\">R</li>\n",
    "                    <li style=\"font-family:verdana;\">...</li>\n",
    "                </ul>\n",
    "            </li>\n",
    "            <li style=\"font-family:verdana;\"><b>duration</b>: Total duration of the content\n",
    "                <ul>\n",
    "                    <li style=\"font-family:verdana;\">90 min</li>\n",
    "                    <li style=\"font-family:verdana;\">2 seasons</li>\n",
    "                    <li style=\"font-family:verdana;\">48 min</li>\n",
    "                    <li style=\"font-family:verdana;\">...</li>\n",
    "                </ul>\n",
    "            </li>\n",
    "            <li style=\"font-family:verdana;\"><b>listed_in</b>: List of categories where content is listed\n",
    "                <ul>\n",
    "                    <li style=\"font-family:verdana;\">Documentaries, International TV Shows, TV Dramas, TV Mysteries...</li>\n",
    "                    <li style=\"font-family:verdana;\">Comedies, Dramas, International Movies...</li>\n",
    "                    <li style=\"font-family:verdana;\">Documentaries, TV Dramas, Comedies...</li>\n",
    "                    <li style=\"font-family:verdana;\">...</li>\n",
    "                </ul>\n",
    "            </li>\n",
    "            <li style=\"font-family:verdana;\"><b>description</b>: Short description about the content\n",
    "                <ul>\n",
    "                    <li style=\"font-family:verdana;\">As her father nears the end of his life, filmmaker Kirsten Johnson stages his death in inventive and comical ways to help them both face the inevitable</li>\n",
    "                    <li style=\"font-family:verdana;\">After crossing paths at a party, a Cape Town teen sets out to prove whether a private-school swimming star is her sister who was abducted at birth</li>\n",
    "                    <li style=\"font-family:verdana;\">Tayo speeds into an adventure when his friends get kidnapped by evil magicians invading their city in search of a magical gemstone</li>\n",
    "                    <li style=\"font-family:verdana;\">...</li>\n",
    "                </ul>\n",
    "            </li>\n",
    "        </ol>\n",
    "    </div>\n",
    "</body>"
   ]
  },
  {
   "cell_type": "markdown",
   "id": "46fa5d45",
   "metadata": {
    "papermill": {
     "duration": 0.011077,
     "end_time": "2022-09-25T18:53:17.418192",
     "exception": false,
     "start_time": "2022-09-25T18:53:17.407115",
     "status": "completed"
    },
    "tags": []
   },
   "source": [
    "<div id=\"checking-null-values\"\n",
    "     style = \"display: fill;\n",
    "              border-radius: 10px;\n",
    "              background-color: #E50914;\">\n",
    "    <h3 style = \"padding: 15px; \n",
    "                 color: White;\n",
    "                 text-align: left;\n",
    "                 font-family: Trebuchet MS;\">3.1 Checking Null Values\n",
    "    </h3>\n",
    "</div>\n",
    "\n",
    "<body>\n",
    "    <div style=\"background-color: #FF6A74;\n",
    "                border: 2px solid;\n",
    "                border-radius: 10px;\n",
    "                padding-top: 10px;\n",
    "                padding-bottom: 10px;\n",
    "                padding-right: 20px;\n",
    "                padding-left: 20px;\n",
    "                border-color: #FF1100;\"> \n",
    "        <p></p>\n",
    "        <p style=\"font-family:verdana;\">Let's first check if there are any null values in the dataset.</p>\n",
    "    </div>\n",
    "</body>"
   ]
  },
  {
   "cell_type": "code",
   "execution_count": 4,
   "id": "4b4a504a",
   "metadata": {
    "execution": {
     "iopub.execute_input": "2022-09-25T18:53:17.443724Z",
     "iopub.status.busy": "2022-09-25T18:53:17.442482Z",
     "iopub.status.idle": "2022-09-25T18:53:17.458867Z",
     "shell.execute_reply": "2022-09-25T18:53:17.457601Z"
    },
    "papermill": {
     "duration": 0.031554,
     "end_time": "2022-09-25T18:53:17.461202",
     "exception": false,
     "start_time": "2022-09-25T18:53:17.429648",
     "status": "completed"
    },
    "tags": []
   },
   "outputs": [
    {
     "data": {
      "text/plain": [
       "director        2634\n",
       "country          831\n",
       "cast             825\n",
       "date_added        10\n",
       "rating             4\n",
       "duration           3\n",
       "show_id            0\n",
       "type               0\n",
       "title              0\n",
       "release_year       0\n",
       "listed_in          0\n",
       "description        0\n",
       "dtype: int64"
      ]
     },
     "execution_count": 4,
     "metadata": {},
     "output_type": "execute_result"
    }
   ],
   "source": [
    "df.isna().sum().sort_values(ascending=False)"
   ]
  },
  {
   "cell_type": "markdown",
   "id": "9f3f6dff",
   "metadata": {
    "papermill": {
     "duration": 0.011139,
     "end_time": "2022-09-25T18:53:17.483944",
     "exception": false,
     "start_time": "2022-09-25T18:53:17.472805",
     "status": "completed"
    },
    "tags": []
   },
   "source": [
    "<body>\n",
    "    <div style=\"background-color: #FF6A74;\n",
    "                border: 2px solid;\n",
    "                border-radius: 10px;\n",
    "                padding-top: 10px;\n",
    "                padding-bottom: 10px;\n",
    "                padding-right: 20px;\n",
    "                padding-left: 20px;\n",
    "                border-color: #FF1100;\"> \n",
    "        <p></p>\n",
    "        <p style=\"font-family:verdana;\">Let's first check if there are any null values in the dataset.</p>\n",
    "        <ul>\n",
    "            <li style=\"font-family:verdana;\">There are small amount of null values in the <b>date_added</b>, <b>rating</b>, <b>duration</b> columns.</li>\n",
    "            <li style=\"font-family:verdana;\">Meanwhile, there are large amount of null values in the <b>country</b>, <b>cast</b>, <b>director</b> columns.</li>\n",
    "        </ul>\n",
    "    </div>\n",
    "</body>"
   ]
  },
  {
   "cell_type": "markdown",
   "id": "b3a421ab",
   "metadata": {
    "papermill": {
     "duration": 0.011335,
     "end_time": "2022-09-25T18:53:17.506877",
     "exception": false,
     "start_time": "2022-09-25T18:53:17.495542",
     "status": "completed"
    },
    "tags": []
   },
   "source": [
    "<div id=\"optimizing-the-dataset\"\n",
    "     style = \"display: fill;\n",
    "              border-radius: 10px;\n",
    "              background-color: #E50914;\">\n",
    "    <h3 style = \"padding: 15px; \n",
    "                 color: White;\n",
    "                 text-align: left;\n",
    "                 font-family: Trebuchet MS;\">3.2 Optimizing the Dataset\n",
    "    </h3>\n",
    "</div>\n",
    "\n",
    "<body>\n",
    "    <div style=\"background-color: #FF6A74;\n",
    "                border: 2px solid;\n",
    "                padding-top: 10px;\n",
    "                padding-bottom: 10px;\n",
    "                padding-right: 20px;\n",
    "                padding-left: 20px;\n",
    "                border-radius: 10px;\n",
    "                border-color: #FF1100;\"> \n",
    "        <p></p>\n",
    "        <p style=\"font-family:verdana;\">Many of the features are <b>object</b> type. We can convert those features into more specific and compact types to save memory and increase efficiency.</p>\n",
    "    </div>\n",
    "</body>\n"
   ]
  },
  {
   "cell_type": "code",
   "execution_count": 5,
   "id": "4ef0d1de",
   "metadata": {
    "execution": {
     "iopub.execute_input": "2022-09-25T18:53:17.531665Z",
     "iopub.status.busy": "2022-09-25T18:53:17.531215Z",
     "iopub.status.idle": "2022-09-25T18:53:17.562589Z",
     "shell.execute_reply": "2022-09-25T18:53:17.561389Z"
    },
    "papermill": {
     "duration": 0.046655,
     "end_time": "2022-09-25T18:53:17.565129",
     "exception": false,
     "start_time": "2022-09-25T18:53:17.518474",
     "status": "completed"
    },
    "tags": []
   },
   "outputs": [
    {
     "name": "stdout",
     "output_type": "stream",
     "text": [
      "<class 'pandas.core.frame.DataFrame'>\n",
      "RangeIndex: 8807 entries, 0 to 8806\n",
      "Data columns (total 12 columns):\n",
      " #   Column        Non-Null Count  Dtype \n",
      "---  ------        --------------  ----- \n",
      " 0   show_id       8807 non-null   object\n",
      " 1   type          8807 non-null   object\n",
      " 2   title         8807 non-null   object\n",
      " 3   director      6173 non-null   object\n",
      " 4   cast          7982 non-null   object\n",
      " 5   country       7976 non-null   object\n",
      " 6   date_added    8797 non-null   object\n",
      " 7   release_year  8807 non-null   int64 \n",
      " 8   rating        8803 non-null   object\n",
      " 9   duration      8804 non-null   object\n",
      " 10  listed_in     8807 non-null   object\n",
      " 11  description   8807 non-null   object\n",
      "dtypes: int64(1), object(11)\n",
      "memory usage: 825.8+ KB\n"
     ]
    }
   ],
   "source": [
    "df.info()"
   ]
  },
  {
   "cell_type": "markdown",
   "id": "747d4a4f",
   "metadata": {
    "papermill": {
     "duration": 0.011195,
     "end_time": "2022-09-25T18:53:17.588035",
     "exception": false,
     "start_time": "2022-09-25T18:53:17.576840",
     "status": "completed"
    },
    "tags": []
   },
   "source": [
    "<body>\n",
    "    <div style=\"background-color: #FF6A74;\n",
    "                border: 2px solid;\n",
    "                border-radius: 10px;\n",
    "                padding-top: 10px;\n",
    "                padding-bottom: 10px;\n",
    "                padding-right: 20px;\n",
    "                padding-left: 20px;\n",
    "                border-color: #FF1100;\"> \n",
    "        <p></p>\n",
    "        <p style=\"font-family:verdana;\">Let's first check the number of unique values for each feature to make the conversion process easier..</p>\n",
    "    </div>\n",
    "</body>"
   ]
  },
  {
   "cell_type": "code",
   "execution_count": 6,
   "id": "36949554",
   "metadata": {
    "_kg_hide-input": true,
    "execution": {
     "iopub.execute_input": "2022-09-25T18:53:17.612910Z",
     "iopub.status.busy": "2022-09-25T18:53:17.612494Z",
     "iopub.status.idle": "2022-09-25T18:53:17.648928Z",
     "shell.execute_reply": "2022-09-25T18:53:17.647655Z"
    },
    "papermill": {
     "duration": 0.052064,
     "end_time": "2022-09-25T18:53:17.651656",
     "exception": false,
     "start_time": "2022-09-25T18:53:17.599592",
     "status": "completed"
    },
    "tags": []
   },
   "outputs": [
    {
     "data": {
      "text/html": [
       "<div>\n",
       "<style scoped>\n",
       "    .dataframe tbody tr th:only-of-type {\n",
       "        vertical-align: middle;\n",
       "    }\n",
       "\n",
       "    .dataframe tbody tr th {\n",
       "        vertical-align: top;\n",
       "    }\n",
       "\n",
       "    .dataframe thead th {\n",
       "        text-align: right;\n",
       "    }\n",
       "</style>\n",
       "<table border=\"1\" class=\"dataframe\">\n",
       "  <thead>\n",
       "    <tr style=\"text-align: right;\">\n",
       "      <th></th>\n",
       "      <th>show_id</th>\n",
       "      <th>title</th>\n",
       "      <th>description</th>\n",
       "      <th>cast</th>\n",
       "      <th>director</th>\n",
       "      <th>date_added</th>\n",
       "      <th>country</th>\n",
       "      <th>listed_in</th>\n",
       "      <th>duration</th>\n",
       "      <th>release_year</th>\n",
       "      <th>rating</th>\n",
       "      <th>type</th>\n",
       "    </tr>\n",
       "  </thead>\n",
       "  <tbody>\n",
       "    <tr>\n",
       "      <th>count</th>\n",
       "      <td>8807</td>\n",
       "      <td>8807</td>\n",
       "      <td>8775</td>\n",
       "      <td>7692</td>\n",
       "      <td>4528</td>\n",
       "      <td>1767</td>\n",
       "      <td>748</td>\n",
       "      <td>514</td>\n",
       "      <td>220</td>\n",
       "      <td>74</td>\n",
       "      <td>17</td>\n",
       "      <td>2</td>\n",
       "    </tr>\n",
       "  </tbody>\n",
       "</table>\n",
       "</div>"
      ],
      "text/plain": [
       "       show_id  title  description  cast  director  date_added  country  \\\n",
       "count     8807   8807         8775  7692      4528        1767      748   \n",
       "\n",
       "       listed_in  duration  release_year  rating  type  \n",
       "count        514       220            74      17     2  "
      ]
     },
     "execution_count": 6,
     "metadata": {},
     "output_type": "execute_result"
    }
   ],
   "source": [
    "number_of_unique_values = {}\n",
    "\n",
    "for i in df.columns:\n",
    "    number_of_unique_values[i] = df[i].nunique()\n",
    "    \n",
    "number_of_unique_values = {k:v for k,v in sorted(number_of_unique_values.items(), \n",
    "                                                 key=lambda x: x[1],\n",
    "                                                 reverse=True)}\n",
    "\n",
    "unique_values_df = pd.DataFrame.from_dict(data=number_of_unique_values, \n",
    "                                          orient=\"index\", \n",
    "                                          columns=[\"count\"]).T\n",
    "unique_values_df "
   ]
  },
  {
   "cell_type": "markdown",
   "id": "aae00431",
   "metadata": {
    "papermill": {
     "duration": 0.011444,
     "end_time": "2022-09-25T18:53:17.675434",
     "exception": false,
     "start_time": "2022-09-25T18:53:17.663990",
     "status": "completed"
    },
    "tags": []
   },
   "source": [
    "<body>\n",
    "    <div style=\"background-color: #FF6A74;\n",
    "                border: 2px solid;\n",
    "                border-radius: 10px;\n",
    "                padding-top: 10px;\n",
    "                padding-bottom: 10px;\n",
    "                padding-right: 20px;\n",
    "                padding-left: 20px;\n",
    "                border-color: #FF1100;\"> \n",
    "        <p></p>\n",
    "        <p style=\"font-family:verdana;\">Some of the columns contain less unique values. These will be the ones that we do conversion on them. Columns that contain less unique values:</p>\n",
    "        <ul>\n",
    "            <li><b>type</b></li>\n",
    "            <li><b>release_year</b></li>\n",
    "            <li><b>rating</b></li>\n",
    "        </ul>         \n",
    "        <p style=\"font-family:verdana;\">Other interesting features are <b>show_id</b>, <b>title</b>, and <b>description</b>. They contain unique values for each row. I will check them first to see what is going.</p>\n",
    "    </div>\n",
    "</body>\n",
    "\n"
   ]
  },
  {
   "cell_type": "code",
   "execution_count": 7,
   "id": "14f75c10",
   "metadata": {
    "_kg_hide-input": false,
    "execution": {
     "iopub.execute_input": "2022-09-25T18:53:17.701279Z",
     "iopub.status.busy": "2022-09-25T18:53:17.700015Z",
     "iopub.status.idle": "2022-09-25T18:53:17.709365Z",
     "shell.execute_reply": "2022-09-25T18:53:17.708186Z"
    },
    "papermill": {
     "duration": 0.024749,
     "end_time": "2022-09-25T18:53:17.711782",
     "exception": false,
     "start_time": "2022-09-25T18:53:17.687033",
     "status": "completed"
    },
    "tags": []
   },
   "outputs": [
    {
     "name": "stdout",
     "output_type": "stream",
     "text": [
      "Number of unique values: 8807\n",
      "['s1' 's2' 's3' ... 's8805' 's8806' 's8807']\n"
     ]
    }
   ],
   "source": [
    "print(f'Number of unique values: {df[\"show_id\"].nunique()}')\n",
    "print(df[\"show_id\"].unique())"
   ]
  },
  {
   "cell_type": "markdown",
   "id": "c93edca8",
   "metadata": {
    "papermill": {
     "duration": 0.011423,
     "end_time": "2022-09-25T18:53:17.734953",
     "exception": false,
     "start_time": "2022-09-25T18:53:17.723530",
     "status": "completed"
    },
    "tags": []
   },
   "source": [
    "<body>\n",
    "    <div style=\"background-color: #FF6A74;\n",
    "                border: 2px solid;\n",
    "                border-radius: 10px;\n",
    "                padding-top: 10px;\n",
    "                padding-bottom: 10px;\n",
    "                padding-right: 20px;\n",
    "                padding-left: 20px;\n",
    "                border-color: #FF1100;\"> \n",
    "        <p></p>\n",
    "        <p style=\"font-family:verdana;\">There is a unique value for each show. I don't understand the point of this feature. It only contains the values starting from 1 to 8807 which is basically an index for every row. The problem is that we already have that information stored in our dataframe so, I will remove this feature because it doesn't contain any valuable information for the analysis.</p>\n",
    "    </div>\n",
    "</body>"
   ]
  },
  {
   "cell_type": "code",
   "execution_count": 8,
   "id": "df477eae",
   "metadata": {
    "execution": {
     "iopub.execute_input": "2022-09-25T18:53:17.760720Z",
     "iopub.status.busy": "2022-09-25T18:53:17.760289Z",
     "iopub.status.idle": "2022-09-25T18:53:17.768160Z",
     "shell.execute_reply": "2022-09-25T18:53:17.767311Z"
    },
    "papermill": {
     "duration": 0.02384,
     "end_time": "2022-09-25T18:53:17.770572",
     "exception": false,
     "start_time": "2022-09-25T18:53:17.746732",
     "status": "completed"
    },
    "tags": []
   },
   "outputs": [],
   "source": [
    "df.drop(labels=\"show_id\", axis=1, inplace=True)"
   ]
  },
  {
   "cell_type": "code",
   "execution_count": 9,
   "id": "ce7f5399",
   "metadata": {
    "_kg_hide-input": false,
    "execution": {
     "iopub.execute_input": "2022-09-25T18:53:17.796337Z",
     "iopub.status.busy": "2022-09-25T18:53:17.795289Z",
     "iopub.status.idle": "2022-09-25T18:53:17.806820Z",
     "shell.execute_reply": "2022-09-25T18:53:17.805527Z"
    },
    "papermill": {
     "duration": 0.026917,
     "end_time": "2022-09-25T18:53:17.809199",
     "exception": false,
     "start_time": "2022-09-25T18:53:17.782282",
     "status": "completed"
    },
    "tags": []
   },
   "outputs": [
    {
     "name": "stdout",
     "output_type": "stream",
     "text": [
      "Number of unique values: 8807\n",
      "['Dick Johnson Is Dead' 'Blood & Water' 'Ganglands' ... 'Zombieland'\n",
      " 'Zoom' 'Zubaan']\n"
     ]
    }
   ],
   "source": [
    "print(f'Number of unique values: {df[\"title\"].nunique()}')\n",
    "print(df[\"title\"].unique())"
   ]
  },
  {
   "cell_type": "markdown",
   "id": "b06029d8",
   "metadata": {
    "papermill": {
     "duration": 0.011478,
     "end_time": "2022-09-25T18:53:17.832449",
     "exception": false,
     "start_time": "2022-09-25T18:53:17.820971",
     "status": "completed"
    },
    "tags": []
   },
   "source": [
    "<body>\n",
    "    <div style=\"background-color: #FF6A74;\n",
    "                border: 2px solid;\n",
    "                border-radius: 10px;\n",
    "                padding-top: 10px;\n",
    "                padding-bottom: 10px;\n",
    "                padding-right: 20px;\n",
    "                padding-left: 20px;\n",
    "                border-color: #FF1100;\"> \n",
    "        <p></p>\n",
    "        <p style=\"font-family:verdana;\">Similar to <b>show_id</b>, this column also contains unique values for each show but the difference is that these values are not just integers like an index value. These values contain the name of the each show which is probably will be used in the analysis. Therefore, I will not remove this feature.</p>\n",
    "    </div>\n",
    "</body>"
   ]
  },
  {
   "cell_type": "code",
   "execution_count": 10,
   "id": "6e323b4d",
   "metadata": {
    "_kg_hide-input": false,
    "execution": {
     "iopub.execute_input": "2022-09-25T18:53:17.857955Z",
     "iopub.status.busy": "2022-09-25T18:53:17.857261Z",
     "iopub.status.idle": "2022-09-25T18:53:17.875633Z",
     "shell.execute_reply": "2022-09-25T18:53:17.873098Z"
    },
    "papermill": {
     "duration": 0.034835,
     "end_time": "2022-09-25T18:53:17.878883",
     "exception": false,
     "start_time": "2022-09-25T18:53:17.844048",
     "status": "completed"
    },
    "tags": []
   },
   "outputs": [
    {
     "name": "stdout",
     "output_type": "stream",
     "text": [
      "Number of unique values: 8775\n",
      "['As her father nears the end of his life, filmmaker Kirsten Johnson stages his death in inventive and comical ways to help them both face the inevitable.'\n",
      " 'After crossing paths at a party, a Cape Town teen sets out to prove whether a private-school swimming star is her sister who was abducted at birth.'\n",
      " 'To protect his family from a powerful drug lord, skilled thief Mehdi and his expert team of robbers are pulled into a violent and deadly turf war.'\n",
      " ...\n",
      " 'Looking to survive in a world taken over by zombies, a dorky college student teams with an urban roughneck and a pair of grifter sisters.'\n",
      " 'Dragged from civilian life, a former superhero must train a new crop of youthful saviors when the military preps for an attack by a familiar villain.'\n",
      " \"A scrappy but poor boy worms his way into a tycoon's dysfunctional family, while facing his fear of music and the truth about his past.\"]\n"
     ]
    }
   ],
   "source": [
    "print(f'Number of unique values: {df[\"description\"].nunique()}')\n",
    "print(df[\"description\"].unique())"
   ]
  },
  {
   "cell_type": "markdown",
   "id": "b4354b1b",
   "metadata": {
    "papermill": {
     "duration": 0.011415,
     "end_time": "2022-09-25T18:53:17.903160",
     "exception": false,
     "start_time": "2022-09-25T18:53:17.891745",
     "status": "completed"
    },
    "tags": []
   },
   "source": [
    "<body>\n",
    "    <div style=\"background-color: #FF6A74;\n",
    "                border: 2px solid;\n",
    "                border-radius: 10px;\n",
    "                padding-top: 10px;\n",
    "                padding-bottom: 10px;\n",
    "                padding-right: 20px;\n",
    "                padding-left: 20px;\n",
    "                border-color: #FF1100;\"> \n",
    "        <p></p>\n",
    "        <p style=\"font-family:verdana;\">Similar to <b>title</b>, this column also contains unique values for each show. These values contain the short description of the each show which we may use it in the analysis. Therefore, I will not remove this feature.</p>\n",
    "    </div>\n",
    "</body>"
   ]
  },
  {
   "cell_type": "code",
   "execution_count": 11,
   "id": "d6d3bc9b",
   "metadata": {
    "_kg_hide-input": false,
    "execution": {
     "iopub.execute_input": "2022-09-25T18:53:17.928999Z",
     "iopub.status.busy": "2022-09-25T18:53:17.928021Z",
     "iopub.status.idle": "2022-09-25T18:53:17.936573Z",
     "shell.execute_reply": "2022-09-25T18:53:17.935057Z"
    },
    "papermill": {
     "duration": 0.02386,
     "end_time": "2022-09-25T18:53:17.938886",
     "exception": false,
     "start_time": "2022-09-25T18:53:17.915026",
     "status": "completed"
    },
    "tags": []
   },
   "outputs": [
    {
     "name": "stdout",
     "output_type": "stream",
     "text": [
      "Number of unique values: 2\n",
      "['Movie' 'TV Show']\n"
     ]
    }
   ],
   "source": [
    "print(f'Number of unique values: {df[\"type\"].nunique()}')\n",
    "print(df[\"type\"].unique())"
   ]
  },
  {
   "cell_type": "markdown",
   "id": "cad2f4a8",
   "metadata": {
    "papermill": {
     "duration": 0.011463,
     "end_time": "2022-09-25T18:53:17.962262",
     "exception": false,
     "start_time": "2022-09-25T18:53:17.950799",
     "status": "completed"
    },
    "tags": []
   },
   "source": [
    "<body>\n",
    "    <div style=\"background-color: #FF6A74;\n",
    "                border: 2px solid;\n",
    "                border-radius: 10px;\n",
    "                padding-top: 10px;\n",
    "                padding-bottom: 10px;\n",
    "                padding-right: 20px;\n",
    "                padding-left: 20px;\n",
    "                border-color: #FF1100;\"> \n",
    "        <p></p>\n",
    "        <p style=\"font-family:verdana;\">There are only two unique values in the <b>type</b> column. These are essentially used to categorize the content into <b>Movie</b> or <b>TV-Show</b>. I will convert this feature into <b>category</b> type.</p>\n",
    "    </div>\n",
    "</body>"
   ]
  },
  {
   "cell_type": "code",
   "execution_count": 12,
   "id": "9a8e27b3",
   "metadata": {
    "execution": {
     "iopub.execute_input": "2022-09-25T18:53:17.988190Z",
     "iopub.status.busy": "2022-09-25T18:53:17.987582Z",
     "iopub.status.idle": "2022-09-25T18:53:17.996056Z",
     "shell.execute_reply": "2022-09-25T18:53:17.994811Z"
    },
    "papermill": {
     "duration": 0.024476,
     "end_time": "2022-09-25T18:53:17.998657",
     "exception": false,
     "start_time": "2022-09-25T18:53:17.974181",
     "status": "completed"
    },
    "tags": []
   },
   "outputs": [],
   "source": [
    "df[\"type\"] = df[\"type\"].astype(\"category\")"
   ]
  },
  {
   "cell_type": "code",
   "execution_count": 13,
   "id": "d2847c86",
   "metadata": {
    "_kg_hide-input": false,
    "execution": {
     "iopub.execute_input": "2022-09-25T18:53:18.024736Z",
     "iopub.status.busy": "2022-09-25T18:53:18.024036Z",
     "iopub.status.idle": "2022-09-25T18:53:18.031767Z",
     "shell.execute_reply": "2022-09-25T18:53:18.030145Z"
    },
    "papermill": {
     "duration": 0.023217,
     "end_time": "2022-09-25T18:53:18.033992",
     "exception": false,
     "start_time": "2022-09-25T18:53:18.010775",
     "status": "completed"
    },
    "tags": []
   },
   "outputs": [
    {
     "name": "stdout",
     "output_type": "stream",
     "text": [
      "Number of unique values: 74\n",
      "[2020 2021 1993 2018 1996 1998 1997 2010 2013 2017 1975 1978 1983 1987\n",
      " 2012 2001 2014 2002 2003 2004 2011 2008 2009 2007 2005 2006 1994 2015\n",
      " 2019 2016 1982 1989 1990 1991 1999 1986 1992 1984 1980 1961 2000 1995\n",
      " 1985 1976 1959 1988 1981 1972 1964 1945 1954 1979 1958 1956 1963 1970\n",
      " 1973 1925 1974 1960 1966 1971 1962 1969 1977 1967 1968 1965 1946 1942\n",
      " 1955 1944 1947 1943]\n"
     ]
    }
   ],
   "source": [
    "print(f'Number of unique values: {df[\"release_year\"].nunique()}')\n",
    "print(df[\"release_year\"].unique())"
   ]
  },
  {
   "cell_type": "markdown",
   "id": "553653f2",
   "metadata": {
    "papermill": {
     "duration": 0.011692,
     "end_time": "2022-09-25T18:53:18.058316",
     "exception": false,
     "start_time": "2022-09-25T18:53:18.046624",
     "status": "completed"
    },
    "tags": []
   },
   "source": [
    "<body>\n",
    "    <div style=\"background-color: #FF6A74;\n",
    "                border: 2px solid;\n",
    "                border-radius: 10px;\n",
    "                padding-top: 10px;\n",
    "                padding-bottom: 10px;\n",
    "                padding-right: 20px;\n",
    "                padding-left: 20px;\n",
    "                border-color: #FF1100;\"> \n",
    "        <p></p>\n",
    "        <p style=\"font-family:verdana;\">There are 74 unique values in the <b>release_year</b> column. Also, these are integer values. Smallest integer datatype that can hold these values is <b>int16</b>.</p>\n",
    "    </div>\n",
    "</body>"
   ]
  },
  {
   "cell_type": "code",
   "execution_count": 14,
   "id": "059b74dd",
   "metadata": {
    "execution": {
     "iopub.execute_input": "2022-09-25T18:53:18.084115Z",
     "iopub.status.busy": "2022-09-25T18:53:18.083740Z",
     "iopub.status.idle": "2022-09-25T18:53:18.089817Z",
     "shell.execute_reply": "2022-09-25T18:53:18.088426Z"
    },
    "papermill": {
     "duration": 0.021983,
     "end_time": "2022-09-25T18:53:18.092237",
     "exception": false,
     "start_time": "2022-09-25T18:53:18.070254",
     "status": "completed"
    },
    "tags": []
   },
   "outputs": [],
   "source": [
    "df[\"release_year\"] = df[\"release_year\"].astype(\"int16\")"
   ]
  },
  {
   "cell_type": "code",
   "execution_count": 15,
   "id": "d24ac672",
   "metadata": {
    "_kg_hide-input": false,
    "execution": {
     "iopub.execute_input": "2022-09-25T18:53:18.119495Z",
     "iopub.status.busy": "2022-09-25T18:53:18.119064Z",
     "iopub.status.idle": "2022-09-25T18:53:18.126299Z",
     "shell.execute_reply": "2022-09-25T18:53:18.125114Z"
    },
    "papermill": {
     "duration": 0.024414,
     "end_time": "2022-09-25T18:53:18.129611",
     "exception": false,
     "start_time": "2022-09-25T18:53:18.105197",
     "status": "completed"
    },
    "tags": []
   },
   "outputs": [
    {
     "name": "stdout",
     "output_type": "stream",
     "text": [
      "Number of unique values: 17\n",
      "['PG-13' 'TV-MA' 'PG' 'TV-14' 'TV-PG' 'TV-Y' 'TV-Y7' 'R' 'TV-G' 'G'\n",
      " 'NC-17' '74 min' '84 min' '66 min' 'NR' nan 'TV-Y7-FV' 'UR']\n"
     ]
    }
   ],
   "source": [
    "print(f'Number of unique values: {df[\"rating\"].nunique()}')\n",
    "print(df[\"rating\"].unique())"
   ]
  },
  {
   "cell_type": "markdown",
   "id": "47dca458",
   "metadata": {
    "papermill": {
     "duration": 0.011776,
     "end_time": "2022-09-25T18:53:18.154512",
     "exception": false,
     "start_time": "2022-09-25T18:53:18.142736",
     "status": "completed"
    },
    "tags": []
   },
   "source": [
    "<body>\n",
    "    <div style=\"background-color: #FF6A74;\n",
    "                border: 2px solid;\n",
    "                border-radius: 10px;\n",
    "                padding-top: 10px;\n",
    "                padding-bottom: 10px;\n",
    "                padding-right: 20px;\n",
    "                padding-left: 20px;\n",
    "                border-color: #FF1100;\"> \n",
    "        <p></p>\n",
    "        <p style=\"font-family:verdana;\">There are 17 unique values in the <b>rating</b> column. These values contain both integers and strings. Therefore, we will convert this column into <b>category</b> type.</p>\n",
    "    </div>\n",
    "</body>"
   ]
  },
  {
   "cell_type": "code",
   "execution_count": 16,
   "id": "a4139716",
   "metadata": {
    "execution": {
     "iopub.execute_input": "2022-09-25T18:53:18.180190Z",
     "iopub.status.busy": "2022-09-25T18:53:18.179798Z",
     "iopub.status.idle": "2022-09-25T18:53:18.188288Z",
     "shell.execute_reply": "2022-09-25T18:53:18.187259Z"
    },
    "papermill": {
     "duration": 0.023815,
     "end_time": "2022-09-25T18:53:18.190410",
     "exception": false,
     "start_time": "2022-09-25T18:53:18.166595",
     "status": "completed"
    },
    "tags": []
   },
   "outputs": [],
   "source": [
    "df[\"rating\"] = df[\"rating\"].astype(\"category\")"
   ]
  },
  {
   "cell_type": "code",
   "execution_count": 17,
   "id": "4429d0fe",
   "metadata": {
    "_kg_hide-input": false,
    "execution": {
     "iopub.execute_input": "2022-09-25T18:53:18.216549Z",
     "iopub.status.busy": "2022-09-25T18:53:18.216074Z",
     "iopub.status.idle": "2022-09-25T18:53:18.224100Z",
     "shell.execute_reply": "2022-09-25T18:53:18.222866Z"
    },
    "papermill": {
     "duration": 0.024151,
     "end_time": "2022-09-25T18:53:18.226669",
     "exception": false,
     "start_time": "2022-09-25T18:53:18.202518",
     "status": "completed"
    },
    "tags": []
   },
   "outputs": [
    {
     "name": "stdout",
     "output_type": "stream",
     "text": [
      "Number of unique values: 220\n",
      "['90 min' '2 Seasons' '1 Season' '91 min' '125 min' '9 Seasons' '104 min'\n",
      " '127 min' '4 Seasons' '67 min' '94 min' '5 Seasons' '161 min' '61 min'\n",
      " '166 min' '147 min' '103 min' '97 min' '106 min' '111 min']\n"
     ]
    }
   ],
   "source": [
    "print(f'Number of unique values: {df[\"duration\"].nunique()}')\n",
    "print(df.loc[:30, \"duration\"].unique())"
   ]
  },
  {
   "cell_type": "markdown",
   "id": "6cd8143f",
   "metadata": {
    "papermill": {
     "duration": 0.011708,
     "end_time": "2022-09-25T18:53:18.250733",
     "exception": false,
     "start_time": "2022-09-25T18:53:18.239025",
     "status": "completed"
    },
    "tags": []
   },
   "source": [
    "<body>\n",
    "    <div style=\"background-color: #FF6A74;\n",
    "                border: 2px solid;\n",
    "                border-radius: 10px;\n",
    "                padding-top: 10px;\n",
    "                padding-bottom: 10px;\n",
    "                padding-right: 20px;\n",
    "                padding-left: 20px;\n",
    "                border-color: #FF1100;\"> \n",
    "        <p></p>\n",
    "        <p style=\"font-family:verdana;\">There are 220 unique values in the <b>duration</b> column. Considering there are 8807 rows, there will be a lot of repetition. That's why I will convert it into <b>category</b> type.</p>\n",
    "    </div>\n",
    "</body>"
   ]
  },
  {
   "cell_type": "code",
   "execution_count": 18,
   "id": "57b0264d",
   "metadata": {
    "execution": {
     "iopub.execute_input": "2022-09-25T18:53:18.277028Z",
     "iopub.status.busy": "2022-09-25T18:53:18.276216Z",
     "iopub.status.idle": "2022-09-25T18:53:18.285483Z",
     "shell.execute_reply": "2022-09-25T18:53:18.284265Z"
    },
    "papermill": {
     "duration": 0.02543,
     "end_time": "2022-09-25T18:53:18.288217",
     "exception": false,
     "start_time": "2022-09-25T18:53:18.262787",
     "status": "completed"
    },
    "tags": []
   },
   "outputs": [],
   "source": [
    "df[\"duration\"] = df[\"duration\"].astype(\"category\")"
   ]
  },
  {
   "cell_type": "code",
   "execution_count": 19,
   "id": "54eb024e",
   "metadata": {
    "_kg_hide-input": false,
    "execution": {
     "iopub.execute_input": "2022-09-25T18:53:18.314275Z",
     "iopub.status.busy": "2022-09-25T18:53:18.313885Z",
     "iopub.status.idle": "2022-09-25T18:53:18.322235Z",
     "shell.execute_reply": "2022-09-25T18:53:18.321080Z"
    },
    "papermill": {
     "duration": 0.02423,
     "end_time": "2022-09-25T18:53:18.324778",
     "exception": false,
     "start_time": "2022-09-25T18:53:18.300548",
     "status": "completed"
    },
    "tags": []
   },
   "outputs": [
    {
     "name": "stdout",
     "output_type": "stream",
     "text": [
      "Number of unique values: 4528\n",
      "['Kirsten Johnson' nan 'Julien Leclercq' 'Mike Flanagan'\n",
      " 'Robert Cullen, José Luis Ucha' 'Haile Gerima' 'Andy Devonshire'\n",
      " 'Theodore Melfi' 'Kongkiat Komesiri' 'Christian Schwochow'\n",
      " 'Bruno Garotti' 'Pedro de Echave García, Pablo Azorín Williams'\n",
      " 'Adam Salky' 'Olivier Megaton']\n"
     ]
    }
   ],
   "source": [
    "print(f'Number of unique values: {df[\"director\"].nunique()}')\n",
    "print(df.loc[:20, \"director\"].unique())"
   ]
  },
  {
   "cell_type": "markdown",
   "id": "45426f9b",
   "metadata": {
    "papermill": {
     "duration": 0.0119,
     "end_time": "2022-09-25T18:53:18.348870",
     "exception": false,
     "start_time": "2022-09-25T18:53:18.336970",
     "status": "completed"
    },
    "tags": []
   },
   "source": [
    "<body>\n",
    "    <div style=\"background-color: #FF6A74;\n",
    "                border: 2px solid;\n",
    "                border-radius: 10px;\n",
    "                padding-top: 10px;\n",
    "                padding-bottom: 10px;\n",
    "                padding-right: 20px;\n",
    "                padding-left: 20px;\n",
    "                border-color: #FF1100;\"> \n",
    "        <p></p>\n",
    "        <p style=\"font-family:verdana;\">There are 4528 unique values in the <b>director</b> column. Similar to <b>duration</b> column, there are way too many unique values for the <b>category</b> type. I will not convert it into <b>category</b> type.</p>\n",
    "    </div>\n",
    "</body>"
   ]
  },
  {
   "cell_type": "code",
   "execution_count": 20,
   "id": "353674e7",
   "metadata": {
    "_kg_hide-input": false,
    "execution": {
     "iopub.execute_input": "2022-09-25T18:53:18.374891Z",
     "iopub.status.busy": "2022-09-25T18:53:18.374485Z",
     "iopub.status.idle": "2022-09-25T18:53:18.382183Z",
     "shell.execute_reply": "2022-09-25T18:53:18.380971Z"
    },
    "papermill": {
     "duration": 0.024672,
     "end_time": "2022-09-25T18:53:18.385626",
     "exception": false,
     "start_time": "2022-09-25T18:53:18.360954",
     "status": "completed"
    },
    "tags": []
   },
   "outputs": [
    {
     "name": "stdout",
     "output_type": "stream",
     "text": [
      "Number of unique values: 1767\n",
      "['September 25, 2021' 'September 24, 2021' 'September 23, 2021'\n",
      " 'September 22, 2021']\n"
     ]
    }
   ],
   "source": [
    "print(f'Number of unique values: {df[\"date_added\"].nunique()}')\n",
    "print(df.loc[:20, \"date_added\"].unique())"
   ]
  },
  {
   "cell_type": "markdown",
   "id": "bb8f8774",
   "metadata": {
    "papermill": {
     "duration": 0.011912,
     "end_time": "2022-09-25T18:53:18.410834",
     "exception": false,
     "start_time": "2022-09-25T18:53:18.398922",
     "status": "completed"
    },
    "tags": []
   },
   "source": [
    "<body>\n",
    "    <div style=\"background-color: #FF6A74;\n",
    "                border: 2px solid;\n",
    "                border-radius: 10px;\n",
    "                padding-top: 10px;\n",
    "                padding-bottom: 10px;\n",
    "                padding-right: 20px;\n",
    "                padding-left: 20px;\n",
    "                border-color: #FF1100;\"> \n",
    "        <p></p>\n",
    "        <p style=\"font-family:verdana;\">There are 1767 unique values in the <b>date_added</b> columns. We can use <b>datetime64</b> type for this column. This will helps us to sort dates easier.</p>\n",
    "    </div>\n",
    "</body>"
   ]
  },
  {
   "cell_type": "code",
   "execution_count": 21,
   "id": "5bfbff75",
   "metadata": {
    "execution": {
     "iopub.execute_input": "2022-09-25T18:53:18.437115Z",
     "iopub.status.busy": "2022-09-25T18:53:18.436712Z",
     "iopub.status.idle": "2022-09-25T18:53:18.648959Z",
     "shell.execute_reply": "2022-09-25T18:53:18.647753Z"
    },
    "papermill": {
     "duration": 0.2288,
     "end_time": "2022-09-25T18:53:18.651948",
     "exception": false,
     "start_time": "2022-09-25T18:53:18.423148",
     "status": "completed"
    },
    "tags": []
   },
   "outputs": [],
   "source": [
    "df[\"date_added\"] = df[\"date_added\"].astype(\"datetime64\")"
   ]
  },
  {
   "cell_type": "code",
   "execution_count": 22,
   "id": "3ca53726",
   "metadata": {
    "_kg_hide-input": false,
    "execution": {
     "iopub.execute_input": "2022-09-25T18:53:18.679040Z",
     "iopub.status.busy": "2022-09-25T18:53:18.678272Z",
     "iopub.status.idle": "2022-09-25T18:53:18.686994Z",
     "shell.execute_reply": "2022-09-25T18:53:18.685489Z"
    },
    "papermill": {
     "duration": 0.025463,
     "end_time": "2022-09-25T18:53:18.689767",
     "exception": false,
     "start_time": "2022-09-25T18:53:18.664304",
     "status": "completed"
    },
    "tags": []
   },
   "outputs": [
    {
     "name": "stdout",
     "output_type": "stream",
     "text": [
      "[nan\n",
      " 'Ama Qamata, Khosi Ngema, Gail Mabalane, Thabang Molaba, Dillon Windvogel, Natasha Thahane, Arno Greeff, Xolile Tshabalala, Getmore Sithole, Cindy Mahlangu, Ryle De Morny, Greteli Fincham, Sello Maake Ka-Ncube, Odwa Gwanya, Mekaila Mathys, Sandi Schultz, Duane Williams, Shamilla Miller, Patrick Mofokeng'\n",
      " 'Sami Bouajila, Tracy Gotoas, Samuel Jouy, Nabiha Akkari, Sofia Lesaffre, Salim Kechiouche, Noureddine Farihi, Geert Van Rampelberg, Bakary Diombera'\n",
      " 'Mayur More, Jitendra Kumar, Ranjan Raj, Alam Khan, Ahsaas Channa, Revathi Pillai, Urvi Singh, Arun Kumar'\n",
      " 'Kate Siegel, Zach Gilford, Hamish Linklater, Henry Thomas, Kristin Lehman, Samantha Sloyan, Igby Rigney, Rahul Kohli, Annarah Cymone, Annabeth Gish, Alex Essoe, Rahul Abburi, Matt Biedel, Michael Trucco, Crystal Balint, Louis Oliver'] \n",
      "\n",
      "['Documentaries' 'International TV Shows, TV Dramas, TV Mysteries'\n",
      " 'Crime TV Shows, International TV Shows, TV Action & Adventure'\n",
      " 'Docuseries, Reality TV'\n",
      " 'International TV Shows, Romantic TV Shows, TV Comedies'\n",
      " 'TV Dramas, TV Horror, TV Mysteries'] \n",
      "\n",
      "['United States' 'South Africa' nan 'India'] \n",
      "\n"
     ]
    }
   ],
   "source": [
    "for i in [\"cast\", \"listed_in\", \"country\"]:\n",
    "    print(df.loc[:5, i].unique(), \"\\n\")"
   ]
  },
  {
   "cell_type": "markdown",
   "id": "7f852963",
   "metadata": {
    "papermill": {
     "duration": 0.012582,
     "end_time": "2022-09-25T18:53:18.714736",
     "exception": false,
     "start_time": "2022-09-25T18:53:18.702154",
     "status": "completed"
    },
    "tags": []
   },
   "source": [
    "<body>\n",
    "    <div style=\"background-color: #FF6A74;\n",
    "                border: 2px solid;\n",
    "                border-radius: 10px;\n",
    "                padding-top: 10px;\n",
    "                padding-bottom: 10px;\n",
    "                padding-right: 20px;\n",
    "                padding-left: 20px;\n",
    "                border-color: #FF1100;\"> \n",
    "        <p></p>\n",
    "        <p style=\"font-family:verdana;\">The <b>cast</b>, <b>country</b>, and <b>listed_in</b> columns does contain list of values for each show. We can't do any conversion on this.</p>\n",
    "        <p style=\"font-family:verdana;\">We're done with the optimization. Let's check the dataframe after the conversion.</p>\n",
    "    </div>\n",
    "</body>"
   ]
  },
  {
   "cell_type": "code",
   "execution_count": 23,
   "id": "13047e43",
   "metadata": {
    "execution": {
     "iopub.execute_input": "2022-09-25T18:53:18.741459Z",
     "iopub.status.busy": "2022-09-25T18:53:18.741023Z",
     "iopub.status.idle": "2022-09-25T18:53:18.761659Z",
     "shell.execute_reply": "2022-09-25T18:53:18.759857Z"
    },
    "papermill": {
     "duration": 0.037812,
     "end_time": "2022-09-25T18:53:18.764871",
     "exception": false,
     "start_time": "2022-09-25T18:53:18.727059",
     "status": "completed"
    },
    "tags": []
   },
   "outputs": [
    {
     "name": "stdout",
     "output_type": "stream",
     "text": [
      "<class 'pandas.core.frame.DataFrame'>\n",
      "RangeIndex: 8807 entries, 0 to 8806\n",
      "Data columns (total 11 columns):\n",
      " #   Column        Non-Null Count  Dtype         \n",
      "---  ------        --------------  -----         \n",
      " 0   type          8807 non-null   category      \n",
      " 1   title         8807 non-null   object        \n",
      " 2   director      6173 non-null   object        \n",
      " 3   cast          7982 non-null   object        \n",
      " 4   country       7976 non-null   object        \n",
      " 5   date_added    8797 non-null   datetime64[ns]\n",
      " 6   release_year  8807 non-null   int16         \n",
      " 7   rating        8803 non-null   category      \n",
      " 8   duration      8804 non-null   category      \n",
      " 9   listed_in     8807 non-null   object        \n",
      " 10  description   8807 non-null   object        \n",
      "dtypes: category(3), datetime64[ns](1), int16(1), object(6)\n",
      "memory usage: 544.0+ KB\n"
     ]
    }
   ],
   "source": [
    "df.info()"
   ]
  },
  {
   "cell_type": "markdown",
   "id": "db20bf02",
   "metadata": {
    "papermill": {
     "duration": 0.012018,
     "end_time": "2022-09-25T18:53:18.789711",
     "exception": false,
     "start_time": "2022-09-25T18:53:18.777693",
     "status": "completed"
    },
    "tags": []
   },
   "source": [
    "<body>\n",
    "    <div style=\"background-color: #FF6A74;\n",
    "                border: 2px solid;\n",
    "                border-radius: 10px;\n",
    "                padding-top: 10px;\n",
    "                padding-bottom: 10px;\n",
    "                padding-right: 20px;\n",
    "                padding-left: 20px;\n",
    "                border-color: #FF1100;\"> \n",
    "        <ul>\n",
    "            <li style=\"font-family:verdana;\">Before the optimization, dataset had a memory usage of <b>825.8+ KB</b>.</li>\n",
    "            <li style=\"font-family:verdana;\">After the optimization, dataset have a memory usage of <b>514.4+ KB</b>.</li>\n",
    "            <li style=\"font-family:verdana;\">We lowered the memory usage by almost <b>38%</b>.</li>\n",
    "        </ul>\n",
    "        <p style=\"font-family:verdana;\">The <b>cast</b> and <b>listed_in</b> columns does contain list of values for each show. We can't do any conversion on this.</p>\n",
    "        <p style=\"font-family:verdana;\">We're done with the optimization. Let's check the dataframe after the conversion.</p>\n",
    "    </div>\n",
    "</body>"
   ]
  },
  {
   "cell_type": "markdown",
   "id": "57e33850",
   "metadata": {
    "papermill": {
     "duration": 0.012284,
     "end_time": "2022-09-25T18:53:18.814715",
     "exception": false,
     "start_time": "2022-09-25T18:53:18.802431",
     "status": "completed"
    },
    "tags": []
   },
   "source": [
    "<div id=\"exploratory-data-analysis\"\n",
    "     style = \"display: fill;\n",
    "              border-radius: 10px;\n",
    "              background-color: #E50914;\">\n",
    "    <h2 style = \"padding: 15px; \n",
    "                 color: White;\n",
    "                 text-align: left;\n",
    "                 font-family: Trebuchet MS;\">4. Exploratory Data Analysis\n",
    "    </h2>\n",
    "</div>"
   ]
  },
  {
   "cell_type": "markdown",
   "id": "d8988bd7",
   "metadata": {
    "papermill": {
     "duration": 0.012204,
     "end_time": "2022-09-25T18:53:18.839253",
     "exception": false,
     "start_time": "2022-09-25T18:53:18.827049",
     "status": "completed"
    },
    "tags": []
   },
   "source": [
    "<div id=\"univariate-analysis\"\n",
    "     style = \"display: fill;\n",
    "              border-radius: 10px;\n",
    "              background-color: #E50914;\">\n",
    "    <h3 style = \"padding: 15px; \n",
    "                 color: White;\n",
    "                 text-align: left;\n",
    "                 font-family: Trebuchet MS;\">4.1 Univariate Analysis\n",
    "    </h3>\n",
    "</div>"
   ]
  },
  {
   "cell_type": "markdown",
   "id": "b0276313",
   "metadata": {
    "papermill": {
     "duration": 0.011985,
     "end_time": "2022-09-25T18:53:18.863578",
     "exception": false,
     "start_time": "2022-09-25T18:53:18.851593",
     "status": "completed"
    },
    "tags": []
   },
   "source": [
    "<body>\n",
    "    <div style=\"background-color: #FF6A74;\n",
    "                border: 2px solid;\n",
    "                border-radius: 10px;\n",
    "                padding-top: 10px;\n",
    "                padding-bottom: 10px;\n",
    "                padding-right: 20px;\n",
    "                padding-left: 20px;\n",
    "                border-color: #FF1100;\"> \n",
    "        <p></p>\n",
    "        <p style=\"font-family:verdana;\">So far, we learned that some of the features have unique values for each row. That's why there is no point of analyzing them individually. For this part, we will only analyze the <b>type</b>, <b>country</b>, <b>release_year</b>, and <b>rating</b> features.</p>\n",
    "    </div>\n",
    "</body>"
   ]
  },
  {
   "cell_type": "code",
   "execution_count": 24,
   "id": "b385e0d7",
   "metadata": {
    "execution": {
     "iopub.execute_input": "2022-09-25T18:53:18.891426Z",
     "iopub.status.busy": "2022-09-25T18:53:18.890449Z",
     "iopub.status.idle": "2022-09-25T18:53:18.904500Z",
     "shell.execute_reply": "2022-09-25T18:53:18.903265Z"
    },
    "papermill": {
     "duration": 0.030929,
     "end_time": "2022-09-25T18:53:18.907038",
     "exception": false,
     "start_time": "2022-09-25T18:53:18.876109",
     "status": "completed"
    },
    "tags": []
   },
   "outputs": [
    {
     "data": {
      "text/html": [
       "<div>\n",
       "<style scoped>\n",
       "    .dataframe tbody tr th:only-of-type {\n",
       "        vertical-align: middle;\n",
       "    }\n",
       "\n",
       "    .dataframe tbody tr th {\n",
       "        vertical-align: top;\n",
       "    }\n",
       "\n",
       "    .dataframe thead th {\n",
       "        text-align: right;\n",
       "    }\n",
       "</style>\n",
       "<table border=\"1\" class=\"dataframe\">\n",
       "  <thead>\n",
       "    <tr style=\"text-align: right;\">\n",
       "      <th></th>\n",
       "      <th>show_id</th>\n",
       "      <th>title</th>\n",
       "      <th>description</th>\n",
       "      <th>cast</th>\n",
       "      <th>director</th>\n",
       "      <th>date_added</th>\n",
       "      <th>country</th>\n",
       "      <th>listed_in</th>\n",
       "      <th>duration</th>\n",
       "      <th>release_year</th>\n",
       "      <th>rating</th>\n",
       "      <th>type</th>\n",
       "    </tr>\n",
       "  </thead>\n",
       "  <tbody>\n",
       "    <tr>\n",
       "      <th>count</th>\n",
       "      <td>8807</td>\n",
       "      <td>8807</td>\n",
       "      <td>8775</td>\n",
       "      <td>7692</td>\n",
       "      <td>4528</td>\n",
       "      <td>1767</td>\n",
       "      <td>748</td>\n",
       "      <td>514</td>\n",
       "      <td>220</td>\n",
       "      <td>74</td>\n",
       "      <td>17</td>\n",
       "      <td>2</td>\n",
       "    </tr>\n",
       "  </tbody>\n",
       "</table>\n",
       "</div>"
      ],
      "text/plain": [
       "       show_id  title  description  cast  director  date_added  country  \\\n",
       "count     8807   8807         8775  7692      4528        1767      748   \n",
       "\n",
       "       listed_in  duration  release_year  rating  type  \n",
       "count        514       220            74      17     2  "
      ]
     },
     "execution_count": 24,
     "metadata": {},
     "output_type": "execute_result"
    }
   ],
   "source": [
    "unique_values_df"
   ]
  },
  {
   "cell_type": "markdown",
   "id": "329b4ed1",
   "metadata": {
    "papermill": {
     "duration": 0.012463,
     "end_time": "2022-09-25T18:53:18.932296",
     "exception": false,
     "start_time": "2022-09-25T18:53:18.919833",
     "status": "completed"
    },
    "tags": []
   },
   "source": [
    "<div id=\"univariate-analysis\"\n",
    "     style = \"display: fill;\n",
    "              border-radius: 10px;\n",
    "              background-color: #E50914;\">\n",
    "    <h3 style = \"padding: 15px; \n",
    "                 color: White;\n",
    "                 text-align: left;\n",
    "                 font-family: Trebuchet MS;\">4.1.1 Type\n",
    "    </h3>\n",
    "</div>"
   ]
  },
  {
   "cell_type": "code",
   "execution_count": 25,
   "id": "ead5cc5f",
   "metadata": {
    "execution": {
     "iopub.execute_input": "2022-09-25T18:53:18.959830Z",
     "iopub.status.busy": "2022-09-25T18:53:18.959433Z",
     "iopub.status.idle": "2022-09-25T18:53:21.357964Z",
     "shell.execute_reply": "2022-09-25T18:53:21.356700Z"
    },
    "papermill": {
     "duration": 2.415795,
     "end_time": "2022-09-25T18:53:21.360784",
     "exception": false,
     "start_time": "2022-09-25T18:53:18.944989",
     "status": "completed"
    },
    "tags": []
   },
   "outputs": [
    {
     "data": {
      "image/svg+xml": [
       "<svg class=\"main-svg\" xmlns=\"http://www.w3.org/2000/svg\" xmlns:xlink=\"http://www.w3.org/1999/xlink\" width=\"1300\" height=\"500\" style=\"\" viewBox=\"0 0 1300 500\"><rect x=\"0\" y=\"0\" width=\"1300\" height=\"500\" style=\"fill: rgb(255, 255, 255); fill-opacity: 1;\"/><defs id=\"defs-4d3135\"><g class=\"clips\"><clipPath id=\"clip4d3135xyplot\" class=\"plotclip\"><rect width=\"1140\" height=\"360\"/></clipPath><clipPath class=\"axesclip\" id=\"clip4d3135x\"><rect x=\"80\" y=\"0\" width=\"1140\" height=\"500\"/></clipPath><clipPath class=\"axesclip\" id=\"clip4d3135y\"><rect x=\"0\" y=\"60\" width=\"1300\" height=\"360\"/></clipPath><clipPath class=\"axesclip\" id=\"clip4d3135xy\"><rect x=\"80\" y=\"60\" width=\"1140\" height=\"360\"/></clipPath></g><g class=\"gradients\"/><g class=\"patterns\"/></defs><g class=\"bglayer\"><rect class=\"bg\" x=\"80\" y=\"60\" width=\"1140\" height=\"360\" style=\"fill: rgb(229, 236, 246); fill-opacity: 1; stroke-width: 0;\"/></g><g class=\"layer-below\"><g class=\"imagelayer\"/><g class=\"shapelayer\"/></g><g class=\"cartesianlayer\"><g class=\"subplot xy\"><g class=\"layer-subplot\"><g class=\"shapelayer\"/><g class=\"imagelayer\"/></g><g class=\"minor-gridlayer\"><g class=\"x\"/><g class=\"y\"/></g><g class=\"gridlayer\"><g class=\"x\"/><g class=\"y\"><path class=\"ygrid crisp\" transform=\"translate(0,364.22)\" d=\"M80,0h1140\" style=\"stroke: rgb(255, 255, 255); stroke-opacity: 1; stroke-width: 1px;\"/><path class=\"ygrid crisp\" transform=\"translate(0,308.44)\" d=\"M80,0h1140\" style=\"stroke: rgb(255, 255, 255); stroke-opacity: 1; stroke-width: 1px;\"/><path class=\"ygrid crisp\" transform=\"translate(0,252.65)\" d=\"M80,0h1140\" style=\"stroke: rgb(255, 255, 255); stroke-opacity: 1; stroke-width: 1px;\"/><path class=\"ygrid crisp\" transform=\"translate(0,196.87)\" d=\"M80,0h1140\" style=\"stroke: rgb(255, 255, 255); stroke-opacity: 1; stroke-width: 1px;\"/><path class=\"ygrid crisp\" transform=\"translate(0,141.09)\" d=\"M80,0h1140\" style=\"stroke: rgb(255, 255, 255); stroke-opacity: 1; stroke-width: 1px;\"/><path class=\"ygrid crisp\" transform=\"translate(0,85.31)\" d=\"M80,0h1140\" style=\"stroke: rgb(255, 255, 255); stroke-opacity: 1; stroke-width: 1px;\"/></g></g><g class=\"zerolinelayer\"><path class=\"yzl zl crisp\" transform=\"translate(0,420)\" d=\"M80,0h1140\" style=\"stroke: rgb(255, 255, 255); stroke-opacity: 1; stroke-width: 2px;\"/></g><path class=\"xlines-below\"/><path class=\"ylines-below\"/><g class=\"overlines-below\"/><g class=\"xaxislayer-below\"/><g class=\"yaxislayer-below\"/><g class=\"overaxes-below\"/><g class=\"plot\" transform=\"translate(80,60)\" clip-path=\"url(#clip4d3135xyplot)\"><g class=\"barlayer mlayer\"><g class=\"trace bars\" style=\"opacity: 1;\"><g class=\"points\"><g class=\"point\"><path d=\"M57,360V18H513V360Z\" style=\"vector-effect: non-scaling-stroke; opacity: 1; stroke-width: 0px; fill: rgb(99, 110, 250); fill-opacity: 1;\"/><text class=\"bartext bartext-inside\" text-anchor=\"middle\" data-notex=\"1\" x=\"0\" y=\"0\" style=\"font-family: 'Open Sans', verdana, arial, sans-serif; font-size: 12px; fill: rgb(255, 255, 255); fill-opacity: 1; white-space: pre;\" transform=\"translate(285,32)\">6131</text></g><g class=\"point\"><path d=\"M627,360V210.73H1083V360Z\" style=\"vector-effect: non-scaling-stroke; opacity: 1; stroke-width: 0px; fill: rgb(99, 110, 250); fill-opacity: 1;\"/><text class=\"bartext bartext-inside\" text-anchor=\"middle\" data-notex=\"1\" x=\"0\" y=\"0\" style=\"font-family: 'Open Sans', verdana, arial, sans-serif; font-size: 12px; fill: rgb(255, 255, 255); fill-opacity: 1; white-space: pre;\" transform=\"translate(855,224.73)\">2676</text></g></g></g></g></g><g class=\"overplot\"/><path class=\"xlines-above crisp\" d=\"M0,0\" style=\"fill: none;\"/><path class=\"ylines-above crisp\" d=\"M0,0\" style=\"fill: none;\"/><g class=\"overlines-above\"/><g class=\"xaxislayer-above\"><g class=\"xtick\"><text text-anchor=\"middle\" x=\"0\" y=\"433\" transform=\"translate(365,0)\" style=\"font-family: 'Open Sans', verdana, arial, sans-serif; font-size: 12px; fill: rgb(42, 63, 95); fill-opacity: 1; white-space: pre; opacity: 1;\">Movie</text></g><g class=\"xtick\"><text text-anchor=\"middle\" x=\"0\" y=\"433\" transform=\"translate(935,0)\" style=\"font-family: 'Open Sans', verdana, arial, sans-serif; font-size: 12px; fill: rgb(42, 63, 95); fill-opacity: 1; white-space: pre; opacity: 1;\">TV Show</text></g></g><g class=\"yaxislayer-above\"><g class=\"ytick\"><text text-anchor=\"end\" x=\"79\" y=\"4.199999999999999\" transform=\"translate(0,420)\" style=\"font-family: 'Open Sans', verdana, arial, sans-serif; font-size: 12px; fill: rgb(42, 63, 95); fill-opacity: 1; white-space: pre; opacity: 1;\">0</text></g><g class=\"ytick\"><text text-anchor=\"end\" x=\"79\" y=\"4.199999999999999\" style=\"font-family: 'Open Sans', verdana, arial, sans-serif; font-size: 12px; fill: rgb(42, 63, 95); fill-opacity: 1; white-space: pre; opacity: 1;\" transform=\"translate(0,364.22)\">1000</text></g><g class=\"ytick\"><text text-anchor=\"end\" x=\"79\" y=\"4.199999999999999\" style=\"font-family: 'Open Sans', verdana, arial, sans-serif; font-size: 12px; fill: rgb(42, 63, 95); fill-opacity: 1; white-space: pre; opacity: 1;\" transform=\"translate(0,308.44)\">2000</text></g><g class=\"ytick\"><text text-anchor=\"end\" x=\"79\" y=\"4.199999999999999\" style=\"font-family: 'Open Sans', verdana, arial, sans-serif; font-size: 12px; fill: rgb(42, 63, 95); fill-opacity: 1; white-space: pre; opacity: 1;\" transform=\"translate(0,252.65)\">3000</text></g><g class=\"ytick\"><text text-anchor=\"end\" x=\"79\" y=\"4.199999999999999\" style=\"font-family: 'Open Sans', verdana, arial, sans-serif; font-size: 12px; fill: rgb(42, 63, 95); fill-opacity: 1; white-space: pre; opacity: 1;\" transform=\"translate(0,196.87)\">4000</text></g><g class=\"ytick\"><text text-anchor=\"end\" x=\"79\" y=\"4.199999999999999\" style=\"font-family: 'Open Sans', verdana, arial, sans-serif; font-size: 12px; fill: rgb(42, 63, 95); fill-opacity: 1; white-space: pre; opacity: 1;\" transform=\"translate(0,141.09)\">5000</text></g><g class=\"ytick\"><text text-anchor=\"end\" x=\"79\" y=\"4.199999999999999\" style=\"font-family: 'Open Sans', verdana, arial, sans-serif; font-size: 12px; fill: rgb(42, 63, 95); fill-opacity: 1; white-space: pre; opacity: 1;\" transform=\"translate(0,85.31)\">6000</text></g></g><g class=\"overaxes-above\"/></g></g><g class=\"polarlayer\"/><g class=\"smithlayer\"/><g class=\"ternarylayer\"/><g class=\"geolayer\"/><g class=\"funnelarealayer\"/><g class=\"pielayer\"/><g class=\"iciclelayer\"/><g class=\"treemaplayer\"/><g class=\"sunburstlayer\"/><g class=\"glimages\"/><defs id=\"topdefs-4d3135\"><g class=\"clips\"/></defs><g class=\"layer-above\"><g class=\"imagelayer\"/><g class=\"shapelayer\"/></g><g class=\"infolayer\"><g class=\"g-gtitle\"><text class=\"gtitle\" x=\"650\" y=\"30\" text-anchor=\"middle\" dy=\"0em\" style=\"font-family: 'Open Sans', verdana, arial, sans-serif; font-size: 17px; fill: rgb(42, 63, 95); opacity: 1; font-weight: normal; white-space: pre;\">Distribution by Content Type</text></g><g class=\"g-xtitle\"><text class=\"xtitle\" x=\"650\" y=\"460.8\" text-anchor=\"middle\" style=\"font-family: 'Open Sans', verdana, arial, sans-serif; font-size: 14px; fill: rgb(42, 63, 95); opacity: 1; font-weight: normal; white-space: pre;\">Type</text></g><g class=\"g-ytitle\"/></g></svg>"
      ]
     },
     "metadata": {},
     "output_type": "display_data"
    }
   ],
   "source": [
    "fig = px.histogram(data_frame=df, x=\"type\", text_auto=True)\n",
    "fig.update_layout(xaxis_title=\"Type\", \n",
    "                  yaxis_title=\"\", \n",
    "                  title=\"Distribution by Content Type\",\n",
    "                  title_x=0.5)"
   ]
  },
  {
   "cell_type": "code",
   "execution_count": 26,
   "id": "9ad96342",
   "metadata": {
    "_kg_hide-input": true,
    "_kg_hide-output": true,
    "execution": {
     "iopub.execute_input": "2022-09-25T18:53:21.390898Z",
     "iopub.status.busy": "2022-09-25T18:53:21.389683Z",
     "iopub.status.idle": "2022-09-25T18:53:21.403496Z",
     "shell.execute_reply": "2022-09-25T18:53:21.402278Z"
    },
    "papermill": {
     "duration": 0.031252,
     "end_time": "2022-09-25T18:53:21.406025",
     "exception": false,
     "start_time": "2022-09-25T18:53:21.374773",
     "status": "completed"
    },
    "tags": []
   },
   "outputs": [
    {
     "data": {
      "text/plain": [
       "Movie      0.696151\n",
       "TV Show    0.303849\n",
       "Name: type, dtype: float64"
      ]
     },
     "execution_count": 26,
     "metadata": {},
     "output_type": "execute_result"
    }
   ],
   "source": [
    "df[\"type\"].value_counts(normalize=True)"
   ]
  },
  {
   "cell_type": "markdown",
   "id": "1e7a4de7",
   "metadata": {
    "papermill": {
     "duration": 0.013153,
     "end_time": "2022-09-25T18:53:21.432236",
     "exception": false,
     "start_time": "2022-09-25T18:53:21.419083",
     "status": "completed"
    },
    "tags": []
   },
   "source": [
    "<body>\n",
    "    <div style=\"background-color: #FF6A74;\n",
    "                border: 2px solid;\n",
    "                border-radius: 10px;\n",
    "                padding-top: 10px;\n",
    "                padding-bottom: 10px;\n",
    "                padding-right: 20px;\n",
    "                padding-left: 20px;\n",
    "                border-color: #FF1100;\"> \n",
    "        <p></p>\n",
    "        <ul>\n",
    "            <li><p style=\"font-family:verdana;\">There are <b>6131 Movies</b>, approximately <b>70%</b> of the dataset.</p></li>\n",
    "            <li><p style=\"font-family:verdana;\">There are <b>2676 TV Shows</b>, approximately <b>30%</b> of the dataset.</p></li>\n",
    "        </ul>\n",
    "    </div>\n",
    "</body>"
   ]
  }
 ],
 "metadata": {
  "kernelspec": {
   "display_name": "Python 3",
   "language": "python",
   "name": "python3"
  },
  "language_info": {
   "codemirror_mode": {
    "name": "ipython",
    "version": 3
   },
   "file_extension": ".py",
   "mimetype": "text/x-python",
   "name": "python",
   "nbconvert_exporter": "python",
   "pygments_lexer": "ipython3",
   "version": "3.7.12"
  },
  "papermill": {
   "default_parameters": {},
   "duration": 34.826465,
   "end_time": "2022-09-25T18:53:24.067301",
   "environment_variables": {},
   "exception": null,
   "input_path": "__notebook__.ipynb",
   "output_path": "__notebook__.ipynb",
   "parameters": {},
   "start_time": "2022-09-25T18:52:49.240836",
   "version": "2.3.4"
  }
 },
 "nbformat": 4,
 "nbformat_minor": 5
}
