{
 "cells": [
  {
   "cell_type": "markdown",
   "id": "ccb12532",
   "metadata": {
    "papermill": {
     "duration": 0.010309,
     "end_time": "2022-09-23T13:26:57.278490",
     "exception": false,
     "start_time": "2022-09-23T13:26:57.268181",
     "status": "completed"
    },
    "tags": []
   },
   "source": [
    "<div style = \"display: fill;\n",
    "              border-radius: 10px;\n",
    "              background-color: #E50914;\">\n",
    "    <h1 style = \"padding: 15px; \n",
    "                 color: White;\n",
    "                 text-align:center;\n",
    "                 font-family: Trebuchet MS;\">Netflix Movies and TV Shows\n",
    "    </h1>\n",
    "</div>\n",
    "\n",
    "<div align=\"center\"> \n",
    "    <img src=\"https://content.api.news/v3/images/bin/3fcf3cdcc2cfd6905e582a186e46e584\" alt=\"Netflix\" width=\"75%\" style=\"margin-top:2rem;margin-bottom:2rem\">\n",
    "</div>\n",
    "\n",
    "<div>\n",
    "    <p>Netflix is one of the most popular media and video streaming platforms. They have over 8000 movies or tv shows available on their platform, as of mid-2021, they have over 200M Subscribers globally.</p>\n",
    "</div>\n",
    "\n",
    "<div>\n",
    "    <p>Analysis ideas:</p>\n",
    "    <ul>\n",
    "        <li><p>Understanding what content is available in different countries</p>\n",
    "        <li><p>Identifying similar content by matching text-based features</p>\n",
    "        <li><p>Network analysis of Actors / Directors and find interesting insights</p>\n",
    "        <li><p>Does Netflix has more focus on TV Shows than movies in recent years.</p>\n",
    "    </ul>\n",
    "</div>"
   ]
  },
  {
   "cell_type": "markdown",
   "id": "d0cab939",
   "metadata": {
    "papermill": {
     "duration": 0.008049,
     "end_time": "2022-09-23T13:26:57.295813",
     "exception": false,
     "start_time": "2022-09-23T13:26:57.287764",
     "status": "completed"
    },
    "tags": []
   },
   "source": [
    "<div style = \"display: fill;\n",
    "              border-radius: 10px;\n",
    "              background-color: #E50914;\">\n",
    "    <h2 style = \"padding: 15px; \n",
    "                 color: White;\n",
    "                 text-align: left;\n",
    "                 font-family: Trebuchet MS;\">Table of Contents\n",
    "    </h2>\n",
    "</div>\n",
    "\n",
    "* [<span style=\"font-family: Trebuchet MS; font-size:15px;\">1. Imports</span>](#imports)\n",
    "* [<span style=\"font-family: Trebuchet MS; font-size:15px;\">2. Loading the Dataset</span>](#loading-the-dataset)\n",
    "* [<span style=\"font-family: Trebuchet MS; font-size:15px;\">3. Understanding the Data</span>](#understanding-the-data)\n",
    "    * [<span style=\"font-family: Trebuchet MS; font-size:15px;\">3.1 Checking Null Values</span>](#checking-null-values)\n",
    "    * [<span style=\"font-family: Trebuchet MS; font-size:15px;\">3.2 Optimizing the Dataset</span>](#optimizing-the-dataset)\n",
    "* [<span style=\"font-family: Trebuchet MS; font-size:15px;\">4. Exploratory Data Analysis</span>](#exploratory-data-analysis)\n"
   ]
  },
  {
   "cell_type": "markdown",
   "id": "af222c64",
   "metadata": {
    "papermill": {
     "duration": 0.007932,
     "end_time": "2022-09-23T13:26:57.312278",
     "exception": false,
     "start_time": "2022-09-23T13:26:57.304346",
     "status": "completed"
    },
    "tags": []
   },
   "source": [
    "<div id=\"imports\"\n",
    "     style = \"display: fill;\n",
    "              border-radius: 10px;\n",
    "              background-color: #E50914;\">\n",
    "    <h2 style = \"padding: 15px; \n",
    "                 color: White;\n",
    "                 text-align: left;\n",
    "                 font-family: Trebuchet MS;\">1. Imports\n",
    "    </h2>\n",
    "</div>"
   ]
  },
  {
   "cell_type": "code",
   "execution_count": 1,
   "id": "8f79c5f3",
   "metadata": {
    "_cell_guid": "b1076dfc-b9ad-4769-8c92-a6c4dae69d19",
    "_uuid": "8f2839f25d086af736a60e9eeb907d3b93b6e0e5",
    "execution": {
     "iopub.execute_input": "2022-09-23T13:26:57.331835Z",
     "iopub.status.busy": "2022-09-23T13:26:57.331035Z",
     "iopub.status.idle": "2022-09-23T13:26:58.868210Z",
     "shell.execute_reply": "2022-09-23T13:26:58.867005Z"
    },
    "papermill": {
     "duration": 1.550601,
     "end_time": "2022-09-23T13:26:58.871510",
     "exception": false,
     "start_time": "2022-09-23T13:26:57.320909",
     "status": "completed"
    },
    "tags": []
   },
   "outputs": [],
   "source": [
    "%%capture\n",
    "import numpy as np\n",
    "import pandas as pd\n",
    "import plotly.express as px"
   ]
  },
  {
   "cell_type": "markdown",
   "id": "aa6f1dfa",
   "metadata": {
    "papermill": {
     "duration": 0.007882,
     "end_time": "2022-09-23T13:26:58.887616",
     "exception": false,
     "start_time": "2022-09-23T13:26:58.879734",
     "status": "completed"
    },
    "tags": []
   },
   "source": [
    "<div id=\"loading-the-dataset\"\n",
    "     style = \"display: fill;\n",
    "              border-radius: 10px;\n",
    "              background-color: #E50914;\">\n",
    "    <h2 style = \"padding: 15px; \n",
    "                 color: White;\n",
    "                 text-align: left;\n",
    "                 font-family: Trebuchet MS;\">2. Loading the Dataset\n",
    "    </h2>\n",
    "</div>"
   ]
  },
  {
   "cell_type": "code",
   "execution_count": 2,
   "id": "e1f4915b",
   "metadata": {
    "execution": {
     "iopub.execute_input": "2022-09-23T13:26:58.907165Z",
     "iopub.status.busy": "2022-09-23T13:26:58.906752Z",
     "iopub.status.idle": "2022-09-23T13:26:59.400314Z",
     "shell.execute_reply": "2022-09-23T13:26:59.399143Z"
    },
    "papermill": {
     "duration": 0.507125,
     "end_time": "2022-09-23T13:26:59.402882",
     "exception": false,
     "start_time": "2022-09-23T13:26:58.895757",
     "status": "completed"
    },
    "tags": []
   },
   "outputs": [
    {
     "data": {
      "text/html": [
       "<div>\n",
       "<style scoped>\n",
       "    .dataframe tbody tr th:only-of-type {\n",
       "        vertical-align: middle;\n",
       "    }\n",
       "\n",
       "    .dataframe tbody tr th {\n",
       "        vertical-align: top;\n",
       "    }\n",
       "\n",
       "    .dataframe thead th {\n",
       "        text-align: right;\n",
       "    }\n",
       "</style>\n",
       "<table border=\"1\" class=\"dataframe\">\n",
       "  <thead>\n",
       "    <tr style=\"text-align: right;\">\n",
       "      <th></th>\n",
       "      <th>show_id</th>\n",
       "      <th>type</th>\n",
       "      <th>title</th>\n",
       "      <th>director</th>\n",
       "      <th>cast</th>\n",
       "      <th>country</th>\n",
       "      <th>date_added</th>\n",
       "      <th>release_year</th>\n",
       "      <th>rating</th>\n",
       "      <th>duration</th>\n",
       "      <th>listed_in</th>\n",
       "      <th>description</th>\n",
       "    </tr>\n",
       "  </thead>\n",
       "  <tbody>\n",
       "    <tr>\n",
       "      <th>0</th>\n",
       "      <td>s1</td>\n",
       "      <td>Movie</td>\n",
       "      <td>Dick Johnson Is Dead</td>\n",
       "      <td>Kirsten Johnson</td>\n",
       "      <td>NaN</td>\n",
       "      <td>United States</td>\n",
       "      <td>September 25, 2021</td>\n",
       "      <td>2020</td>\n",
       "      <td>PG-13</td>\n",
       "      <td>90 min</td>\n",
       "      <td>Documentaries</td>\n",
       "      <td>As her father nears the end of his life, filmm...</td>\n",
       "    </tr>\n",
       "    <tr>\n",
       "      <th>1</th>\n",
       "      <td>s2</td>\n",
       "      <td>TV Show</td>\n",
       "      <td>Blood &amp; Water</td>\n",
       "      <td>NaN</td>\n",
       "      <td>Ama Qamata, Khosi Ngema, Gail Mabalane, Thaban...</td>\n",
       "      <td>South Africa</td>\n",
       "      <td>September 24, 2021</td>\n",
       "      <td>2021</td>\n",
       "      <td>TV-MA</td>\n",
       "      <td>2 Seasons</td>\n",
       "      <td>International TV Shows, TV Dramas, TV Mysteries</td>\n",
       "      <td>After crossing paths at a party, a Cape Town t...</td>\n",
       "    </tr>\n",
       "    <tr>\n",
       "      <th>2</th>\n",
       "      <td>s3</td>\n",
       "      <td>TV Show</td>\n",
       "      <td>Ganglands</td>\n",
       "      <td>Julien Leclercq</td>\n",
       "      <td>Sami Bouajila, Tracy Gotoas, Samuel Jouy, Nabi...</td>\n",
       "      <td>NaN</td>\n",
       "      <td>September 24, 2021</td>\n",
       "      <td>2021</td>\n",
       "      <td>TV-MA</td>\n",
       "      <td>1 Season</td>\n",
       "      <td>Crime TV Shows, International TV Shows, TV Act...</td>\n",
       "      <td>To protect his family from a powerful drug lor...</td>\n",
       "    </tr>\n",
       "    <tr>\n",
       "      <th>3</th>\n",
       "      <td>s4</td>\n",
       "      <td>TV Show</td>\n",
       "      <td>Jailbirds New Orleans</td>\n",
       "      <td>NaN</td>\n",
       "      <td>NaN</td>\n",
       "      <td>NaN</td>\n",
       "      <td>September 24, 2021</td>\n",
       "      <td>2021</td>\n",
       "      <td>TV-MA</td>\n",
       "      <td>1 Season</td>\n",
       "      <td>Docuseries, Reality TV</td>\n",
       "      <td>Feuds, flirtations and toilet talk go down amo...</td>\n",
       "    </tr>\n",
       "    <tr>\n",
       "      <th>4</th>\n",
       "      <td>s5</td>\n",
       "      <td>TV Show</td>\n",
       "      <td>Kota Factory</td>\n",
       "      <td>NaN</td>\n",
       "      <td>Mayur More, Jitendra Kumar, Ranjan Raj, Alam K...</td>\n",
       "      <td>India</td>\n",
       "      <td>September 24, 2021</td>\n",
       "      <td>2021</td>\n",
       "      <td>TV-MA</td>\n",
       "      <td>2 Seasons</td>\n",
       "      <td>International TV Shows, Romantic TV Shows, TV ...</td>\n",
       "      <td>In a city of coaching centers known to train I...</td>\n",
       "    </tr>\n",
       "  </tbody>\n",
       "</table>\n",
       "</div>"
      ],
      "text/plain": [
       "  show_id     type                  title         director  \\\n",
       "0      s1    Movie   Dick Johnson Is Dead  Kirsten Johnson   \n",
       "1      s2  TV Show          Blood & Water              NaN   \n",
       "2      s3  TV Show              Ganglands  Julien Leclercq   \n",
       "3      s4  TV Show  Jailbirds New Orleans              NaN   \n",
       "4      s5  TV Show           Kota Factory              NaN   \n",
       "\n",
       "                                                cast        country  \\\n",
       "0                                                NaN  United States   \n",
       "1  Ama Qamata, Khosi Ngema, Gail Mabalane, Thaban...   South Africa   \n",
       "2  Sami Bouajila, Tracy Gotoas, Samuel Jouy, Nabi...            NaN   \n",
       "3                                                NaN            NaN   \n",
       "4  Mayur More, Jitendra Kumar, Ranjan Raj, Alam K...          India   \n",
       "\n",
       "           date_added  release_year rating   duration  \\\n",
       "0  September 25, 2021          2020  PG-13     90 min   \n",
       "1  September 24, 2021          2021  TV-MA  2 Seasons   \n",
       "2  September 24, 2021          2021  TV-MA   1 Season   \n",
       "3  September 24, 2021          2021  TV-MA   1 Season   \n",
       "4  September 24, 2021          2021  TV-MA  2 Seasons   \n",
       "\n",
       "                                           listed_in  \\\n",
       "0                                      Documentaries   \n",
       "1    International TV Shows, TV Dramas, TV Mysteries   \n",
       "2  Crime TV Shows, International TV Shows, TV Act...   \n",
       "3                             Docuseries, Reality TV   \n",
       "4  International TV Shows, Romantic TV Shows, TV ...   \n",
       "\n",
       "                                         description  \n",
       "0  As her father nears the end of his life, filmm...  \n",
       "1  After crossing paths at a party, a Cape Town t...  \n",
       "2  To protect his family from a powerful drug lor...  \n",
       "3  Feuds, flirtations and toilet talk go down amo...  \n",
       "4  In a city of coaching centers known to train I...  "
      ]
     },
     "execution_count": 2,
     "metadata": {},
     "output_type": "execute_result"
    }
   ],
   "source": [
    "df = pd.read_csv(\"https://raw.githubusercontent.com/sahinozan/Netflix-Movies-TV-Shows/main/netflix_titles.csv\", encoding=\"utf-8\")\n",
    "df.head()"
   ]
  },
  {
   "cell_type": "markdown",
   "id": "11da1298",
   "metadata": {
    "papermill": {
     "duration": 0.008089,
     "end_time": "2022-09-23T13:26:59.419437",
     "exception": false,
     "start_time": "2022-09-23T13:26:59.411348",
     "status": "completed"
    },
    "tags": []
   },
   "source": [
    "<div id=\"understanding-the-data\"\n",
    "     style = \"display: fill;\n",
    "              border-radius: 10px;\n",
    "              background-color: #E50914;\">\n",
    "    <h2 style = \"padding: 15px; \n",
    "                 color: White;\n",
    "                 text-align: left;\n",
    "                 font-family: Trebuchet MS;\">3. Understanding the Data\n",
    "    </h2>\n",
    "</div>\n",
    "\n",
    "Dataset consists of 12 features.\n",
    "1. **show_id**: The unique id number for each show or movie\n",
    "    - s1\n",
    "    - s2\n",
    "    - s3\n",
    "    - ...\n",
    "2. **type**: Type of the content\n",
    "    - Movie\n",
    "    - TV Show\n",
    "3. **title**: Title of the content\n",
    "    - The Starling\n",
    "    - Squid Game\n",
    "    - Jaws: The Revenge\n",
    "    - ...\n",
    "4. **director**: Name of the director for that movie or show\n",
    "    - Steven Spielberg\n",
    "    - Cédric Jimenez\n",
    "    - Hirotsugu Kawasaki\n",
    "    - ...\n",
    "5. **cast**: Names of the cast for that movie or show \n",
    "    - Ama Qamata, Khosi Ngema, Gail Mabalane, Thabang Molaba, Dillon Windvogel, Natasha Thahane...\n",
    "    - Antti Pääkkönen, Heljä Heikkinen, Lynne Guaglione, Pasi Ruohonen, Rauno Ahonen...\n",
    "    - Luna Wedler, Jannis Niewöhner, Milan Peschel, Edin Hasanović...\n",
    "    - ...\n",
    "6. **country**: List of countries in which the content is available \n",
    "    - United States, South Africa, India...\n",
    "    - United States, United Kingdom, Canada, Germany...\n",
    "    - Canada, France, Japan, Russia...\n",
    "    - ...\n",
    "7. **data_added**: The date the content was added\n",
    "    - September 25, 2021\n",
    "    - September 22, 2021\n",
    "    - August 23, 2021\n",
    "    - ...\n",
    "8. **release_year**: Release year of the content\n",
    "    - 2020\n",
    "    - 2014\n",
    "    - 2006\n",
    "    - ...\n",
    "9. **rating**: Motion picture content rating \n",
    "    - PG-13\n",
    "    - TV-14\n",
    "    - R\n",
    "    - ...\n",
    "10. **duration**: Total duration of the content\n",
    "    - 90 min\n",
    "    - 2 seasons\n",
    "    - 48 min\n",
    "    - ...\n",
    "11. **listed_in**: List of categories where content is listed\n",
    "    - Documentaries, International TV Shows, TV Dramas, TV Mysteries...\n",
    "    - Comedies, Dramas, International Movies...\n",
    "    - Documentaries, TV Dramas, Comedies...\n",
    "    - ...\n",
    "12. **description**: Short description about the content\n",
    "    - As her father nears the end of his life, filmmaker Kirsten Johnson stages his death in inventive and comical ways to help them both face the inevitable\n",
    "    - After crossing paths at a party, a Cape Town teen sets out to prove whether a private-school swimming star is her sister who was abducted at birth\n",
    "    - Tayo speeds into an adventure when his friends get kidnapped by evil magicians invading their city in search of a magical gemstone\n",
    "    - ..."
   ]
  },
  {
   "cell_type": "markdown",
   "id": "3e9e04c5",
   "metadata": {
    "papermill": {
     "duration": 0.008823,
     "end_time": "2022-09-23T13:26:59.436621",
     "exception": false,
     "start_time": "2022-09-23T13:26:59.427798",
     "status": "completed"
    },
    "tags": []
   },
   "source": [
    "<div id=\"checking-null-values\"\n",
    "     style = \"display: fill;\n",
    "              border-radius: 10px;\n",
    "              background-color: #E50914;\">\n",
    "    <h3 style = \"padding: 15px; \n",
    "                 color: White;\n",
    "                 text-align: left;\n",
    "                 font-family: Trebuchet MS;\">3.1 Checking Null Values\n",
    "    </h3>\n",
    "</div>\n",
    "\n",
    "Let's first check if there are any null values in the dataset"
   ]
  },
  {
   "cell_type": "code",
   "execution_count": 3,
   "id": "6a7cebb2",
   "metadata": {
    "execution": {
     "iopub.execute_input": "2022-09-23T13:26:59.456026Z",
     "iopub.status.busy": "2022-09-23T13:26:59.455061Z",
     "iopub.status.idle": "2022-09-23T13:26:59.470475Z",
     "shell.execute_reply": "2022-09-23T13:26:59.469258Z"
    },
    "papermill": {
     "duration": 0.028126,
     "end_time": "2022-09-23T13:26:59.473253",
     "exception": false,
     "start_time": "2022-09-23T13:26:59.445127",
     "status": "completed"
    },
    "tags": []
   },
   "outputs": [
    {
     "data": {
      "text/plain": [
       "director        2634\n",
       "country          831\n",
       "cast             825\n",
       "date_added        10\n",
       "rating             4\n",
       "duration           3\n",
       "show_id            0\n",
       "type               0\n",
       "title              0\n",
       "release_year       0\n",
       "listed_in          0\n",
       "description        0\n",
       "dtype: int64"
      ]
     },
     "execution_count": 3,
     "metadata": {},
     "output_type": "execute_result"
    }
   ],
   "source": [
    "df.isna().sum().sort_values(ascending=False)"
   ]
  },
  {
   "cell_type": "markdown",
   "id": "cac64522",
   "metadata": {
    "papermill": {
     "duration": 0.008194,
     "end_time": "2022-09-23T13:26:59.490212",
     "exception": false,
     "start_time": "2022-09-23T13:26:59.482018",
     "status": "completed"
    },
    "tags": []
   },
   "source": [
    "* There are small amount of null values in the **date_added**, **rating**, **duration** columns. \n",
    "* Meanwhile, there are large amount of null values in the **country**, **cast**, **director** columns."
   ]
  },
  {
   "cell_type": "markdown",
   "id": "bea7eabe",
   "metadata": {
    "papermill": {
     "duration": 0.008281,
     "end_time": "2022-09-23T13:26:59.507339",
     "exception": false,
     "start_time": "2022-09-23T13:26:59.499058",
     "status": "completed"
    },
    "tags": []
   },
   "source": [
    "<div id=\"optimizing-the-dataset\"\n",
    "     style = \"display: fill;\n",
    "              border-radius: 10px;\n",
    "              background-color: #E50914;\">\n",
    "    <h3 style = \"padding: 15px; \n",
    "                 color: White;\n",
    "                 text-align: left;\n",
    "                 font-family: Trebuchet MS;\">3.2 Optimizing the Dataset\n",
    "    </h3>\n",
    "</div>\n",
    "\n",
    "Many of the features are `object` type. We can convert those features into more specific and compact types to save memory and increase efficiency."
   ]
  },
  {
   "cell_type": "code",
   "execution_count": 4,
   "id": "84d65083",
   "metadata": {
    "execution": {
     "iopub.execute_input": "2022-09-23T13:26:59.526266Z",
     "iopub.status.busy": "2022-09-23T13:26:59.525813Z",
     "iopub.status.idle": "2022-09-23T13:26:59.556560Z",
     "shell.execute_reply": "2022-09-23T13:26:59.554937Z"
    },
    "papermill": {
     "duration": 0.043417,
     "end_time": "2022-09-23T13:26:59.559428",
     "exception": false,
     "start_time": "2022-09-23T13:26:59.516011",
     "status": "completed"
    },
    "tags": []
   },
   "outputs": [
    {
     "name": "stdout",
     "output_type": "stream",
     "text": [
      "<class 'pandas.core.frame.DataFrame'>\n",
      "RangeIndex: 8807 entries, 0 to 8806\n",
      "Data columns (total 12 columns):\n",
      " #   Column        Non-Null Count  Dtype \n",
      "---  ------        --------------  ----- \n",
      " 0   show_id       8807 non-null   object\n",
      " 1   type          8807 non-null   object\n",
      " 2   title         8807 non-null   object\n",
      " 3   director      6173 non-null   object\n",
      " 4   cast          7982 non-null   object\n",
      " 5   country       7976 non-null   object\n",
      " 6   date_added    8797 non-null   object\n",
      " 7   release_year  8807 non-null   int64 \n",
      " 8   rating        8803 non-null   object\n",
      " 9   duration      8804 non-null   object\n",
      " 10  listed_in     8807 non-null   object\n",
      " 11  description   8807 non-null   object\n",
      "dtypes: int64(1), object(11)\n",
      "memory usage: 825.8+ KB\n"
     ]
    }
   ],
   "source": [
    "df.info()"
   ]
  },
  {
   "cell_type": "markdown",
   "id": "bb0a159f",
   "metadata": {
    "papermill": {
     "duration": 0.008269,
     "end_time": "2022-09-23T13:26:59.576425",
     "exception": false,
     "start_time": "2022-09-23T13:26:59.568156",
     "status": "completed"
    },
    "tags": []
   },
   "source": [
    "Let's first check the number of unique values for each feature to make the conversion process easier"
   ]
  },
  {
   "cell_type": "code",
   "execution_count": 5,
   "id": "88d6205b",
   "metadata": {
    "execution": {
     "iopub.execute_input": "2022-09-23T13:26:59.595168Z",
     "iopub.status.busy": "2022-09-23T13:26:59.594784Z",
     "iopub.status.idle": "2022-09-23T13:26:59.620737Z",
     "shell.execute_reply": "2022-09-23T13:26:59.619307Z"
    },
    "papermill": {
     "duration": 0.039315,
     "end_time": "2022-09-23T13:26:59.624248",
     "exception": false,
     "start_time": "2022-09-23T13:26:59.584933",
     "status": "completed"
    },
    "tags": []
   },
   "outputs": [
    {
     "name": "stdout",
     "output_type": "stream",
     "text": [
      "Number of unique values in the show_id column: 8807\n",
      "Number of unique values in the type column: 2\n",
      "Number of unique values in the title column: 8807\n",
      "Number of unique values in the director column: 4528\n",
      "Number of unique values in the cast column: 7692\n",
      "Number of unique values in the country column: 748\n",
      "Number of unique values in the date_added column: 1767\n",
      "Number of unique values in the release_year column: 74\n",
      "Number of unique values in the rating column: 17\n",
      "Number of unique values in the duration column: 220\n",
      "Number of unique values in the listed_in column: 514\n",
      "Number of unique values in the description column: 8775\n"
     ]
    }
   ],
   "source": [
    "for i in df.columns:\n",
    "    print(f\"Number of unique values in the {i} column: {df[i].nunique()}\")"
   ]
  },
  {
   "cell_type": "markdown",
   "id": "f454d099",
   "metadata": {
    "papermill": {
     "duration": 0.008332,
     "end_time": "2022-09-23T13:26:59.641538",
     "exception": false,
     "start_time": "2022-09-23T13:26:59.633206",
     "status": "completed"
    },
    "tags": []
   },
   "source": [
    "Some of the columns contain less unique values. These will be the ones that we do conversion on them. Columns that contain less unique values:\n",
    "* **type**\n",
    "* **release_year**\n",
    "* **rating**\n",
    "\n",
    "Other interesting features are **show_id** and **title**. They contain unique values for each row. I will check them first to see what is going."
   ]
  },
  {
   "cell_type": "code",
   "execution_count": 6,
   "id": "d54d403f",
   "metadata": {
    "execution": {
     "iopub.execute_input": "2022-09-23T13:26:59.660881Z",
     "iopub.status.busy": "2022-09-23T13:26:59.660165Z",
     "iopub.status.idle": "2022-09-23T13:26:59.670330Z",
     "shell.execute_reply": "2022-09-23T13:26:59.668721Z"
    },
    "papermill": {
     "duration": 0.022913,
     "end_time": "2022-09-23T13:26:59.673074",
     "exception": false,
     "start_time": "2022-09-23T13:26:59.650161",
     "status": "completed"
    },
    "tags": []
   },
   "outputs": [
    {
     "name": "stdout",
     "output_type": "stream",
     "text": [
      "Number of unique values: 8807\n",
      "['s1' 's2' 's3' ... 's8805' 's8806' 's8807']\n"
     ]
    }
   ],
   "source": [
    "print(\"Number of unique values:\", df[\"show_id\"].nunique())\n",
    "print(df[\"show_id\"].unique())"
   ]
  },
  {
   "cell_type": "markdown",
   "id": "014791f1",
   "metadata": {
    "papermill": {
     "duration": 0.008624,
     "end_time": "2022-09-23T13:26:59.690575",
     "exception": false,
     "start_time": "2022-09-23T13:26:59.681951",
     "status": "completed"
    },
    "tags": []
   },
   "source": [
    "There is a unique value for each show. I don't understand the point of this feature. It only contains the values starting from 1 to 8807 which is basically an index for every row. The problem is that we already have that information stored in our dataframe so, I will remove this feature because it doesn't contain any valuable information for the analysis."
   ]
  },
  {
   "cell_type": "code",
   "execution_count": 7,
   "id": "449cf02e",
   "metadata": {
    "execution": {
     "iopub.execute_input": "2022-09-23T13:26:59.710349Z",
     "iopub.status.busy": "2022-09-23T13:26:59.709496Z",
     "iopub.status.idle": "2022-09-23T13:26:59.717748Z",
     "shell.execute_reply": "2022-09-23T13:26:59.716571Z"
    },
    "papermill": {
     "duration": 0.021298,
     "end_time": "2022-09-23T13:26:59.720673",
     "exception": false,
     "start_time": "2022-09-23T13:26:59.699375",
     "status": "completed"
    },
    "tags": []
   },
   "outputs": [],
   "source": [
    "df.drop(labels=\"show_id\", axis=1, inplace=True)"
   ]
  },
  {
   "cell_type": "code",
   "execution_count": 8,
   "id": "901278d7",
   "metadata": {
    "execution": {
     "iopub.execute_input": "2022-09-23T13:26:59.740325Z",
     "iopub.status.busy": "2022-09-23T13:26:59.739775Z",
     "iopub.status.idle": "2022-09-23T13:26:59.750760Z",
     "shell.execute_reply": "2022-09-23T13:26:59.749252Z"
    },
    "papermill": {
     "duration": 0.023434,
     "end_time": "2022-09-23T13:26:59.753124",
     "exception": false,
     "start_time": "2022-09-23T13:26:59.729690",
     "status": "completed"
    },
    "tags": []
   },
   "outputs": [
    {
     "name": "stdout",
     "output_type": "stream",
     "text": [
      "Number of unique values: 8807\n",
      "['Dick Johnson Is Dead' 'Blood & Water' 'Ganglands' ... 'Zombieland'\n",
      " 'Zoom' 'Zubaan']\n"
     ]
    }
   ],
   "source": [
    "print(\"Number of unique values:\", df[\"title\"].nunique())\n",
    "print(df[\"title\"].unique())"
   ]
  },
  {
   "cell_type": "markdown",
   "id": "4a2632a7",
   "metadata": {
    "papermill": {
     "duration": 0.008614,
     "end_time": "2022-09-23T13:26:59.770632",
     "exception": false,
     "start_time": "2022-09-23T13:26:59.762018",
     "status": "completed"
    },
    "tags": []
   },
   "source": [
    "Similar to **show_id**, this column also contains unique values for each show but the difference is that these values are not just integers like an index value. These values contain the name of the each show which is probably will be used in the analysis. Therefore, I will not remove this feature."
   ]
  },
  {
   "cell_type": "code",
   "execution_count": 9,
   "id": "29c8b043",
   "metadata": {
    "execution": {
     "iopub.execute_input": "2022-09-23T13:26:59.789843Z",
     "iopub.status.busy": "2022-09-23T13:26:59.789401Z",
     "iopub.status.idle": "2022-09-23T13:26:59.798787Z",
     "shell.execute_reply": "2022-09-23T13:26:59.797011Z"
    },
    "papermill": {
     "duration": 0.021886,
     "end_time": "2022-09-23T13:26:59.801247",
     "exception": false,
     "start_time": "2022-09-23T13:26:59.779361",
     "status": "completed"
    },
    "tags": []
   },
   "outputs": [
    {
     "name": "stdout",
     "output_type": "stream",
     "text": [
      "Number of unique values: 2\n",
      "['Movie' 'TV Show']\n"
     ]
    }
   ],
   "source": [
    "print(\"Number of unique values:\", df[\"type\"].nunique())\n",
    "print(df[\"type\"].unique())"
   ]
  },
  {
   "cell_type": "markdown",
   "id": "06ad1a00",
   "metadata": {
    "papermill": {
     "duration": 0.008503,
     "end_time": "2022-09-23T13:26:59.818819",
     "exception": false,
     "start_time": "2022-09-23T13:26:59.810316",
     "status": "completed"
    },
    "tags": []
   },
   "source": [
    "There are only two unique values in the **type** column. These are essentially used to categorize the content into **Movie** or **TV-Show**. I will convert this feature into `category`."
   ]
  },
  {
   "cell_type": "code",
   "execution_count": 10,
   "id": "e991e4f7",
   "metadata": {
    "execution": {
     "iopub.execute_input": "2022-09-23T13:26:59.839077Z",
     "iopub.status.busy": "2022-09-23T13:26:59.838348Z",
     "iopub.status.idle": "2022-09-23T13:26:59.846614Z",
     "shell.execute_reply": "2022-09-23T13:26:59.845462Z"
    },
    "papermill": {
     "duration": 0.021215,
     "end_time": "2022-09-23T13:26:59.849041",
     "exception": false,
     "start_time": "2022-09-23T13:26:59.827826",
     "status": "completed"
    },
    "tags": []
   },
   "outputs": [],
   "source": [
    "df[\"type\"] = df[\"type\"].astype(\"category\")"
   ]
  },
  {
   "cell_type": "code",
   "execution_count": 11,
   "id": "e97c3b70",
   "metadata": {
    "execution": {
     "iopub.execute_input": "2022-09-23T13:26:59.869533Z",
     "iopub.status.busy": "2022-09-23T13:26:59.868756Z",
     "iopub.status.idle": "2022-09-23T13:26:59.876486Z",
     "shell.execute_reply": "2022-09-23T13:26:59.874889Z"
    },
    "papermill": {
     "duration": 0.021104,
     "end_time": "2022-09-23T13:26:59.879241",
     "exception": false,
     "start_time": "2022-09-23T13:26:59.858137",
     "status": "completed"
    },
    "tags": []
   },
   "outputs": [
    {
     "name": "stdout",
     "output_type": "stream",
     "text": [
      "Number of unique values: 74\n",
      "[2020 2021 1993 2018 1996 1998 1997 2010 2013 2017 1975 1978 1983 1987\n",
      " 2012 2001 2014 2002 2003 2004 2011 2008 2009 2007 2005 2006 1994 2015\n",
      " 2019 2016 1982 1989 1990 1991 1999 1986 1992 1984 1980 1961 2000 1995\n",
      " 1985 1976 1959 1988 1981 1972 1964 1945 1954 1979 1958 1956 1963 1970\n",
      " 1973 1925 1974 1960 1966 1971 1962 1969 1977 1967 1968 1965 1946 1942\n",
      " 1955 1944 1947 1943]\n"
     ]
    }
   ],
   "source": [
    "print(\"Number of unique values:\", df[\"release_year\"].nunique())\n",
    "print(df[\"release_year\"].unique())"
   ]
  },
  {
   "cell_type": "markdown",
   "id": "afdada1b",
   "metadata": {
    "papermill": {
     "duration": 0.008553,
     "end_time": "2022-09-23T13:26:59.897047",
     "exception": false,
     "start_time": "2022-09-23T13:26:59.888494",
     "status": "completed"
    },
    "tags": []
   },
   "source": [
    "There are 74 unique values in the **release_year** column. Also, these are integer values. Smallest integer datatype that can hold these values is `int16`."
   ]
  },
  {
   "cell_type": "code",
   "execution_count": 12,
   "id": "2a3f50e4",
   "metadata": {
    "execution": {
     "iopub.execute_input": "2022-09-23T13:26:59.917513Z",
     "iopub.status.busy": "2022-09-23T13:26:59.916317Z",
     "iopub.status.idle": "2022-09-23T13:26:59.923247Z",
     "shell.execute_reply": "2022-09-23T13:26:59.922188Z"
    },
    "papermill": {
     "duration": 0.019882,
     "end_time": "2022-09-23T13:26:59.925835",
     "exception": false,
     "start_time": "2022-09-23T13:26:59.905953",
     "status": "completed"
    },
    "tags": []
   },
   "outputs": [],
   "source": [
    "df[\"release_year\"] = df[\"release_year\"].astype(\"int16\")"
   ]
  },
  {
   "cell_type": "code",
   "execution_count": 13,
   "id": "4afba38d",
   "metadata": {
    "execution": {
     "iopub.execute_input": "2022-09-23T13:26:59.946246Z",
     "iopub.status.busy": "2022-09-23T13:26:59.945518Z",
     "iopub.status.idle": "2022-09-23T13:26:59.953401Z",
     "shell.execute_reply": "2022-09-23T13:26:59.951978Z"
    },
    "papermill": {
     "duration": 0.020911,
     "end_time": "2022-09-23T13:26:59.955852",
     "exception": false,
     "start_time": "2022-09-23T13:26:59.934941",
     "status": "completed"
    },
    "tags": []
   },
   "outputs": [
    {
     "name": "stdout",
     "output_type": "stream",
     "text": [
      "Number of unique values: 17\n",
      "['PG-13' 'TV-MA' 'PG' 'TV-14' 'TV-PG' 'TV-Y' 'TV-Y7' 'R' 'TV-G' 'G'\n",
      " 'NC-17' '74 min' '84 min' '66 min' 'NR' nan 'TV-Y7-FV' 'UR']\n"
     ]
    }
   ],
   "source": [
    "print(\"Number of unique values:\", df[\"rating\"].nunique())\n",
    "print(df[\"rating\"].unique())"
   ]
  },
  {
   "cell_type": "markdown",
   "id": "54e90bcd",
   "metadata": {
    "papermill": {
     "duration": 0.009126,
     "end_time": "2022-09-23T13:26:59.974774",
     "exception": false,
     "start_time": "2022-09-23T13:26:59.965648",
     "status": "completed"
    },
    "tags": []
   },
   "source": [
    "There are 17 unique values in the **rating** column. These values contain both integers and strings. Therefore, we will convert this column into `category` type."
   ]
  },
  {
   "cell_type": "code",
   "execution_count": 14,
   "id": "aa0d1276",
   "metadata": {
    "execution": {
     "iopub.execute_input": "2022-09-23T13:26:59.996450Z",
     "iopub.status.busy": "2022-09-23T13:26:59.995652Z",
     "iopub.status.idle": "2022-09-23T13:27:00.003695Z",
     "shell.execute_reply": "2022-09-23T13:27:00.002425Z"
    },
    "papermill": {
     "duration": 0.021934,
     "end_time": "2022-09-23T13:27:00.006652",
     "exception": false,
     "start_time": "2022-09-23T13:26:59.984718",
     "status": "completed"
    },
    "tags": []
   },
   "outputs": [],
   "source": [
    "df[\"rating\"] = df[\"rating\"].astype(\"category\")"
   ]
  },
  {
   "cell_type": "code",
   "execution_count": 15,
   "id": "21266295",
   "metadata": {
    "execution": {
     "iopub.execute_input": "2022-09-23T13:27:00.028132Z",
     "iopub.status.busy": "2022-09-23T13:27:00.027701Z",
     "iopub.status.idle": "2022-09-23T13:27:00.035972Z",
     "shell.execute_reply": "2022-09-23T13:27:00.034271Z"
    },
    "papermill": {
     "duration": 0.021743,
     "end_time": "2022-09-23T13:27:00.038574",
     "exception": false,
     "start_time": "2022-09-23T13:27:00.016831",
     "status": "completed"
    },
    "tags": []
   },
   "outputs": [
    {
     "name": "stdout",
     "output_type": "stream",
     "text": [
      "Number of unique values: 220\n",
      "['90 min' '2 Seasons' '1 Season' '91 min' '125 min' '9 Seasons' '104 min'\n",
      " '127 min' '4 Seasons' '67 min' '94 min' '5 Seasons' '161 min' '61 min'\n",
      " '166 min' '147 min' '103 min' '97 min' '106 min' '111 min']\n"
     ]
    }
   ],
   "source": [
    "print(\"Number of unique values:\", df[\"duration\"].nunique())\n",
    "print(df.loc[:30, \"duration\"].unique())"
   ]
  },
  {
   "cell_type": "markdown",
   "id": "14e67edb",
   "metadata": {
    "papermill": {
     "duration": 0.009399,
     "end_time": "2022-09-23T13:27:00.057372",
     "exception": false,
     "start_time": "2022-09-23T13:27:00.047973",
     "status": "completed"
    },
    "tags": []
   },
   "source": [
    "There are 220 unique values in the **duration** column. I think there are way too many unique values for `category` type. That's why I will not convert it into `category` type."
   ]
  },
  {
   "cell_type": "code",
   "execution_count": 16,
   "id": "7c00731b",
   "metadata": {
    "execution": {
     "iopub.execute_input": "2022-09-23T13:27:00.079150Z",
     "iopub.status.busy": "2022-09-23T13:27:00.078717Z",
     "iopub.status.idle": "2022-09-23T13:27:00.087240Z",
     "shell.execute_reply": "2022-09-23T13:27:00.085889Z"
    },
    "papermill": {
     "duration": 0.022849,
     "end_time": "2022-09-23T13:27:00.090118",
     "exception": false,
     "start_time": "2022-09-23T13:27:00.067269",
     "status": "completed"
    },
    "tags": []
   },
   "outputs": [
    {
     "name": "stdout",
     "output_type": "stream",
     "text": [
      "Number of unique values: 4528\n",
      "['Kirsten Johnson' nan 'Julien Leclercq' 'Mike Flanagan'\n",
      " 'Robert Cullen, José Luis Ucha' 'Haile Gerima' 'Andy Devonshire'\n",
      " 'Theodore Melfi' 'Kongkiat Komesiri' 'Christian Schwochow'\n",
      " 'Bruno Garotti' 'Pedro de Echave García, Pablo Azorín Williams'\n",
      " 'Adam Salky' 'Olivier Megaton']\n"
     ]
    }
   ],
   "source": [
    "print(\"Number of unique values:\", df[\"director\"].nunique())\n",
    "print(df.loc[:20, \"director\"].unique())"
   ]
  },
  {
   "cell_type": "markdown",
   "id": "3e6ea27c",
   "metadata": {
    "papermill": {
     "duration": 0.00905,
     "end_time": "2022-09-23T13:27:00.108770",
     "exception": false,
     "start_time": "2022-09-23T13:27:00.099720",
     "status": "completed"
    },
    "tags": []
   },
   "source": [
    "There are 4528 unique values in the **director** column. Similar to **duration** column, there are way too many unique values for the `category` type. I will not convert it into `category` type."
   ]
  },
  {
   "cell_type": "code",
   "execution_count": 17,
   "id": "f108ade1",
   "metadata": {
    "execution": {
     "iopub.execute_input": "2022-09-23T13:27:00.129355Z",
     "iopub.status.busy": "2022-09-23T13:27:00.128924Z",
     "iopub.status.idle": "2022-09-23T13:27:00.137692Z",
     "shell.execute_reply": "2022-09-23T13:27:00.136210Z"
    },
    "papermill": {
     "duration": 0.022181,
     "end_time": "2022-09-23T13:27:00.140483",
     "exception": false,
     "start_time": "2022-09-23T13:27:00.118302",
     "status": "completed"
    },
    "tags": []
   },
   "outputs": [
    {
     "name": "stdout",
     "output_type": "stream",
     "text": [
      "cast \n",
      " [nan\n",
      " 'Ama Qamata, Khosi Ngema, Gail Mabalane, Thabang Molaba, Dillon Windvogel, Natasha Thahane, Arno Greeff, Xolile Tshabalala, Getmore Sithole, Cindy Mahlangu, Ryle De Morny, Greteli Fincham, Sello Maake Ka-Ncube, Odwa Gwanya, Mekaila Mathys, Sandi Schultz, Duane Williams, Shamilla Miller, Patrick Mofokeng'\n",
      " 'Sami Bouajila, Tracy Gotoas, Samuel Jouy, Nabiha Akkari, Sofia Lesaffre, Salim Kechiouche, Noureddine Farihi, Geert Van Rampelberg, Bakary Diombera'\n",
      " 'Mayur More, Jitendra Kumar, Ranjan Raj, Alam Khan, Ahsaas Channa, Revathi Pillai, Urvi Singh, Arun Kumar'\n",
      " 'Kate Siegel, Zach Gilford, Hamish Linklater, Henry Thomas, Kristin Lehman, Samantha Sloyan, Igby Rigney, Rahul Kohli, Annarah Cymone, Annabeth Gish, Alex Essoe, Rahul Abburi, Matt Biedel, Michael Trucco, Crystal Balint, Louis Oliver'] \n",
      "\n",
      "country \n",
      " ['United States' 'South Africa' nan 'India'] \n",
      "\n",
      "date_added \n",
      " ['September 25, 2021' 'September 24, 2021'] \n",
      "\n",
      "listed_in \n",
      " ['Documentaries' 'International TV Shows, TV Dramas, TV Mysteries'\n",
      " 'Crime TV Shows, International TV Shows, TV Action & Adventure'\n",
      " 'Docuseries, Reality TV'\n",
      " 'International TV Shows, Romantic TV Shows, TV Comedies'\n",
      " 'TV Dramas, TV Horror, TV Mysteries'] \n",
      "\n"
     ]
    }
   ],
   "source": [
    "for i in [\"cast\", \"country\", \"date_added\", \"listed_in\"]:\n",
    "    print(i, \"\\n\", df.loc[:5, i].unique(), \"\\n\")"
   ]
  },
  {
   "cell_type": "markdown",
   "id": "d926a6f1",
   "metadata": {
    "papermill": {
     "duration": 0.009181,
     "end_time": "2022-09-23T13:27:00.159119",
     "exception": false,
     "start_time": "2022-09-23T13:27:00.149938",
     "status": "completed"
    },
    "tags": []
   },
   "source": [
    "The **cast**, **country**, **date_added**, and **listed_in** columns does contain list of values for each show. We can't do any conversion on this. \n",
    "\n",
    "We're done with the optimization. Let's check the dataframe after the conversion."
   ]
  },
  {
   "cell_type": "code",
   "execution_count": 18,
   "id": "bae4445d",
   "metadata": {
    "execution": {
     "iopub.execute_input": "2022-09-23T13:27:00.179516Z",
     "iopub.status.busy": "2022-09-23T13:27:00.179080Z",
     "iopub.status.idle": "2022-09-23T13:27:00.199968Z",
     "shell.execute_reply": "2022-09-23T13:27:00.198527Z"
    },
    "papermill": {
     "duration": 0.034974,
     "end_time": "2022-09-23T13:27:00.203405",
     "exception": false,
     "start_time": "2022-09-23T13:27:00.168431",
     "status": "completed"
    },
    "tags": []
   },
   "outputs": [
    {
     "name": "stdout",
     "output_type": "stream",
     "text": [
      "<class 'pandas.core.frame.DataFrame'>\n",
      "RangeIndex: 8807 entries, 0 to 8806\n",
      "Data columns (total 11 columns):\n",
      " #   Column        Non-Null Count  Dtype   \n",
      "---  ------        --------------  -----   \n",
      " 0   type          8807 non-null   category\n",
      " 1   title         8807 non-null   object  \n",
      " 2   director      6173 non-null   object  \n",
      " 3   cast          7982 non-null   object  \n",
      " 4   country       7976 non-null   object  \n",
      " 5   date_added    8797 non-null   object  \n",
      " 6   release_year  8807 non-null   int16   \n",
      " 7   rating        8803 non-null   category\n",
      " 8   duration      8804 non-null   object  \n",
      " 9   listed_in     8807 non-null   object  \n",
      " 10  description   8807 non-null   object  \n",
      "dtypes: category(2), int16(1), object(8)\n",
      "memory usage: 585.8+ KB\n"
     ]
    }
   ],
   "source": [
    "df.info()"
   ]
  },
  {
   "cell_type": "markdown",
   "id": "a2bae202",
   "metadata": {
    "papermill": {
     "duration": 0.008964,
     "end_time": "2022-09-23T13:27:00.221987",
     "exception": false,
     "start_time": "2022-09-23T13:27:00.213023",
     "status": "completed"
    },
    "tags": []
   },
   "source": [
    "* Before the optimization, dataset had a memory usage of `825.8+ KB`.\n",
    "* After the optimization, dataset have a memory usage of `585.8+ KB`.\n",
    "* We lowered the memory usage by almost **30%**."
   ]
  },
  {
   "cell_type": "markdown",
   "id": "80a991bb",
   "metadata": {
    "papermill": {
     "duration": 0.009095,
     "end_time": "2022-09-23T13:27:00.240463",
     "exception": false,
     "start_time": "2022-09-23T13:27:00.231368",
     "status": "completed"
    },
    "tags": []
   },
   "source": [
    "<div id=\"exploratory-data-analysis\"\n",
    "     style = \"display: fill;\n",
    "              border-radius: 10px;\n",
    "              background-color: #E50914;\">\n",
    "    <h2 style = \"padding: 15px; \n",
    "                 color: White;\n",
    "                 text-align: left;\n",
    "                 font-family: Trebuchet MS;\">4. Exploratory Data Analysis\n",
    "    </h2>\n",
    "</div>"
   ]
  }
 ],
 "metadata": {
  "kernelspec": {
   "display_name": "Python 3",
   "language": "python",
   "name": "python3"
  },
  "language_info": {
   "codemirror_mode": {
    "name": "ipython",
    "version": 3
   },
   "file_extension": ".py",
   "mimetype": "text/x-python",
   "name": "python",
   "nbconvert_exporter": "python",
   "pygments_lexer": "ipython3",
   "version": "3.7.12"
  },
  "papermill": {
   "default_parameters": {},
   "duration": 13.367644,
   "end_time": "2022-09-23T13:27:01.074908",
   "environment_variables": {},
   "exception": null,
   "input_path": "__notebook__.ipynb",
   "output_path": "__notebook__.ipynb",
   "parameters": {},
   "start_time": "2022-09-23T13:26:47.707264",
   "version": "2.3.4"
  }
 },
 "nbformat": 4,
 "nbformat_minor": 5
}
