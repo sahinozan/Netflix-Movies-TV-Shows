{
 "cells": [
  {
   "cell_type": "markdown",
   "id": "0a11f7dd",
   "metadata": {
    "papermill": {
     "duration": 0.012392,
     "end_time": "2022-09-24T12:21:42.670440",
     "exception": false,
     "start_time": "2022-09-24T12:21:42.658048",
     "status": "completed"
    },
    "tags": []
   },
   "source": [
    "<div style = \"display: fill;\n",
    "              border-radius: 10px;\n",
    "              background-color: #E50914;\">\n",
    "    <h1 style = \"padding: 15px; \n",
    "                 color: White;\n",
    "                 text-align:center;\n",
    "                 font-family: Trebuchet MS;\">Netflix Movies and TV Shows\n",
    "    </h1>\n",
    "</div>\n",
    "\n",
    "<div align=\"center\"> \n",
    "    <img src=\"https://content.api.news/v3/images/bin/3fcf3cdcc2cfd6905e582a186e46e584\" alt=\"Netflix\" width=\"75%\" style=\"margin-top:2rem;margin-bottom:2rem\">\n",
    "</div>\n",
    "\n",
    "<body>\n",
    "    <div style=\"background-color: #FF6A74;\n",
    "                border: 2px solid;\n",
    "                border-radius: 10px;\n",
    "                padding-top: 10px;\n",
    "                padding-bottom: 10px;\n",
    "                padding-right: 20px;\n",
    "                padding-left: 20px;\n",
    "                border-color: #FF1100;\"> \n",
    "        <p></p>\n",
    "        <p style=\"font-family:verdana;\">Netflix is one of the most popular media and video streaming platforms. They have over 8000 movies or tv shows available on their platform, as of mid-2021, they have over 200M Subscribers globally.</p>\n",
    "    </div>\n",
    "</body>"
   ]
  },
  {
   "cell_type": "markdown",
   "id": "ba12a9ff",
   "metadata": {
    "papermill": {
     "duration": 0.009751,
     "end_time": "2022-09-24T12:21:42.690617",
     "exception": false,
     "start_time": "2022-09-24T12:21:42.680866",
     "status": "completed"
    },
    "tags": []
   },
   "source": [
    "<div style = \"display: fill;\n",
    "              border-radius: 10px;\n",
    "              background-color: #E50914;\">\n",
    "    <h2 style = \"padding: 15px; \n",
    "                 color: White;\n",
    "                 text-align: left;\n",
    "                 font-family: Trebuchet MS;\">Table of Contents\n",
    "    </h2>\n",
    "</div>\n",
    "\n",
    "* [<span style=\"font-family: Trebuchet MS; font-size:15px;\">1. Imports</span>](#imports)\n",
    "* [<span style=\"font-family: Trebuchet MS; font-size:15px;\">2. Loading the Dataset</span>](#loading-the-dataset)\n",
    "* [<span style=\"font-family: Trebuchet MS; font-size:15px;\">3. Understanding the Data</span>](#understanding-the-data)\n",
    "    * [<span style=\"font-family: Trebuchet MS; font-size:15px;\">3.1 Checking Null Values</span>](#checking-null-values)\n",
    "    * [<span style=\"font-family: Trebuchet MS; font-size:15px;\">3.2 Optimizing the Dataset</span>](#optimizing-the-dataset)\n",
    "* [<span style=\"font-family: Trebuchet MS; font-size:15px;\">4. Exploratory Data Analysis</span>](#exploratory-data-analysis)\n"
   ]
  },
  {
   "cell_type": "markdown",
   "id": "77cfd67a",
   "metadata": {
    "papermill": {
     "duration": 0.009797,
     "end_time": "2022-09-24T12:21:42.711208",
     "exception": false,
     "start_time": "2022-09-24T12:21:42.701411",
     "status": "completed"
    },
    "tags": []
   },
   "source": [
    "<div id=\"imports\"\n",
    "     style = \"display: fill;\n",
    "              border-radius: 10px;\n",
    "              background-color: #E50914;\">\n",
    "    <h2 style = \"padding: 15px; \n",
    "                 color: White;\n",
    "                 text-align: left;\n",
    "                 font-family: Trebuchet MS;\">1. Imports\n",
    "    </h2>\n",
    "</div>"
   ]
  },
  {
   "cell_type": "code",
   "execution_count": 1,
   "id": "f5b4fc26",
   "metadata": {
    "_cell_guid": "b1076dfc-b9ad-4769-8c92-a6c4dae69d19",
    "_uuid": "8f2839f25d086af736a60e9eeb907d3b93b6e0e5",
    "execution": {
     "iopub.execute_input": "2022-09-24T12:21:42.736657Z",
     "iopub.status.busy": "2022-09-24T12:21:42.735666Z",
     "iopub.status.idle": "2022-09-24T12:22:06.957357Z",
     "shell.execute_reply": "2022-09-24T12:22:06.956056Z"
    },
    "papermill": {
     "duration": 24.237351,
     "end_time": "2022-09-24T12:22:06.960286",
     "exception": false,
     "start_time": "2022-09-24T12:21:42.722935",
     "status": "completed"
    },
    "tags": []
   },
   "outputs": [],
   "source": [
    "%%capture\n",
    "!pip install kaleido\n",
    "import kaleido\n",
    "import numpy as np\n",
    "import pandas as pd\n",
    "import plotly\n",
    "import plotly.express as px"
   ]
  },
  {
   "cell_type": "markdown",
   "id": "22bba826",
   "metadata": {
    "papermill": {
     "duration": 0.00971,
     "end_time": "2022-09-24T12:22:06.980174",
     "exception": false,
     "start_time": "2022-09-24T12:22:06.970464",
     "status": "completed"
    },
    "tags": []
   },
   "source": [
    "<div id=\"loading-the-dataset\"\n",
    "     style = \"display: fill;\n",
    "              border-radius: 10px;\n",
    "              background-color: #E50914;\">\n",
    "    <h2 style = \"padding: 15px; \n",
    "                 color: White;\n",
    "                 text-align: left;\n",
    "                 font-family: Trebuchet MS;\">2. Loading the Dataset\n",
    "    </h2>\n",
    "</div>"
   ]
  },
  {
   "cell_type": "code",
   "execution_count": 2,
   "id": "3b381b97",
   "metadata": {
    "execution": {
     "iopub.execute_input": "2022-09-24T12:22:07.001994Z",
     "iopub.status.busy": "2022-09-24T12:22:07.001579Z",
     "iopub.status.idle": "2022-09-24T12:22:09.507924Z",
     "shell.execute_reply": "2022-09-24T12:22:09.506839Z"
    },
    "papermill": {
     "duration": 2.520524,
     "end_time": "2022-09-24T12:22:09.510638",
     "exception": false,
     "start_time": "2022-09-24T12:22:06.990114",
     "status": "completed"
    },
    "tags": []
   },
   "outputs": [
    {
     "data": {
      "text/html": [
       "<div>\n",
       "<style scoped>\n",
       "    .dataframe tbody tr th:only-of-type {\n",
       "        vertical-align: middle;\n",
       "    }\n",
       "\n",
       "    .dataframe tbody tr th {\n",
       "        vertical-align: top;\n",
       "    }\n",
       "\n",
       "    .dataframe thead th {\n",
       "        text-align: right;\n",
       "    }\n",
       "</style>\n",
       "<table border=\"1\" class=\"dataframe\">\n",
       "  <thead>\n",
       "    <tr style=\"text-align: right;\">\n",
       "      <th></th>\n",
       "      <th>show_id</th>\n",
       "      <th>type</th>\n",
       "      <th>title</th>\n",
       "      <th>director</th>\n",
       "      <th>cast</th>\n",
       "      <th>country</th>\n",
       "      <th>date_added</th>\n",
       "      <th>release_year</th>\n",
       "      <th>rating</th>\n",
       "      <th>duration</th>\n",
       "      <th>listed_in</th>\n",
       "      <th>description</th>\n",
       "    </tr>\n",
       "  </thead>\n",
       "  <tbody>\n",
       "    <tr>\n",
       "      <th>0</th>\n",
       "      <td>s1</td>\n",
       "      <td>Movie</td>\n",
       "      <td>Dick Johnson Is Dead</td>\n",
       "      <td>Kirsten Johnson</td>\n",
       "      <td>NaN</td>\n",
       "      <td>United States</td>\n",
       "      <td>September 25, 2021</td>\n",
       "      <td>2020</td>\n",
       "      <td>PG-13</td>\n",
       "      <td>90 min</td>\n",
       "      <td>Documentaries</td>\n",
       "      <td>As her father nears the end of his life, filmm...</td>\n",
       "    </tr>\n",
       "    <tr>\n",
       "      <th>1</th>\n",
       "      <td>s2</td>\n",
       "      <td>TV Show</td>\n",
       "      <td>Blood &amp; Water</td>\n",
       "      <td>NaN</td>\n",
       "      <td>Ama Qamata, Khosi Ngema, Gail Mabalane, Thaban...</td>\n",
       "      <td>South Africa</td>\n",
       "      <td>September 24, 2021</td>\n",
       "      <td>2021</td>\n",
       "      <td>TV-MA</td>\n",
       "      <td>2 Seasons</td>\n",
       "      <td>International TV Shows, TV Dramas, TV Mysteries</td>\n",
       "      <td>After crossing paths at a party, a Cape Town t...</td>\n",
       "    </tr>\n",
       "    <tr>\n",
       "      <th>2</th>\n",
       "      <td>s3</td>\n",
       "      <td>TV Show</td>\n",
       "      <td>Ganglands</td>\n",
       "      <td>Julien Leclercq</td>\n",
       "      <td>Sami Bouajila, Tracy Gotoas, Samuel Jouy, Nabi...</td>\n",
       "      <td>NaN</td>\n",
       "      <td>September 24, 2021</td>\n",
       "      <td>2021</td>\n",
       "      <td>TV-MA</td>\n",
       "      <td>1 Season</td>\n",
       "      <td>Crime TV Shows, International TV Shows, TV Act...</td>\n",
       "      <td>To protect his family from a powerful drug lor...</td>\n",
       "    </tr>\n",
       "    <tr>\n",
       "      <th>3</th>\n",
       "      <td>s4</td>\n",
       "      <td>TV Show</td>\n",
       "      <td>Jailbirds New Orleans</td>\n",
       "      <td>NaN</td>\n",
       "      <td>NaN</td>\n",
       "      <td>NaN</td>\n",
       "      <td>September 24, 2021</td>\n",
       "      <td>2021</td>\n",
       "      <td>TV-MA</td>\n",
       "      <td>1 Season</td>\n",
       "      <td>Docuseries, Reality TV</td>\n",
       "      <td>Feuds, flirtations and toilet talk go down amo...</td>\n",
       "    </tr>\n",
       "    <tr>\n",
       "      <th>4</th>\n",
       "      <td>s5</td>\n",
       "      <td>TV Show</td>\n",
       "      <td>Kota Factory</td>\n",
       "      <td>NaN</td>\n",
       "      <td>Mayur More, Jitendra Kumar, Ranjan Raj, Alam K...</td>\n",
       "      <td>India</td>\n",
       "      <td>September 24, 2021</td>\n",
       "      <td>2021</td>\n",
       "      <td>TV-MA</td>\n",
       "      <td>2 Seasons</td>\n",
       "      <td>International TV Shows, Romantic TV Shows, TV ...</td>\n",
       "      <td>In a city of coaching centers known to train I...</td>\n",
       "    </tr>\n",
       "  </tbody>\n",
       "</table>\n",
       "</div>"
      ],
      "text/plain": [
       "  show_id     type                  title         director  \\\n",
       "0      s1    Movie   Dick Johnson Is Dead  Kirsten Johnson   \n",
       "1      s2  TV Show          Blood & Water              NaN   \n",
       "2      s3  TV Show              Ganglands  Julien Leclercq   \n",
       "3      s4  TV Show  Jailbirds New Orleans              NaN   \n",
       "4      s5  TV Show           Kota Factory              NaN   \n",
       "\n",
       "                                                cast        country  \\\n",
       "0                                                NaN  United States   \n",
       "1  Ama Qamata, Khosi Ngema, Gail Mabalane, Thaban...   South Africa   \n",
       "2  Sami Bouajila, Tracy Gotoas, Samuel Jouy, Nabi...            NaN   \n",
       "3                                                NaN            NaN   \n",
       "4  Mayur More, Jitendra Kumar, Ranjan Raj, Alam K...          India   \n",
       "\n",
       "           date_added  release_year rating   duration  \\\n",
       "0  September 25, 2021          2020  PG-13     90 min   \n",
       "1  September 24, 2021          2021  TV-MA  2 Seasons   \n",
       "2  September 24, 2021          2021  TV-MA   1 Season   \n",
       "3  September 24, 2021          2021  TV-MA   1 Season   \n",
       "4  September 24, 2021          2021  TV-MA  2 Seasons   \n",
       "\n",
       "                                           listed_in  \\\n",
       "0                                      Documentaries   \n",
       "1    International TV Shows, TV Dramas, TV Mysteries   \n",
       "2  Crime TV Shows, International TV Shows, TV Act...   \n",
       "3                             Docuseries, Reality TV   \n",
       "4  International TV Shows, Romantic TV Shows, TV ...   \n",
       "\n",
       "                                         description  \n",
       "0  As her father nears the end of his life, filmm...  \n",
       "1  After crossing paths at a party, a Cape Town t...  \n",
       "2  To protect his family from a powerful drug lor...  \n",
       "3  Feuds, flirtations and toilet talk go down amo...  \n",
       "4  In a city of coaching centers known to train I...  "
      ]
     },
     "execution_count": 2,
     "metadata": {},
     "output_type": "execute_result"
    }
   ],
   "source": [
    "df = pd.read_csv(\"https://raw.githubusercontent.com/sahinozan/Netflix-Movies-TV-Shows/main/netflix_titles.csv\", encoding=\"utf-8\")\n",
    "df.head()"
   ]
  },
  {
   "cell_type": "markdown",
   "id": "1ea1ae22",
   "metadata": {
    "papermill": {
     "duration": 0.010041,
     "end_time": "2022-09-24T12:22:09.531225",
     "exception": false,
     "start_time": "2022-09-24T12:22:09.521184",
     "status": "completed"
    },
    "tags": []
   },
   "source": [
    "<div id=\"understanding-the-data\"\n",
    "     style = \"display: fill;\n",
    "              border-radius: 10px;\n",
    "              background-color: #E50914;\">\n",
    "    <h2 style = \"padding: 15px; \n",
    "                 color: White;\n",
    "                 text-align: left;\n",
    "                 font-family: Trebuchet MS;\">3. Understanding the Data\n",
    "    </h2>\n",
    "</div>\n",
    "\n",
    "<body>\n",
    "    <div style=\"background-color: #FF6A74;\n",
    "                border: 2px solid;\n",
    "                border-radius: 10px;\n",
    "                padding-top: 10px;\n",
    "                padding-bottom: 10px;\n",
    "                padding-right: 20px;\n",
    "                padding-left: 20px;\n",
    "                border-color: #FF1100;\"> \n",
    "        <p style=\"font-family:verdana;\">Dataset consists of 12 features.</p>\n",
    "        <ol>\n",
    "            <li style=\"font-family:verdana;\"><b>show_id</b>: The unique id number of each show or movie\n",
    "                <ul>\n",
    "                    <li style=\"font-family:verdana;\">s1</li>\n",
    "                    <li style=\"font-family:verdana;\">s2</li>\n",
    "                    <li style=\"font-family:verdana;\">s3</li>\n",
    "                    <li style=\"font-family:verdana;\">...</li>\n",
    "                </ul>\n",
    "            </li>\n",
    "            <li style=\"font-family:verdana;\"><b>type</b>: Type of the content\n",
    "                <ul>\n",
    "                    <li style=\"font-family:verdana;\">Movie</li>\n",
    "                    <li style=\"font-family:verdana;\">TV Show</li>\n",
    "                </ul>\n",
    "            </li>\n",
    "            <li style=\"font-family:verdana;\"><b>title</b>: Title of the content\n",
    "                <ul>\n",
    "                    <li style=\"font-family:verdana;\">The Starling</li>\n",
    "                    <li style=\"font-family:verdana;\">Squid Game</li>\n",
    "                    <li style=\"font-family:verdana;\">Jaws: The Revenge</li>\n",
    "                    <li style=\"font-family:verdana;\">...</li>\n",
    "                </ul>\n",
    "            </li>\n",
    "            <li style=\"font-family:verdana;\"><b>director</b>: Name of the director for that movie or show\n",
    "                <ul>\n",
    "                    <li style=\"font-family:verdana;\">Steven Spielberg</li>\n",
    "                    <li style=\"font-family:verdana;\">Cédric Jimenez</li>\n",
    "                    <li style=\"font-family:verdana;\">Hirotsugu Kawasaki</li>\n",
    "                    <li style=\"font-family:verdana;\">...</li>\n",
    "                </ul>\n",
    "            </li>\n",
    "            <li style=\"font-family:verdana;\"><b>cast</b>: Names of the cast for that movie or show\n",
    "                <ul>\n",
    "                    <li style=\"font-family:verdana;\">Ama Qamata, Khosi Ngema, Gail Mabalane, Thabang Molaba, Dillon Windvogel, Natasha Thahane...</li>\n",
    "                    <li style=\"font-family:verdana;\">Antti Pääkkönen, Heljä Heikkinen, Lynne Guaglione, Pasi Ruohonen, Rauno Ahonen...</li>\n",
    "                    <li style=\"font-family:verdana;\">Luna Wedler, Jannis Niewöhner, Milan Peschel, Edin Hasanović...</li>\n",
    "                    <li style=\"font-family:verdana;\">...</li>\n",
    "                </ul>\n",
    "            </li>\n",
    "            <li style=\"font-family:verdana;\"><b>country</b>: List of countries in which the content is available\n",
    "                <ul>\n",
    "                    <li style=\"font-family:verdana;\">United States, South Africa, India...</li>\n",
    "                    <li style=\"font-family:verdana;\">United States, United Kingdom, Canada, Germany...</li>\n",
    "                    <li style=\"font-family:verdana;\">Canada, France, Japan, Russia...</li>\n",
    "                    <li style=\"font-family:verdana;\">...</li>\n",
    "                </ul>\n",
    "            </li>\n",
    "            <li style=\"font-family:verdana;\"><b>date_added</b>: The date the content was added\n",
    "                <ul>\n",
    "                    <li style=\"font-family:verdana;\">September 25, 2021</li>\n",
    "                    <li style=\"font-family:verdana;\">September 22, 2021</li>\n",
    "                    <li style=\"font-family:verdana;\">August 23, 2021</li>\n",
    "                    <li style=\"font-family:verdana;\">...</li>\n",
    "                </ul>\n",
    "            </li>\n",
    "            <li style=\"font-family:verdana;\"><b>release_year</b>: Release year of the content\n",
    "                <ul>\n",
    "                    <li style=\"font-family:verdana;\">2020</li>\n",
    "                    <li style=\"font-family:verdana;\">2014</li>\n",
    "                    <li style=\"font-family:verdana;\">2006</li>\n",
    "                    <li style=\"font-family:verdana;\">...</li>\n",
    "                </ul>\n",
    "            </li>\n",
    "            <li style=\"font-family:verdana;\"><b>rating</b>: Motion picture content rating\n",
    "                <ul>\n",
    "                    <li style=\"font-family:verdana;\">PG-13</li>\n",
    "                    <li style=\"font-family:verdana;\">TV-14</li>\n",
    "                    <li style=\"font-family:verdana;\">R</li>\n",
    "                    <li style=\"font-family:verdana;\">...</li>\n",
    "                </ul>\n",
    "            </li>\n",
    "            <li style=\"font-family:verdana;\"><b>duration</b>: Total duration of the content\n",
    "                <ul>\n",
    "                    <li style=\"font-family:verdana;\">90 min</li>\n",
    "                    <li style=\"font-family:verdana;\">2 seasons</li>\n",
    "                    <li style=\"font-family:verdana;\">48 min</li>\n",
    "                    <li style=\"font-family:verdana;\">...</li>\n",
    "                </ul>\n",
    "            </li>\n",
    "            <li style=\"font-family:verdana;\"><b>listed_in</b>: List of categories where content is listed\n",
    "                <ul>\n",
    "                    <li style=\"font-family:verdana;\">Documentaries, International TV Shows, TV Dramas, TV Mysteries...</li>\n",
    "                    <li style=\"font-family:verdana;\">Comedies, Dramas, International Movies...</li>\n",
    "                    <li style=\"font-family:verdana;\">Documentaries, TV Dramas, Comedies...</li>\n",
    "                    <li style=\"font-family:verdana;\">...</li>\n",
    "                </ul>\n",
    "            </li>\n",
    "            <li style=\"font-family:verdana;\"><b>description</b>: Short description about the content\n",
    "                <ul>\n",
    "                    <li style=\"font-family:verdana;\">As her father nears the end of his life, filmmaker Kirsten Johnson stages his death in inventive and comical ways to help them both face the inevitable</li>\n",
    "                    <li style=\"font-family:verdana;\">After crossing paths at a party, a Cape Town teen sets out to prove whether a private-school swimming star is her sister who was abducted at birth</li>\n",
    "                    <li style=\"font-family:verdana;\">Tayo speeds into an adventure when his friends get kidnapped by evil magicians invading their city in search of a magical gemstone</li>\n",
    "                    <li style=\"font-family:verdana;\">...</li>\n",
    "                </ul>\n",
    "            </li>\n",
    "        </ol>\n",
    "    </div>\n",
    "</body>"
   ]
  },
  {
   "cell_type": "markdown",
   "id": "814d52a6",
   "metadata": {
    "papermill": {
     "duration": 0.009843,
     "end_time": "2022-09-24T12:22:09.551329",
     "exception": false,
     "start_time": "2022-09-24T12:22:09.541486",
     "status": "completed"
    },
    "tags": []
   },
   "source": [
    "<div id=\"checking-null-values\"\n",
    "     style = \"display: fill;\n",
    "              border-radius: 10px;\n",
    "              background-color: #E50914;\">\n",
    "    <h3 style = \"padding: 15px; \n",
    "                 color: White;\n",
    "                 text-align: left;\n",
    "                 font-family: Trebuchet MS;\">3.1 Checking Null Values\n",
    "    </h3>\n",
    "</div>\n",
    "\n",
    "<body>\n",
    "    <div style=\"background-color: #FF6A74;\n",
    "                border: 2px solid;\n",
    "                border-radius: 10px;\n",
    "                padding-top: 10px;\n",
    "                padding-bottom: 10px;\n",
    "                padding-right: 20px;\n",
    "                padding-left: 20px;\n",
    "                border-color: #FF1100;\"> \n",
    "        <p></p>\n",
    "        <p style=\"font-family:verdana;\">Let's first check if there are any null values in the dataset.</p>\n",
    "    </div>\n",
    "</body>"
   ]
  },
  {
   "cell_type": "code",
   "execution_count": 3,
   "id": "bb87b4d2",
   "metadata": {
    "execution": {
     "iopub.execute_input": "2022-09-24T12:22:09.574275Z",
     "iopub.status.busy": "2022-09-24T12:22:09.573817Z",
     "iopub.status.idle": "2022-09-24T12:22:09.589327Z",
     "shell.execute_reply": "2022-09-24T12:22:09.588342Z"
    },
    "papermill": {
     "duration": 0.029701,
     "end_time": "2022-09-24T12:22:09.591510",
     "exception": false,
     "start_time": "2022-09-24T12:22:09.561809",
     "status": "completed"
    },
    "tags": []
   },
   "outputs": [
    {
     "data": {
      "text/plain": [
       "director        2634\n",
       "country          831\n",
       "cast             825\n",
       "date_added        10\n",
       "rating             4\n",
       "duration           3\n",
       "show_id            0\n",
       "type               0\n",
       "title              0\n",
       "release_year       0\n",
       "listed_in          0\n",
       "description        0\n",
       "dtype: int64"
      ]
     },
     "execution_count": 3,
     "metadata": {},
     "output_type": "execute_result"
    }
   ],
   "source": [
    "df.isna().sum().sort_values(ascending=False)"
   ]
  },
  {
   "cell_type": "markdown",
   "id": "9db6c2b3",
   "metadata": {
    "papermill": {
     "duration": 0.009997,
     "end_time": "2022-09-24T12:22:09.612090",
     "exception": false,
     "start_time": "2022-09-24T12:22:09.602093",
     "status": "completed"
    },
    "tags": []
   },
   "source": [
    "<body>\n",
    "    <div style=\"background-color: #FF6A74;\n",
    "                border: 2px solid;\n",
    "                border-radius: 10px;\n",
    "                padding-top: 10px;\n",
    "                padding-bottom: 10px;\n",
    "                padding-right: 20px;\n",
    "                padding-left: 20px;\n",
    "                border-color: #FF1100;\"> \n",
    "        <p></p>\n",
    "        <p style=\"font-family:verdana;\">Let's first check if there are any null values in the dataset.</p>\n",
    "        <ul>\n",
    "            <li style=\"font-family:verdana;\">There are small amount of null values in the <b>date_added</b>, <b>rating</b>, <b>duration</b> columns.</li>\n",
    "            <li style=\"font-family:verdana;\">Meanwhile, there are large amount of null values in the <b>country</b>, <b>cast</b>, <b>director</b> columns.</li>\n",
    "        </ul>\n",
    "    </div>\n",
    "</body>"
   ]
  },
  {
   "cell_type": "markdown",
   "id": "13ff1f4a",
   "metadata": {
    "papermill": {
     "duration": 0.010036,
     "end_time": "2022-09-24T12:22:09.632518",
     "exception": false,
     "start_time": "2022-09-24T12:22:09.622482",
     "status": "completed"
    },
    "tags": []
   },
   "source": [
    "<div id=\"optimizing-the-dataset\"\n",
    "     style = \"display: fill;\n",
    "              border-radius: 10px;\n",
    "              background-color: #E50914;\">\n",
    "    <h3 style = \"padding: 15px; \n",
    "                 color: White;\n",
    "                 text-align: left;\n",
    "                 font-family: Trebuchet MS;\">3.2 Optimizing the Dataset\n",
    "    </h3>\n",
    "</div>\n",
    "\n",
    "<body>\n",
    "    <div style=\"background-color: #FF6A74;\n",
    "                border: 2px solid;\n",
    "                padding-top: 10px;\n",
    "                padding-bottom: 10px;\n",
    "                padding-right: 20px;\n",
    "                padding-left: 20px;\n",
    "                border-radius: 10px;\n",
    "                border-color: #FF1100;\"> \n",
    "        <p></p>\n",
    "        <p style=\"font-family:verdana;\">Many of the features are <b>object</b> type. We can convert those features into more specific and compact types to save memory and increase efficiency.</p>\n",
    "    </div>\n",
    "</body>\n"
   ]
  },
  {
   "cell_type": "code",
   "execution_count": 4,
   "id": "73d6e585",
   "metadata": {
    "execution": {
     "iopub.execute_input": "2022-09-24T12:22:09.655593Z",
     "iopub.status.busy": "2022-09-24T12:22:09.654760Z",
     "iopub.status.idle": "2022-09-24T12:22:09.683145Z",
     "shell.execute_reply": "2022-09-24T12:22:09.682343Z"
    },
    "papermill": {
     "duration": 0.043197,
     "end_time": "2022-09-24T12:22:09.686228",
     "exception": false,
     "start_time": "2022-09-24T12:22:09.643031",
     "status": "completed"
    },
    "tags": []
   },
   "outputs": [
    {
     "name": "stdout",
     "output_type": "stream",
     "text": [
      "<class 'pandas.core.frame.DataFrame'>\n",
      "RangeIndex: 8807 entries, 0 to 8806\n",
      "Data columns (total 12 columns):\n",
      " #   Column        Non-Null Count  Dtype \n",
      "---  ------        --------------  ----- \n",
      " 0   show_id       8807 non-null   object\n",
      " 1   type          8807 non-null   object\n",
      " 2   title         8807 non-null   object\n",
      " 3   director      6173 non-null   object\n",
      " 4   cast          7982 non-null   object\n",
      " 5   country       7976 non-null   object\n",
      " 6   date_added    8797 non-null   object\n",
      " 7   release_year  8807 non-null   int64 \n",
      " 8   rating        8803 non-null   object\n",
      " 9   duration      8804 non-null   object\n",
      " 10  listed_in     8807 non-null   object\n",
      " 11  description   8807 non-null   object\n",
      "dtypes: int64(1), object(11)\n",
      "memory usage: 825.8+ KB\n"
     ]
    }
   ],
   "source": [
    "df.info()"
   ]
  },
  {
   "cell_type": "markdown",
   "id": "d4306a58",
   "metadata": {
    "papermill": {
     "duration": 0.010401,
     "end_time": "2022-09-24T12:22:09.708174",
     "exception": false,
     "start_time": "2022-09-24T12:22:09.697773",
     "status": "completed"
    },
    "tags": []
   },
   "source": [
    "<body>\n",
    "    <div style=\"background-color: #FF6A74;\n",
    "                border: 2px solid;\n",
    "                border-radius: 10px;\n",
    "                padding-top: 10px;\n",
    "                padding-bottom: 10px;\n",
    "                padding-right: 20px;\n",
    "                padding-left: 20px;\n",
    "                border-color: #FF1100;\"> \n",
    "        <p></p>\n",
    "        <p style=\"font-family:verdana;\">Let's first check the number of unique values for each feature to make the conversion process easier..</p>\n",
    "    </div>\n",
    "</body>"
   ]
  },
  {
   "cell_type": "code",
   "execution_count": 5,
   "id": "a3e9f465",
   "metadata": {
    "execution": {
     "iopub.execute_input": "2022-09-24T12:22:09.731264Z",
     "iopub.status.busy": "2022-09-24T12:22:09.730493Z",
     "iopub.status.idle": "2022-09-24T12:22:09.756166Z",
     "shell.execute_reply": "2022-09-24T12:22:09.754917Z"
    },
    "papermill": {
     "duration": 0.040952,
     "end_time": "2022-09-24T12:22:09.759540",
     "exception": false,
     "start_time": "2022-09-24T12:22:09.718588",
     "status": "completed"
    },
    "tags": []
   },
   "outputs": [
    {
     "name": "stdout",
     "output_type": "stream",
     "text": [
      "Number of unique values in the show_id column: 8807\n",
      "Number of unique values in the type column: 2\n",
      "Number of unique values in the title column: 8807\n",
      "Number of unique values in the director column: 4528\n",
      "Number of unique values in the cast column: 7692\n",
      "Number of unique values in the country column: 748\n",
      "Number of unique values in the date_added column: 1767\n",
      "Number of unique values in the release_year column: 74\n",
      "Number of unique values in the rating column: 17\n",
      "Number of unique values in the duration column: 220\n",
      "Number of unique values in the listed_in column: 514\n",
      "Number of unique values in the description column: 8775\n"
     ]
    }
   ],
   "source": [
    "for i in df.columns:\n",
    "    print(f\"Number of unique values in the {i} column: {df[i].nunique()}\")"
   ]
  },
  {
   "cell_type": "markdown",
   "id": "68a3da4f",
   "metadata": {
    "papermill": {
     "duration": 0.010441,
     "end_time": "2022-09-24T12:22:09.782253",
     "exception": false,
     "start_time": "2022-09-24T12:22:09.771812",
     "status": "completed"
    },
    "tags": []
   },
   "source": [
    "<body>\n",
    "    <div style=\"background-color: #FF6A74;\n",
    "                border: 2px solid;\n",
    "                border-radius: 10px;\n",
    "                padding-top: 10px;\n",
    "                padding-bottom: 10px;\n",
    "                padding-right: 20px;\n",
    "                padding-left: 20px;\n",
    "                border-color: #FF1100;\"> \n",
    "        <p></p>\n",
    "        <p style=\"font-family:verdana;\">Some of the columns contain less unique values. These will be the ones that we do conversion on them. Columns that contain less unique values:</p>\n",
    "        <ul>\n",
    "            <li><b>type</b></li>\n",
    "            <li><b>release_year</b></li>\n",
    "            <li><b>rating</b></li>\n",
    "        </ul>         \n",
    "        <p style=\"font-family:verdana;\">Other interesting features are <b>show_id</b>, <b>title</b>, and <b>description</b>. They contain unique values for each row. I will check them first to see what is going.</p>\n",
    "    </div>\n",
    "</body>\n",
    "\n"
   ]
  },
  {
   "cell_type": "code",
   "execution_count": 6,
   "id": "c79b1975",
   "metadata": {
    "execution": {
     "iopub.execute_input": "2022-09-24T12:22:09.805440Z",
     "iopub.status.busy": "2022-09-24T12:22:09.805003Z",
     "iopub.status.idle": "2022-09-24T12:22:09.814843Z",
     "shell.execute_reply": "2022-09-24T12:22:09.813495Z"
    },
    "papermill": {
     "duration": 0.023931,
     "end_time": "2022-09-24T12:22:09.816979",
     "exception": false,
     "start_time": "2022-09-24T12:22:09.793048",
     "status": "completed"
    },
    "tags": []
   },
   "outputs": [
    {
     "name": "stdout",
     "output_type": "stream",
     "text": [
      "Number of unique values: 8807\n",
      "['s1' 's2' 's3' ... 's8805' 's8806' 's8807']\n"
     ]
    }
   ],
   "source": [
    "print(\"Number of unique values:\", df[\"show_id\"].nunique())\n",
    "print(df[\"show_id\"].unique())"
   ]
  },
  {
   "cell_type": "markdown",
   "id": "da8974e3",
   "metadata": {
    "papermill": {
     "duration": 0.010153,
     "end_time": "2022-09-24T12:22:09.838048",
     "exception": false,
     "start_time": "2022-09-24T12:22:09.827895",
     "status": "completed"
    },
    "tags": []
   },
   "source": [
    "<body>\n",
    "    <div style=\"background-color: #FF6A74;\n",
    "                border: 2px solid;\n",
    "                border-radius: 10px;\n",
    "                padding-top: 10px;\n",
    "                padding-bottom: 10px;\n",
    "                padding-right: 20px;\n",
    "                padding-left: 20px;\n",
    "                border-color: #FF1100;\"> \n",
    "        <p></p>\n",
    "        <p style=\"font-family:verdana;\">There is a unique value for each show. I don't understand the point of this feature. It only contains the values starting from 1 to 8807 which is basically an index for every row. The problem is that we already have that information stored in our dataframe so, I will remove this feature because it doesn't contain any valuable information for the analysis.</p>\n",
    "    </div>\n",
    "</body>"
   ]
  },
  {
   "cell_type": "code",
   "execution_count": 7,
   "id": "8fbdc6af",
   "metadata": {
    "execution": {
     "iopub.execute_input": "2022-09-24T12:22:09.861486Z",
     "iopub.status.busy": "2022-09-24T12:22:09.860786Z",
     "iopub.status.idle": "2022-09-24T12:22:09.868801Z",
     "shell.execute_reply": "2022-09-24T12:22:09.867528Z"
    },
    "papermill": {
     "duration": 0.022837,
     "end_time": "2022-09-24T12:22:09.871261",
     "exception": false,
     "start_time": "2022-09-24T12:22:09.848424",
     "status": "completed"
    },
    "tags": []
   },
   "outputs": [],
   "source": [
    "df.drop(labels=\"show_id\", axis=1, inplace=True)"
   ]
  },
  {
   "cell_type": "code",
   "execution_count": 8,
   "id": "b87cee03",
   "metadata": {
    "execution": {
     "iopub.execute_input": "2022-09-24T12:22:09.894886Z",
     "iopub.status.busy": "2022-09-24T12:22:09.894455Z",
     "iopub.status.idle": "2022-09-24T12:22:09.905369Z",
     "shell.execute_reply": "2022-09-24T12:22:09.903637Z"
    },
    "papermill": {
     "duration": 0.025683,
     "end_time": "2022-09-24T12:22:09.907999",
     "exception": false,
     "start_time": "2022-09-24T12:22:09.882316",
     "status": "completed"
    },
    "tags": []
   },
   "outputs": [
    {
     "name": "stdout",
     "output_type": "stream",
     "text": [
      "Number of unique values: 8807\n",
      "['Dick Johnson Is Dead' 'Blood & Water' 'Ganglands' ... 'Zombieland'\n",
      " 'Zoom' 'Zubaan']\n"
     ]
    }
   ],
   "source": [
    "print(\"Number of unique values:\", df[\"title\"].nunique())\n",
    "print(df[\"title\"].unique())"
   ]
  },
  {
   "cell_type": "markdown",
   "id": "6fa3f641",
   "metadata": {
    "papermill": {
     "duration": 0.010258,
     "end_time": "2022-09-24T12:22:09.928957",
     "exception": false,
     "start_time": "2022-09-24T12:22:09.918699",
     "status": "completed"
    },
    "tags": []
   },
   "source": [
    "<body>\n",
    "    <div style=\"background-color: #FF6A74;\n",
    "                border: 2px solid;\n",
    "                border-radius: 10px;\n",
    "                padding-top: 10px;\n",
    "                padding-bottom: 10px;\n",
    "                padding-right: 20px;\n",
    "                padding-left: 20px;\n",
    "                border-color: #FF1100;\"> \n",
    "        <p></p>\n",
    "        <p style=\"font-family:verdana;\">Similar to <b>show_id</b>, this column also contains unique values for each show but the difference is that these values are not just integers like an index value. These values contain the name of the each show which is probably will be used in the analysis. Therefore, I will not remove this feature.</p>\n",
    "    </div>\n",
    "</body>"
   ]
  },
  {
   "cell_type": "code",
   "execution_count": 9,
   "id": "62db5f13",
   "metadata": {
    "execution": {
     "iopub.execute_input": "2022-09-24T12:22:09.952613Z",
     "iopub.status.busy": "2022-09-24T12:22:09.952206Z",
     "iopub.status.idle": "2022-09-24T12:22:09.968622Z",
     "shell.execute_reply": "2022-09-24T12:22:09.967365Z"
    },
    "papermill": {
     "duration": 0.031485,
     "end_time": "2022-09-24T12:22:09.971057",
     "exception": false,
     "start_time": "2022-09-24T12:22:09.939572",
     "status": "completed"
    },
    "tags": []
   },
   "outputs": [
    {
     "name": "stdout",
     "output_type": "stream",
     "text": [
      "Number of unique values: 8775\n",
      "['As her father nears the end of his life, filmmaker Kirsten Johnson stages his death in inventive and comical ways to help them both face the inevitable.'\n",
      " 'After crossing paths at a party, a Cape Town teen sets out to prove whether a private-school swimming star is her sister who was abducted at birth.'\n",
      " 'To protect his family from a powerful drug lord, skilled thief Mehdi and his expert team of robbers are pulled into a violent and deadly turf war.'\n",
      " ...\n",
      " 'Looking to survive in a world taken over by zombies, a dorky college student teams with an urban roughneck and a pair of grifter sisters.'\n",
      " 'Dragged from civilian life, a former superhero must train a new crop of youthful saviors when the military preps for an attack by a familiar villain.'\n",
      " \"A scrappy but poor boy worms his way into a tycoon's dysfunctional family, while facing his fear of music and the truth about his past.\"]\n"
     ]
    }
   ],
   "source": [
    "print(\"Number of unique values:\", df[\"description\"].nunique())\n",
    "print(df[\"description\"].unique())"
   ]
  },
  {
   "cell_type": "markdown",
   "id": "3d2bab29",
   "metadata": {
    "papermill": {
     "duration": 0.010349,
     "end_time": "2022-09-24T12:22:09.992232",
     "exception": false,
     "start_time": "2022-09-24T12:22:09.981883",
     "status": "completed"
    },
    "tags": []
   },
   "source": [
    "<body>\n",
    "    <div style=\"background-color: #FF6A74;\n",
    "                border: 2px solid;\n",
    "                border-radius: 10px;\n",
    "                padding-top: 10px;\n",
    "                padding-bottom: 10px;\n",
    "                padding-right: 20px;\n",
    "                padding-left: 20px;\n",
    "                border-color: #FF1100;\"> \n",
    "        <p></p>\n",
    "        <p style=\"font-family:verdana;\">Similar to <b>title</b>, this column also contains unique values for each show. These values contain the short description of the each show which we may use it in the analysis. Therefore, I will not remove this feature.</p>\n",
    "    </div>\n",
    "</body>"
   ]
  },
  {
   "cell_type": "code",
   "execution_count": 10,
   "id": "73265843",
   "metadata": {
    "execution": {
     "iopub.execute_input": "2022-09-24T12:22:10.015415Z",
     "iopub.status.busy": "2022-09-24T12:22:10.014665Z",
     "iopub.status.idle": "2022-09-24T12:22:10.022393Z",
     "shell.execute_reply": "2022-09-24T12:22:10.021093Z"
    },
    "papermill": {
     "duration": 0.021797,
     "end_time": "2022-09-24T12:22:10.024615",
     "exception": false,
     "start_time": "2022-09-24T12:22:10.002818",
     "status": "completed"
    },
    "tags": []
   },
   "outputs": [
    {
     "name": "stdout",
     "output_type": "stream",
     "text": [
      "Number of unique values: 2\n",
      "['Movie' 'TV Show']\n"
     ]
    }
   ],
   "source": [
    "print(\"Number of unique values:\", df[\"type\"].nunique())\n",
    "print(df[\"type\"].unique())"
   ]
  },
  {
   "cell_type": "markdown",
   "id": "80cc98b8",
   "metadata": {
    "papermill": {
     "duration": 0.010332,
     "end_time": "2022-09-24T12:22:10.045954",
     "exception": false,
     "start_time": "2022-09-24T12:22:10.035622",
     "status": "completed"
    },
    "tags": []
   },
   "source": [
    "<body>\n",
    "    <div style=\"background-color: #FF6A74;\n",
    "                border: 2px solid;\n",
    "                border-radius: 10px;\n",
    "                padding-top: 10px;\n",
    "                padding-bottom: 10px;\n",
    "                padding-right: 20px;\n",
    "                padding-left: 20px;\n",
    "                border-color: #FF1100;\"> \n",
    "        <p></p>\n",
    "        <p style=\"font-family:verdana;\">There are only two unique values in the <b>type</b> column. These are essentially used to categorize the content into <b>Movie</b> or <b>TV-Show</b>. I will convert this feature into <b>category</b> type.</p>\n",
    "    </div>\n",
    "</body>"
   ]
  },
  {
   "cell_type": "code",
   "execution_count": 11,
   "id": "fb8a927c",
   "metadata": {
    "execution": {
     "iopub.execute_input": "2022-09-24T12:22:10.070284Z",
     "iopub.status.busy": "2022-09-24T12:22:10.069517Z",
     "iopub.status.idle": "2022-09-24T12:22:10.077404Z",
     "shell.execute_reply": "2022-09-24T12:22:10.076429Z"
    },
    "papermill": {
     "duration": 0.023157,
     "end_time": "2022-09-24T12:22:10.080037",
     "exception": false,
     "start_time": "2022-09-24T12:22:10.056880",
     "status": "completed"
    },
    "tags": []
   },
   "outputs": [],
   "source": [
    "df[\"type\"] = df[\"type\"].astype(\"category\")"
   ]
  },
  {
   "cell_type": "code",
   "execution_count": 12,
   "id": "dea1de3d",
   "metadata": {
    "execution": {
     "iopub.execute_input": "2022-09-24T12:22:10.104054Z",
     "iopub.status.busy": "2022-09-24T12:22:10.102860Z",
     "iopub.status.idle": "2022-09-24T12:22:10.110294Z",
     "shell.execute_reply": "2022-09-24T12:22:10.109011Z"
    },
    "papermill": {
     "duration": 0.02144,
     "end_time": "2022-09-24T12:22:10.112436",
     "exception": false,
     "start_time": "2022-09-24T12:22:10.090996",
     "status": "completed"
    },
    "tags": []
   },
   "outputs": [
    {
     "name": "stdout",
     "output_type": "stream",
     "text": [
      "Number of unique values: 74\n",
      "[2020 2021 1993 2018 1996 1998 1997 2010 2013 2017 1975 1978 1983 1987\n",
      " 2012 2001 2014 2002 2003 2004 2011 2008 2009 2007 2005 2006 1994 2015\n",
      " 2019 2016 1982 1989 1990 1991 1999 1986 1992 1984 1980 1961 2000 1995\n",
      " 1985 1976 1959 1988 1981 1972 1964 1945 1954 1979 1958 1956 1963 1970\n",
      " 1973 1925 1974 1960 1966 1971 1962 1969 1977 1967 1968 1965 1946 1942\n",
      " 1955 1944 1947 1943]\n"
     ]
    }
   ],
   "source": [
    "print(\"Number of unique values:\", df[\"release_year\"].nunique())\n",
    "print(df[\"release_year\"].unique())"
   ]
  },
  {
   "cell_type": "markdown",
   "id": "848b4353",
   "metadata": {
    "papermill": {
     "duration": 0.01071,
     "end_time": "2022-09-24T12:22:10.134014",
     "exception": false,
     "start_time": "2022-09-24T12:22:10.123304",
     "status": "completed"
    },
    "tags": []
   },
   "source": [
    "<body>\n",
    "    <div style=\"background-color: #FF6A74;\n",
    "                border: 2px solid;\n",
    "                border-radius: 10px;\n",
    "                padding-top: 10px;\n",
    "                padding-bottom: 10px;\n",
    "                padding-right: 20px;\n",
    "                padding-left: 20px;\n",
    "                border-color: #FF1100;\"> \n",
    "        <p></p>\n",
    "        <p style=\"font-family:verdana;\">There are 74 unique values in the <b>release_year</b> column. Also, these are integer values. Smallest integer datatype that can hold these values is <b>int16</b>.</p>\n",
    "    </div>\n",
    "</body>"
   ]
  },
  {
   "cell_type": "code",
   "execution_count": 13,
   "id": "f66ad5f9",
   "metadata": {
    "execution": {
     "iopub.execute_input": "2022-09-24T12:22:10.157731Z",
     "iopub.status.busy": "2022-09-24T12:22:10.157044Z",
     "iopub.status.idle": "2022-09-24T12:22:10.162797Z",
     "shell.execute_reply": "2022-09-24T12:22:10.161972Z"
    },
    "papermill": {
     "duration": 0.020024,
     "end_time": "2022-09-24T12:22:10.164896",
     "exception": false,
     "start_time": "2022-09-24T12:22:10.144872",
     "status": "completed"
    },
    "tags": []
   },
   "outputs": [],
   "source": [
    "df[\"release_year\"] = df[\"release_year\"].astype(\"int16\")"
   ]
  },
  {
   "cell_type": "code",
   "execution_count": 14,
   "id": "b679e400",
   "metadata": {
    "execution": {
     "iopub.execute_input": "2022-09-24T12:22:10.188338Z",
     "iopub.status.busy": "2022-09-24T12:22:10.187899Z",
     "iopub.status.idle": "2022-09-24T12:22:10.196003Z",
     "shell.execute_reply": "2022-09-24T12:22:10.194749Z"
    },
    "papermill": {
     "duration": 0.022757,
     "end_time": "2022-09-24T12:22:10.198400",
     "exception": false,
     "start_time": "2022-09-24T12:22:10.175643",
     "status": "completed"
    },
    "tags": []
   },
   "outputs": [
    {
     "name": "stdout",
     "output_type": "stream",
     "text": [
      "Number of unique values: 17\n",
      "['PG-13' 'TV-MA' 'PG' 'TV-14' 'TV-PG' 'TV-Y' 'TV-Y7' 'R' 'TV-G' 'G'\n",
      " 'NC-17' '74 min' '84 min' '66 min' 'NR' nan 'TV-Y7-FV' 'UR']\n"
     ]
    }
   ],
   "source": [
    "print(\"Number of unique values:\", df[\"rating\"].nunique())\n",
    "print(df[\"rating\"].unique())"
   ]
  },
  {
   "cell_type": "markdown",
   "id": "dead3764",
   "metadata": {
    "papermill": {
     "duration": 0.010581,
     "end_time": "2022-09-24T12:22:10.219726",
     "exception": false,
     "start_time": "2022-09-24T12:22:10.209145",
     "status": "completed"
    },
    "tags": []
   },
   "source": [
    "<body>\n",
    "    <div style=\"background-color: #FF6A74;\n",
    "                border: 2px solid;\n",
    "                border-radius: 10px;\n",
    "                padding-top: 10px;\n",
    "                padding-bottom: 10px;\n",
    "                padding-right: 20px;\n",
    "                padding-left: 20px;\n",
    "                border-color: #FF1100;\"> \n",
    "        <p></p>\n",
    "        <p style=\"font-family:verdana;\">There are 17 unique values in the <b>rating</b> column. These values contain both integers and strings. Therefore, we will convert this column into <b>category</b> type.</p>\n",
    "    </div>\n",
    "</body>"
   ]
  },
  {
   "cell_type": "code",
   "execution_count": 15,
   "id": "e2ccfbab",
   "metadata": {
    "execution": {
     "iopub.execute_input": "2022-09-24T12:22:10.243464Z",
     "iopub.status.busy": "2022-09-24T12:22:10.242814Z",
     "iopub.status.idle": "2022-09-24T12:22:10.250025Z",
     "shell.execute_reply": "2022-09-24T12:22:10.249230Z"
    },
    "papermill": {
     "duration": 0.021737,
     "end_time": "2022-09-24T12:22:10.252237",
     "exception": false,
     "start_time": "2022-09-24T12:22:10.230500",
     "status": "completed"
    },
    "tags": []
   },
   "outputs": [],
   "source": [
    "df[\"rating\"] = df[\"rating\"].astype(\"category\")"
   ]
  },
  {
   "cell_type": "code",
   "execution_count": 16,
   "id": "65121c03",
   "metadata": {
    "execution": {
     "iopub.execute_input": "2022-09-24T12:22:10.276230Z",
     "iopub.status.busy": "2022-09-24T12:22:10.275235Z",
     "iopub.status.idle": "2022-09-24T12:22:10.282298Z",
     "shell.execute_reply": "2022-09-24T12:22:10.281305Z"
    },
    "papermill": {
     "duration": 0.021503,
     "end_time": "2022-09-24T12:22:10.284637",
     "exception": false,
     "start_time": "2022-09-24T12:22:10.263134",
     "status": "completed"
    },
    "tags": []
   },
   "outputs": [
    {
     "name": "stdout",
     "output_type": "stream",
     "text": [
      "Number of unique values: 220\n",
      "['90 min' '2 Seasons' '1 Season' '91 min' '125 min' '9 Seasons' '104 min'\n",
      " '127 min' '4 Seasons' '67 min' '94 min' '5 Seasons' '161 min' '61 min'\n",
      " '166 min' '147 min' '103 min' '97 min' '106 min' '111 min']\n"
     ]
    }
   ],
   "source": [
    "print(\"Number of unique values:\", df[\"duration\"].nunique())\n",
    "print(df.loc[:30, \"duration\"].unique())"
   ]
  },
  {
   "cell_type": "markdown",
   "id": "4914d230",
   "metadata": {
    "papermill": {
     "duration": 0.01079,
     "end_time": "2022-09-24T12:22:10.306319",
     "exception": false,
     "start_time": "2022-09-24T12:22:10.295529",
     "status": "completed"
    },
    "tags": []
   },
   "source": [
    "<body>\n",
    "    <div style=\"background-color: #FF6A74;\n",
    "                border: 2px solid;\n",
    "                border-radius: 10px;\n",
    "                padding-top: 10px;\n",
    "                padding-bottom: 10px;\n",
    "                padding-right: 20px;\n",
    "                padding-left: 20px;\n",
    "                border-color: #FF1100;\"> \n",
    "        <p></p>\n",
    "        <p style=\"font-family:verdana;\">There are 220 unique values in the <b>duration</b> column. Considering there are 8807 rows, there will be a lot of repetition. That's why I will convert it into <b>category</b> type.</p>\n",
    "    </div>\n",
    "</body>"
   ]
  },
  {
   "cell_type": "code",
   "execution_count": 17,
   "id": "4cde5f4a",
   "metadata": {
    "execution": {
     "iopub.execute_input": "2022-09-24T12:22:10.330153Z",
     "iopub.status.busy": "2022-09-24T12:22:10.329696Z",
     "iopub.status.idle": "2022-09-24T12:22:10.338599Z",
     "shell.execute_reply": "2022-09-24T12:22:10.337598Z"
    },
    "papermill": {
     "duration": 0.023544,
     "end_time": "2022-09-24T12:22:10.340937",
     "exception": false,
     "start_time": "2022-09-24T12:22:10.317393",
     "status": "completed"
    },
    "tags": []
   },
   "outputs": [],
   "source": [
    "df[\"duration\"] = df[\"duration\"].astype(\"category\")"
   ]
  },
  {
   "cell_type": "code",
   "execution_count": 18,
   "id": "77b1573e",
   "metadata": {
    "execution": {
     "iopub.execute_input": "2022-09-24T12:22:10.365440Z",
     "iopub.status.busy": "2022-09-24T12:22:10.364682Z",
     "iopub.status.idle": "2022-09-24T12:22:10.373940Z",
     "shell.execute_reply": "2022-09-24T12:22:10.372425Z"
    },
    "papermill": {
     "duration": 0.025446,
     "end_time": "2022-09-24T12:22:10.377545",
     "exception": false,
     "start_time": "2022-09-24T12:22:10.352099",
     "status": "completed"
    },
    "tags": []
   },
   "outputs": [
    {
     "name": "stdout",
     "output_type": "stream",
     "text": [
      "Number of unique values: 4528\n",
      "['Kirsten Johnson' nan 'Julien Leclercq' 'Mike Flanagan'\n",
      " 'Robert Cullen, José Luis Ucha' 'Haile Gerima' 'Andy Devonshire'\n",
      " 'Theodore Melfi' 'Kongkiat Komesiri' 'Christian Schwochow'\n",
      " 'Bruno Garotti' 'Pedro de Echave García, Pablo Azorín Williams'\n",
      " 'Adam Salky' 'Olivier Megaton']\n"
     ]
    }
   ],
   "source": [
    "print(\"Number of unique values:\", df[\"director\"].nunique())\n",
    "print(df.loc[:20, \"director\"].unique())"
   ]
  },
  {
   "cell_type": "markdown",
   "id": "5b24f211",
   "metadata": {
    "papermill": {
     "duration": 0.010721,
     "end_time": "2022-09-24T12:22:10.400010",
     "exception": false,
     "start_time": "2022-09-24T12:22:10.389289",
     "status": "completed"
    },
    "tags": []
   },
   "source": [
    "<body>\n",
    "    <div style=\"background-color: #FF6A74;\n",
    "                border: 2px solid;\n",
    "                border-radius: 10px;\n",
    "                padding-top: 10px;\n",
    "                padding-bottom: 10px;\n",
    "                padding-right: 20px;\n",
    "                padding-left: 20px;\n",
    "                border-color: #FF1100;\"> \n",
    "        <p></p>\n",
    "        <p style=\"font-family:verdana;\">There are 4528 unique values in the <b>director</b> column. Similar to <b>duration</b> column, there are way too many unique values for the <b>category</b> type. I will not convert it into <b>category</b> type.</p>\n",
    "    </div>\n",
    "</body>"
   ]
  },
  {
   "cell_type": "code",
   "execution_count": 19,
   "id": "5dd97c5b",
   "metadata": {
    "execution": {
     "iopub.execute_input": "2022-09-24T12:22:10.424801Z",
     "iopub.status.busy": "2022-09-24T12:22:10.424334Z",
     "iopub.status.idle": "2022-09-24T12:22:10.432435Z",
     "shell.execute_reply": "2022-09-24T12:22:10.431134Z"
    },
    "papermill": {
     "duration": 0.024112,
     "end_time": "2022-09-24T12:22:10.435506",
     "exception": false,
     "start_time": "2022-09-24T12:22:10.411394",
     "status": "completed"
    },
    "tags": []
   },
   "outputs": [
    {
     "name": "stdout",
     "output_type": "stream",
     "text": [
      "Number of unique values: 1767\n",
      "['September 25, 2021' 'September 24, 2021' 'September 23, 2021'\n",
      " 'September 22, 2021']\n"
     ]
    }
   ],
   "source": [
    "print(\"Number of unique values:\", df[\"date_added\"].nunique())\n",
    "print(df.loc[:20, \"date_added\"].unique())"
   ]
  },
  {
   "cell_type": "markdown",
   "id": "ad45eff9",
   "metadata": {
    "papermill": {
     "duration": 0.01076,
     "end_time": "2022-09-24T12:22:10.458557",
     "exception": false,
     "start_time": "2022-09-24T12:22:10.447797",
     "status": "completed"
    },
    "tags": []
   },
   "source": [
    "<body>\n",
    "    <div style=\"background-color: #FF6A74;\n",
    "                border: 2px solid;\n",
    "                border-radius: 10px;\n",
    "                padding-top: 10px;\n",
    "                padding-bottom: 10px;\n",
    "                padding-right: 20px;\n",
    "                padding-left: 20px;\n",
    "                border-color: #FF1100;\"> \n",
    "        <p></p>\n",
    "        <p style=\"font-family:verdana;\">There are 1767 unique values in the <b>date_added</b> columns. We can use <b>datetime64</b> type for this column. This will helps us to sort dates easier.</p>\n",
    "    </div>\n",
    "</body>"
   ]
  },
  {
   "cell_type": "code",
   "execution_count": 20,
   "id": "94a91e35",
   "metadata": {
    "execution": {
     "iopub.execute_input": "2022-09-24T12:22:10.482881Z",
     "iopub.status.busy": "2022-09-24T12:22:10.482269Z",
     "iopub.status.idle": "2022-09-24T12:22:10.686340Z",
     "shell.execute_reply": "2022-09-24T12:22:10.685174Z"
    },
    "papermill": {
     "duration": 0.219321,
     "end_time": "2022-09-24T12:22:10.688992",
     "exception": false,
     "start_time": "2022-09-24T12:22:10.469671",
     "status": "completed"
    },
    "tags": []
   },
   "outputs": [],
   "source": [
    "df[\"date_added\"] = df[\"date_added\"].astype(\"datetime64\")"
   ]
  },
  {
   "cell_type": "code",
   "execution_count": 21,
   "id": "2c331842",
   "metadata": {
    "execution": {
     "iopub.execute_input": "2022-09-24T12:22:10.713489Z",
     "iopub.status.busy": "2022-09-24T12:22:10.713028Z",
     "iopub.status.idle": "2022-09-24T12:22:10.721416Z",
     "shell.execute_reply": "2022-09-24T12:22:10.720162Z"
    },
    "papermill": {
     "duration": 0.023132,
     "end_time": "2022-09-24T12:22:10.723785",
     "exception": false,
     "start_time": "2022-09-24T12:22:10.700653",
     "status": "completed"
    },
    "tags": []
   },
   "outputs": [
    {
     "name": "stdout",
     "output_type": "stream",
     "text": [
      "Number of unique values: 748\n",
      "['United States' 'South Africa' nan 'India'\n",
      " 'United States, Ghana, Burkina Faso, United Kingdom, Germany, Ethiopia'\n",
      " 'United Kingdom' 'Germany, Czech Republic' 'Mexico']\n"
     ]
    }
   ],
   "source": [
    "print(\"Number of unique values:\", df[\"country\"].nunique())\n",
    "print(df.loc[:20, \"country\"].unique())"
   ]
  },
  {
   "cell_type": "markdown",
   "id": "a0bc7d24",
   "metadata": {
    "papermill": {
     "duration": 0.010859,
     "end_time": "2022-09-24T12:22:10.746004",
     "exception": false,
     "start_time": "2022-09-24T12:22:10.735145",
     "status": "completed"
    },
    "tags": []
   },
   "source": [
    "<body>\n",
    "    <div style=\"background-color: #FF6A74;\n",
    "                border: 2px solid;\n",
    "                border-radius: 10px;\n",
    "                padding-top: 10px;\n",
    "                padding-bottom: 10px;\n",
    "                padding-right: 20px;\n",
    "                padding-left: 20px;\n",
    "                border-color: #FF1100;\"> \n",
    "        <p></p>\n",
    "        <p style=\"font-family:verdana;\">There are 748 unique values in the <b>country</b> column. Because of the same reason with <b>duration</b> column, I will convert this into <b>category</b> type.</p>\n",
    "    </div>\n",
    "</body>"
   ]
  },
  {
   "cell_type": "code",
   "execution_count": 22,
   "id": "e0bc8774",
   "metadata": {
    "execution": {
     "iopub.execute_input": "2022-09-24T12:22:10.770364Z",
     "iopub.status.busy": "2022-09-24T12:22:10.769926Z",
     "iopub.status.idle": "2022-09-24T12:22:10.779293Z",
     "shell.execute_reply": "2022-09-24T12:22:10.778451Z"
    },
    "papermill": {
     "duration": 0.024419,
     "end_time": "2022-09-24T12:22:10.781574",
     "exception": false,
     "start_time": "2022-09-24T12:22:10.757155",
     "status": "completed"
    },
    "tags": []
   },
   "outputs": [],
   "source": [
    "df[\"country\"] = df[\"country\"].astype(\"category\")"
   ]
  },
  {
   "cell_type": "code",
   "execution_count": 23,
   "id": "09fd6277",
   "metadata": {
    "execution": {
     "iopub.execute_input": "2022-09-24T12:22:10.806467Z",
     "iopub.status.busy": "2022-09-24T12:22:10.805246Z",
     "iopub.status.idle": "2022-09-24T12:22:10.812578Z",
     "shell.execute_reply": "2022-09-24T12:22:10.811770Z"
    },
    "papermill": {
     "duration": 0.022427,
     "end_time": "2022-09-24T12:22:10.815360",
     "exception": false,
     "start_time": "2022-09-24T12:22:10.792933",
     "status": "completed"
    },
    "tags": []
   },
   "outputs": [
    {
     "name": "stdout",
     "output_type": "stream",
     "text": [
      "[nan\n",
      " 'Ama Qamata, Khosi Ngema, Gail Mabalane, Thabang Molaba, Dillon Windvogel, Natasha Thahane, Arno Greeff, Xolile Tshabalala, Getmore Sithole, Cindy Mahlangu, Ryle De Morny, Greteli Fincham, Sello Maake Ka-Ncube, Odwa Gwanya, Mekaila Mathys, Sandi Schultz, Duane Williams, Shamilla Miller, Patrick Mofokeng'\n",
      " 'Sami Bouajila, Tracy Gotoas, Samuel Jouy, Nabiha Akkari, Sofia Lesaffre, Salim Kechiouche, Noureddine Farihi, Geert Van Rampelberg, Bakary Diombera'\n",
      " 'Mayur More, Jitendra Kumar, Ranjan Raj, Alam Khan, Ahsaas Channa, Revathi Pillai, Urvi Singh, Arun Kumar'\n",
      " 'Kate Siegel, Zach Gilford, Hamish Linklater, Henry Thomas, Kristin Lehman, Samantha Sloyan, Igby Rigney, Rahul Kohli, Annarah Cymone, Annabeth Gish, Alex Essoe, Rahul Abburi, Matt Biedel, Michael Trucco, Crystal Balint, Louis Oliver'] \n",
      "\n",
      "['Documentaries' 'International TV Shows, TV Dramas, TV Mysteries'\n",
      " 'Crime TV Shows, International TV Shows, TV Action & Adventure'\n",
      " 'Docuseries, Reality TV'\n",
      " 'International TV Shows, Romantic TV Shows, TV Comedies'\n",
      " 'TV Dramas, TV Horror, TV Mysteries']\n"
     ]
    }
   ],
   "source": [
    "print(df.loc[:5, \"cast\"].unique(), \"\\n\")\n",
    "print(df.loc[:5, \"listed_in\"].unique())"
   ]
  },
  {
   "cell_type": "markdown",
   "id": "0bb3c33f",
   "metadata": {
    "papermill": {
     "duration": 0.010789,
     "end_time": "2022-09-24T12:22:10.838281",
     "exception": false,
     "start_time": "2022-09-24T12:22:10.827492",
     "status": "completed"
    },
    "tags": []
   },
   "source": [
    "<body>\n",
    "    <div style=\"background-color: #FF6A74;\n",
    "                border: 2px solid;\n",
    "                border-radius: 10px;\n",
    "                padding-top: 10px;\n",
    "                padding-bottom: 10px;\n",
    "                padding-right: 20px;\n",
    "                padding-left: 20px;\n",
    "                border-color: #FF1100;\"> \n",
    "        <p></p>\n",
    "        <p style=\"font-family:verdana;\">The <b>cast</b> and <b>listed_in</b> columns does contain list of values for each show. We can't do any conversion on this.</p>\n",
    "        <p style=\"font-family:verdana;\">We're done with the optimization. Let's check the dataframe after the conversion.</p>\n",
    "    </div>\n",
    "</body>"
   ]
  },
  {
   "cell_type": "code",
   "execution_count": 24,
   "id": "c7550335",
   "metadata": {
    "execution": {
     "iopub.execute_input": "2022-09-24T12:22:10.863280Z",
     "iopub.status.busy": "2022-09-24T12:22:10.862084Z",
     "iopub.status.idle": "2022-09-24T12:22:10.884093Z",
     "shell.execute_reply": "2022-09-24T12:22:10.882657Z"
    },
    "papermill": {
     "duration": 0.036872,
     "end_time": "2022-09-24T12:22:10.886384",
     "exception": false,
     "start_time": "2022-09-24T12:22:10.849512",
     "status": "completed"
    },
    "tags": []
   },
   "outputs": [
    {
     "name": "stdout",
     "output_type": "stream",
     "text": [
      "<class 'pandas.core.frame.DataFrame'>\n",
      "RangeIndex: 8807 entries, 0 to 8806\n",
      "Data columns (total 11 columns):\n",
      " #   Column        Non-Null Count  Dtype         \n",
      "---  ------        --------------  -----         \n",
      " 0   type          8807 non-null   category      \n",
      " 1   title         8807 non-null   object        \n",
      " 2   director      6173 non-null   object        \n",
      " 3   cast          7982 non-null   object        \n",
      " 4   country       7976 non-null   category      \n",
      " 5   date_added    8797 non-null   datetime64[ns]\n",
      " 6   release_year  8807 non-null   int16         \n",
      " 7   rating        8803 non-null   category      \n",
      " 8   duration      8804 non-null   category      \n",
      " 9   listed_in     8807 non-null   object        \n",
      " 10  description   8807 non-null   object        \n",
      "dtypes: category(4), datetime64[ns](1), int16(1), object(5)\n",
      "memory usage: 514.4+ KB\n"
     ]
    }
   ],
   "source": [
    "df.info()"
   ]
  },
  {
   "cell_type": "markdown",
   "id": "0d554afe",
   "metadata": {
    "papermill": {
     "duration": 0.01119,
     "end_time": "2022-09-24T12:22:10.909058",
     "exception": false,
     "start_time": "2022-09-24T12:22:10.897868",
     "status": "completed"
    },
    "tags": []
   },
   "source": [
    "<body>\n",
    "    <div style=\"background-color: #FF6A74;\n",
    "                border: 2px solid;\n",
    "                border-radius: 10px;\n",
    "                padding-top: 10px;\n",
    "                padding-bottom: 10px;\n",
    "                padding-right: 20px;\n",
    "                padding-left: 20px;\n",
    "                border-color: #FF1100;\"> \n",
    "        <ul>\n",
    "            <li style=\"font-family:verdana;\">Before the optimization, dataset had a memory usage of <b>825.8+ KB</b>.</li>\n",
    "            <li style=\"font-family:verdana;\">After the optimization, dataset have a memory usage of <b>514.4+ KB</b>.</li>\n",
    "            <li style=\"font-family:verdana;\">We lowered the memory usage by almost <b>38%</b>.</li>\n",
    "        </ul>\n",
    "        <p style=\"font-family:verdana;\">The <b>cast</b> and <b>listed_in</b> columns does contain list of values for each show. We can't do any conversion on this.</p>\n",
    "        <p style=\"font-family:verdana;\">We're done with the optimization. Let's check the dataframe after the conversion.</p>\n",
    "    </div>\n",
    "</body>"
   ]
  },
  {
   "cell_type": "markdown",
   "id": "d53cdc7b",
   "metadata": {
    "papermill": {
     "duration": 0.010978,
     "end_time": "2022-09-24T12:22:10.931330",
     "exception": false,
     "start_time": "2022-09-24T12:22:10.920352",
     "status": "completed"
    },
    "tags": []
   },
   "source": [
    "<div id=\"exploratory-data-analysis\"\n",
    "     style = \"display: fill;\n",
    "              border-radius: 10px;\n",
    "              background-color: #E50914;\">\n",
    "    <h2 style = \"padding: 15px; \n",
    "                 color: White;\n",
    "                 text-align: left;\n",
    "                 font-family: Trebuchet MS;\">4. Exploratory Data Analysis\n",
    "    </h2>\n",
    "</div>"
   ]
  },
  {
   "cell_type": "code",
   "execution_count": 25,
   "id": "4d06239b",
   "metadata": {
    "execution": {
     "iopub.execute_input": "2022-09-24T12:22:10.956210Z",
     "iopub.status.busy": "2022-09-24T12:22:10.955529Z",
     "iopub.status.idle": "2022-09-24T12:22:13.356443Z",
     "shell.execute_reply": "2022-09-24T12:22:13.354955Z"
    },
    "papermill": {
     "duration": 2.416249,
     "end_time": "2022-09-24T12:22:13.358975",
     "exception": false,
     "start_time": "2022-09-24T12:22:10.942726",
     "status": "completed"
    },
    "tags": []
   },
   "outputs": [
    {
     "data": {
      "image/svg+xml": [
       "<svg class=\"main-svg\" xmlns=\"http://www.w3.org/2000/svg\" xmlns:xlink=\"http://www.w3.org/1999/xlink\" width=\"1300\" height=\"500\" style=\"\" viewBox=\"0 0 1300 500\"><rect x=\"0\" y=\"0\" width=\"1300\" height=\"500\" style=\"fill: rgb(255, 255, 255); fill-opacity: 1;\"/><defs id=\"defs-f82bdb\"><g class=\"clips\"><clipPath id=\"clipf82bdbxyplot\" class=\"plotclip\"><rect width=\"1088\" height=\"360\"/></clipPath><clipPath class=\"axesclip\" id=\"clipf82bdbx\"><rect x=\"80\" y=\"0\" width=\"1088\" height=\"500\"/></clipPath><clipPath class=\"axesclip\" id=\"clipf82bdby\"><rect x=\"0\" y=\"60\" width=\"1300\" height=\"360\"/></clipPath><clipPath class=\"axesclip\" id=\"clipf82bdbxy\"><rect x=\"80\" y=\"60\" width=\"1088\" height=\"360\"/></clipPath></g><g class=\"gradients\"/><g class=\"patterns\"/></defs><g class=\"bglayer\"><rect class=\"bg\" x=\"80\" y=\"60\" width=\"1088\" height=\"360\" style=\"fill: rgb(229, 236, 246); fill-opacity: 1; stroke-width: 0;\"/></g><g class=\"layer-below\"><g class=\"imagelayer\"/><g class=\"shapelayer\"/></g><g class=\"cartesianlayer\"><g class=\"subplot xy\"><g class=\"layer-subplot\"><g class=\"shapelayer\"/><g class=\"imagelayer\"/></g><g class=\"minor-gridlayer\"><g class=\"x\"/><g class=\"y\"/></g><g class=\"gridlayer\"><g class=\"x\"/><g class=\"y\"><path class=\"ygrid crisp\" transform=\"translate(0,366.68)\" d=\"M80,0h1088\" style=\"stroke: rgb(255, 255, 255); stroke-opacity: 1; stroke-width: 1px;\"/><path class=\"ygrid crisp\" transform=\"translate(0,313.36)\" d=\"M80,0h1088\" style=\"stroke: rgb(255, 255, 255); stroke-opacity: 1; stroke-width: 1px;\"/><path class=\"ygrid crisp\" transform=\"translate(0,260.03999999999996)\" d=\"M80,0h1088\" style=\"stroke: rgb(255, 255, 255); stroke-opacity: 1; stroke-width: 1px;\"/><path class=\"ygrid crisp\" transform=\"translate(0,206.72)\" d=\"M80,0h1088\" style=\"stroke: rgb(255, 255, 255); stroke-opacity: 1; stroke-width: 1px;\"/><path class=\"ygrid crisp\" transform=\"translate(0,153.4)\" d=\"M80,0h1088\" style=\"stroke: rgb(255, 255, 255); stroke-opacity: 1; stroke-width: 1px;\"/><path class=\"ygrid crisp\" transform=\"translate(0,100.07)\" d=\"M80,0h1088\" style=\"stroke: rgb(255, 255, 255); stroke-opacity: 1; stroke-width: 1px;\"/></g></g><g class=\"zerolinelayer\"><path class=\"yzl zl crisp\" transform=\"translate(0,420)\" d=\"M80,0h1088\" style=\"stroke: rgb(255, 255, 255); stroke-opacity: 1; stroke-width: 2px;\"/></g><path class=\"xlines-below\"/><path class=\"ylines-below\"/><g class=\"overlines-below\"/><g class=\"xaxislayer-below\"/><g class=\"yaxislayer-below\"/><g class=\"overaxes-below\"/><g class=\"plot\" transform=\"translate(80,60)\" clip-path=\"url(#clipf82bdbxyplot)\"><g class=\"barlayer mlayer\"><g class=\"trace bars\" style=\"opacity: 1;\"><g class=\"points\"><g class=\"point\"><path d=\"M6.4,360V307.75H57.6V360Z\" style=\"vector-effect: non-scaling-stroke; opacity: 1; stroke-width: 0px; fill: rgb(99, 110, 250); fill-opacity: 1;\"/></g><g class=\"point\"><path d=\"M70.4,360V329.39H121.6V360Z\" style=\"vector-effect: non-scaling-stroke; opacity: 1; stroke-width: 0px; fill: rgb(99, 110, 250); fill-opacity: 1;\"/></g><g class=\"point\"><path d=\"M134.4,360V140.1H185.6V360Z\" style=\"vector-effect: non-scaling-stroke; opacity: 1; stroke-width: 0px; fill: rgb(99, 110, 250); fill-opacity: 1;\"/></g><g class=\"point\"><path d=\"M198.4,360V302.41H249.6V360Z\" style=\"vector-effect: non-scaling-stroke; opacity: 1; stroke-width: 0px; fill: rgb(99, 110, 250); fill-opacity: 1;\"/></g><g class=\"point\"><path d=\"M262.4,360V207.82H313.6V360Z\" style=\"vector-effect: non-scaling-stroke; opacity: 1; stroke-width: 0px; fill: rgb(99, 110, 250); fill-opacity: 1;\"/></g><g class=\"point\"><path d=\"M326.4,360V346.03H377.6V360Z\" style=\"vector-effect: non-scaling-stroke; opacity: 1; stroke-width: 0px; fill: rgb(99, 110, 250); fill-opacity: 1;\"/></g><g class=\"point\"><path d=\"M390.4,360V275.01H441.6V360Z\" style=\"vector-effect: non-scaling-stroke; opacity: 1; stroke-width: 0px; fill: rgb(99, 110, 250); fill-opacity: 1;\"/></g><g class=\"point\"><path d=\"M454.4,360V346.56H505.6V360Z\" style=\"vector-effect: non-scaling-stroke; opacity: 1; stroke-width: 0px; fill: rgb(99, 110, 250); fill-opacity: 1;\"/></g><g class=\"point\"><path d=\"M518.4,360V345.18H569.6V360Z\" style=\"vector-effect: non-scaling-stroke; opacity: 1; stroke-width: 0px; fill: rgb(99, 110, 250); fill-opacity: 1;\"/></g><g class=\"point\"><path d=\"M582.4,360V355.63H633.6V360Z\" style=\"vector-effect: non-scaling-stroke; opacity: 1; stroke-width: 0px; fill: rgb(99, 110, 250); fill-opacity: 1;\"/></g><g class=\"point\"><path d=\"M646.4,360V359.68H697.6V360Z\" style=\"vector-effect: non-scaling-stroke; opacity: 1; stroke-width: 0px; fill: rgb(99, 110, 250); fill-opacity: 1;\"/></g><g class=\"point\"><path d=\"M710.4,360V359.89H761.6V360Z\" style=\"vector-effect: non-scaling-stroke; opacity: 1; stroke-width: 0px; fill: rgb(99, 110, 250); fill-opacity: 1;\"/></g><g class=\"point\"><path d=\"M774.4,360V359.89H825.6V360Z\" style=\"vector-effect: non-scaling-stroke; opacity: 1; stroke-width: 0px; fill: rgb(99, 110, 250); fill-opacity: 1;\"/></g><g class=\"point\"><path d=\"M838.4,360V359.89H889.6V360Z\" style=\"vector-effect: non-scaling-stroke; opacity: 1; stroke-width: 0px; fill: rgb(99, 110, 250); fill-opacity: 1;\"/></g><g class=\"point\"><path d=\"M902.4,360V352H953.6V360Z\" style=\"vector-effect: non-scaling-stroke; opacity: 1; stroke-width: 0px; fill: rgb(99, 110, 250); fill-opacity: 1;\"/></g><g class=\"point\"><path d=\"M966.4,360V359.47H1017.6V360Z\" style=\"vector-effect: non-scaling-stroke; opacity: 1; stroke-width: 0px; fill: rgb(99, 110, 250); fill-opacity: 1;\"/></g><g class=\"point\"><path d=\"M1030.4,360V359.68H1081.6V360Z\" style=\"vector-effect: non-scaling-stroke; opacity: 1; stroke-width: 0px; fill: rgb(99, 110, 250); fill-opacity: 1;\"/></g></g></g><g class=\"trace bars\" style=\"opacity: 1;\"><g class=\"points\"><g class=\"point\"><path d=\"M134.4,140.1V18H185.6V140.1Z\" style=\"vector-effect: non-scaling-stroke; opacity: 1; stroke-width: 0px; fill: rgb(239, 85, 59); fill-opacity: 1;\"/></g><g class=\"point\"><path d=\"M198.4,302.41V267.97H249.6V302.41Z\" style=\"vector-effect: non-scaling-stroke; opacity: 1; stroke-width: 0px; fill: rgb(239, 85, 59); fill-opacity: 1;\"/></g><g class=\"point\"><path d=\"M262.4,207.82V129.65H313.6V207.82Z\" style=\"vector-effect: non-scaling-stroke; opacity: 1; stroke-width: 0px; fill: rgb(239, 85, 59); fill-opacity: 1;\"/></g><g class=\"point\"><path d=\"M326.4,346.03V327.26H377.6V346.03Z\" style=\"vector-effect: non-scaling-stroke; opacity: 1; stroke-width: 0px; fill: rgb(239, 85, 59); fill-opacity: 1;\"/></g><g class=\"point\"><path d=\"M390.4,275.01V274.79H441.6V275.01Z\" style=\"vector-effect: non-scaling-stroke; opacity: 1; stroke-width: 0px; fill: rgb(239, 85, 59); fill-opacity: 1;\"/></g><g class=\"point\"><path d=\"M454.4,346.56V336.54H505.6V346.56Z\" style=\"vector-effect: non-scaling-stroke; opacity: 1; stroke-width: 0px; fill: rgb(239, 85, 59); fill-opacity: 1;\"/></g><g class=\"point\"><path d=\"M518.4,345.18V324.38H569.6V345.18Z\" style=\"vector-effect: non-scaling-stroke; opacity: 1; stroke-width: 0px; fill: rgb(239, 85, 59); fill-opacity: 1;\"/></g><g class=\"point\"><path d=\"M0,0Z\" style=\"vector-effect: non-scaling-stroke; opacity: 1; stroke-width: 0px; fill: rgb(239, 85, 59); fill-opacity: 1;\"/></g><g class=\"point\"><path d=\"M0,0Z\" style=\"vector-effect: non-scaling-stroke; opacity: 1; stroke-width: 0px; fill: rgb(239, 85, 59); fill-opacity: 1;\"/></g><g class=\"point\"><path d=\"M0,0Z\" style=\"vector-effect: non-scaling-stroke; opacity: 1; stroke-width: 0px; fill: rgb(239, 85, 59); fill-opacity: 1;\"/></g><g class=\"point\"><path d=\"M0,0Z\" style=\"vector-effect: non-scaling-stroke; opacity: 1; stroke-width: 0px; fill: rgb(239, 85, 59); fill-opacity: 1;\"/></g><g class=\"point\"><path d=\"M0,0Z\" style=\"vector-effect: non-scaling-stroke; opacity: 1; stroke-width: 0px; fill: rgb(239, 85, 59); fill-opacity: 1;\"/></g><g class=\"point\"><path d=\"M902.4,352V351.47H953.6V352Z\" style=\"vector-effect: non-scaling-stroke; opacity: 1; stroke-width: 0px; fill: rgb(239, 85, 59); fill-opacity: 1;\"/></g><g class=\"point\"><path d=\"M966.4,359.47V359.36H1017.6V359.47Z\" style=\"vector-effect: non-scaling-stroke; opacity: 1; stroke-width: 0px; fill: rgb(239, 85, 59); fill-opacity: 1;\"/></g></g></g></g></g><g class=\"overplot\"/><path class=\"xlines-above crisp\" d=\"M0,0\" style=\"fill: none;\"/><path class=\"ylines-above crisp\" d=\"M0,0\" style=\"fill: none;\"/><g class=\"overlines-above\"/><g class=\"xaxislayer-above\"><g class=\"xtick\"><text text-anchor=\"middle\" x=\"0\" y=\"433\" transform=\"translate(112,0)\" style=\"font-family: 'Open Sans', verdana, arial, sans-serif; font-size: 12px; fill: rgb(42, 63, 95); fill-opacity: 1; white-space: pre; opacity: 1;\">PG-13</text></g><g class=\"xtick\"><text text-anchor=\"middle\" x=\"0\" y=\"433\" transform=\"translate(176,0)\" style=\"font-family: 'Open Sans', verdana, arial, sans-serif; font-size: 12px; fill: rgb(42, 63, 95); fill-opacity: 1; white-space: pre; opacity: 1;\">PG</text></g><g class=\"xtick\"><text text-anchor=\"middle\" x=\"0\" y=\"433\" transform=\"translate(240,0)\" style=\"font-family: 'Open Sans', verdana, arial, sans-serif; font-size: 12px; fill: rgb(42, 63, 95); fill-opacity: 1; white-space: pre; opacity: 1;\">TV-MA</text></g><g class=\"xtick\"><text text-anchor=\"middle\" x=\"0\" y=\"433\" transform=\"translate(304,0)\" style=\"font-family: 'Open Sans', verdana, arial, sans-serif; font-size: 12px; fill: rgb(42, 63, 95); fill-opacity: 1; white-space: pre; opacity: 1;\">TV-PG</text></g><g class=\"xtick\"><text text-anchor=\"middle\" x=\"0\" y=\"433\" transform=\"translate(368,0)\" style=\"font-family: 'Open Sans', verdana, arial, sans-serif; font-size: 12px; fill: rgb(42, 63, 95); fill-opacity: 1; white-space: pre; opacity: 1;\">TV-14</text></g><g class=\"xtick\"><text text-anchor=\"middle\" x=\"0\" y=\"433\" transform=\"translate(432,0)\" style=\"font-family: 'Open Sans', verdana, arial, sans-serif; font-size: 12px; fill: rgb(42, 63, 95); fill-opacity: 1; white-space: pre; opacity: 1;\">TV-Y</text></g><g class=\"xtick\"><text text-anchor=\"middle\" x=\"0\" y=\"433\" transform=\"translate(496,0)\" style=\"font-family: 'Open Sans', verdana, arial, sans-serif; font-size: 12px; fill: rgb(42, 63, 95); fill-opacity: 1; white-space: pre; opacity: 1;\">R</text></g><g class=\"xtick\"><text text-anchor=\"middle\" x=\"0\" y=\"433\" transform=\"translate(560,0)\" style=\"font-family: 'Open Sans', verdana, arial, sans-serif; font-size: 12px; fill: rgb(42, 63, 95); fill-opacity: 1; white-space: pre; opacity: 1;\">TV-G</text></g><g class=\"xtick\"><text text-anchor=\"middle\" x=\"0\" y=\"433\" transform=\"translate(624,0)\" style=\"font-family: 'Open Sans', verdana, arial, sans-serif; font-size: 12px; fill: rgb(42, 63, 95); fill-opacity: 1; white-space: pre; opacity: 1;\">TV-Y7</text></g><g class=\"xtick\"><text text-anchor=\"middle\" x=\"0\" y=\"433\" transform=\"translate(688,0)\" style=\"font-family: 'Open Sans', verdana, arial, sans-serif; font-size: 12px; fill: rgb(42, 63, 95); fill-opacity: 1; white-space: pre; opacity: 1;\">G</text></g><g class=\"xtick\"><text text-anchor=\"middle\" x=\"0\" y=\"433\" transform=\"translate(752,0)\" style=\"font-family: 'Open Sans', verdana, arial, sans-serif; font-size: 12px; fill: rgb(42, 63, 95); fill-opacity: 1; white-space: pre; opacity: 1;\">NC-17</text></g><g class=\"xtick\"><text text-anchor=\"middle\" x=\"0\" y=\"433\" transform=\"translate(816,0)\" style=\"font-family: 'Open Sans', verdana, arial, sans-serif; font-size: 12px; fill: rgb(42, 63, 95); fill-opacity: 1; white-space: pre; opacity: 1;\">74 min</text></g><g class=\"xtick\"><text text-anchor=\"middle\" x=\"0\" y=\"433\" transform=\"translate(880,0)\" style=\"font-family: 'Open Sans', verdana, arial, sans-serif; font-size: 12px; fill: rgb(42, 63, 95); fill-opacity: 1; white-space: pre; opacity: 1;\">84 min</text></g><g class=\"xtick\"><text text-anchor=\"middle\" x=\"0\" y=\"433\" transform=\"translate(944,0)\" style=\"font-family: 'Open Sans', verdana, arial, sans-serif; font-size: 12px; fill: rgb(42, 63, 95); fill-opacity: 1; white-space: pre; opacity: 1;\">66 min</text></g><g class=\"xtick\"><text text-anchor=\"middle\" x=\"0\" y=\"433\" transform=\"translate(1008,0)\" style=\"font-family: 'Open Sans', verdana, arial, sans-serif; font-size: 12px; fill: rgb(42, 63, 95); fill-opacity: 1; white-space: pre; opacity: 1;\">NR</text></g><g class=\"xtick\"><text text-anchor=\"middle\" x=\"0\" y=\"433\" transform=\"translate(1072,0)\" style=\"font-family: 'Open Sans', verdana, arial, sans-serif; font-size: 12px; fill: rgb(42, 63, 95); fill-opacity: 1; white-space: pre; opacity: 1;\">TV-Y7-FV</text></g><g class=\"xtick\"><text text-anchor=\"middle\" x=\"0\" y=\"433\" transform=\"translate(1136,0)\" style=\"font-family: 'Open Sans', verdana, arial, sans-serif; font-size: 12px; fill: rgb(42, 63, 95); fill-opacity: 1; white-space: pre; opacity: 1;\">UR</text></g></g><g class=\"yaxislayer-above\"><g class=\"ytick\"><text text-anchor=\"end\" x=\"79\" y=\"4.199999999999999\" transform=\"translate(0,420)\" style=\"font-family: 'Open Sans', verdana, arial, sans-serif; font-size: 12px; fill: rgb(42, 63, 95); fill-opacity: 1; white-space: pre; opacity: 1;\">0</text></g><g class=\"ytick\"><text text-anchor=\"end\" x=\"79\" y=\"4.199999999999999\" style=\"font-family: 'Open Sans', verdana, arial, sans-serif; font-size: 12px; fill: rgb(42, 63, 95); fill-opacity: 1; white-space: pre; opacity: 1;\" transform=\"translate(0,366.68)\">500</text></g><g class=\"ytick\"><text text-anchor=\"end\" x=\"79\" y=\"4.199999999999999\" style=\"font-family: 'Open Sans', verdana, arial, sans-serif; font-size: 12px; fill: rgb(42, 63, 95); fill-opacity: 1; white-space: pre; opacity: 1;\" transform=\"translate(0,313.36)\">1000</text></g><g class=\"ytick\"><text text-anchor=\"end\" x=\"79\" y=\"4.199999999999999\" style=\"font-family: 'Open Sans', verdana, arial, sans-serif; font-size: 12px; fill: rgb(42, 63, 95); fill-opacity: 1; white-space: pre; opacity: 1;\" transform=\"translate(0,260.03999999999996)\">1500</text></g><g class=\"ytick\"><text text-anchor=\"end\" x=\"79\" y=\"4.199999999999999\" style=\"font-family: 'Open Sans', verdana, arial, sans-serif; font-size: 12px; fill: rgb(42, 63, 95); fill-opacity: 1; white-space: pre; opacity: 1;\" transform=\"translate(0,206.72)\">2000</text></g><g class=\"ytick\"><text text-anchor=\"end\" x=\"79\" y=\"4.199999999999999\" style=\"font-family: 'Open Sans', verdana, arial, sans-serif; font-size: 12px; fill: rgb(42, 63, 95); fill-opacity: 1; white-space: pre; opacity: 1;\" transform=\"translate(0,153.4)\">2500</text></g><g class=\"ytick\"><text text-anchor=\"end\" x=\"79\" y=\"4.199999999999999\" style=\"font-family: 'Open Sans', verdana, arial, sans-serif; font-size: 12px; fill: rgb(42, 63, 95); fill-opacity: 1; white-space: pre; opacity: 1;\" transform=\"translate(0,100.07)\">3000</text></g></g><g class=\"overaxes-above\"/></g></g><g class=\"polarlayer\"/><g class=\"smithlayer\"/><g class=\"ternarylayer\"/><g class=\"geolayer\"/><g class=\"funnelarealayer\"/><g class=\"pielayer\"/><g class=\"iciclelayer\"/><g class=\"treemaplayer\"/><g class=\"sunburstlayer\"/><g class=\"glimages\"/><defs id=\"topdefs-f82bdb\"><g class=\"clips\"/><clipPath id=\"legendf82bdb\"><rect width=\"98\" height=\"67\" x=\"0\" y=\"0\"/></clipPath></defs><g class=\"layer-above\"><g class=\"imagelayer\"/><g class=\"shapelayer\"/></g><g class=\"infolayer\"><g class=\"legend\" pointer-events=\"all\" transform=\"translate(1189.76,60)\"><rect class=\"bg\" shape-rendering=\"crispEdges\" style=\"stroke: rgb(68, 68, 68); stroke-opacity: 1; fill: rgb(255, 255, 255); fill-opacity: 1; stroke-width: 0px;\" width=\"98\" height=\"67\" x=\"0\" y=\"0\"/><g class=\"scrollbox\" transform=\"\" clip-path=\"url(#legendf82bdb)\"><text class=\"legendtitletext\" text-anchor=\"start\" x=\"2\" y=\"18.2\" style=\"font-family: 'Open Sans', verdana, arial, sans-serif; font-size: 14px; fill: rgb(42, 63, 95); fill-opacity: 1; white-space: pre;\">type</text><g class=\"groups\" transform=\"\"><g class=\"traces\" transform=\"translate(0,32.7)\" style=\"opacity: 1;\"><text class=\"legendtext\" text-anchor=\"start\" x=\"40\" y=\"4.680000000000001\" style=\"font-family: 'Open Sans', verdana, arial, sans-serif; font-size: 12px; fill: rgb(42, 63, 95); fill-opacity: 1; white-space: pre;\">Movie</text><g class=\"layers\" style=\"opacity: 1;\"><g class=\"legendfill\"/><g class=\"legendlines\"/><g class=\"legendsymbols\"><g class=\"legendpoints\"><path class=\"legendundefined\" d=\"M6,6H-6V-6H6Z\" transform=\"translate(20,0)\" style=\"stroke-width: 0px; fill: rgb(99, 110, 250); fill-opacity: 1;\"/></g></g></g><rect class=\"legendtoggle\" x=\"0\" y=\"-9.5\" width=\"92.921875\" height=\"19\" style=\"fill: rgb(0, 0, 0); fill-opacity: 0;\"/></g></g><g class=\"groups\" transform=\"\"><g class=\"traces\" transform=\"translate(0,51.7)\" style=\"opacity: 1;\"><text class=\"legendtext\" text-anchor=\"start\" x=\"40\" y=\"4.680000000000001\" style=\"font-family: 'Open Sans', verdana, arial, sans-serif; font-size: 12px; fill: rgb(42, 63, 95); fill-opacity: 1; white-space: pre;\">TV Show</text><g class=\"layers\" style=\"opacity: 1;\"><g class=\"legendfill\"/><g class=\"legendlines\"/><g class=\"legendsymbols\"><g class=\"legendpoints\"><path class=\"legendundefined\" d=\"M6,6H-6V-6H6Z\" transform=\"translate(20,0)\" style=\"stroke-width: 0px; fill: rgb(239, 85, 59); fill-opacity: 1;\"/></g></g></g><rect class=\"legendtoggle\" x=\"0\" y=\"-9.5\" width=\"92.921875\" height=\"19\" style=\"fill: rgb(0, 0, 0); fill-opacity: 0;\"/></g></g></g><rect class=\"scrollbar\" rx=\"20\" ry=\"3\" width=\"0\" height=\"0\" style=\"fill: rgb(128, 139, 164); fill-opacity: 1;\" x=\"0\" y=\"0\"/></g><g class=\"g-gtitle\"/><g class=\"g-xtitle\"><text class=\"xtitle\" x=\"624\" y=\"460.8\" text-anchor=\"middle\" style=\"font-family: 'Open Sans', verdana, arial, sans-serif; font-size: 14px; fill: rgb(42, 63, 95); opacity: 1; font-weight: normal; white-space: pre;\">rating</text></g><g class=\"g-ytitle\"><text class=\"ytitle\" transform=\"rotate(-90,23.653125000000003,240)\" x=\"23.653125000000003\" y=\"240\" text-anchor=\"middle\" style=\"font-family: 'Open Sans', verdana, arial, sans-serif; font-size: 14px; fill: rgb(42, 63, 95); opacity: 1; font-weight: normal; white-space: pre;\">count</text></g></g></svg>"
      ]
     },
     "metadata": {},
     "output_type": "display_data"
    }
   ],
   "source": [
    "fig = px.histogram(data_frame=df, x=\"rating\", color=\"type\")\n",
    "fig.show(\"svg\", width=1300)"
   ]
  }
 ],
 "metadata": {
  "kernelspec": {
   "display_name": "Python 3",
   "language": "python",
   "name": "python3"
  },
  "language_info": {
   "codemirror_mode": {
    "name": "ipython",
    "version": 3
   },
   "file_extension": ".py",
   "mimetype": "text/x-python",
   "name": "python",
   "nbconvert_exporter": "python",
   "pygments_lexer": "ipython3",
   "version": "3.7.12"
  },
  "papermill": {
   "default_parameters": {},
   "duration": 43.183691,
   "end_time": "2022-09-24T12:22:15.993406",
   "environment_variables": {},
   "exception": null,
   "input_path": "__notebook__.ipynb",
   "output_path": "__notebook__.ipynb",
   "parameters": {},
   "start_time": "2022-09-24T12:21:32.809715",
   "version": "2.3.4"
  }
 },
 "nbformat": 4,
 "nbformat_minor": 5
}
