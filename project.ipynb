{
 "cells": [
  {
   "cell_type": "markdown",
   "id": "9b1fa7ee",
   "metadata": {
    "papermill": {
     "duration": 0.008183,
     "end_time": "2022-09-23T11:34:45.259620",
     "exception": false,
     "start_time": "2022-09-23T11:34:45.251437",
     "status": "completed"
    },
    "tags": []
   },
   "source": [
    "<div style = \"display: fill;\n",
    "              border-radius: 10px;\n",
    "              background-color: #E50914;\">\n",
    "    <h1 style = \"padding: 15px; \n",
    "                 color: White;\n",
    "                 text-align:center;\n",
    "                 font-family: Trebuchet MS;\">Netflix Movies and TV Shows\n",
    "    </h1>\n",
    "</div>\n",
    "\n",
    "<div align=\"center\"> \n",
    "    <img src=\"https://content.api.news/v3/images/bin/3fcf3cdcc2cfd6905e582a186e46e584\" alt=\"Netflix\" width=\"75%\" style=\"margin-top:2rem;margin-bottom:2rem\">\n",
    "</div>\n",
    "\n",
    "<div>\n",
    "    <p>Netflix is one of the most popular media and video streaming platforms. They have over 8000 movies or tv shows available on their platform, as of mid-2021, they have over 200M Subscribers globally.</p>\n",
    "</div>\n",
    "\n",
    "<div>\n",
    "    <p>Analysis ideas:</p>\n",
    "    <ul>\n",
    "        <li><p>Understanding what content is available in different countries</p>\n",
    "        <li><p>Identifying similar content by matching text-based features</p>\n",
    "        <li><p>Network analysis of Actors / Directors and find interesting insights</p>\n",
    "        <li><p>Does Netflix has more focus on TV Shows than movies in recent years.</p>\n",
    "    </ul>\n",
    "</div>"
   ]
  },
  {
   "cell_type": "markdown",
   "id": "70d82a4c",
   "metadata": {
    "papermill": {
     "duration": 0.006901,
     "end_time": "2022-09-23T11:34:45.273771",
     "exception": false,
     "start_time": "2022-09-23T11:34:45.266870",
     "status": "completed"
    },
    "tags": []
   },
   "source": [
    "<div style = \"display: fill;\n",
    "              border-radius: 10px;\n",
    "              background-color: #E50914;\">\n",
    "    <h2 style = \"padding: 15px; \n",
    "                 color: White;\n",
    "                 text-align: left;\n",
    "                 font-family: Trebuchet MS;\">Table of Contents\n",
    "    </h2>\n",
    "</div>\n",
    "\n",
    "* [<span style=\"font-family: Trebuchet MS; font-size:15px;\">1. Imports</span>](#imports)\n",
    "* [<span style=\"font-family: Trebuchet MS; font-size:15px;\">2. Loading the Dataset</span>](#loading-the-dataset)\n",
    "* [<span style=\"font-family: Trebuchet MS; font-size:15px;\">3. Understanding the Data</span>](#understanding-the-data)\n",
    "    * [<span style=\"font-family: Trebuchet MS; font-size:15px;\">3.1 Checking Null Values</span>](#checking-null-values)\n"
   ]
  },
  {
   "cell_type": "markdown",
   "id": "c46e96cf",
   "metadata": {
    "papermill": {
     "duration": 0.006328,
     "end_time": "2022-09-23T11:34:45.286854",
     "exception": false,
     "start_time": "2022-09-23T11:34:45.280526",
     "status": "completed"
    },
    "tags": []
   },
   "source": [
    "<div id=\"imports\"\n",
    "     style = \"display: fill;\n",
    "              border-radius: 10px;\n",
    "              background-color: #E50914;\">\n",
    "    <h2 style = \"padding: 15px; \n",
    "                 color: White;\n",
    "                 text-align: left;\n",
    "                 font-family: Trebuchet MS;\">1. Imports\n",
    "    </h2>\n",
    "</div>"
   ]
  },
  {
   "cell_type": "code",
   "execution_count": 1,
   "id": "7626dd75",
   "metadata": {
    "_cell_guid": "b1076dfc-b9ad-4769-8c92-a6c4dae69d19",
    "_uuid": "8f2839f25d086af736a60e9eeb907d3b93b6e0e5",
    "execution": {
     "iopub.execute_input": "2022-09-23T11:34:45.302168Z",
     "iopub.status.busy": "2022-09-23T11:34:45.301663Z",
     "iopub.status.idle": "2022-09-23T11:34:46.752398Z",
     "shell.execute_reply": "2022-09-23T11:34:46.751259Z"
    },
    "papermill": {
     "duration": 1.461777,
     "end_time": "2022-09-23T11:34:46.755370",
     "exception": false,
     "start_time": "2022-09-23T11:34:45.293593",
     "status": "completed"
    },
    "tags": []
   },
   "outputs": [],
   "source": [
    "%%capture\n",
    "import numpy as np\n",
    "import pandas as pd\n",
    "import plotly.express as px"
   ]
  },
  {
   "cell_type": "markdown",
   "id": "65f66b4f",
   "metadata": {
    "papermill": {
     "duration": 0.006327,
     "end_time": "2022-09-23T11:34:46.768692",
     "exception": false,
     "start_time": "2022-09-23T11:34:46.762365",
     "status": "completed"
    },
    "tags": []
   },
   "source": [
    "<div id=\"loading-the-dataset\"\n",
    "     style = \"display: fill;\n",
    "              border-radius: 10px;\n",
    "              background-color: #E50914;\">\n",
    "    <h2 style = \"padding: 15px; \n",
    "                 color: White;\n",
    "                 text-align: left;\n",
    "                 font-family: Trebuchet MS;\">2. Loading the Dataset\n",
    "    </h2>\n",
    "</div>"
   ]
  },
  {
   "cell_type": "code",
   "execution_count": 2,
   "id": "e506ccc1",
   "metadata": {
    "execution": {
     "iopub.execute_input": "2022-09-23T11:34:46.783871Z",
     "iopub.status.busy": "2022-09-23T11:34:46.783459Z",
     "iopub.status.idle": "2022-09-23T11:34:47.274425Z",
     "shell.execute_reply": "2022-09-23T11:34:47.273183Z"
    },
    "papermill": {
     "duration": 0.50213,
     "end_time": "2022-09-23T11:34:47.277445",
     "exception": false,
     "start_time": "2022-09-23T11:34:46.775315",
     "status": "completed"
    },
    "tags": []
   },
   "outputs": [
    {
     "data": {
      "text/html": [
       "<div>\n",
       "<style scoped>\n",
       "    .dataframe tbody tr th:only-of-type {\n",
       "        vertical-align: middle;\n",
       "    }\n",
       "\n",
       "    .dataframe tbody tr th {\n",
       "        vertical-align: top;\n",
       "    }\n",
       "\n",
       "    .dataframe thead th {\n",
       "        text-align: right;\n",
       "    }\n",
       "</style>\n",
       "<table border=\"1\" class=\"dataframe\">\n",
       "  <thead>\n",
       "    <tr style=\"text-align: right;\">\n",
       "      <th></th>\n",
       "      <th>show_id</th>\n",
       "      <th>type</th>\n",
       "      <th>title</th>\n",
       "      <th>director</th>\n",
       "      <th>cast</th>\n",
       "      <th>country</th>\n",
       "      <th>date_added</th>\n",
       "      <th>release_year</th>\n",
       "      <th>rating</th>\n",
       "      <th>duration</th>\n",
       "      <th>listed_in</th>\n",
       "      <th>description</th>\n",
       "    </tr>\n",
       "  </thead>\n",
       "  <tbody>\n",
       "    <tr>\n",
       "      <th>0</th>\n",
       "      <td>s1</td>\n",
       "      <td>Movie</td>\n",
       "      <td>Dick Johnson Is Dead</td>\n",
       "      <td>Kirsten Johnson</td>\n",
       "      <td>NaN</td>\n",
       "      <td>United States</td>\n",
       "      <td>September 25, 2021</td>\n",
       "      <td>2020</td>\n",
       "      <td>PG-13</td>\n",
       "      <td>90 min</td>\n",
       "      <td>Documentaries</td>\n",
       "      <td>As her father nears the end of his life, filmm...</td>\n",
       "    </tr>\n",
       "    <tr>\n",
       "      <th>1</th>\n",
       "      <td>s2</td>\n",
       "      <td>TV Show</td>\n",
       "      <td>Blood &amp; Water</td>\n",
       "      <td>NaN</td>\n",
       "      <td>Ama Qamata, Khosi Ngema, Gail Mabalane, Thaban...</td>\n",
       "      <td>South Africa</td>\n",
       "      <td>September 24, 2021</td>\n",
       "      <td>2021</td>\n",
       "      <td>TV-MA</td>\n",
       "      <td>2 Seasons</td>\n",
       "      <td>International TV Shows, TV Dramas, TV Mysteries</td>\n",
       "      <td>After crossing paths at a party, a Cape Town t...</td>\n",
       "    </tr>\n",
       "    <tr>\n",
       "      <th>2</th>\n",
       "      <td>s3</td>\n",
       "      <td>TV Show</td>\n",
       "      <td>Ganglands</td>\n",
       "      <td>Julien Leclercq</td>\n",
       "      <td>Sami Bouajila, Tracy Gotoas, Samuel Jouy, Nabi...</td>\n",
       "      <td>NaN</td>\n",
       "      <td>September 24, 2021</td>\n",
       "      <td>2021</td>\n",
       "      <td>TV-MA</td>\n",
       "      <td>1 Season</td>\n",
       "      <td>Crime TV Shows, International TV Shows, TV Act...</td>\n",
       "      <td>To protect his family from a powerful drug lor...</td>\n",
       "    </tr>\n",
       "    <tr>\n",
       "      <th>3</th>\n",
       "      <td>s4</td>\n",
       "      <td>TV Show</td>\n",
       "      <td>Jailbirds New Orleans</td>\n",
       "      <td>NaN</td>\n",
       "      <td>NaN</td>\n",
       "      <td>NaN</td>\n",
       "      <td>September 24, 2021</td>\n",
       "      <td>2021</td>\n",
       "      <td>TV-MA</td>\n",
       "      <td>1 Season</td>\n",
       "      <td>Docuseries, Reality TV</td>\n",
       "      <td>Feuds, flirtations and toilet talk go down amo...</td>\n",
       "    </tr>\n",
       "    <tr>\n",
       "      <th>4</th>\n",
       "      <td>s5</td>\n",
       "      <td>TV Show</td>\n",
       "      <td>Kota Factory</td>\n",
       "      <td>NaN</td>\n",
       "      <td>Mayur More, Jitendra Kumar, Ranjan Raj, Alam K...</td>\n",
       "      <td>India</td>\n",
       "      <td>September 24, 2021</td>\n",
       "      <td>2021</td>\n",
       "      <td>TV-MA</td>\n",
       "      <td>2 Seasons</td>\n",
       "      <td>International TV Shows, Romantic TV Shows, TV ...</td>\n",
       "      <td>In a city of coaching centers known to train I...</td>\n",
       "    </tr>\n",
       "  </tbody>\n",
       "</table>\n",
       "</div>"
      ],
      "text/plain": [
       "  show_id     type                  title         director  \\\n",
       "0      s1    Movie   Dick Johnson Is Dead  Kirsten Johnson   \n",
       "1      s2  TV Show          Blood & Water              NaN   \n",
       "2      s3  TV Show              Ganglands  Julien Leclercq   \n",
       "3      s4  TV Show  Jailbirds New Orleans              NaN   \n",
       "4      s5  TV Show           Kota Factory              NaN   \n",
       "\n",
       "                                                cast        country  \\\n",
       "0                                                NaN  United States   \n",
       "1  Ama Qamata, Khosi Ngema, Gail Mabalane, Thaban...   South Africa   \n",
       "2  Sami Bouajila, Tracy Gotoas, Samuel Jouy, Nabi...            NaN   \n",
       "3                                                NaN            NaN   \n",
       "4  Mayur More, Jitendra Kumar, Ranjan Raj, Alam K...          India   \n",
       "\n",
       "           date_added  release_year rating   duration  \\\n",
       "0  September 25, 2021          2020  PG-13     90 min   \n",
       "1  September 24, 2021          2021  TV-MA  2 Seasons   \n",
       "2  September 24, 2021          2021  TV-MA   1 Season   \n",
       "3  September 24, 2021          2021  TV-MA   1 Season   \n",
       "4  September 24, 2021          2021  TV-MA  2 Seasons   \n",
       "\n",
       "                                           listed_in  \\\n",
       "0                                      Documentaries   \n",
       "1    International TV Shows, TV Dramas, TV Mysteries   \n",
       "2  Crime TV Shows, International TV Shows, TV Act...   \n",
       "3                             Docuseries, Reality TV   \n",
       "4  International TV Shows, Romantic TV Shows, TV ...   \n",
       "\n",
       "                                         description  \n",
       "0  As her father nears the end of his life, filmm...  \n",
       "1  After crossing paths at a party, a Cape Town t...  \n",
       "2  To protect his family from a powerful drug lor...  \n",
       "3  Feuds, flirtations and toilet talk go down amo...  \n",
       "4  In a city of coaching centers known to train I...  "
      ]
     },
     "execution_count": 2,
     "metadata": {},
     "output_type": "execute_result"
    }
   ],
   "source": [
    "df = pd.read_csv(\"https://raw.githubusercontent.com/sahinozan/Netflix-Movies-TV-Shows/main/netflix_titles.csv\", encoding=\"utf-8\")\n",
    "df.head()"
   ]
  },
  {
   "cell_type": "markdown",
   "id": "e8334a1a",
   "metadata": {
    "papermill": {
     "duration": 0.007061,
     "end_time": "2022-09-23T11:34:47.291454",
     "exception": false,
     "start_time": "2022-09-23T11:34:47.284393",
     "status": "completed"
    },
    "tags": []
   },
   "source": [
    "<div id=\"understanding-the-data\"\n",
    "     style = \"display: fill;\n",
    "              border-radius: 10px;\n",
    "              background-color: #E50914;\">\n",
    "    <h2 style = \"padding: 15px; \n",
    "                 color: White;\n",
    "                 text-align: left;\n",
    "                 font-family: Trebuchet MS;\">3. Understanding the Data\n",
    "    </h2>\n",
    "</div>\n",
    "\n",
    "Dataset consists of 12 features.\n",
    "1. **show_id**: The unique id number for each show or movie\n",
    "    - s1\n",
    "    - s2\n",
    "    - s3\n",
    "    - ...\n",
    "2. **type**: Type of the content\n",
    "    - Movie\n",
    "    - TV Show\n",
    "3. **title**: Title of the content\n",
    "    - The Starling\n",
    "    - Squid Game\n",
    "    - Jaws: The Revenge\n",
    "    - ...\n",
    "4. **director**: Name of the director for that movie or show\n",
    "    - Steven Spielberg\n",
    "    - Cédric Jimenez\n",
    "    - Hirotsugu Kawasaki\n",
    "    - ...\n",
    "5. **cast**: Names of the cast for that movie or show \n",
    "    - Ama Qamata, Khosi Ngema, Gail Mabalane, Thabang Molaba, Dillon Windvogel, Natasha Thahane...\n",
    "    - Antti Pääkkönen, Heljä Heikkinen, Lynne Guaglione, Pasi Ruohonen, Rauno Ahonen...\n",
    "    - Luna Wedler, Jannis Niewöhner, Milan Peschel, Edin Hasanović...\n",
    "    - ...\n",
    "6. **country**: List of countries in which the content is available \n",
    "    - United States, South Africa, India...\n",
    "    - United States, United Kingdom, Canada, Germany...\n",
    "    - Canada, France, Japan, Russia...\n",
    "    - ...\n",
    "7. **data_added**: The date the content was added\n",
    "    - September 25, 2021\n",
    "    - September 22, 2021\n",
    "    - August 23, 2021\n",
    "    - ...\n",
    "8. **release_year**: Release year of the content\n",
    "    - 2020\n",
    "    - 2014\n",
    "    - 2006\n",
    "    - ...\n",
    "9. **rating**: Motion picture content rating \n",
    "    - PG-13\n",
    "    - TV-14\n",
    "    - R\n",
    "    - ...\n",
    "10. **duration**: Total duration of the content\n",
    "    - 90 min\n",
    "    - 2 seasons\n",
    "    - 48 min\n",
    "    - ...\n",
    "11. **listed_in**: List of categories where content is listed\n",
    "    - Documentaries, International TV Shows, TV Dramas, TV Mysteries...\n",
    "    - Comedies, Dramas, International Movies...\n",
    "    - Documentaries, TV Dramas, Comedies...\n",
    "    - ...\n",
    "12. **description**: Short description about the content\n",
    "    - As her father nears the end of his life, filmmaker Kirsten Johnson stages his death in inventive and comical ways to help them both face the inevitable\n",
    "    - After crossing paths at a party, a Cape Town teen sets out to prove whether a private-school swimming star is her sister who was abducted at birth\n",
    "    - Tayo speeds into an adventure when his friends get kidnapped by evil magicians invading their city in search of a magical gemstone\n",
    "    - ..."
   ]
  },
  {
   "cell_type": "markdown",
   "id": "1500e705",
   "metadata": {
    "papermill": {
     "duration": 0.007433,
     "end_time": "2022-09-23T11:34:47.305815",
     "exception": false,
     "start_time": "2022-09-23T11:34:47.298382",
     "status": "completed"
    },
    "tags": []
   },
   "source": [
    "<div id=\"checking-null-values\"\n",
    "     style = \"display: fill;\n",
    "              border-radius: 10px;\n",
    "              background-color: #E50914;\">\n",
    "    <h3 style = \"padding: 15px; \n",
    "                 color: White;\n",
    "                 text-align: left;\n",
    "                 font-family: Trebuchet MS;\">3.1 Checking Null Values\n",
    "    </h3>\n",
    "</div>\n",
    "\n",
    "Let's first check if there are any null values in the dataset"
   ]
  },
  {
   "cell_type": "code",
   "execution_count": 3,
   "id": "0778dcf0",
   "metadata": {
    "execution": {
     "iopub.execute_input": "2022-09-23T11:34:47.321661Z",
     "iopub.status.busy": "2022-09-23T11:34:47.321280Z",
     "iopub.status.idle": "2022-09-23T11:34:47.337825Z",
     "shell.execute_reply": "2022-09-23T11:34:47.336511Z"
    },
    "papermill": {
     "duration": 0.02734,
     "end_time": "2022-09-23T11:34:47.340254",
     "exception": false,
     "start_time": "2022-09-23T11:34:47.312914",
     "status": "completed"
    },
    "tags": []
   },
   "outputs": [
    {
     "data": {
      "text/plain": [
       "director        2634\n",
       "country          831\n",
       "cast             825\n",
       "date_added        10\n",
       "rating             4\n",
       "duration           3\n",
       "show_id            0\n",
       "type               0\n",
       "title              0\n",
       "release_year       0\n",
       "listed_in          0\n",
       "description        0\n",
       "dtype: int64"
      ]
     },
     "execution_count": 3,
     "metadata": {},
     "output_type": "execute_result"
    }
   ],
   "source": [
    "df.isna().sum().sort_values(ascending=False)"
   ]
  },
  {
   "cell_type": "markdown",
   "id": "2ab73934",
   "metadata": {
    "papermill": {
     "duration": 0.007957,
     "end_time": "2022-09-23T11:34:47.355434",
     "exception": false,
     "start_time": "2022-09-23T11:34:47.347477",
     "status": "completed"
    },
    "tags": []
   },
   "source": [
    "* There are small amount of null values in the **date_added**, **rating**, **duration** columns. \n",
    "* Meanwhile, there are large amount of null values in the **country**, **cast**, **director** columns."
   ]
  },
  {
   "cell_type": "markdown",
   "id": "66ac6c80",
   "metadata": {
    "papermill": {
     "duration": 0.006828,
     "end_time": "2022-09-23T11:34:47.369614",
     "exception": false,
     "start_time": "2022-09-23T11:34:47.362786",
     "status": "completed"
    },
    "tags": []
   },
   "source": [
    "<div id=\"optimizing-the-dataset\"\n",
    "     style = \"display: fill;\n",
    "              border-radius: 10px;\n",
    "              background-color: #E50914;\">\n",
    "    <h3 style = \"padding: 15px; \n",
    "                 color: White;\n",
    "                 text-align: left;\n",
    "                 font-family: Trebuchet MS;\">3.2 Optimizing the Dataset\n",
    "    </h3>\n",
    "</div>\n",
    "\n",
    "Many of the features are `object` type. We can convert those features into more specific and compact types to save memory and increase efficiency."
   ]
  },
  {
   "cell_type": "code",
   "execution_count": 4,
   "id": "a2ea1e1f",
   "metadata": {
    "execution": {
     "iopub.execute_input": "2022-09-23T11:34:47.386634Z",
     "iopub.status.busy": "2022-09-23T11:34:47.385867Z",
     "iopub.status.idle": "2022-09-23T11:34:47.416335Z",
     "shell.execute_reply": "2022-09-23T11:34:47.415477Z"
    },
    "papermill": {
     "duration": 0.042588,
     "end_time": "2022-09-23T11:34:47.419279",
     "exception": false,
     "start_time": "2022-09-23T11:34:47.376691",
     "status": "completed"
    },
    "tags": []
   },
   "outputs": [
    {
     "name": "stdout",
     "output_type": "stream",
     "text": [
      "<class 'pandas.core.frame.DataFrame'>\n",
      "RangeIndex: 8807 entries, 0 to 8806\n",
      "Data columns (total 12 columns):\n",
      " #   Column        Non-Null Count  Dtype \n",
      "---  ------        --------------  ----- \n",
      " 0   show_id       8807 non-null   object\n",
      " 1   type          8807 non-null   object\n",
      " 2   title         8807 non-null   object\n",
      " 3   director      6173 non-null   object\n",
      " 4   cast          7982 non-null   object\n",
      " 5   country       7976 non-null   object\n",
      " 6   date_added    8797 non-null   object\n",
      " 7   release_year  8807 non-null   int64 \n",
      " 8   rating        8803 non-null   object\n",
      " 9   duration      8804 non-null   object\n",
      " 10  listed_in     8807 non-null   object\n",
      " 11  description   8807 non-null   object\n",
      "dtypes: int64(1), object(11)\n",
      "memory usage: 825.8+ KB\n"
     ]
    }
   ],
   "source": [
    "df.info()"
   ]
  },
  {
   "cell_type": "markdown",
   "id": "30dff124",
   "metadata": {
    "papermill": {
     "duration": 0.007219,
     "end_time": "2022-09-23T11:34:47.433926",
     "exception": false,
     "start_time": "2022-09-23T11:34:47.426707",
     "status": "completed"
    },
    "tags": []
   },
   "source": [
    "Let's first check the number of unique values for each feature to make the conversion process easier"
   ]
  },
  {
   "cell_type": "code",
   "execution_count": 5,
   "id": "424c990c",
   "metadata": {
    "execution": {
     "iopub.execute_input": "2022-09-23T11:34:47.451249Z",
     "iopub.status.busy": "2022-09-23T11:34:47.449864Z",
     "iopub.status.idle": "2022-09-23T11:34:47.478301Z",
     "shell.execute_reply": "2022-09-23T11:34:47.476747Z"
    },
    "papermill": {
     "duration": 0.039933,
     "end_time": "2022-09-23T11:34:47.481051",
     "exception": false,
     "start_time": "2022-09-23T11:34:47.441118",
     "status": "completed"
    },
    "tags": []
   },
   "outputs": [
    {
     "name": "stdout",
     "output_type": "stream",
     "text": [
      "Number of unique values in the show_id column: 8807\n",
      "Number of unique values in the type column: 2\n",
      "Number of unique values in the title column: 8807\n",
      "Number of unique values in the director column: 4528\n",
      "Number of unique values in the cast column: 7692\n",
      "Number of unique values in the country column: 748\n",
      "Number of unique values in the date_added column: 1767\n",
      "Number of unique values in the release_year column: 74\n",
      "Number of unique values in the rating column: 17\n",
      "Number of unique values in the duration column: 220\n",
      "Number of unique values in the listed_in column: 514\n",
      "Number of unique values in the description column: 8775\n"
     ]
    }
   ],
   "source": [
    "for i in df.columns:\n",
    "    print(f\"Number of unique values in the {i} column: {df[i].nunique()}\")"
   ]
  },
  {
   "cell_type": "markdown",
   "id": "7d147ef4",
   "metadata": {
    "papermill": {
     "duration": 0.006914,
     "end_time": "2022-09-23T11:34:47.495265",
     "exception": false,
     "start_time": "2022-09-23T11:34:47.488351",
     "status": "completed"
    },
    "tags": []
   },
   "source": [
    "Some of the columns contain less unique values. These will be the ones that we do conversion on them. Columns that contain less unique values:\n",
    "* **type**\n",
    "* **release_year**\n",
    "* **rating**\n",
    "\n",
    "Other interesting features are **show_id** and **title**. They contain unique values for each row. I will check them first to see what is going."
   ]
  },
  {
   "cell_type": "code",
   "execution_count": 6,
   "id": "3621b0f6",
   "metadata": {
    "execution": {
     "iopub.execute_input": "2022-09-23T11:34:47.511916Z",
     "iopub.status.busy": "2022-09-23T11:34:47.511202Z",
     "iopub.status.idle": "2022-09-23T11:34:47.521309Z",
     "shell.execute_reply": "2022-09-23T11:34:47.519881Z"
    },
    "papermill": {
     "duration": 0.021475,
     "end_time": "2022-09-23T11:34:47.523893",
     "exception": false,
     "start_time": "2022-09-23T11:34:47.502418",
     "status": "completed"
    },
    "tags": []
   },
   "outputs": [
    {
     "name": "stdout",
     "output_type": "stream",
     "text": [
      "Number of unique values: 8807\n",
      "['s1' 's2' 's3' ... 's8805' 's8806' 's8807']\n"
     ]
    }
   ],
   "source": [
    "print(\"Number of unique values:\", df[\"show_id\"].nunique())\n",
    "print(df[\"show_id\"].unique())"
   ]
  },
  {
   "cell_type": "markdown",
   "id": "9789408a",
   "metadata": {
    "papermill": {
     "duration": 0.007533,
     "end_time": "2022-09-23T11:34:47.539301",
     "exception": false,
     "start_time": "2022-09-23T11:34:47.531768",
     "status": "completed"
    },
    "tags": []
   },
   "source": [
    "There is a unique value for each show. I don't understand the point of this feature. It only contains the values starting from 1 to 8807 which is basically an index for every row. The problem is that we already have that information stored in our dataframe so, I will remove this feature because it doesn't contain any valuable information for the analysis."
   ]
  },
  {
   "cell_type": "code",
   "execution_count": 7,
   "id": "ff9caaee",
   "metadata": {
    "execution": {
     "iopub.execute_input": "2022-09-23T11:34:47.555829Z",
     "iopub.status.busy": "2022-09-23T11:34:47.555412Z",
     "iopub.status.idle": "2022-09-23T11:34:47.562312Z",
     "shell.execute_reply": "2022-09-23T11:34:47.561357Z"
    },
    "papermill": {
     "duration": 0.017984,
     "end_time": "2022-09-23T11:34:47.564601",
     "exception": false,
     "start_time": "2022-09-23T11:34:47.546617",
     "status": "completed"
    },
    "tags": []
   },
   "outputs": [],
   "source": [
    "df.drop(labels=\"show_id\", axis=1, inplace=True)"
   ]
  },
  {
   "cell_type": "code",
   "execution_count": 8,
   "id": "b3667b40",
   "metadata": {
    "execution": {
     "iopub.execute_input": "2022-09-23T11:34:47.581215Z",
     "iopub.status.busy": "2022-09-23T11:34:47.580790Z",
     "iopub.status.idle": "2022-09-23T11:34:47.591347Z",
     "shell.execute_reply": "2022-09-23T11:34:47.589887Z"
    },
    "papermill": {
     "duration": 0.022072,
     "end_time": "2022-09-23T11:34:47.594043",
     "exception": false,
     "start_time": "2022-09-23T11:34:47.571971",
     "status": "completed"
    },
    "tags": []
   },
   "outputs": [
    {
     "name": "stdout",
     "output_type": "stream",
     "text": [
      "Number of unique values: 8807\n",
      "['Dick Johnson Is Dead' 'Blood & Water' 'Ganglands' ... 'Zombieland'\n",
      " 'Zoom' 'Zubaan']\n"
     ]
    }
   ],
   "source": [
    "print(\"Number of unique values:\", df[\"title\"].nunique())\n",
    "print(df[\"title\"].unique())"
   ]
  },
  {
   "cell_type": "markdown",
   "id": "1e62c906",
   "metadata": {
    "papermill": {
     "duration": 0.007467,
     "end_time": "2022-09-23T11:34:47.608935",
     "exception": false,
     "start_time": "2022-09-23T11:34:47.601468",
     "status": "completed"
    },
    "tags": []
   },
   "source": [
    "Similar to **show_id**, this column also contains unique values for each show but the difference is that these values are not just integers like an index value. These values contain the name of the each show which is probably will be used in the analysis. Therefore, I will not remove this feature."
   ]
  },
  {
   "cell_type": "code",
   "execution_count": 9,
   "id": "5e058b9c",
   "metadata": {
    "execution": {
     "iopub.execute_input": "2022-09-23T11:34:47.625562Z",
     "iopub.status.busy": "2022-09-23T11:34:47.625134Z",
     "iopub.status.idle": "2022-09-23T11:34:47.632975Z",
     "shell.execute_reply": "2022-09-23T11:34:47.631809Z"
    },
    "papermill": {
     "duration": 0.019325,
     "end_time": "2022-09-23T11:34:47.635608",
     "exception": false,
     "start_time": "2022-09-23T11:34:47.616283",
     "status": "completed"
    },
    "tags": []
   },
   "outputs": [
    {
     "name": "stdout",
     "output_type": "stream",
     "text": [
      "Number of unique values: 2\n",
      "['Movie' 'TV Show']\n"
     ]
    }
   ],
   "source": [
    "print(\"Number of unique values:\", df[\"type\"].nunique())\n",
    "print(df[\"type\"].unique())"
   ]
  },
  {
   "cell_type": "markdown",
   "id": "7c132c97",
   "metadata": {
    "papermill": {
     "duration": 0.007404,
     "end_time": "2022-09-23T11:34:47.650581",
     "exception": false,
     "start_time": "2022-09-23T11:34:47.643177",
     "status": "completed"
    },
    "tags": []
   },
   "source": [
    "There are only two unique values in this column. These are essentially used to categorize the content into **Movie** or **TV-Show**. I will convert this feature into `category`."
   ]
  },
  {
   "cell_type": "code",
   "execution_count": 10,
   "id": "7008b31b",
   "metadata": {
    "execution": {
     "iopub.execute_input": "2022-09-23T11:34:47.667602Z",
     "iopub.status.busy": "2022-09-23T11:34:47.666888Z",
     "iopub.status.idle": "2022-09-23T11:34:47.675233Z",
     "shell.execute_reply": "2022-09-23T11:34:47.674074Z"
    },
    "papermill": {
     "duration": 0.019742,
     "end_time": "2022-09-23T11:34:47.677817",
     "exception": false,
     "start_time": "2022-09-23T11:34:47.658075",
     "status": "completed"
    },
    "tags": []
   },
   "outputs": [],
   "source": [
    "df[\"type\"] = df[\"type\"].astype(\"category\")"
   ]
  },
  {
   "cell_type": "code",
   "execution_count": 11,
   "id": "4b9a6d26",
   "metadata": {
    "execution": {
     "iopub.execute_input": "2022-09-23T11:34:47.694556Z",
     "iopub.status.busy": "2022-09-23T11:34:47.694137Z",
     "iopub.status.idle": "2022-09-23T11:34:47.701537Z",
     "shell.execute_reply": "2022-09-23T11:34:47.700139Z"
    },
    "papermill": {
     "duration": 0.018928,
     "end_time": "2022-09-23T11:34:47.704198",
     "exception": false,
     "start_time": "2022-09-23T11:34:47.685270",
     "status": "completed"
    },
    "tags": []
   },
   "outputs": [
    {
     "name": "stdout",
     "output_type": "stream",
     "text": [
      "Number of unique values: 74\n",
      "[2020 2021 1993 2018 1996 1998 1997 2010 2013 2017 1975 1978 1983 1987\n",
      " 2012 2001 2014 2002 2003 2004 2011 2008 2009 2007 2005 2006 1994 2015\n",
      " 2019 2016 1982 1989 1990 1991 1999 1986 1992 1984 1980 1961 2000 1995\n",
      " 1985 1976 1959 1988 1981 1972 1964 1945 1954 1979 1958 1956 1963 1970\n",
      " 1973 1925 1974 1960 1966 1971 1962 1969 1977 1967 1968 1965 1946 1942\n",
      " 1955 1944 1947 1943]\n"
     ]
    }
   ],
   "source": [
    "print(\"Number of unique values:\", df[\"release_year\"].nunique())\n",
    "print(df[\"release_year\"].unique())"
   ]
  },
  {
   "cell_type": "markdown",
   "id": "1080a407",
   "metadata": {
    "papermill": {
     "duration": 0.007238,
     "end_time": "2022-09-23T11:34:47.718971",
     "exception": false,
     "start_time": "2022-09-23T11:34:47.711733",
     "status": "completed"
    },
    "tags": []
   },
   "source": [
    "There are 74 unique values in this column. Also, these are integer values. Smallest integer datatype that can hold these values is `int16`."
   ]
  },
  {
   "cell_type": "code",
   "execution_count": 12,
   "id": "d134e60f",
   "metadata": {
    "execution": {
     "iopub.execute_input": "2022-09-23T11:34:47.736884Z",
     "iopub.status.busy": "2022-09-23T11:34:47.735814Z",
     "iopub.status.idle": "2022-09-23T11:34:47.741335Z",
     "shell.execute_reply": "2022-09-23T11:34:47.740527Z"
    },
    "papermill": {
     "duration": 0.017113,
     "end_time": "2022-09-23T11:34:47.743598",
     "exception": false,
     "start_time": "2022-09-23T11:34:47.726485",
     "status": "completed"
    },
    "tags": []
   },
   "outputs": [],
   "source": [
    "df[\"release_year\"] = df[\"release_year\"].astype(\"int16\")"
   ]
  },
  {
   "cell_type": "code",
   "execution_count": 13,
   "id": "868ff5e9",
   "metadata": {
    "execution": {
     "iopub.execute_input": "2022-09-23T11:34:47.761122Z",
     "iopub.status.busy": "2022-09-23T11:34:47.760695Z",
     "iopub.status.idle": "2022-09-23T11:34:47.768451Z",
     "shell.execute_reply": "2022-09-23T11:34:47.767256Z"
    },
    "papermill": {
     "duration": 0.020265,
     "end_time": "2022-09-23T11:34:47.771527",
     "exception": false,
     "start_time": "2022-09-23T11:34:47.751262",
     "status": "completed"
    },
    "tags": []
   },
   "outputs": [
    {
     "name": "stdout",
     "output_type": "stream",
     "text": [
      "Number of unique values: 17\n",
      "['PG-13' 'TV-MA' 'PG' 'TV-14' 'TV-PG' 'TV-Y' 'TV-Y7' 'R' 'TV-G' 'G'\n",
      " 'NC-17' '74 min' '84 min' '66 min' 'NR' nan 'TV-Y7-FV' 'UR']\n"
     ]
    }
   ],
   "source": [
    "print(\"Number of unique values:\", df[\"rating\"].nunique())\n",
    "print(df[\"rating\"].unique())"
   ]
  },
  {
   "cell_type": "markdown",
   "id": "c80a7079",
   "metadata": {
    "papermill": {
     "duration": 0.007444,
     "end_time": "2022-09-23T11:34:47.787599",
     "exception": false,
     "start_time": "2022-09-23T11:34:47.780155",
     "status": "completed"
    },
    "tags": []
   },
   "source": [
    "There are 17 unique values in this column. These values contain both integers and strings. Therefore, we will convert this column into `category` type."
   ]
  },
  {
   "cell_type": "code",
   "execution_count": 14,
   "id": "f29ebe79",
   "metadata": {
    "execution": {
     "iopub.execute_input": "2022-09-23T11:34:47.804319Z",
     "iopub.status.busy": "2022-09-23T11:34:47.803921Z",
     "iopub.status.idle": "2022-09-23T11:34:47.812560Z",
     "shell.execute_reply": "2022-09-23T11:34:47.811334Z"
    },
    "papermill": {
     "duration": 0.01994,
     "end_time": "2022-09-23T11:34:47.815073",
     "exception": false,
     "start_time": "2022-09-23T11:34:47.795133",
     "status": "completed"
    },
    "tags": []
   },
   "outputs": [],
   "source": [
    "df[\"rating\"] = df[\"rating\"].astype(\"category\")"
   ]
  },
  {
   "cell_type": "code",
   "execution_count": 15,
   "id": "cca22d3d",
   "metadata": {
    "execution": {
     "iopub.execute_input": "2022-09-23T11:34:47.832306Z",
     "iopub.status.busy": "2022-09-23T11:34:47.831881Z",
     "iopub.status.idle": "2022-09-23T11:34:47.851566Z",
     "shell.execute_reply": "2022-09-23T11:34:47.849935Z"
    },
    "papermill": {
     "duration": 0.032755,
     "end_time": "2022-09-23T11:34:47.855529",
     "exception": false,
     "start_time": "2022-09-23T11:34:47.822774",
     "status": "completed"
    },
    "tags": []
   },
   "outputs": [
    {
     "name": "stdout",
     "output_type": "stream",
     "text": [
      "<class 'pandas.core.frame.DataFrame'>\n",
      "RangeIndex: 8807 entries, 0 to 8806\n",
      "Data columns (total 11 columns):\n",
      " #   Column        Non-Null Count  Dtype   \n",
      "---  ------        --------------  -----   \n",
      " 0   type          8807 non-null   category\n",
      " 1   title         8807 non-null   object  \n",
      " 2   director      6173 non-null   object  \n",
      " 3   cast          7982 non-null   object  \n",
      " 4   country       7976 non-null   object  \n",
      " 5   date_added    8797 non-null   object  \n",
      " 6   release_year  8807 non-null   int16   \n",
      " 7   rating        8803 non-null   category\n",
      " 8   duration      8804 non-null   object  \n",
      " 9   listed_in     8807 non-null   object  \n",
      " 10  description   8807 non-null   object  \n",
      "dtypes: category(2), int16(1), object(8)\n",
      "memory usage: 585.8+ KB\n"
     ]
    }
   ],
   "source": [
    "df.info()"
   ]
  }
 ],
 "metadata": {
  "kernelspec": {
   "display_name": "Python 3",
   "language": "python",
   "name": "python3"
  },
  "language_info": {
   "codemirror_mode": {
    "name": "ipython",
    "version": 3
   },
   "file_extension": ".py",
   "mimetype": "text/x-python",
   "name": "python",
   "nbconvert_exporter": "python",
   "pygments_lexer": "ipython3",
   "version": "3.7.12"
  },
  "papermill": {
   "default_parameters": {},
   "duration": 13.025117,
   "end_time": "2022-09-23T11:34:48.687359",
   "environment_variables": {},
   "exception": null,
   "input_path": "__notebook__.ipynb",
   "output_path": "__notebook__.ipynb",
   "parameters": {},
   "start_time": "2022-09-23T11:34:35.662242",
   "version": "2.3.4"
  }
 },
 "nbformat": 4,
 "nbformat_minor": 5
}
