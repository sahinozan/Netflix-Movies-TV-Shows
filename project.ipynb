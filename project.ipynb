{
 "cells": [
  {
   "cell_type": "markdown",
   "id": "bc108b40",
   "metadata": {
    "papermill": {
     "duration": 0.009848,
     "end_time": "2022-09-23T14:59:32.326614",
     "exception": false,
     "start_time": "2022-09-23T14:59:32.316766",
     "status": "completed"
    },
    "tags": []
   },
   "source": [
    "<div style = \"display: fill;\n",
    "              border-radius: 10px;\n",
    "              background-color: #E50914;\">\n",
    "    <h1 style = \"padding: 15px; \n",
    "                 color: White;\n",
    "                 text-align:center;\n",
    "                 font-family: Trebuchet MS;\">Netflix Movies and TV Shows\n",
    "    </h1>\n",
    "</div>\n",
    "\n",
    "<div align=\"center\"> \n",
    "    <img src=\"https://content.api.news/v3/images/bin/3fcf3cdcc2cfd6905e582a186e46e584\" alt=\"Netflix\" width=\"75%\" style=\"margin-top:2rem;margin-bottom:2rem\">\n",
    "</div>\n",
    "\n",
    "<body>\n",
    "    <div style=\"background-color: #FF6A74;\n",
    "                border: 2px solid;\n",
    "                border-radius: 10px;\n",
    "                padding: 10px;\n",
    "                border-color: #FF1100;\"> \n",
    "        <p></p>\n",
    "        <p style=\"font-family:verdana;\">&nbsp Netflix is one of the most popular media and video streaming platforms. They have over 8000 movies or tv shows available on their platform, as of mid-2021, they have over 200M Subscribers globally.</p>\n",
    "    </div>\n",
    "</body>"
   ]
  },
  {
   "cell_type": "markdown",
   "id": "4934f208",
   "metadata": {
    "papermill": {
     "duration": 0.01004,
     "end_time": "2022-09-23T14:59:32.346040",
     "exception": false,
     "start_time": "2022-09-23T14:59:32.336000",
     "status": "completed"
    },
    "tags": []
   },
   "source": [
    "<div style = \"display: fill;\n",
    "              border-radius: 10px;\n",
    "              background-color: #E50914;\">\n",
    "    <h2 style = \"padding: 15px; \n",
    "                 color: White;\n",
    "                 text-align: left;\n",
    "                 font-family: Trebuchet MS;\">Table of Contents\n",
    "    </h2>\n",
    "</div>\n",
    "\n",
    "* [<span style=\"font-family: Trebuchet MS; font-size:15px;\">1. Imports</span>](#imports)\n",
    "* [<span style=\"font-family: Trebuchet MS; font-size:15px;\">2. Loading the Dataset</span>](#loading-the-dataset)\n",
    "* [<span style=\"font-family: Trebuchet MS; font-size:15px;\">3. Understanding the Data</span>](#understanding-the-data)\n",
    "    * [<span style=\"font-family: Trebuchet MS; font-size:15px;\">3.1 Checking Null Values</span>](#checking-null-values)\n",
    "    * [<span style=\"font-family: Trebuchet MS; font-size:15px;\">3.2 Optimizing the Dataset</span>](#optimizing-the-dataset)\n",
    "* [<span style=\"font-family: Trebuchet MS; font-size:15px;\">4. Exploratotry</span>](#exploratory-data-analysis)\n"
   ]
  },
  {
   "cell_type": "markdown",
   "id": "75a761d3",
   "metadata": {
    "papermill": {
     "duration": 0.008992,
     "end_time": "2022-09-23T14:59:32.364413",
     "exception": false,
     "start_time": "2022-09-23T14:59:32.355421",
     "status": "completed"
    },
    "tags": []
   },
   "source": [
    "<div id=\"imports\"\n",
    "     style = \"display: fill;\n",
    "              border-radius: 10px;\n",
    "              background-color: #E50914;\">\n",
    "    <h2 style = \"padding: 15px; \n",
    "                 color: White;\n",
    "                 text-align: left;\n",
    "                 font-family: Trebuchet MS;\">1. Imports\n",
    "    </h2>\n",
    "</div>"
   ]
  },
  {
   "cell_type": "code",
   "execution_count": 1,
   "id": "023fd94e",
   "metadata": {
    "_cell_guid": "b1076dfc-b9ad-4769-8c92-a6c4dae69d19",
    "_uuid": "8f2839f25d086af736a60e9eeb907d3b93b6e0e5",
    "execution": {
     "iopub.execute_input": "2022-09-23T14:59:32.387481Z",
     "iopub.status.busy": "2022-09-23T14:59:32.386864Z",
     "iopub.status.idle": "2022-09-23T14:59:34.303369Z",
     "shell.execute_reply": "2022-09-23T14:59:34.302087Z"
    },
    "papermill": {
     "duration": 1.931433,
     "end_time": "2022-09-23T14:59:34.306379",
     "exception": false,
     "start_time": "2022-09-23T14:59:32.374946",
     "status": "completed"
    },
    "tags": []
   },
   "outputs": [],
   "source": [
    "%%capture\n",
    "import numpy as np\n",
    "import pandas as pd\n",
    "import plotly.express as px"
   ]
  },
  {
   "cell_type": "markdown",
   "id": "5286b22b",
   "metadata": {
    "papermill": {
     "duration": 0.009063,
     "end_time": "2022-09-23T14:59:34.325086",
     "exception": false,
     "start_time": "2022-09-23T14:59:34.316023",
     "status": "completed"
    },
    "tags": []
   },
   "source": [
    "<div id=\"loading-the-dataset\"\n",
    "     style = \"display: fill;\n",
    "              border-radius: 10px;\n",
    "              background-color: #E50914;\">\n",
    "    <h2 style = \"padding: 15px; \n",
    "                 color: White;\n",
    "                 text-align: left;\n",
    "                 font-family: Trebuchet MS;\">2. Loading the Dataset\n",
    "    </h2>\n",
    "</div>"
   ]
  },
  {
   "cell_type": "code",
   "execution_count": 2,
   "id": "52686233",
   "metadata": {
    "execution": {
     "iopub.execute_input": "2022-09-23T14:59:34.345668Z",
     "iopub.status.busy": "2022-09-23T14:59:34.345242Z",
     "iopub.status.idle": "2022-09-23T14:59:34.824874Z",
     "shell.execute_reply": "2022-09-23T14:59:34.823357Z"
    },
    "papermill": {
     "duration": 0.493096,
     "end_time": "2022-09-23T14:59:34.827505",
     "exception": false,
     "start_time": "2022-09-23T14:59:34.334409",
     "status": "completed"
    },
    "tags": []
   },
   "outputs": [
    {
     "data": {
      "text/html": [
       "<div>\n",
       "<style scoped>\n",
       "    .dataframe tbody tr th:only-of-type {\n",
       "        vertical-align: middle;\n",
       "    }\n",
       "\n",
       "    .dataframe tbody tr th {\n",
       "        vertical-align: top;\n",
       "    }\n",
       "\n",
       "    .dataframe thead th {\n",
       "        text-align: right;\n",
       "    }\n",
       "</style>\n",
       "<table border=\"1\" class=\"dataframe\">\n",
       "  <thead>\n",
       "    <tr style=\"text-align: right;\">\n",
       "      <th></th>\n",
       "      <th>show_id</th>\n",
       "      <th>type</th>\n",
       "      <th>title</th>\n",
       "      <th>director</th>\n",
       "      <th>cast</th>\n",
       "      <th>country</th>\n",
       "      <th>date_added</th>\n",
       "      <th>release_year</th>\n",
       "      <th>rating</th>\n",
       "      <th>duration</th>\n",
       "      <th>listed_in</th>\n",
       "      <th>description</th>\n",
       "    </tr>\n",
       "  </thead>\n",
       "  <tbody>\n",
       "    <tr>\n",
       "      <th>0</th>\n",
       "      <td>s1</td>\n",
       "      <td>Movie</td>\n",
       "      <td>Dick Johnson Is Dead</td>\n",
       "      <td>Kirsten Johnson</td>\n",
       "      <td>NaN</td>\n",
       "      <td>United States</td>\n",
       "      <td>September 25, 2021</td>\n",
       "      <td>2020</td>\n",
       "      <td>PG-13</td>\n",
       "      <td>90 min</td>\n",
       "      <td>Documentaries</td>\n",
       "      <td>As her father nears the end of his life, filmm...</td>\n",
       "    </tr>\n",
       "    <tr>\n",
       "      <th>1</th>\n",
       "      <td>s2</td>\n",
       "      <td>TV Show</td>\n",
       "      <td>Blood &amp; Water</td>\n",
       "      <td>NaN</td>\n",
       "      <td>Ama Qamata, Khosi Ngema, Gail Mabalane, Thaban...</td>\n",
       "      <td>South Africa</td>\n",
       "      <td>September 24, 2021</td>\n",
       "      <td>2021</td>\n",
       "      <td>TV-MA</td>\n",
       "      <td>2 Seasons</td>\n",
       "      <td>International TV Shows, TV Dramas, TV Mysteries</td>\n",
       "      <td>After crossing paths at a party, a Cape Town t...</td>\n",
       "    </tr>\n",
       "    <tr>\n",
       "      <th>2</th>\n",
       "      <td>s3</td>\n",
       "      <td>TV Show</td>\n",
       "      <td>Ganglands</td>\n",
       "      <td>Julien Leclercq</td>\n",
       "      <td>Sami Bouajila, Tracy Gotoas, Samuel Jouy, Nabi...</td>\n",
       "      <td>NaN</td>\n",
       "      <td>September 24, 2021</td>\n",
       "      <td>2021</td>\n",
       "      <td>TV-MA</td>\n",
       "      <td>1 Season</td>\n",
       "      <td>Crime TV Shows, International TV Shows, TV Act...</td>\n",
       "      <td>To protect his family from a powerful drug lor...</td>\n",
       "    </tr>\n",
       "    <tr>\n",
       "      <th>3</th>\n",
       "      <td>s4</td>\n",
       "      <td>TV Show</td>\n",
       "      <td>Jailbirds New Orleans</td>\n",
       "      <td>NaN</td>\n",
       "      <td>NaN</td>\n",
       "      <td>NaN</td>\n",
       "      <td>September 24, 2021</td>\n",
       "      <td>2021</td>\n",
       "      <td>TV-MA</td>\n",
       "      <td>1 Season</td>\n",
       "      <td>Docuseries, Reality TV</td>\n",
       "      <td>Feuds, flirtations and toilet talk go down amo...</td>\n",
       "    </tr>\n",
       "    <tr>\n",
       "      <th>4</th>\n",
       "      <td>s5</td>\n",
       "      <td>TV Show</td>\n",
       "      <td>Kota Factory</td>\n",
       "      <td>NaN</td>\n",
       "      <td>Mayur More, Jitendra Kumar, Ranjan Raj, Alam K...</td>\n",
       "      <td>India</td>\n",
       "      <td>September 24, 2021</td>\n",
       "      <td>2021</td>\n",
       "      <td>TV-MA</td>\n",
       "      <td>2 Seasons</td>\n",
       "      <td>International TV Shows, Romantic TV Shows, TV ...</td>\n",
       "      <td>In a city of coaching centers known to train I...</td>\n",
       "    </tr>\n",
       "  </tbody>\n",
       "</table>\n",
       "</div>"
      ],
      "text/plain": [
       "  show_id     type                  title         director  \\\n",
       "0      s1    Movie   Dick Johnson Is Dead  Kirsten Johnson   \n",
       "1      s2  TV Show          Blood & Water              NaN   \n",
       "2      s3  TV Show              Ganglands  Julien Leclercq   \n",
       "3      s4  TV Show  Jailbirds New Orleans              NaN   \n",
       "4      s5  TV Show           Kota Factory              NaN   \n",
       "\n",
       "                                                cast        country  \\\n",
       "0                                                NaN  United States   \n",
       "1  Ama Qamata, Khosi Ngema, Gail Mabalane, Thaban...   South Africa   \n",
       "2  Sami Bouajila, Tracy Gotoas, Samuel Jouy, Nabi...            NaN   \n",
       "3                                                NaN            NaN   \n",
       "4  Mayur More, Jitendra Kumar, Ranjan Raj, Alam K...          India   \n",
       "\n",
       "           date_added  release_year rating   duration  \\\n",
       "0  September 25, 2021          2020  PG-13     90 min   \n",
       "1  September 24, 2021          2021  TV-MA  2 Seasons   \n",
       "2  September 24, 2021          2021  TV-MA   1 Season   \n",
       "3  September 24, 2021          2021  TV-MA   1 Season   \n",
       "4  September 24, 2021          2021  TV-MA  2 Seasons   \n",
       "\n",
       "                                           listed_in  \\\n",
       "0                                      Documentaries   \n",
       "1    International TV Shows, TV Dramas, TV Mysteries   \n",
       "2  Crime TV Shows, International TV Shows, TV Act...   \n",
       "3                             Docuseries, Reality TV   \n",
       "4  International TV Shows, Romantic TV Shows, TV ...   \n",
       "\n",
       "                                         description  \n",
       "0  As her father nears the end of his life, filmm...  \n",
       "1  After crossing paths at a party, a Cape Town t...  \n",
       "2  To protect his family from a powerful drug lor...  \n",
       "3  Feuds, flirtations and toilet talk go down amo...  \n",
       "4  In a city of coaching centers known to train I...  "
      ]
     },
     "execution_count": 2,
     "metadata": {},
     "output_type": "execute_result"
    }
   ],
   "source": [
    "df = pd.read_csv(\"https://raw.githubusercontent.com/sahinozan/Netflix-Movies-TV-Shows/main/netflix_titles.csv\", encoding=\"utf-8\")\n",
    "df.head()"
   ]
  },
  {
   "cell_type": "markdown",
   "id": "c18255a3",
   "metadata": {
    "papermill": {
     "duration": 0.010925,
     "end_time": "2022-09-23T14:59:34.852141",
     "exception": false,
     "start_time": "2022-09-23T14:59:34.841216",
     "status": "completed"
    },
    "tags": []
   },
   "source": [
    "<div id=\"understanding-the-data\"\n",
    "     style = \"display: fill;\n",
    "              border-radius: 10px;\n",
    "              background-color: #E50914;\">\n",
    "    <h2 style = \"padding: 15px; \n",
    "                 color: White;\n",
    "                 text-align: left;\n",
    "                 font-family: Trebuchet MS;\">3. Understanding the Data\n",
    "    </h2>\n",
    "</div>\n",
    "\n",
    "<body>\n",
    "    <div style=\"background-color: #FF6A74;\n",
    "                border: 2px solid;\n",
    "                border-radius: 10px;\n",
    "                padding: 10px;\n",
    "                border-color: #FF1100;\"> \n",
    "        <p style=\"font-family:verdana;\">&nbsp Dataset consists of 12 features.</p>\n",
    "        <ol>\n",
    "            <li style=\"font-family:verdana;\"><b>show_id</b>: The unique id number of each show or movie</li>\n",
    "                <ul>\n",
    "                    <li style=\"font-family:verdana;\">s1</li>\n",
    "                    <li style=\"font-family:verdana;\">s2</li>\n",
    "                    <li style=\"font-family:verdana;\">s3</li>\n",
    "                    <li style=\"font-family:verdana;\">...</li>\n",
    "                </ul>\n",
    "            <li style=\"font-family:verdana;\"><b>type</b>: Type of the content</li>\n",
    "                <ul>\n",
    "                    <li style=\"font-family:verdana;\">Movie</li>\n",
    "                    <li style=\"font-family:verdana;\">TV Show</li>\n",
    "                </ul>\n",
    "            <li style=\"font-family:verdana;\"><b>title</b>: Title of the content</li>\n",
    "                <ul>\n",
    "                    <li style=\"font-family:verdana;\">The Starling</li>\n",
    "                    <li style=\"font-family:verdana;\">Squid Game</li>\n",
    "                    <li style=\"font-family:verdana;\">Jaws: The Revenge</li>\n",
    "                    <li style=\"font-family:verdana;\">...</li>\n",
    "                </ul>\n",
    "            <li style=\"font-family:verdana;\"><b>director</b>: Name of the director for that movie or show</li>\n",
    "                <ul>\n",
    "                    <li style=\"font-family:verdana;\">Steven Spielberg</li>\n",
    "                    <li style=\"font-family:verdana;\">Cédric Jimenez</li>\n",
    "                    <li style=\"font-family:verdana;\">Hirotsugu Kawasaki</li>\n",
    "                    <li style=\"font-family:verdana;\">...</li>\n",
    "                </ul>\n",
    "            <li style=\"font-family:verdana;\"><b>cast</b>: Names of the cast for that movie or show</li>\n",
    "                <ul>\n",
    "                    <li style=\"font-family:verdana;\">Ama Qamata, Khosi Ngema, Gail Mabalane, Thabang Molaba, Dillon Windvogel, Natasha Thahane...</li>\n",
    "                    <li style=\"font-family:verdana;\">Antti Pääkkönen, Heljä Heikkinen, Lynne Guaglione, Pasi Ruohonen, Rauno Ahonen...</li>\n",
    "                    <li style=\"font-family:verdana;\">Luna Wedler, Jannis Niewöhner, Milan Peschel, Edin Hasanović...</li>\n",
    "                    <li style=\"font-family:verdana;\">...</li>\n",
    "                </ul>\n",
    "            <li style=\"font-family:verdana;\"><b>country</b>: List of countries in which the content is available</li>\n",
    "                <ul>\n",
    "                    <li style=\"font-family:verdana;\">United States, South Africa, India...</li>\n",
    "                    <li style=\"font-family:verdana;\">United States, United Kingdom, Canada, Germany...</li>\n",
    "                    <li style=\"font-family:verdana;\">Canada, France, Japan, Russia...</li>\n",
    "                    <li style=\"font-family:verdana;\">...</li>\n",
    "                </ul>\n",
    "            <li style=\"font-family:verdana;\"><b>date_added</b>: The date the content was added</li>\n",
    "                <ul>\n",
    "                    <li style=\"font-family:verdana;\">September 25, 2021</li>\n",
    "                    <li style=\"font-family:verdana;\">September 22, 2021</li>\n",
    "                    <li style=\"font-family:verdana;\">August 23, 2021</li>\n",
    "                    <li style=\"font-family:verdana;\">...</li>\n",
    "                </ul>\n",
    "            <li style=\"font-family:verdana;\"><b>release_year</b>: Release year of the content</li>\n",
    "                <ul>\n",
    "                    <li style=\"font-family:verdana;\">2020</li>\n",
    "                    <li style=\"font-family:verdana;\">2014</li>\n",
    "                    <li style=\"font-family:verdana;\">2006</li>\n",
    "                    <li style=\"font-family:verdana;\">...</li>\n",
    "                </ul>\n",
    "            <li style=\"font-family:verdana;\"><b>rating</b>: Motion picture content rating</li>\n",
    "                <ul>\n",
    "                    <li style=\"font-family:verdana;\">PG-13</li>\n",
    "                    <li style=\"font-family:verdana;\">TV-14</li>\n",
    "                    <li style=\"font-family:verdana;\">R</li>\n",
    "                    <li style=\"font-family:verdana;\">...</li>\n",
    "                </ul>\n",
    "            <li style=\"font-family:verdana;\"><b>duration</b>: Total duration of the content</li>\n",
    "                <ul>\n",
    "                    <li style=\"font-family:verdana;\">90 min</li>\n",
    "                    <li style=\"font-family:verdana;\">2 seasons</li>\n",
    "                    <li style=\"font-family:verdana;\">48 min</li>\n",
    "                    <li style=\"font-family:verdana;\">...</li>\n",
    "                </ul>\n",
    "            <li style=\"font-family:verdana;\"><b>listed_in</b>: List of categories where content is listed</li>\n",
    "                <ul>\n",
    "                    <li style=\"font-family:verdana;\">Documentaries, International TV Shows, TV Dramas, TV Mysteries...</li>\n",
    "                    <li style=\"font-family:verdana;\">Comedies, Dramas, International Movies...</li>\n",
    "                    <li style=\"font-family:verdana;\">Documentaries, TV Dramas, Comedies...</li>\n",
    "                    <li style=\"font-family:verdana;\">...</li>\n",
    "                </ul>\n",
    "            <li style=\"font-family:verdana;\"><b>description</b>: Short description about the content</li>\n",
    "                <ul>\n",
    "                    <li style=\"font-family:verdana;\">As her father nears the end of his life, filmmaker Kirsten Johnson stages his death in inventive and comical ways to help them both face the inevitable</li>\n",
    "                    <li style=\"font-family:verdana;\">After crossing paths at a party, a Cape Town teen sets out to prove whether a private-school swimming star is her sister who was abducted at birth</li>\n",
    "                    <li style=\"font-family:verdana;\">Tayo speeds into an adventure when his friends get kidnapped by evil magicians invading their city in search of a magical gemstone</li>\n",
    "                    <li style=\"font-family:verdana;\">...</li>\n",
    "                </ul>\n",
    "        </ol>\n",
    "    </div>\n",
    "</body>"
   ]
  },
  {
   "cell_type": "markdown",
   "id": "a74aedb0",
   "metadata": {
    "papermill": {
     "duration": 0.01367,
     "end_time": "2022-09-23T14:59:34.877112",
     "exception": false,
     "start_time": "2022-09-23T14:59:34.863442",
     "status": "completed"
    },
    "tags": []
   },
   "source": [
    "<div id=\"checking-null-values\"\n",
    "     style = \"display: fill;\n",
    "              border-radius: 10px;\n",
    "              background-color: #E50914;\">\n",
    "    <h3 style = \"padding: 15px; \n",
    "                 color: White;\n",
    "                 text-align: left;\n",
    "                 font-family: Trebuchet MS;\">3.1 Checking Null Values\n",
    "    </h3>\n",
    "</div>\n",
    "\n",
    "<body>\n",
    "    <div style=\"background-color: #FF6A74;\n",
    "                border: 2px solid;\n",
    "                border-radius: 10px;\n",
    "                padding: 10px;\n",
    "                border-color: #FF1100;\"> \n",
    "        <p></p>\n",
    "        <p style=\"font-family:verdana;\">&nbsp Let's first check if there are any null values in the dataset.</p>\n",
    "    </div>\n",
    "</body>"
   ]
  },
  {
   "cell_type": "code",
   "execution_count": 3,
   "id": "93d37aa1",
   "metadata": {
    "execution": {
     "iopub.execute_input": "2022-09-23T14:59:34.902891Z",
     "iopub.status.busy": "2022-09-23T14:59:34.902502Z",
     "iopub.status.idle": "2022-09-23T14:59:34.920073Z",
     "shell.execute_reply": "2022-09-23T14:59:34.918058Z"
    },
    "papermill": {
     "duration": 0.032806,
     "end_time": "2022-09-23T14:59:34.923113",
     "exception": false,
     "start_time": "2022-09-23T14:59:34.890307",
     "status": "completed"
    },
    "tags": []
   },
   "outputs": [
    {
     "data": {
      "text/plain": [
       "director        2634\n",
       "country          831\n",
       "cast             825\n",
       "date_added        10\n",
       "rating             4\n",
       "duration           3\n",
       "show_id            0\n",
       "type               0\n",
       "title              0\n",
       "release_year       0\n",
       "listed_in          0\n",
       "description        0\n",
       "dtype: int64"
      ]
     },
     "execution_count": 3,
     "metadata": {},
     "output_type": "execute_result"
    }
   ],
   "source": [
    "df.isna().sum().sort_values(ascending=False)"
   ]
  },
  {
   "cell_type": "markdown",
   "id": "0b3fe06a",
   "metadata": {
    "papermill": {
     "duration": 0.01223,
     "end_time": "2022-09-23T14:59:34.945824",
     "exception": false,
     "start_time": "2022-09-23T14:59:34.933594",
     "status": "completed"
    },
    "tags": []
   },
   "source": [
    "<body>\n",
    "    <div style=\"background-color: #FF6A74;\n",
    "                border: 2px solid;\n",
    "                border-radius: 10px;\n",
    "                padding: 10px;\n",
    "                border-color: #FF1100;\"> \n",
    "        <p></p>\n",
    "        <p style=\"font-family:verdana;\">&nbsp Let's first check if there are any null values in the dataset.</p>\n",
    "        <ul>\n",
    "            <li style=\"font-family:verdana;\">There are small amount of null values in the <b>date_added</b>, <b>rating</b>, <b>duration</b> columns.</li>\n",
    "            <li style=\"font-family:verdana;\">Meanwhile, there are large amount of null values in the <b>country</b>, <b>cast</b>, <b>director</b> columns.</li>\n",
    "        </ul>\n",
    "    </div>\n",
    "</body>"
   ]
  },
  {
   "cell_type": "markdown",
   "id": "7f41745b",
   "metadata": {
    "papermill": {
     "duration": 0.010254,
     "end_time": "2022-09-23T14:59:34.968590",
     "exception": false,
     "start_time": "2022-09-23T14:59:34.958336",
     "status": "completed"
    },
    "tags": []
   },
   "source": [
    "<div id=\"optimizing-the-dataset\"\n",
    "     style = \"display: fill;\n",
    "              border-radius: 10px;\n",
    "              background-color: #E50914;\">\n",
    "    <h3 style = \"padding: 15px; \n",
    "                 color: White;\n",
    "                 text-align: left;\n",
    "                 font-family: Trebuchet MS;\">3.2 Optimizing the Dataset\n",
    "    </h3>\n",
    "</div>\n",
    "\n",
    "<body>\n",
    "    <div style=\"background-color: #FF6A74;\n",
    "                border: 2px solid;\n",
    "                padding: 10px;\n",
    "                border-radius: 10px;\n",
    "                border-color: #FF1100;\"> \n",
    "        <p></p>\n",
    "        <p style=\"font-family:verdana;\">&nbsp Many of the features are <b>object</b> type. We can convert those features into more specific and compact types to save memory and increase efficiency.</p>\n",
    "    </div>\n",
    "</body>\n"
   ]
  },
  {
   "cell_type": "code",
   "execution_count": 4,
   "id": "2f5febdd",
   "metadata": {
    "execution": {
     "iopub.execute_input": "2022-09-23T14:59:34.992736Z",
     "iopub.status.busy": "2022-09-23T14:59:34.992289Z",
     "iopub.status.idle": "2022-09-23T14:59:35.026891Z",
     "shell.execute_reply": "2022-09-23T14:59:35.025318Z"
    },
    "papermill": {
     "duration": 0.051512,
     "end_time": "2022-09-23T14:59:35.030289",
     "exception": false,
     "start_time": "2022-09-23T14:59:34.978777",
     "status": "completed"
    },
    "tags": []
   },
   "outputs": [
    {
     "name": "stdout",
     "output_type": "stream",
     "text": [
      "<class 'pandas.core.frame.DataFrame'>\n",
      "RangeIndex: 8807 entries, 0 to 8806\n",
      "Data columns (total 12 columns):\n",
      " #   Column        Non-Null Count  Dtype \n",
      "---  ------        --------------  ----- \n",
      " 0   show_id       8807 non-null   object\n",
      " 1   type          8807 non-null   object\n",
      " 2   title         8807 non-null   object\n",
      " 3   director      6173 non-null   object\n",
      " 4   cast          7982 non-null   object\n",
      " 5   country       7976 non-null   object\n",
      " 6   date_added    8797 non-null   object\n",
      " 7   release_year  8807 non-null   int64 \n",
      " 8   rating        8803 non-null   object\n",
      " 9   duration      8804 non-null   object\n",
      " 10  listed_in     8807 non-null   object\n",
      " 11  description   8807 non-null   object\n",
      "dtypes: int64(1), object(11)\n",
      "memory usage: 825.8+ KB\n"
     ]
    }
   ],
   "source": [
    "df.info()"
   ]
  },
  {
   "cell_type": "markdown",
   "id": "0739728a",
   "metadata": {
    "papermill": {
     "duration": 0.010814,
     "end_time": "2022-09-23T14:59:35.055426",
     "exception": false,
     "start_time": "2022-09-23T14:59:35.044612",
     "status": "completed"
    },
    "tags": []
   },
   "source": [
    "<body>\n",
    "    <div style=\"background-color: #FF6A74;\n",
    "                border: 2px solid;\n",
    "                border-radius: 10px;\n",
    "                padding: 10px;\n",
    "                border-color: #FF1100;\"> \n",
    "        <p></p>\n",
    "        <p style=\"font-family:verdana;\">&nbsp Let's first check the number of unique values for each feature to make the conversion process easier..</p>\n",
    "    </div>\n",
    "</body>"
   ]
  },
  {
   "cell_type": "code",
   "execution_count": 5,
   "id": "a6e5b022",
   "metadata": {
    "execution": {
     "iopub.execute_input": "2022-09-23T14:59:35.085104Z",
     "iopub.status.busy": "2022-09-23T14:59:35.084689Z",
     "iopub.status.idle": "2022-09-23T14:59:35.112493Z",
     "shell.execute_reply": "2022-09-23T14:59:35.111424Z"
    },
    "papermill": {
     "duration": 0.044397,
     "end_time": "2022-09-23T14:59:35.114801",
     "exception": false,
     "start_time": "2022-09-23T14:59:35.070404",
     "status": "completed"
    },
    "tags": []
   },
   "outputs": [
    {
     "name": "stdout",
     "output_type": "stream",
     "text": [
      "Number of unique values in the show_id column: 8807\n",
      "Number of unique values in the type column: 2\n",
      "Number of unique values in the title column: 8807\n",
      "Number of unique values in the director column: 4528\n",
      "Number of unique values in the cast column: 7692\n",
      "Number of unique values in the country column: 748\n",
      "Number of unique values in the date_added column: 1767\n",
      "Number of unique values in the release_year column: 74\n",
      "Number of unique values in the rating column: 17\n",
      "Number of unique values in the duration column: 220\n",
      "Number of unique values in the listed_in column: 514\n",
      "Number of unique values in the description column: 8775\n"
     ]
    }
   ],
   "source": [
    "for i in df.columns:\n",
    "    print(f\"Number of unique values in the {i} column: {df[i].nunique()}\")"
   ]
  },
  {
   "cell_type": "markdown",
   "id": "a02ad508",
   "metadata": {
    "papermill": {
     "duration": 0.010376,
     "end_time": "2022-09-23T14:59:35.136038",
     "exception": false,
     "start_time": "2022-09-23T14:59:35.125662",
     "status": "completed"
    },
    "tags": []
   },
   "source": [
    "<body>\n",
    "    <div style=\"background-color: #FF6A74;\n",
    "                border: 2px solid;\n",
    "                border-radius: 10px;\n",
    "                padding: 10px;\n",
    "                border-color: #FF1100;\"> \n",
    "        <p></p>\n",
    "        <p style=\"font-family:verdana;\">&nbsp Some of the columns contain less unique values. These will be the ones that we do conversion on them. Columns that contain less unique values:</p>\n",
    "        <ul>\n",
    "            <li><b>type</b></li>\n",
    "            <li><b>release_year</b></li>\n",
    "            <li><b>rating</b></li>\n",
    "        </ul>         \n",
    "        <p style=\"font-family:verdana;\">&nbsp Other interesting features are <b>show_id</b>, <b>title</b>, and <b>description</b>. They contain unique values for each row. I will check them first to see what is going.</p>\n",
    "    </div>\n",
    "</body>\n",
    "\n"
   ]
  },
  {
   "cell_type": "code",
   "execution_count": 6,
   "id": "fd133072",
   "metadata": {
    "execution": {
     "iopub.execute_input": "2022-09-23T14:59:35.160321Z",
     "iopub.status.busy": "2022-09-23T14:59:35.158968Z",
     "iopub.status.idle": "2022-09-23T14:59:35.170111Z",
     "shell.execute_reply": "2022-09-23T14:59:35.168032Z"
    },
    "papermill": {
     "duration": 0.026577,
     "end_time": "2022-09-23T14:59:35.173463",
     "exception": false,
     "start_time": "2022-09-23T14:59:35.146886",
     "status": "completed"
    },
    "tags": []
   },
   "outputs": [
    {
     "name": "stdout",
     "output_type": "stream",
     "text": [
      "Number of unique values: 8807\n",
      "['s1' 's2' 's3' ... 's8805' 's8806' 's8807']\n"
     ]
    }
   ],
   "source": [
    "print(\"Number of unique values:\", df[\"show_id\"].nunique())\n",
    "print(df[\"show_id\"].unique())"
   ]
  },
  {
   "cell_type": "markdown",
   "id": "a8fe649d",
   "metadata": {
    "papermill": {
     "duration": 0.01192,
     "end_time": "2022-09-23T14:59:35.197939",
     "exception": false,
     "start_time": "2022-09-23T14:59:35.186019",
     "status": "completed"
    },
    "tags": []
   },
   "source": [
    "<body>\n",
    "    <div style=\"background-color: #FF6A74;\n",
    "                border: 2px solid;\n",
    "                border-radius: 10px;\n",
    "                padding: 10px;\n",
    "                border-color: #FF1100;\"> \n",
    "        <p></p>\n",
    "        <p style=\"font-family:verdana;\">&nbsp There is a unique value for each show. I don't understand the point of this feature. It only contains the values starting from 1 to 8807 which is basically an index for every row. The problem is that we already have that information stored in our dataframe so, I will remove this feature because it doesn't contain any valuable information for the analysis.</p>\n",
    "    </div>\n",
    "</body>"
   ]
  },
  {
   "cell_type": "code",
   "execution_count": 7,
   "id": "4f59e14e",
   "metadata": {
    "execution": {
     "iopub.execute_input": "2022-09-23T14:59:35.228589Z",
     "iopub.status.busy": "2022-09-23T14:59:35.227898Z",
     "iopub.status.idle": "2022-09-23T14:59:35.237742Z",
     "shell.execute_reply": "2022-09-23T14:59:35.235308Z"
    },
    "papermill": {
     "duration": 0.028326,
     "end_time": "2022-09-23T14:59:35.240662",
     "exception": false,
     "start_time": "2022-09-23T14:59:35.212336",
     "status": "completed"
    },
    "tags": []
   },
   "outputs": [],
   "source": [
    "df.drop(labels=\"show_id\", axis=1, inplace=True)"
   ]
  },
  {
   "cell_type": "code",
   "execution_count": 8,
   "id": "2cd9d7b0",
   "metadata": {
    "execution": {
     "iopub.execute_input": "2022-09-23T14:59:35.268961Z",
     "iopub.status.busy": "2022-09-23T14:59:35.268078Z",
     "iopub.status.idle": "2022-09-23T14:59:35.284441Z",
     "shell.execute_reply": "2022-09-23T14:59:35.282216Z"
    },
    "papermill": {
     "duration": 0.033862,
     "end_time": "2022-09-23T14:59:35.287533",
     "exception": false,
     "start_time": "2022-09-23T14:59:35.253671",
     "status": "completed"
    },
    "tags": []
   },
   "outputs": [
    {
     "name": "stdout",
     "output_type": "stream",
     "text": [
      "Number of unique values: 8807\n",
      "['Dick Johnson Is Dead' 'Blood & Water' 'Ganglands' ... 'Zombieland'\n",
      " 'Zoom' 'Zubaan']\n"
     ]
    }
   ],
   "source": [
    "print(\"Number of unique values:\", df[\"title\"].nunique())\n",
    "print(df[\"title\"].unique())"
   ]
  },
  {
   "cell_type": "markdown",
   "id": "a4f73776",
   "metadata": {
    "papermill": {
     "duration": 0.013794,
     "end_time": "2022-09-23T14:59:35.314584",
     "exception": false,
     "start_time": "2022-09-23T14:59:35.300790",
     "status": "completed"
    },
    "tags": []
   },
   "source": [
    "<body>\n",
    "    <div style=\"background-color: #FF6A74;\n",
    "                border: 2px solid;\n",
    "                border-radius: 10px;\n",
    "                padding: 10px;\n",
    "                border-color: #FF1100;\"> \n",
    "        <p></p>\n",
    "        <p style=\"font-family:verdana;\">&nbsp Similar to <b>show_id</b>, this column also contains unique values for each show but the difference is that these values are not just integers like an index value. These values contain the name of the each show which is probably will be used in the analysis. Therefore, I will not remove this feature.</p>\n",
    "    </div>\n",
    "</body>"
   ]
  },
  {
   "cell_type": "code",
   "execution_count": 9,
   "id": "05b50dde",
   "metadata": {
    "execution": {
     "iopub.execute_input": "2022-09-23T14:59:35.339832Z",
     "iopub.status.busy": "2022-09-23T14:59:35.339364Z",
     "iopub.status.idle": "2022-09-23T14:59:35.356037Z",
     "shell.execute_reply": "2022-09-23T14:59:35.354671Z"
    },
    "papermill": {
     "duration": 0.031186,
     "end_time": "2022-09-23T14:59:35.358405",
     "exception": false,
     "start_time": "2022-09-23T14:59:35.327219",
     "status": "completed"
    },
    "tags": []
   },
   "outputs": [
    {
     "name": "stdout",
     "output_type": "stream",
     "text": [
      "Number of unique values: 8775\n",
      "['As her father nears the end of his life, filmmaker Kirsten Johnson stages his death in inventive and comical ways to help them both face the inevitable.'\n",
      " 'After crossing paths at a party, a Cape Town teen sets out to prove whether a private-school swimming star is her sister who was abducted at birth.'\n",
      " 'To protect his family from a powerful drug lord, skilled thief Mehdi and his expert team of robbers are pulled into a violent and deadly turf war.'\n",
      " ...\n",
      " 'Looking to survive in a world taken over by zombies, a dorky college student teams with an urban roughneck and a pair of grifter sisters.'\n",
      " 'Dragged from civilian life, a former superhero must train a new crop of youthful saviors when the military preps for an attack by a familiar villain.'\n",
      " \"A scrappy but poor boy worms his way into a tycoon's dysfunctional family, while facing his fear of music and the truth about his past.\"]\n"
     ]
    }
   ],
   "source": [
    "print(\"Number of unique values:\", df[\"description\"].nunique())\n",
    "print(df[\"description\"].unique())"
   ]
  },
  {
   "cell_type": "markdown",
   "id": "a1761098",
   "metadata": {
    "papermill": {
     "duration": 0.010683,
     "end_time": "2022-09-23T14:59:35.379702",
     "exception": false,
     "start_time": "2022-09-23T14:59:35.369019",
     "status": "completed"
    },
    "tags": []
   },
   "source": [
    "<body>\n",
    "    <div style=\"background-color: #FF6A74;\n",
    "                border: 2px solid;\n",
    "                border-radius: 10px;\n",
    "                padding: 10px;\n",
    "                border-color: #FF1100;\"> \n",
    "        <p></p>\n",
    "        <p style=\"font-family:verdana;\">&nbsp Similar to <b>title</b>, this column also contains unique values for each show. These values contain the short description of the each show which we may use it in the analysis. Therefore, I will not remove this feature.</p>\n",
    "    </div>\n",
    "</body>"
   ]
  },
  {
   "cell_type": "code",
   "execution_count": 10,
   "id": "03815f21",
   "metadata": {
    "execution": {
     "iopub.execute_input": "2022-09-23T14:59:35.404540Z",
     "iopub.status.busy": "2022-09-23T14:59:35.403939Z",
     "iopub.status.idle": "2022-09-23T14:59:35.413934Z",
     "shell.execute_reply": "2022-09-23T14:59:35.411558Z"
    },
    "papermill": {
     "duration": 0.026811,
     "end_time": "2022-09-23T14:59:35.417840",
     "exception": false,
     "start_time": "2022-09-23T14:59:35.391029",
     "status": "completed"
    },
    "tags": []
   },
   "outputs": [
    {
     "name": "stdout",
     "output_type": "stream",
     "text": [
      "Number of unique values: 2\n",
      "['Movie' 'TV Show']\n"
     ]
    }
   ],
   "source": [
    "print(\"Number of unique values:\", df[\"type\"].nunique())\n",
    "print(df[\"type\"].unique())"
   ]
  },
  {
   "cell_type": "markdown",
   "id": "48c76da6",
   "metadata": {
    "papermill": {
     "duration": 0.011501,
     "end_time": "2022-09-23T14:59:35.440144",
     "exception": false,
     "start_time": "2022-09-23T14:59:35.428643",
     "status": "completed"
    },
    "tags": []
   },
   "source": [
    "<body>\n",
    "    <div style=\"background-color: #FF6A74;\n",
    "                border: 2px solid;\n",
    "                border-radius: 10px;\n",
    "                padding: 10px;\n",
    "                border-color: #FF1100;\"> \n",
    "        <p></p>\n",
    "        <p style=\"font-family:verdana;\">&nbsp There are only two unique values in the <b>type</b> column. These are essentially used to categorize the content into <b>Movie</b> or <b>TV-Show</b>. I will convert this feature into <b>category</b> type.</p>\n",
    "    </div>\n",
    "</body>"
   ]
  },
  {
   "cell_type": "code",
   "execution_count": 11,
   "id": "810e65a5",
   "metadata": {
    "execution": {
     "iopub.execute_input": "2022-09-23T14:59:35.466870Z",
     "iopub.status.busy": "2022-09-23T14:59:35.466514Z",
     "iopub.status.idle": "2022-09-23T14:59:35.483434Z",
     "shell.execute_reply": "2022-09-23T14:59:35.480747Z"
    },
    "papermill": {
     "duration": 0.035148,
     "end_time": "2022-09-23T14:59:35.487381",
     "exception": false,
     "start_time": "2022-09-23T14:59:35.452233",
     "status": "completed"
    },
    "tags": []
   },
   "outputs": [],
   "source": [
    "df[\"type\"] = df[\"type\"].astype(\"category\")"
   ]
  },
  {
   "cell_type": "code",
   "execution_count": 12,
   "id": "009ea518",
   "metadata": {
    "execution": {
     "iopub.execute_input": "2022-09-23T14:59:35.514934Z",
     "iopub.status.busy": "2022-09-23T14:59:35.514187Z",
     "iopub.status.idle": "2022-09-23T14:59:35.525908Z",
     "shell.execute_reply": "2022-09-23T14:59:35.522844Z"
    },
    "papermill": {
     "duration": 0.027911,
     "end_time": "2022-09-23T14:59:35.529011",
     "exception": false,
     "start_time": "2022-09-23T14:59:35.501100",
     "status": "completed"
    },
    "tags": []
   },
   "outputs": [
    {
     "name": "stdout",
     "output_type": "stream",
     "text": [
      "Number of unique values: 74\n",
      "[2020 2021 1993 2018 1996 1998 1997 2010 2013 2017 1975 1978 1983 1987\n",
      " 2012 2001 2014 2002 2003 2004 2011 2008 2009 2007 2005 2006 1994 2015\n",
      " 2019 2016 1982 1989 1990 1991 1999 1986 1992 1984 1980 1961 2000 1995\n",
      " 1985 1976 1959 1988 1981 1972 1964 1945 1954 1979 1958 1956 1963 1970\n",
      " 1973 1925 1974 1960 1966 1971 1962 1969 1977 1967 1968 1965 1946 1942\n",
      " 1955 1944 1947 1943]\n"
     ]
    }
   ],
   "source": [
    "print(\"Number of unique values:\", df[\"release_year\"].nunique())\n",
    "print(df[\"release_year\"].unique())"
   ]
  },
  {
   "cell_type": "markdown",
   "id": "fa275117",
   "metadata": {
    "papermill": {
     "duration": 0.011975,
     "end_time": "2022-09-23T14:59:35.553682",
     "exception": false,
     "start_time": "2022-09-23T14:59:35.541707",
     "status": "completed"
    },
    "tags": []
   },
   "source": [
    "<body>\n",
    "    <div style=\"background-color: #FF6A74;\n",
    "                border: 2px solid;\n",
    "                border-radius: 10px;\n",
    "                padding: 10px;\n",
    "                border-color: #FF1100;\"> \n",
    "        <p></p>\n",
    "        <p style=\"font-family:verdana;\">&nbsp There are 74 unique values in the <b>release_year</b> column. Also, these are integer values. Smallest integer datatype that can hold these values is <b>int16</b>.</p>\n",
    "    </div>\n",
    "</body>"
   ]
  },
  {
   "cell_type": "code",
   "execution_count": 13,
   "id": "e7d29855",
   "metadata": {
    "execution": {
     "iopub.execute_input": "2022-09-23T14:59:35.581745Z",
     "iopub.status.busy": "2022-09-23T14:59:35.581375Z",
     "iopub.status.idle": "2022-09-23T14:59:35.590731Z",
     "shell.execute_reply": "2022-09-23T14:59:35.588386Z"
    },
    "papermill": {
     "duration": 0.027298,
     "end_time": "2022-09-23T14:59:35.593934",
     "exception": false,
     "start_time": "2022-09-23T14:59:35.566636",
     "status": "completed"
    },
    "tags": []
   },
   "outputs": [],
   "source": [
    "df[\"release_year\"] = df[\"release_year\"].astype(\"int16\")"
   ]
  },
  {
   "cell_type": "code",
   "execution_count": 14,
   "id": "e91126bd",
   "metadata": {
    "execution": {
     "iopub.execute_input": "2022-09-23T14:59:35.618627Z",
     "iopub.status.busy": "2022-09-23T14:59:35.618238Z",
     "iopub.status.idle": "2022-09-23T14:59:35.629797Z",
     "shell.execute_reply": "2022-09-23T14:59:35.626981Z"
    },
    "papermill": {
     "duration": 0.028555,
     "end_time": "2022-09-23T14:59:35.634445",
     "exception": false,
     "start_time": "2022-09-23T14:59:35.605890",
     "status": "completed"
    },
    "tags": []
   },
   "outputs": [
    {
     "name": "stdout",
     "output_type": "stream",
     "text": [
      "Number of unique values: 17\n",
      "['PG-13' 'TV-MA' 'PG' 'TV-14' 'TV-PG' 'TV-Y' 'TV-Y7' 'R' 'TV-G' 'G'\n",
      " 'NC-17' '74 min' '84 min' '66 min' 'NR' nan 'TV-Y7-FV' 'UR']\n"
     ]
    }
   ],
   "source": [
    "print(\"Number of unique values:\", df[\"rating\"].nunique())\n",
    "print(df[\"rating\"].unique())"
   ]
  },
  {
   "cell_type": "markdown",
   "id": "fdc939b3",
   "metadata": {
    "papermill": {
     "duration": 0.013592,
     "end_time": "2022-09-23T14:59:35.662568",
     "exception": false,
     "start_time": "2022-09-23T14:59:35.648976",
     "status": "completed"
    },
    "tags": []
   },
   "source": [
    "<body>\n",
    "    <div style=\"background-color: #FF6A74;\n",
    "                border: 2px solid;\n",
    "                border-radius: 10px;\n",
    "                padding: 10px;\n",
    "                border-color: #FF1100;\"> \n",
    "        <p></p>\n",
    "        <p style=\"font-family:verdana;\">&nbsp There are 17 unique values in the <b>rating</b> column. These values contain both integers and strings. Therefore, we will convert this column into <b>category</b> type.</p>\n",
    "    </div>\n",
    "</body>"
   ]
  },
  {
   "cell_type": "code",
   "execution_count": 15,
   "id": "30a59c91",
   "metadata": {
    "execution": {
     "iopub.execute_input": "2022-09-23T14:59:35.689926Z",
     "iopub.status.busy": "2022-09-23T14:59:35.689561Z",
     "iopub.status.idle": "2022-09-23T14:59:35.699981Z",
     "shell.execute_reply": "2022-09-23T14:59:35.698113Z"
    },
    "papermill": {
     "duration": 0.028364,
     "end_time": "2022-09-23T14:59:35.704029",
     "exception": false,
     "start_time": "2022-09-23T14:59:35.675665",
     "status": "completed"
    },
    "tags": []
   },
   "outputs": [],
   "source": [
    "df[\"rating\"] = df[\"rating\"].astype(\"category\")"
   ]
  },
  {
   "cell_type": "code",
   "execution_count": 16,
   "id": "fcdd0464",
   "metadata": {
    "execution": {
     "iopub.execute_input": "2022-09-23T14:59:35.728650Z",
     "iopub.status.busy": "2022-09-23T14:59:35.728183Z",
     "iopub.status.idle": "2022-09-23T14:59:35.739860Z",
     "shell.execute_reply": "2022-09-23T14:59:35.737437Z"
    },
    "papermill": {
     "duration": 0.027602,
     "end_time": "2022-09-23T14:59:35.742278",
     "exception": false,
     "start_time": "2022-09-23T14:59:35.714676",
     "status": "completed"
    },
    "tags": []
   },
   "outputs": [
    {
     "name": "stdout",
     "output_type": "stream",
     "text": [
      "Number of unique values: 220\n",
      "['90 min' '2 Seasons' '1 Season' '91 min' '125 min' '9 Seasons' '104 min'\n",
      " '127 min' '4 Seasons' '67 min' '94 min' '5 Seasons' '161 min' '61 min'\n",
      " '166 min' '147 min' '103 min' '97 min' '106 min' '111 min']\n"
     ]
    }
   ],
   "source": [
    "print(\"Number of unique values:\", df[\"duration\"].nunique())\n",
    "print(df.loc[:30, \"duration\"].unique())"
   ]
  },
  {
   "cell_type": "markdown",
   "id": "5e6b4dc9",
   "metadata": {
    "papermill": {
     "duration": 0.012226,
     "end_time": "2022-09-23T14:59:35.766206",
     "exception": false,
     "start_time": "2022-09-23T14:59:35.753980",
     "status": "completed"
    },
    "tags": []
   },
   "source": [
    "<body>\n",
    "    <div style=\"background-color: #FF6A74;\n",
    "                border: 2px solid;\n",
    "                border-radius: 10px;\n",
    "                padding: 10px;\n",
    "                border-color: #FF1100;\"> \n",
    "        <p></p>\n",
    "        <p style=\"font-family:verdana;\">&nbsp There are 220 unique values in the <b>duration</b> column. Considering there are 8807 rows, there will be a lot of repetition. That's why I will convert it into <b>category</b> type.</p>\n",
    "    </div>\n",
    "</body>"
   ]
  },
  {
   "cell_type": "code",
   "execution_count": 17,
   "id": "a47c3686",
   "metadata": {
    "execution": {
     "iopub.execute_input": "2022-09-23T14:59:35.789785Z",
     "iopub.status.busy": "2022-09-23T14:59:35.789226Z",
     "iopub.status.idle": "2022-09-23T14:59:35.800269Z",
     "shell.execute_reply": "2022-09-23T14:59:35.798423Z"
    },
    "papermill": {
     "duration": 0.025669,
     "end_time": "2022-09-23T14:59:35.802864",
     "exception": false,
     "start_time": "2022-09-23T14:59:35.777195",
     "status": "completed"
    },
    "tags": []
   },
   "outputs": [],
   "source": [
    "df[\"duration\"] = df[\"duration\"].astype(\"category\")"
   ]
  },
  {
   "cell_type": "code",
   "execution_count": 18,
   "id": "a23325f2",
   "metadata": {
    "execution": {
     "iopub.execute_input": "2022-09-23T14:59:35.828409Z",
     "iopub.status.busy": "2022-09-23T14:59:35.827999Z",
     "iopub.status.idle": "2022-09-23T14:59:35.838766Z",
     "shell.execute_reply": "2022-09-23T14:59:35.836489Z"
    },
    "papermill": {
     "duration": 0.02808,
     "end_time": "2022-09-23T14:59:35.842714",
     "exception": false,
     "start_time": "2022-09-23T14:59:35.814634",
     "status": "completed"
    },
    "tags": []
   },
   "outputs": [
    {
     "name": "stdout",
     "output_type": "stream",
     "text": [
      "Number of unique values: 4528\n",
      "['Kirsten Johnson' nan 'Julien Leclercq' 'Mike Flanagan'\n",
      " 'Robert Cullen, José Luis Ucha' 'Haile Gerima' 'Andy Devonshire'\n",
      " 'Theodore Melfi' 'Kongkiat Komesiri' 'Christian Schwochow'\n",
      " 'Bruno Garotti' 'Pedro de Echave García, Pablo Azorín Williams'\n",
      " 'Adam Salky' 'Olivier Megaton']\n"
     ]
    }
   ],
   "source": [
    "print(\"Number of unique values:\", df[\"director\"].nunique())\n",
    "print(df.loc[:20, \"director\"].unique())"
   ]
  },
  {
   "cell_type": "markdown",
   "id": "f3716ecc",
   "metadata": {
    "papermill": {
     "duration": 0.013187,
     "end_time": "2022-09-23T14:59:35.869506",
     "exception": false,
     "start_time": "2022-09-23T14:59:35.856319",
     "status": "completed"
    },
    "tags": []
   },
   "source": [
    "<body>\n",
    "    <div style=\"background-color: #FF6A74;\n",
    "                border: 2px solid;\n",
    "                border-radius: 10px;\n",
    "                padding: 10px;\n",
    "                border-color: #FF1100;\"> \n",
    "        <p></p>\n",
    "        <p style=\"font-family:verdana;\">&nbsp There are 4528 unique values in the <b>director</b> column. Similar to <b>duration</b> column, there are way too many unique values for the <b>category</b> type. I will not convert it into <b>category</b> type.</p>\n",
    "    </div>\n",
    "</body>"
   ]
  },
  {
   "cell_type": "code",
   "execution_count": 19,
   "id": "8153d8a1",
   "metadata": {
    "execution": {
     "iopub.execute_input": "2022-09-23T14:59:35.899469Z",
     "iopub.status.busy": "2022-09-23T14:59:35.898927Z",
     "iopub.status.idle": "2022-09-23T14:59:35.908021Z",
     "shell.execute_reply": "2022-09-23T14:59:35.906015Z"
    },
    "papermill": {
     "duration": 0.026442,
     "end_time": "2022-09-23T14:59:35.910620",
     "exception": false,
     "start_time": "2022-09-23T14:59:35.884178",
     "status": "completed"
    },
    "tags": []
   },
   "outputs": [
    {
     "name": "stdout",
     "output_type": "stream",
     "text": [
      "Number of unique values: 1767\n",
      "['September 25, 2021' 'September 24, 2021' 'September 23, 2021'\n",
      " 'September 22, 2021']\n"
     ]
    }
   ],
   "source": [
    "print(\"Number of unique values:\", df[\"date_added\"].nunique())\n",
    "print(df.loc[:20, \"date_added\"].unique())"
   ]
  },
  {
   "cell_type": "markdown",
   "id": "79644a06",
   "metadata": {
    "papermill": {
     "duration": 0.01204,
     "end_time": "2022-09-23T14:59:35.933898",
     "exception": false,
     "start_time": "2022-09-23T14:59:35.921858",
     "status": "completed"
    },
    "tags": []
   },
   "source": [
    "<body>\n",
    "    <div style=\"background-color: #FF6A74;\n",
    "                border: 2px solid;\n",
    "                border-radius: 10px;\n",
    "                padding: 10px;\n",
    "                border-color: #FF1100;\"> \n",
    "        <p></p>\n",
    "        <p style=\"font-family:verdana;\">&nbsp There are 1767 unique values in the <b>date_added</b> columns. We can use <b>datetime64</b> type for this column. This will helps us to sort dates easier.</p>\n",
    "    </div>\n",
    "</body>"
   ]
  },
  {
   "cell_type": "code",
   "execution_count": 20,
   "id": "1259e915",
   "metadata": {
    "execution": {
     "iopub.execute_input": "2022-09-23T14:59:35.964381Z",
     "iopub.status.busy": "2022-09-23T14:59:35.963921Z",
     "iopub.status.idle": "2022-09-23T14:59:36.198008Z",
     "shell.execute_reply": "2022-09-23T14:59:36.194910Z"
    },
    "papermill": {
     "duration": 0.25249,
     "end_time": "2022-09-23T14:59:36.201174",
     "exception": false,
     "start_time": "2022-09-23T14:59:35.948684",
     "status": "completed"
    },
    "tags": []
   },
   "outputs": [],
   "source": [
    "df[\"date_added\"] = df[\"date_added\"].astype(\"datetime64\")"
   ]
  },
  {
   "cell_type": "code",
   "execution_count": 21,
   "id": "6f17c427",
   "metadata": {
    "execution": {
     "iopub.execute_input": "2022-09-23T14:59:36.226980Z",
     "iopub.status.busy": "2022-09-23T14:59:36.226090Z",
     "iopub.status.idle": "2022-09-23T14:59:36.236821Z",
     "shell.execute_reply": "2022-09-23T14:59:36.233937Z"
    },
    "papermill": {
     "duration": 0.026546,
     "end_time": "2022-09-23T14:59:36.239743",
     "exception": false,
     "start_time": "2022-09-23T14:59:36.213197",
     "status": "completed"
    },
    "tags": []
   },
   "outputs": [
    {
     "name": "stdout",
     "output_type": "stream",
     "text": [
      "Number of unique values: 748\n",
      "['United States' 'South Africa' nan 'India'\n",
      " 'United States, Ghana, Burkina Faso, United Kingdom, Germany, Ethiopia'\n",
      " 'United Kingdom' 'Germany, Czech Republic' 'Mexico']\n"
     ]
    }
   ],
   "source": [
    "print(\"Number of unique values:\", df[\"country\"].nunique())\n",
    "print(df.loc[:20, \"country\"].unique())"
   ]
  },
  {
   "cell_type": "markdown",
   "id": "af22905c",
   "metadata": {
    "papermill": {
     "duration": 0.011294,
     "end_time": "2022-09-23T14:59:36.263203",
     "exception": false,
     "start_time": "2022-09-23T14:59:36.251909",
     "status": "completed"
    },
    "tags": []
   },
   "source": [
    "<body>\n",
    "    <div style=\"background-color: #FF6A74;\n",
    "                border: 2px solid;\n",
    "                border-radius: 10px;\n",
    "                padding: 10px;\n",
    "                border-color: #FF1100;\"> \n",
    "        <p></p>\n",
    "        <p style=\"font-family:verdana;\">&nbsp There are 748 unique values in the <b>country</b> column. Because of the same reason with <b>duration</b> column, I will convert this into <b>category</b> type.</p>\n",
    "    </div>\n",
    "</body>"
   ]
  },
  {
   "cell_type": "code",
   "execution_count": 22,
   "id": "459c8136",
   "metadata": {
    "execution": {
     "iopub.execute_input": "2022-09-23T14:59:36.291780Z",
     "iopub.status.busy": "2022-09-23T14:59:36.290998Z",
     "iopub.status.idle": "2022-09-23T14:59:36.301365Z",
     "shell.execute_reply": "2022-09-23T14:59:36.299383Z"
    },
    "papermill": {
     "duration": 0.027252,
     "end_time": "2022-09-23T14:59:36.304024",
     "exception": false,
     "start_time": "2022-09-23T14:59:36.276772",
     "status": "completed"
    },
    "tags": []
   },
   "outputs": [],
   "source": [
    "df[\"country\"] = df[\"country\"].astype(\"category\")"
   ]
  },
  {
   "cell_type": "code",
   "execution_count": 23,
   "id": "e3de2f20",
   "metadata": {
    "execution": {
     "iopub.execute_input": "2022-09-23T14:59:36.328446Z",
     "iopub.status.busy": "2022-09-23T14:59:36.328058Z",
     "iopub.status.idle": "2022-09-23T14:59:36.338244Z",
     "shell.execute_reply": "2022-09-23T14:59:36.336042Z"
    },
    "papermill": {
     "duration": 0.025571,
     "end_time": "2022-09-23T14:59:36.341163",
     "exception": false,
     "start_time": "2022-09-23T14:59:36.315592",
     "status": "completed"
    },
    "tags": []
   },
   "outputs": [
    {
     "name": "stdout",
     "output_type": "stream",
     "text": [
      "[nan\n",
      " 'Ama Qamata, Khosi Ngema, Gail Mabalane, Thabang Molaba, Dillon Windvogel, Natasha Thahane, Arno Greeff, Xolile Tshabalala, Getmore Sithole, Cindy Mahlangu, Ryle De Morny, Greteli Fincham, Sello Maake Ka-Ncube, Odwa Gwanya, Mekaila Mathys, Sandi Schultz, Duane Williams, Shamilla Miller, Patrick Mofokeng'\n",
      " 'Sami Bouajila, Tracy Gotoas, Samuel Jouy, Nabiha Akkari, Sofia Lesaffre, Salim Kechiouche, Noureddine Farihi, Geert Van Rampelberg, Bakary Diombera'\n",
      " 'Mayur More, Jitendra Kumar, Ranjan Raj, Alam Khan, Ahsaas Channa, Revathi Pillai, Urvi Singh, Arun Kumar'\n",
      " 'Kate Siegel, Zach Gilford, Hamish Linklater, Henry Thomas, Kristin Lehman, Samantha Sloyan, Igby Rigney, Rahul Kohli, Annarah Cymone, Annabeth Gish, Alex Essoe, Rahul Abburi, Matt Biedel, Michael Trucco, Crystal Balint, Louis Oliver'] \n",
      "\n",
      "['Documentaries' 'International TV Shows, TV Dramas, TV Mysteries'\n",
      " 'Crime TV Shows, International TV Shows, TV Action & Adventure'\n",
      " 'Docuseries, Reality TV'\n",
      " 'International TV Shows, Romantic TV Shows, TV Comedies'\n",
      " 'TV Dramas, TV Horror, TV Mysteries']\n"
     ]
    }
   ],
   "source": [
    "print(df.loc[:5, \"cast\"].unique(), \"\\n\")\n",
    "print(df.loc[:5, \"listed_in\"].unique())"
   ]
  },
  {
   "cell_type": "markdown",
   "id": "06cd3701",
   "metadata": {
    "papermill": {
     "duration": 0.010478,
     "end_time": "2022-09-23T14:59:36.362857",
     "exception": false,
     "start_time": "2022-09-23T14:59:36.352379",
     "status": "completed"
    },
    "tags": []
   },
   "source": [
    "<body>\n",
    "    <div style=\"background-color: #FF6A74;\n",
    "                border: 2px solid;\n",
    "                border-radius: 10px;\n",
    "                padding: 10px;\n",
    "                border-color: #FF1100;\"> \n",
    "        <p></p>\n",
    "        <p style=\"font-family:verdana;\">&nbsp The <b>cast</b> and <b>listed_in</b> columns does contain list of values for each show. We can't do any conversion on this.</p>\n",
    "        <p style=\"font-family:verdana;\">&nbsp We're done with the optimization. Let's check the dataframe after the conversion.</p>\n",
    "    </div>\n",
    "</body>"
   ]
  },
  {
   "cell_type": "code",
   "execution_count": 24,
   "id": "79385307",
   "metadata": {
    "execution": {
     "iopub.execute_input": "2022-09-23T14:59:36.385443Z",
     "iopub.status.busy": "2022-09-23T14:59:36.385069Z",
     "iopub.status.idle": "2022-09-23T14:59:36.410237Z",
     "shell.execute_reply": "2022-09-23T14:59:36.407330Z"
    },
    "papermill": {
     "duration": 0.040379,
     "end_time": "2022-09-23T14:59:36.413841",
     "exception": false,
     "start_time": "2022-09-23T14:59:36.373462",
     "status": "completed"
    },
    "tags": []
   },
   "outputs": [
    {
     "name": "stdout",
     "output_type": "stream",
     "text": [
      "<class 'pandas.core.frame.DataFrame'>\n",
      "RangeIndex: 8807 entries, 0 to 8806\n",
      "Data columns (total 11 columns):\n",
      " #   Column        Non-Null Count  Dtype         \n",
      "---  ------        --------------  -----         \n",
      " 0   type          8807 non-null   category      \n",
      " 1   title         8807 non-null   object        \n",
      " 2   director      6173 non-null   object        \n",
      " 3   cast          7982 non-null   object        \n",
      " 4   country       7976 non-null   category      \n",
      " 5   date_added    8797 non-null   datetime64[ns]\n",
      " 6   release_year  8807 non-null   int16         \n",
      " 7   rating        8803 non-null   category      \n",
      " 8   duration      8804 non-null   category      \n",
      " 9   listed_in     8807 non-null   object        \n",
      " 10  description   8807 non-null   object        \n",
      "dtypes: category(4), datetime64[ns](1), int16(1), object(5)\n",
      "memory usage: 514.4+ KB\n"
     ]
    }
   ],
   "source": [
    "df.info()"
   ]
  },
  {
   "cell_type": "markdown",
   "id": "cfeb1f88",
   "metadata": {
    "papermill": {
     "duration": 0.011877,
     "end_time": "2022-09-23T14:59:36.438076",
     "exception": false,
     "start_time": "2022-09-23T14:59:36.426199",
     "status": "completed"
    },
    "tags": []
   },
   "source": [
    "<body>\n",
    "    <div style=\"background-color: #FF6A74;\n",
    "                border: 2px solid;\n",
    "                border-radius: 10px;\n",
    "                padding: 10px;\n",
    "                border-color: #FF1100;\"> \n",
    "        <p></p>\n",
    "        <ul>\n",
    "            <li>Before the optimization, dataset had a memory usage of <b>825.8+ KB</b>.</li>\n",
    "            <li>After the optimization, dataset have a memory usage of <b>514.4+ KB</b>.</li>\n",
    "            <li>We lowered the memory usage by almost <b>38%</b>.</li>\n",
    "        </ul>\n",
    "        <p style=\"font-family:verdana;\">&nbsp The <b>cast</b> and <b>listed_in</b> columns does contain list of values for each show. We can't do any conversion on this.</p>\n",
    "        <p style=\"font-family:verdana;\">&nbsp We're done with the optimization. Let's check the dataframe after the conversion.</p>\n",
    "    </div>\n",
    "</body>"
   ]
  },
  {
   "cell_type": "markdown",
   "id": "ff385347",
   "metadata": {
    "papermill": {
     "duration": 0.012576,
     "end_time": "2022-09-23T14:59:36.464310",
     "exception": false,
     "start_time": "2022-09-23T14:59:36.451734",
     "status": "completed"
    },
    "tags": []
   },
   "source": [
    "<div id=\"exploratory-data-analysis\"\n",
    "     style = \"display: fill;\n",
    "              border-radius: 10px;\n",
    "              background-color: #E50914;\">\n",
    "    <h2 style = \"padding: 15px; \n",
    "                 color: White;\n",
    "                 text-align: left;\n",
    "                 font-family: Trebuchet MS;\">4. Exploratory Data Analysis\n",
    "    </h2>\n",
    "</div>"
   ]
  }
 ],
 "metadata": {
  "kernelspec": {
   "display_name": "Python 3",
   "language": "python",
   "name": "python3"
  },
  "language_info": {
   "codemirror_mode": {
    "name": "ipython",
    "version": 3
   },
   "file_extension": ".py",
   "mimetype": "text/x-python",
   "name": "python",
   "nbconvert_exporter": "python",
   "pygments_lexer": "ipython3",
   "version": "3.7.12"
  },
  "papermill": {
   "default_parameters": {},
   "duration": 14.863374,
   "end_time": "2022-09-23T14:59:37.299173",
   "environment_variables": {},
   "exception": null,
   "input_path": "__notebook__.ipynb",
   "output_path": "__notebook__.ipynb",
   "parameters": {},
   "start_time": "2022-09-23T14:59:22.435799",
   "version": "2.3.4"
  }
 },
 "nbformat": 4,
 "nbformat_minor": 5
}
